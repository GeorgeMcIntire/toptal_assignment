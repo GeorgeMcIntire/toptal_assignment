{
 "cells": [
  {
   "cell_type": "markdown",
   "id": "dd2676de",
   "metadata": {},
   "source": [
    "# Modeling"
   ]
  },
  {
   "cell_type": "markdown",
   "id": "8ad9c7d5",
   "metadata": {},
   "source": [
    "The full extent of the modeling process is contained in this notebook. In order to achieve the goal of producing a model that can predict joe sessions, I perform tasks such as data wrangling, feature-engineering, and thoroughly test two different classification algorithms. I also employ techniques to manage the extreme class imbalance, a feature of the data that requires me to evaluate the model using multiple metrics."
   ]
  },
  {
   "cell_type": "code",
   "execution_count": 1,
   "id": "ed662762",
   "metadata": {},
   "outputs": [
    {
     "name": "stderr",
     "output_type": "stream",
     "text": [
      "/Users/georgemcintire/projects/job_assignments/toptal/George-McIntire-2/assignment_env/lib/python3.9/site-packages/sklearn/utils/deprecation.py:144: FutureWarning: The sklearn.neighbors.base module is  deprecated in version 0.22 and will be removed in version 0.24. The corresponding classes / functions should instead be imported from sklearn.neighbors. Anything that cannot be imported from sklearn.neighbors is now part of the private API.\n",
      "  warnings.warn(message, FutureWarning)\n",
      "/Users/georgemcintire/projects/job_assignments/toptal/George-McIntire-2/assignment_env/lib/python3.9/site-packages/sklearn/utils/deprecation.py:144: FutureWarning: The sklearn.ensemble.bagging module is  deprecated in version 0.22 and will be removed in version 0.24. The corresponding classes / functions should instead be imported from sklearn.ensemble. Anything that cannot be imported from sklearn.ensemble is now part of the private API.\n",
      "  warnings.warn(message, FutureWarning)\n",
      "/Users/georgemcintire/projects/job_assignments/toptal/George-McIntire-2/assignment_env/lib/python3.9/site-packages/sklearn/utils/deprecation.py:144: FutureWarning: The sklearn.ensemble.base module is  deprecated in version 0.22 and will be removed in version 0.24. The corresponding classes / functions should instead be imported from sklearn.ensemble. Anything that cannot be imported from sklearn.ensemble is now part of the private API.\n",
      "  warnings.warn(message, FutureWarning)\n",
      "/Users/georgemcintire/projects/job_assignments/toptal/George-McIntire-2/assignment_env/lib/python3.9/site-packages/sklearn/utils/deprecation.py:144: FutureWarning: The sklearn.ensemble.forest module is  deprecated in version 0.22 and will be removed in version 0.24. The corresponding classes / functions should instead be imported from sklearn.ensemble. Anything that cannot be imported from sklearn.ensemble is now part of the private API.\n",
      "  warnings.warn(message, FutureWarning)\n",
      "/Users/georgemcintire/projects/job_assignments/toptal/George-McIntire-2/assignment_env/lib/python3.9/site-packages/sklearn/utils/deprecation.py:144: FutureWarning: The sklearn.utils.testing module is  deprecated in version 0.22 and will be removed in version 0.24. The corresponding classes / functions should instead be imported from sklearn.utils. Anything that cannot be imported from sklearn.utils is now part of the private API.\n",
      "  warnings.warn(message, FutureWarning)\n",
      "/Users/georgemcintire/projects/job_assignments/toptal/George-McIntire-2/assignment_env/lib/python3.9/site-packages/sklearn/utils/deprecation.py:144: FutureWarning: The sklearn.metrics.classification module is  deprecated in version 0.22 and will be removed in version 0.24. The corresponding classes / functions should instead be imported from sklearn.metrics. Anything that cannot be imported from sklearn.metrics is now part of the private API.\n",
      "  warnings.warn(message, FutureWarning)\n"
     ]
    }
   ],
   "source": [
    "import pandas as pd\n",
    "import numpy as np\n",
    "import matplotlib.pyplot as plt\n",
    "import seaborn as sns\n",
    "\n",
    "from sklearn.linear_model import LogisticRegression\n",
    "from sklearn.tree import DecisionTreeClassifier, plot_tree\n",
    "from sklearn.ensemble import RandomForestClassifier\n",
    "from sklearn.neural_network import MLPClassifier\n",
    "from sklearn.preprocessing import StandardScaler\n",
    "from sklearn.decomposition import PCA\n",
    "from sklearn.model_selection import train_test_split, cross_val_score, GridSearchCV, RandomizedSearchCV, KFold\n",
    "from sklearn.feature_selection import RFE, RFECV, chi2, SelectKBest, SelectFromModel\n",
    "from sklearn.pipeline import Pipeline\n",
    "from sklearn.preprocessing import LabelEncoder, OneHotEncoder\n",
    "from sklearn.compose import ColumnTransformer\n",
    "from sklearn.utils import class_weight\n",
    "from sklearn.metrics import confusion_matrix, accuracy_score, f1_score, recall_score,\\\n",
    "precision_score, roc_auc_score, roc_curve, classification_report, precision_recall_curve\n",
    "\n",
    "from imblearn.over_sampling import SMOTE\n",
    "from imblearn.under_sampling import RandomUnderSampler\n",
    "from imblearn.pipeline import Pipeline as IM_Pipeline\n",
    "\n",
    "import joblib\n",
    "from utils import make_confusion_matrix\n"
   ]
  },
  {
   "cell_type": "markdown",
   "id": "52a7cc62",
   "metadata": {},
   "source": [
    "Load in data"
   ]
  },
  {
   "cell_type": "code",
   "execution_count": 38,
   "id": "1069fb98",
   "metadata": {},
   "outputs": [
    {
     "data": {
      "text/html": [
       "<div>\n",
       "<style scoped>\n",
       "    .dataframe tbody tr th:only-of-type {\n",
       "        vertical-align: middle;\n",
       "    }\n",
       "\n",
       "    .dataframe tbody tr th {\n",
       "        vertical-align: top;\n",
       "    }\n",
       "\n",
       "    .dataframe thead th {\n",
       "        text-align: right;\n",
       "    }\n",
       "</style>\n",
       "<table border=\"1\" class=\"dataframe\">\n",
       "  <thead>\n",
       "    <tr style=\"text-align: right;\">\n",
       "      <th></th>\n",
       "      <th>browser</th>\n",
       "      <th>os</th>\n",
       "      <th>gender</th>\n",
       "      <th>location</th>\n",
       "      <th>sites</th>\n",
       "      <th>time</th>\n",
       "      <th>date</th>\n",
       "      <th>target</th>\n",
       "      <th>software_language</th>\n",
       "      <th>software_country</th>\n",
       "      <th>weekday</th>\n",
       "    </tr>\n",
       "  </thead>\n",
       "  <tbody>\n",
       "    <tr>\n",
       "      <th>0</th>\n",
       "      <td>Chrome</td>\n",
       "      <td>Windows 8</td>\n",
       "      <td>m</td>\n",
       "      <td>Canada/Toronto</td>\n",
       "      <td>[{'site': 'lenta.ru', 'length': 296}, {'site':...</td>\n",
       "      <td>03:57:00</td>\n",
       "      <td>2016-08-14</td>\n",
       "      <td>0</td>\n",
       "      <td>de</td>\n",
       "      <td>DE</td>\n",
       "      <td>0</td>\n",
       "    </tr>\n",
       "    <tr>\n",
       "      <th>1</th>\n",
       "      <td>Chrome</td>\n",
       "      <td>Windows 10</td>\n",
       "      <td>f</td>\n",
       "      <td>Netherlands/Amsterdam</td>\n",
       "      <td>[{'site': 'windowsupdate.com', 'length': 56}, ...</td>\n",
       "      <td>13:52:00</td>\n",
       "      <td>2016-05-31</td>\n",
       "      <td>0</td>\n",
       "      <td>pt</td>\n",
       "      <td>PT</td>\n",
       "      <td>1</td>\n",
       "    </tr>\n",
       "    <tr>\n",
       "      <th>2</th>\n",
       "      <td>Chrome</td>\n",
       "      <td>Windows 10</td>\n",
       "      <td>m</td>\n",
       "      <td>Brazil/Rio de Janeiro</td>\n",
       "      <td>[{'site': 'slack.com', 'length': 158}, {'site'...</td>\n",
       "      <td>17:40:00</td>\n",
       "      <td>2019-04-15</td>\n",
       "      <td>0</td>\n",
       "      <td>bg</td>\n",
       "      <td>BG</td>\n",
       "      <td>1</td>\n",
       "    </tr>\n",
       "    <tr>\n",
       "      <th>3</th>\n",
       "      <td>Internet Explorer</td>\n",
       "      <td>Ubuntu</td>\n",
       "      <td>f</td>\n",
       "      <td>New Zealand/Auckland</td>\n",
       "      <td>[{'site': 'amazon.com', 'length': 168}, {'site...</td>\n",
       "      <td>20:23:00</td>\n",
       "      <td>2018-03-25</td>\n",
       "      <td>0</td>\n",
       "      <td>en</td>\n",
       "      <td>US</td>\n",
       "      <td>0</td>\n",
       "    </tr>\n",
       "    <tr>\n",
       "      <th>4</th>\n",
       "      <td>Firefox</td>\n",
       "      <td>Debian</td>\n",
       "      <td>f</td>\n",
       "      <td>New Zealand/Auckland</td>\n",
       "      <td>[{'site': 'vk.com', 'length': 43}, {'site': 'm...</td>\n",
       "      <td>01:10:00</td>\n",
       "      <td>2018-09-08</td>\n",
       "      <td>0</td>\n",
       "      <td>ro</td>\n",
       "      <td>RO</td>\n",
       "      <td>0</td>\n",
       "    </tr>\n",
       "  </tbody>\n",
       "</table>\n",
       "</div>"
      ],
      "text/plain": [
       "             browser          os gender               location  \\\n",
       "0             Chrome   Windows 8      m         Canada/Toronto   \n",
       "1             Chrome  Windows 10      f  Netherlands/Amsterdam   \n",
       "2             Chrome  Windows 10      m  Brazil/Rio de Janeiro   \n",
       "3  Internet Explorer      Ubuntu      f   New Zealand/Auckland   \n",
       "4            Firefox      Debian      f   New Zealand/Auckland   \n",
       "\n",
       "                                               sites      time        date  \\\n",
       "0  [{'site': 'lenta.ru', 'length': 296}, {'site':...  03:57:00  2016-08-14   \n",
       "1  [{'site': 'windowsupdate.com', 'length': 56}, ...  13:52:00  2016-05-31   \n",
       "2  [{'site': 'slack.com', 'length': 158}, {'site'...  17:40:00  2019-04-15   \n",
       "3  [{'site': 'amazon.com', 'length': 168}, {'site...  20:23:00  2018-03-25   \n",
       "4  [{'site': 'vk.com', 'length': 43}, {'site': 'm...  01:10:00  2018-09-08   \n",
       "\n",
       "   target software_language software_country  weekday  \n",
       "0       0                de               DE        0  \n",
       "1       0                pt               PT        1  \n",
       "2       0                bg               BG        1  \n",
       "3       0                en               US        0  \n",
       "4       0                ro               RO        0  "
      ]
     },
     "execution_count": 38,
     "metadata": {},
     "output_type": "execute_result"
    }
   ],
   "source": [
    "df = pd.read_csv(\"../data/new_data.csv\", index_col=[0])\n",
    "sites = pd.read_csv(\"../data/sites_tf.csv\", index_col=[0])\n",
    "df.head()"
   ]
  },
  {
   "cell_type": "code",
   "execution_count": 39,
   "id": "79c92f36",
   "metadata": {},
   "outputs": [],
   "source": [
    "df[\"date\"] = pd.to_datetime(df.date)"
   ]
  },
  {
   "cell_type": "code",
   "execution_count": 40,
   "id": "b77fbddc",
   "metadata": {},
   "outputs": [],
   "source": [
    "df = df.sort_values(by = \"date\")"
   ]
  },
  {
   "cell_type": "code",
   "execution_count": 41,
   "id": "732dacec",
   "metadata": {},
   "outputs": [
    {
     "data": {
      "text/html": [
       "<div>\n",
       "<style scoped>\n",
       "    .dataframe tbody tr th:only-of-type {\n",
       "        vertical-align: middle;\n",
       "    }\n",
       "\n",
       "    .dataframe tbody tr th {\n",
       "        vertical-align: top;\n",
       "    }\n",
       "\n",
       "    .dataframe thead th {\n",
       "        text-align: right;\n",
       "    }\n",
       "</style>\n",
       "<table border=\"1\" class=\"dataframe\">\n",
       "  <thead>\n",
       "    <tr style=\"text-align: right;\">\n",
       "      <th></th>\n",
       "      <th>browser</th>\n",
       "      <th>os</th>\n",
       "      <th>gender</th>\n",
       "      <th>location</th>\n",
       "      <th>sites</th>\n",
       "      <th>time</th>\n",
       "      <th>date</th>\n",
       "      <th>target</th>\n",
       "      <th>software_language</th>\n",
       "      <th>software_country</th>\n",
       "      <th>weekday</th>\n",
       "    </tr>\n",
       "  </thead>\n",
       "  <tbody>\n",
       "    <tr>\n",
       "      <th>32339</th>\n",
       "      <td>Chrome</td>\n",
       "      <td>Windows 8</td>\n",
       "      <td>m</td>\n",
       "      <td>Spain/Madrid</td>\n",
       "      <td>[{'site': 'youtube.com', 'length': 72}, {'site...</td>\n",
       "      <td>23:18:00</td>\n",
       "      <td>2016-01-14</td>\n",
       "      <td>0</td>\n",
       "      <td>es</td>\n",
       "      <td>MX</td>\n",
       "      <td>1</td>\n",
       "    </tr>\n",
       "    <tr>\n",
       "      <th>19405</th>\n",
       "      <td>Firefox</td>\n",
       "      <td>Debian</td>\n",
       "      <td>f</td>\n",
       "      <td>New Zealand/Auckland</td>\n",
       "      <td>[{'site': 'nflxso.net', 'length': 54}, {'site'...</td>\n",
       "      <td>22:27:00</td>\n",
       "      <td>2016-01-14</td>\n",
       "      <td>0</td>\n",
       "      <td>pt</td>\n",
       "      <td>PT</td>\n",
       "      <td>1</td>\n",
       "    </tr>\n",
       "    <tr>\n",
       "      <th>76158</th>\n",
       "      <td>Chrome</td>\n",
       "      <td>Windows 7</td>\n",
       "      <td>m</td>\n",
       "      <td>Malaysia/Kuala Lumpur</td>\n",
       "      <td>[{'site': 'vimeo.com', 'length': 219}, {'site'...</td>\n",
       "      <td>21:52:00</td>\n",
       "      <td>2016-01-14</td>\n",
       "      <td>0</td>\n",
       "      <td>fr</td>\n",
       "      <td>FR</td>\n",
       "      <td>1</td>\n",
       "    </tr>\n",
       "    <tr>\n",
       "      <th>43230</th>\n",
       "      <td>Chrome</td>\n",
       "      <td>Ubuntu</td>\n",
       "      <td>m</td>\n",
       "      <td>Australia/Sydney</td>\n",
       "      <td>[{'site': 'twitter.com', 'length': 194}, {'sit...</td>\n",
       "      <td>21:25:00</td>\n",
       "      <td>2016-01-14</td>\n",
       "      <td>0</td>\n",
       "      <td>de</td>\n",
       "      <td>DE</td>\n",
       "      <td>1</td>\n",
       "    </tr>\n",
       "    <tr>\n",
       "      <th>146883</th>\n",
       "      <td>Chrome</td>\n",
       "      <td>Windows 8</td>\n",
       "      <td>f</td>\n",
       "      <td>Russia/Moscow</td>\n",
       "      <td>[{'site': 'googleadservices.com', 'length': 16...</td>\n",
       "      <td>22:20:00</td>\n",
       "      <td>2016-01-14</td>\n",
       "      <td>0</td>\n",
       "      <td>bg</td>\n",
       "      <td>BG</td>\n",
       "      <td>1</td>\n",
       "    </tr>\n",
       "  </tbody>\n",
       "</table>\n",
       "</div>"
      ],
      "text/plain": [
       "        browser         os gender               location  \\\n",
       "32339    Chrome  Windows 8      m           Spain/Madrid   \n",
       "19405   Firefox     Debian      f   New Zealand/Auckland   \n",
       "76158    Chrome  Windows 7      m  Malaysia/Kuala Lumpur   \n",
       "43230    Chrome     Ubuntu      m       Australia/Sydney   \n",
       "146883   Chrome  Windows 8      f          Russia/Moscow   \n",
       "\n",
       "                                                    sites      time  \\\n",
       "32339   [{'site': 'youtube.com', 'length': 72}, {'site...  23:18:00   \n",
       "19405   [{'site': 'nflxso.net', 'length': 54}, {'site'...  22:27:00   \n",
       "76158   [{'site': 'vimeo.com', 'length': 219}, {'site'...  21:52:00   \n",
       "43230   [{'site': 'twitter.com', 'length': 194}, {'sit...  21:25:00   \n",
       "146883  [{'site': 'googleadservices.com', 'length': 16...  22:20:00   \n",
       "\n",
       "             date  target software_language software_country  weekday  \n",
       "32339  2016-01-14       0                es               MX        1  \n",
       "19405  2016-01-14       0                pt               PT        1  \n",
       "76158  2016-01-14       0                fr               FR        1  \n",
       "43230  2016-01-14       0                de               DE        1  \n",
       "146883 2016-01-14       0                bg               BG        1  "
      ]
     },
     "execution_count": 41,
     "metadata": {},
     "output_type": "execute_result"
    }
   ],
   "source": [
    "df.head()"
   ]
  },
  {
   "cell_type": "code",
   "execution_count": 43,
   "id": "33620789",
   "metadata": {},
   "outputs": [],
   "source": [
    "from sklearn.model_selection import TimeSeriesSplit"
   ]
  },
  {
   "cell_type": "code",
   "execution_count": 44,
   "id": "916414b7",
   "metadata": {},
   "outputs": [],
   "source": [
    "# TimeSeriesSplit()"
   ]
  },
  {
   "cell_type": "code",
   "execution_count": null,
   "id": "39bff614",
   "metadata": {},
   "outputs": [],
   "source": []
  },
  {
   "cell_type": "code",
   "execution_count": 45,
   "id": "f4349845",
   "metadata": {},
   "outputs": [
    {
     "data": {
      "text/html": [
       "<div>\n",
       "<style scoped>\n",
       "    .dataframe tbody tr th:only-of-type {\n",
       "        vertical-align: middle;\n",
       "    }\n",
       "\n",
       "    .dataframe tbody tr th {\n",
       "        vertical-align: top;\n",
       "    }\n",
       "\n",
       "    .dataframe thead th {\n",
       "        text-align: right;\n",
       "    }\n",
       "</style>\n",
       "<table border=\"1\" class=\"dataframe\">\n",
       "  <thead>\n",
       "    <tr style=\"text-align: right;\">\n",
       "      <th></th>\n",
       "      <th>browser</th>\n",
       "      <th>os</th>\n",
       "      <th>gender</th>\n",
       "      <th>location</th>\n",
       "      <th>sites</th>\n",
       "      <th>time</th>\n",
       "      <th>date</th>\n",
       "      <th>target</th>\n",
       "      <th>software_language</th>\n",
       "      <th>software_country</th>\n",
       "      <th>weekday</th>\n",
       "    </tr>\n",
       "  </thead>\n",
       "  <tbody>\n",
       "    <tr>\n",
       "      <th>32339</th>\n",
       "      <td>Chrome</td>\n",
       "      <td>Windows 8</td>\n",
       "      <td>m</td>\n",
       "      <td>Spain/Madrid</td>\n",
       "      <td>[{'site': 'youtube.com', 'length': 72}, {'site...</td>\n",
       "      <td>23:18:00</td>\n",
       "      <td>2016-01-14</td>\n",
       "      <td>0</td>\n",
       "      <td>es</td>\n",
       "      <td>MX</td>\n",
       "      <td>1</td>\n",
       "    </tr>\n",
       "    <tr>\n",
       "      <th>19405</th>\n",
       "      <td>Firefox</td>\n",
       "      <td>Debian</td>\n",
       "      <td>f</td>\n",
       "      <td>New Zealand/Auckland</td>\n",
       "      <td>[{'site': 'nflxso.net', 'length': 54}, {'site'...</td>\n",
       "      <td>22:27:00</td>\n",
       "      <td>2016-01-14</td>\n",
       "      <td>0</td>\n",
       "      <td>pt</td>\n",
       "      <td>PT</td>\n",
       "      <td>1</td>\n",
       "    </tr>\n",
       "    <tr>\n",
       "      <th>76158</th>\n",
       "      <td>Chrome</td>\n",
       "      <td>Windows 7</td>\n",
       "      <td>m</td>\n",
       "      <td>Malaysia/Kuala Lumpur</td>\n",
       "      <td>[{'site': 'vimeo.com', 'length': 219}, {'site'...</td>\n",
       "      <td>21:52:00</td>\n",
       "      <td>2016-01-14</td>\n",
       "      <td>0</td>\n",
       "      <td>fr</td>\n",
       "      <td>FR</td>\n",
       "      <td>1</td>\n",
       "    </tr>\n",
       "    <tr>\n",
       "      <th>43230</th>\n",
       "      <td>Chrome</td>\n",
       "      <td>Ubuntu</td>\n",
       "      <td>m</td>\n",
       "      <td>Australia/Sydney</td>\n",
       "      <td>[{'site': 'twitter.com', 'length': 194}, {'sit...</td>\n",
       "      <td>21:25:00</td>\n",
       "      <td>2016-01-14</td>\n",
       "      <td>0</td>\n",
       "      <td>de</td>\n",
       "      <td>DE</td>\n",
       "      <td>1</td>\n",
       "    </tr>\n",
       "    <tr>\n",
       "      <th>146883</th>\n",
       "      <td>Chrome</td>\n",
       "      <td>Windows 8</td>\n",
       "      <td>f</td>\n",
       "      <td>Russia/Moscow</td>\n",
       "      <td>[{'site': 'googleadservices.com', 'length': 16...</td>\n",
       "      <td>22:20:00</td>\n",
       "      <td>2016-01-14</td>\n",
       "      <td>0</td>\n",
       "      <td>bg</td>\n",
       "      <td>BG</td>\n",
       "      <td>1</td>\n",
       "    </tr>\n",
       "  </tbody>\n",
       "</table>\n",
       "</div>"
      ],
      "text/plain": [
       "        browser         os gender               location  \\\n",
       "32339    Chrome  Windows 8      m           Spain/Madrid   \n",
       "19405   Firefox     Debian      f   New Zealand/Auckland   \n",
       "76158    Chrome  Windows 7      m  Malaysia/Kuala Lumpur   \n",
       "43230    Chrome     Ubuntu      m       Australia/Sydney   \n",
       "146883   Chrome  Windows 8      f          Russia/Moscow   \n",
       "\n",
       "                                                    sites      time  \\\n",
       "32339   [{'site': 'youtube.com', 'length': 72}, {'site...  23:18:00   \n",
       "19405   [{'site': 'nflxso.net', 'length': 54}, {'site'...  22:27:00   \n",
       "76158   [{'site': 'vimeo.com', 'length': 219}, {'site'...  21:52:00   \n",
       "43230   [{'site': 'twitter.com', 'length': 194}, {'sit...  21:25:00   \n",
       "146883  [{'site': 'googleadservices.com', 'length': 16...  22:20:00   \n",
       "\n",
       "             date  target software_language software_country  weekday  \n",
       "32339  2016-01-14       0                es               MX        1  \n",
       "19405  2016-01-14       0                pt               PT        1  \n",
       "76158  2016-01-14       0                fr               FR        1  \n",
       "43230  2016-01-14       0                de               DE        1  \n",
       "146883 2016-01-14       0                bg               BG        1  "
      ]
     },
     "execution_count": 45,
     "metadata": {},
     "output_type": "execute_result"
    }
   ],
   "source": [
    "df.head()"
   ]
  },
  {
   "cell_type": "markdown",
   "id": "aae51501",
   "metadata": {},
   "source": [
    "**Dropping Features**\n",
    "\n",
    "In the EDA notebook we saw that `time`, `date`, `avg_length`, and `weekday` contained no useful signals in predicting the target variable. And since we have `country`, we don't need `city`."
   ]
  },
  {
   "cell_type": "code",
   "execution_count": 14,
   "id": "06b36afb",
   "metadata": {},
   "outputs": [],
   "source": [
    "# drops = [\"time\", \"date\", \"avg_length\", \"weekday\", 'city']\n",
    "# df.drop(drops, axis = 1, inplace=True)"
   ]
  },
  {
   "cell_type": "code",
   "execution_count": 46,
   "id": "86e45367",
   "metadata": {},
   "outputs": [],
   "source": [
    "drops = [\"date\", \"sites\", \"weekday\", 'location']\n",
    "df.drop(drops, axis = 1, inplace=True)"
   ]
  },
  {
   "cell_type": "code",
   "execution_count": 47,
   "id": "10a24046",
   "metadata": {},
   "outputs": [
    {
     "data": {
      "text/html": [
       "<div>\n",
       "<style scoped>\n",
       "    .dataframe tbody tr th:only-of-type {\n",
       "        vertical-align: middle;\n",
       "    }\n",
       "\n",
       "    .dataframe tbody tr th {\n",
       "        vertical-align: top;\n",
       "    }\n",
       "\n",
       "    .dataframe thead th {\n",
       "        text-align: right;\n",
       "    }\n",
       "</style>\n",
       "<table border=\"1\" class=\"dataframe\">\n",
       "  <thead>\n",
       "    <tr style=\"text-align: right;\">\n",
       "      <th></th>\n",
       "      <th>browser</th>\n",
       "      <th>os</th>\n",
       "      <th>gender</th>\n",
       "      <th>time</th>\n",
       "      <th>target</th>\n",
       "      <th>software_language</th>\n",
       "      <th>software_country</th>\n",
       "    </tr>\n",
       "  </thead>\n",
       "  <tbody>\n",
       "    <tr>\n",
       "      <th>32339</th>\n",
       "      <td>Chrome</td>\n",
       "      <td>Windows 8</td>\n",
       "      <td>m</td>\n",
       "      <td>23:18:00</td>\n",
       "      <td>0</td>\n",
       "      <td>es</td>\n",
       "      <td>MX</td>\n",
       "    </tr>\n",
       "    <tr>\n",
       "      <th>19405</th>\n",
       "      <td>Firefox</td>\n",
       "      <td>Debian</td>\n",
       "      <td>f</td>\n",
       "      <td>22:27:00</td>\n",
       "      <td>0</td>\n",
       "      <td>pt</td>\n",
       "      <td>PT</td>\n",
       "    </tr>\n",
       "    <tr>\n",
       "      <th>76158</th>\n",
       "      <td>Chrome</td>\n",
       "      <td>Windows 7</td>\n",
       "      <td>m</td>\n",
       "      <td>21:52:00</td>\n",
       "      <td>0</td>\n",
       "      <td>fr</td>\n",
       "      <td>FR</td>\n",
       "    </tr>\n",
       "    <tr>\n",
       "      <th>43230</th>\n",
       "      <td>Chrome</td>\n",
       "      <td>Ubuntu</td>\n",
       "      <td>m</td>\n",
       "      <td>21:25:00</td>\n",
       "      <td>0</td>\n",
       "      <td>de</td>\n",
       "      <td>DE</td>\n",
       "    </tr>\n",
       "    <tr>\n",
       "      <th>146883</th>\n",
       "      <td>Chrome</td>\n",
       "      <td>Windows 8</td>\n",
       "      <td>f</td>\n",
       "      <td>22:20:00</td>\n",
       "      <td>0</td>\n",
       "      <td>bg</td>\n",
       "      <td>BG</td>\n",
       "    </tr>\n",
       "  </tbody>\n",
       "</table>\n",
       "</div>"
      ],
      "text/plain": [
       "        browser         os gender      time  target software_language  \\\n",
       "32339    Chrome  Windows 8      m  23:18:00       0                es   \n",
       "19405   Firefox     Debian      f  22:27:00       0                pt   \n",
       "76158    Chrome  Windows 7      m  21:52:00       0                fr   \n",
       "43230    Chrome     Ubuntu      m  21:25:00       0                de   \n",
       "146883   Chrome  Windows 8      f  22:20:00       0                bg   \n",
       "\n",
       "       software_country  \n",
       "32339                MX  \n",
       "19405                PT  \n",
       "76158                FR  \n",
       "43230                DE  \n",
       "146883               BG  "
      ]
     },
     "execution_count": 47,
     "metadata": {},
     "output_type": "execute_result"
    }
   ],
   "source": [
    "df.head()"
   ]
  },
  {
   "cell_type": "code",
   "execution_count": 48,
   "id": "16444158",
   "metadata": {},
   "outputs": [],
   "source": [
    "df[\"hour\"] = df.time.apply(lambda x:x[:2])"
   ]
  },
  {
   "cell_type": "markdown",
   "id": "c764862d",
   "metadata": {},
   "source": [
    "**Fixing `software_country`**\n",
    "\n",
    "In the EDA notebook, we saw that only one `software_country` value (RU) appeared in a joe session. Therefore I think it's best to transform this feature to a binary varialble — \"RU\" vs \"Other\"."
   ]
  },
  {
   "cell_type": "code",
   "execution_count": 49,
   "id": "61e54eae",
   "metadata": {},
   "outputs": [],
   "source": [
    "#Create new binary variable representing RU software usage\n",
    "df[\"russia_software\"] = np.where(df.software_country=='RU', \"RU\", \"Other\")\n",
    "\n",
    "#drop software_country\n",
    "df.drop('software_country', axis = 1, inplace=True)\n",
    "df.drop('software_language', axis = 1, inplace=True)"
   ]
  },
  {
   "cell_type": "code",
   "execution_count": 50,
   "id": "3ee447e1",
   "metadata": {},
   "outputs": [
    {
     "data": {
      "text/html": [
       "<div>\n",
       "<style scoped>\n",
       "    .dataframe tbody tr th:only-of-type {\n",
       "        vertical-align: middle;\n",
       "    }\n",
       "\n",
       "    .dataframe tbody tr th {\n",
       "        vertical-align: top;\n",
       "    }\n",
       "\n",
       "    .dataframe thead th {\n",
       "        text-align: right;\n",
       "    }\n",
       "</style>\n",
       "<table border=\"1\" class=\"dataframe\">\n",
       "  <thead>\n",
       "    <tr style=\"text-align: right;\">\n",
       "      <th></th>\n",
       "      <th>browser</th>\n",
       "      <th>os</th>\n",
       "      <th>gender</th>\n",
       "      <th>time</th>\n",
       "      <th>target</th>\n",
       "      <th>hour</th>\n",
       "      <th>russia_software</th>\n",
       "    </tr>\n",
       "  </thead>\n",
       "  <tbody>\n",
       "    <tr>\n",
       "      <th>32339</th>\n",
       "      <td>Chrome</td>\n",
       "      <td>Windows 8</td>\n",
       "      <td>m</td>\n",
       "      <td>23:18:00</td>\n",
       "      <td>0</td>\n",
       "      <td>23</td>\n",
       "      <td>Other</td>\n",
       "    </tr>\n",
       "    <tr>\n",
       "      <th>19405</th>\n",
       "      <td>Firefox</td>\n",
       "      <td>Debian</td>\n",
       "      <td>f</td>\n",
       "      <td>22:27:00</td>\n",
       "      <td>0</td>\n",
       "      <td>22</td>\n",
       "      <td>Other</td>\n",
       "    </tr>\n",
       "    <tr>\n",
       "      <th>76158</th>\n",
       "      <td>Chrome</td>\n",
       "      <td>Windows 7</td>\n",
       "      <td>m</td>\n",
       "      <td>21:52:00</td>\n",
       "      <td>0</td>\n",
       "      <td>21</td>\n",
       "      <td>Other</td>\n",
       "    </tr>\n",
       "    <tr>\n",
       "      <th>43230</th>\n",
       "      <td>Chrome</td>\n",
       "      <td>Ubuntu</td>\n",
       "      <td>m</td>\n",
       "      <td>21:25:00</td>\n",
       "      <td>0</td>\n",
       "      <td>21</td>\n",
       "      <td>Other</td>\n",
       "    </tr>\n",
       "    <tr>\n",
       "      <th>146883</th>\n",
       "      <td>Chrome</td>\n",
       "      <td>Windows 8</td>\n",
       "      <td>f</td>\n",
       "      <td>22:20:00</td>\n",
       "      <td>0</td>\n",
       "      <td>22</td>\n",
       "      <td>Other</td>\n",
       "    </tr>\n",
       "  </tbody>\n",
       "</table>\n",
       "</div>"
      ],
      "text/plain": [
       "        browser         os gender      time  target hour russia_software\n",
       "32339    Chrome  Windows 8      m  23:18:00       0   23           Other\n",
       "19405   Firefox     Debian      f  22:27:00       0   22           Other\n",
       "76158    Chrome  Windows 7      m  21:52:00       0   21           Other\n",
       "43230    Chrome     Ubuntu      m  21:25:00       0   21           Other\n",
       "146883   Chrome  Windows 8      f  22:20:00       0   22           Other"
      ]
     },
     "execution_count": 50,
     "metadata": {},
     "output_type": "execute_result"
    }
   ],
   "source": [
    "df.head()"
   ]
  },
  {
   "cell_type": "markdown",
   "id": "9b0d3692",
   "metadata": {},
   "source": [
    "Let's combine the `sites` and `df` datasets together. But first I'd like to clean up the `sites` columns"
   ]
  },
  {
   "cell_type": "code",
   "execution_count": 51,
   "id": "f8e2e1f6",
   "metadata": {},
   "outputs": [
    {
     "name": "stderr",
     "output_type": "stream",
     "text": [
      "/var/folders/lj/w4hy005d5vx9qy3lrwz0xdl80000gn/T/ipykernel_44887/56842448.py:1: FutureWarning: The default value of regex will change from True to False in a future version. In addition, single character regular expressions will *not* be treated as literal strings when regex=True.\n",
      "  sites.columns = sites.columns.str.replace(\".\", \"_\")\n"
     ]
    }
   ],
   "source": [
    "sites.columns = sites.columns.str.replace(\".\", \"_\")\n"
   ]
  },
  {
   "cell_type": "markdown",
   "id": "613f3cb8",
   "metadata": {},
   "source": [
    "Append \"site_\" to start of `sites` column names"
   ]
  },
  {
   "cell_type": "code",
   "execution_count": 52,
   "id": "73f452f1",
   "metadata": {},
   "outputs": [],
   "source": [
    "sites.columns = 'site_' + sites.columns"
   ]
  },
  {
   "cell_type": "code",
   "execution_count": 53,
   "id": "0896e358",
   "metadata": {},
   "outputs": [
    {
     "data": {
      "text/html": [
       "<div>\n",
       "<style scoped>\n",
       "    .dataframe tbody tr th:only-of-type {\n",
       "        vertical-align: middle;\n",
       "    }\n",
       "\n",
       "    .dataframe tbody tr th {\n",
       "        vertical-align: top;\n",
       "    }\n",
       "\n",
       "    .dataframe thead th {\n",
       "        text-align: right;\n",
       "    }\n",
       "</style>\n",
       "<table border=\"1\" class=\"dataframe\">\n",
       "  <thead>\n",
       "    <tr style=\"text-align: right;\">\n",
       "      <th></th>\n",
       "      <th>site_10hui_es</th>\n",
       "      <th>site_123inkt_nl</th>\n",
       "      <th>site_17995api_com</th>\n",
       "      <th>site_17k_com</th>\n",
       "      <th>site_19thnews_org</th>\n",
       "      <th>site_1cv8update_com</th>\n",
       "      <th>site_1frozenthrone1_com</th>\n",
       "      <th>site_1geki_jp</th>\n",
       "      <th>site_1lib_in</th>\n",
       "      <th>site_21clradio_com</th>\n",
       "      <th>...</th>\n",
       "      <th>site_zooniverse_org</th>\n",
       "      <th>site_zooplus_nl</th>\n",
       "      <th>site_zooqle_com</th>\n",
       "      <th>site_zoup_com</th>\n",
       "      <th>site_zqlx_com</th>\n",
       "      <th>site_zradio_org</th>\n",
       "      <th>site_zscalergov_net</th>\n",
       "      <th>site_zubuchygri_com</th>\n",
       "      <th>site_zuuks_com</th>\n",
       "      <th>site_zwcloud_wang</th>\n",
       "    </tr>\n",
       "  </thead>\n",
       "  <tbody>\n",
       "    <tr>\n",
       "      <th>0</th>\n",
       "      <td>0.0</td>\n",
       "      <td>0.0</td>\n",
       "      <td>0.0</td>\n",
       "      <td>0.0</td>\n",
       "      <td>0.0</td>\n",
       "      <td>0.0</td>\n",
       "      <td>0.0</td>\n",
       "      <td>0.0</td>\n",
       "      <td>0.0</td>\n",
       "      <td>0.0</td>\n",
       "      <td>...</td>\n",
       "      <td>0.0</td>\n",
       "      <td>0.0</td>\n",
       "      <td>0.0</td>\n",
       "      <td>0.0</td>\n",
       "      <td>0.0</td>\n",
       "      <td>0.0</td>\n",
       "      <td>0.0</td>\n",
       "      <td>0.0</td>\n",
       "      <td>0.0</td>\n",
       "      <td>0.0</td>\n",
       "    </tr>\n",
       "    <tr>\n",
       "      <th>1</th>\n",
       "      <td>0.0</td>\n",
       "      <td>0.0</td>\n",
       "      <td>0.0</td>\n",
       "      <td>0.0</td>\n",
       "      <td>0.0</td>\n",
       "      <td>0.0</td>\n",
       "      <td>0.0</td>\n",
       "      <td>0.0</td>\n",
       "      <td>0.0</td>\n",
       "      <td>0.0</td>\n",
       "      <td>...</td>\n",
       "      <td>0.0</td>\n",
       "      <td>0.0</td>\n",
       "      <td>0.0</td>\n",
       "      <td>0.0</td>\n",
       "      <td>0.0</td>\n",
       "      <td>0.0</td>\n",
       "      <td>0.0</td>\n",
       "      <td>0.0</td>\n",
       "      <td>0.0</td>\n",
       "      <td>0.0</td>\n",
       "    </tr>\n",
       "    <tr>\n",
       "      <th>2</th>\n",
       "      <td>0.0</td>\n",
       "      <td>0.0</td>\n",
       "      <td>0.0</td>\n",
       "      <td>0.0</td>\n",
       "      <td>0.0</td>\n",
       "      <td>0.0</td>\n",
       "      <td>0.0</td>\n",
       "      <td>0.0</td>\n",
       "      <td>0.0</td>\n",
       "      <td>0.0</td>\n",
       "      <td>...</td>\n",
       "      <td>0.0</td>\n",
       "      <td>0.0</td>\n",
       "      <td>0.0</td>\n",
       "      <td>0.0</td>\n",
       "      <td>0.0</td>\n",
       "      <td>0.0</td>\n",
       "      <td>0.0</td>\n",
       "      <td>0.0</td>\n",
       "      <td>0.0</td>\n",
       "      <td>0.0</td>\n",
       "    </tr>\n",
       "    <tr>\n",
       "      <th>3</th>\n",
       "      <td>0.0</td>\n",
       "      <td>0.0</td>\n",
       "      <td>0.0</td>\n",
       "      <td>0.0</td>\n",
       "      <td>0.0</td>\n",
       "      <td>0.0</td>\n",
       "      <td>0.0</td>\n",
       "      <td>0.0</td>\n",
       "      <td>0.0</td>\n",
       "      <td>0.0</td>\n",
       "      <td>...</td>\n",
       "      <td>0.0</td>\n",
       "      <td>0.0</td>\n",
       "      <td>0.0</td>\n",
       "      <td>0.0</td>\n",
       "      <td>0.0</td>\n",
       "      <td>0.0</td>\n",
       "      <td>0.0</td>\n",
       "      <td>0.0</td>\n",
       "      <td>0.0</td>\n",
       "      <td>0.0</td>\n",
       "    </tr>\n",
       "    <tr>\n",
       "      <th>4</th>\n",
       "      <td>0.0</td>\n",
       "      <td>0.0</td>\n",
       "      <td>0.0</td>\n",
       "      <td>0.0</td>\n",
       "      <td>0.0</td>\n",
       "      <td>0.0</td>\n",
       "      <td>0.0</td>\n",
       "      <td>0.0</td>\n",
       "      <td>0.0</td>\n",
       "      <td>0.0</td>\n",
       "      <td>...</td>\n",
       "      <td>0.0</td>\n",
       "      <td>0.0</td>\n",
       "      <td>0.0</td>\n",
       "      <td>0.0</td>\n",
       "      <td>0.0</td>\n",
       "      <td>0.0</td>\n",
       "      <td>0.0</td>\n",
       "      <td>0.0</td>\n",
       "      <td>0.0</td>\n",
       "      <td>0.0</td>\n",
       "    </tr>\n",
       "  </tbody>\n",
       "</table>\n",
       "<p>5 rows × 3186 columns</p>\n",
       "</div>"
      ],
      "text/plain": [
       "   site_10hui_es  site_123inkt_nl  site_17995api_com  site_17k_com  \\\n",
       "0            0.0              0.0                0.0           0.0   \n",
       "1            0.0              0.0                0.0           0.0   \n",
       "2            0.0              0.0                0.0           0.0   \n",
       "3            0.0              0.0                0.0           0.0   \n",
       "4            0.0              0.0                0.0           0.0   \n",
       "\n",
       "   site_19thnews_org  site_1cv8update_com  site_1frozenthrone1_com  \\\n",
       "0                0.0                  0.0                      0.0   \n",
       "1                0.0                  0.0                      0.0   \n",
       "2                0.0                  0.0                      0.0   \n",
       "3                0.0                  0.0                      0.0   \n",
       "4                0.0                  0.0                      0.0   \n",
       "\n",
       "   site_1geki_jp  site_1lib_in  site_21clradio_com  ...  site_zooniverse_org  \\\n",
       "0            0.0           0.0                 0.0  ...                  0.0   \n",
       "1            0.0           0.0                 0.0  ...                  0.0   \n",
       "2            0.0           0.0                 0.0  ...                  0.0   \n",
       "3            0.0           0.0                 0.0  ...                  0.0   \n",
       "4            0.0           0.0                 0.0  ...                  0.0   \n",
       "\n",
       "   site_zooplus_nl  site_zooqle_com  site_zoup_com  site_zqlx_com  \\\n",
       "0              0.0              0.0            0.0            0.0   \n",
       "1              0.0              0.0            0.0            0.0   \n",
       "2              0.0              0.0            0.0            0.0   \n",
       "3              0.0              0.0            0.0            0.0   \n",
       "4              0.0              0.0            0.0            0.0   \n",
       "\n",
       "   site_zradio_org  site_zscalergov_net  site_zubuchygri_com  site_zuuks_com  \\\n",
       "0              0.0                  0.0                  0.0             0.0   \n",
       "1              0.0                  0.0                  0.0             0.0   \n",
       "2              0.0                  0.0                  0.0             0.0   \n",
       "3              0.0                  0.0                  0.0             0.0   \n",
       "4              0.0                  0.0                  0.0             0.0   \n",
       "\n",
       "   site_zwcloud_wang  \n",
       "0                0.0  \n",
       "1                0.0  \n",
       "2                0.0  \n",
       "3                0.0  \n",
       "4                0.0  \n",
       "\n",
       "[5 rows x 3186 columns]"
      ]
     },
     "execution_count": 53,
     "metadata": {},
     "output_type": "execute_result"
    }
   ],
   "source": [
    "sites.head()"
   ]
  },
  {
   "cell_type": "markdown",
   "id": "ef8c7fb5",
   "metadata": {},
   "source": [
    "Concatenate the `df` and `sites` dataframes"
   ]
  },
  {
   "cell_type": "code",
   "execution_count": 54,
   "id": "760ff6bd",
   "metadata": {},
   "outputs": [
    {
     "data": {
      "text/html": [
       "<div>\n",
       "<style scoped>\n",
       "    .dataframe tbody tr th:only-of-type {\n",
       "        vertical-align: middle;\n",
       "    }\n",
       "\n",
       "    .dataframe tbody tr th {\n",
       "        vertical-align: top;\n",
       "    }\n",
       "\n",
       "    .dataframe thead th {\n",
       "        text-align: right;\n",
       "    }\n",
       "</style>\n",
       "<table border=\"1\" class=\"dataframe\">\n",
       "  <thead>\n",
       "    <tr style=\"text-align: right;\">\n",
       "      <th></th>\n",
       "      <th>browser</th>\n",
       "      <th>os</th>\n",
       "      <th>gender</th>\n",
       "      <th>time</th>\n",
       "      <th>target</th>\n",
       "      <th>hour</th>\n",
       "      <th>russia_software</th>\n",
       "      <th>site_10hui_es</th>\n",
       "      <th>site_123inkt_nl</th>\n",
       "      <th>site_17995api_com</th>\n",
       "      <th>...</th>\n",
       "      <th>site_zooniverse_org</th>\n",
       "      <th>site_zooplus_nl</th>\n",
       "      <th>site_zooqle_com</th>\n",
       "      <th>site_zoup_com</th>\n",
       "      <th>site_zqlx_com</th>\n",
       "      <th>site_zradio_org</th>\n",
       "      <th>site_zscalergov_net</th>\n",
       "      <th>site_zubuchygri_com</th>\n",
       "      <th>site_zuuks_com</th>\n",
       "      <th>site_zwcloud_wang</th>\n",
       "    </tr>\n",
       "  </thead>\n",
       "  <tbody>\n",
       "    <tr>\n",
       "      <th>32339</th>\n",
       "      <td>Chrome</td>\n",
       "      <td>Windows 8</td>\n",
       "      <td>m</td>\n",
       "      <td>23:18:00</td>\n",
       "      <td>0</td>\n",
       "      <td>23</td>\n",
       "      <td>Other</td>\n",
       "      <td>0.0</td>\n",
       "      <td>0.0</td>\n",
       "      <td>0.0</td>\n",
       "      <td>...</td>\n",
       "      <td>0.0</td>\n",
       "      <td>0.0</td>\n",
       "      <td>0.0</td>\n",
       "      <td>0.0</td>\n",
       "      <td>0.0</td>\n",
       "      <td>0.0</td>\n",
       "      <td>0.0</td>\n",
       "      <td>0.0</td>\n",
       "      <td>0.0</td>\n",
       "      <td>0.0</td>\n",
       "    </tr>\n",
       "    <tr>\n",
       "      <th>19405</th>\n",
       "      <td>Firefox</td>\n",
       "      <td>Debian</td>\n",
       "      <td>f</td>\n",
       "      <td>22:27:00</td>\n",
       "      <td>0</td>\n",
       "      <td>22</td>\n",
       "      <td>Other</td>\n",
       "      <td>0.0</td>\n",
       "      <td>0.0</td>\n",
       "      <td>0.0</td>\n",
       "      <td>...</td>\n",
       "      <td>0.0</td>\n",
       "      <td>0.0</td>\n",
       "      <td>0.0</td>\n",
       "      <td>0.0</td>\n",
       "      <td>0.0</td>\n",
       "      <td>0.0</td>\n",
       "      <td>0.0</td>\n",
       "      <td>0.0</td>\n",
       "      <td>0.0</td>\n",
       "      <td>0.0</td>\n",
       "    </tr>\n",
       "    <tr>\n",
       "      <th>76158</th>\n",
       "      <td>Chrome</td>\n",
       "      <td>Windows 7</td>\n",
       "      <td>m</td>\n",
       "      <td>21:52:00</td>\n",
       "      <td>0</td>\n",
       "      <td>21</td>\n",
       "      <td>Other</td>\n",
       "      <td>0.0</td>\n",
       "      <td>0.0</td>\n",
       "      <td>0.0</td>\n",
       "      <td>...</td>\n",
       "      <td>0.0</td>\n",
       "      <td>0.0</td>\n",
       "      <td>0.0</td>\n",
       "      <td>0.0</td>\n",
       "      <td>0.0</td>\n",
       "      <td>0.0</td>\n",
       "      <td>0.0</td>\n",
       "      <td>0.0</td>\n",
       "      <td>0.0</td>\n",
       "      <td>0.0</td>\n",
       "    </tr>\n",
       "    <tr>\n",
       "      <th>43230</th>\n",
       "      <td>Chrome</td>\n",
       "      <td>Ubuntu</td>\n",
       "      <td>m</td>\n",
       "      <td>21:25:00</td>\n",
       "      <td>0</td>\n",
       "      <td>21</td>\n",
       "      <td>Other</td>\n",
       "      <td>0.0</td>\n",
       "      <td>0.0</td>\n",
       "      <td>0.0</td>\n",
       "      <td>...</td>\n",
       "      <td>0.0</td>\n",
       "      <td>0.0</td>\n",
       "      <td>0.0</td>\n",
       "      <td>0.0</td>\n",
       "      <td>0.0</td>\n",
       "      <td>0.0</td>\n",
       "      <td>0.0</td>\n",
       "      <td>0.0</td>\n",
       "      <td>0.0</td>\n",
       "      <td>0.0</td>\n",
       "    </tr>\n",
       "    <tr>\n",
       "      <th>146883</th>\n",
       "      <td>Chrome</td>\n",
       "      <td>Windows 8</td>\n",
       "      <td>f</td>\n",
       "      <td>22:20:00</td>\n",
       "      <td>0</td>\n",
       "      <td>22</td>\n",
       "      <td>Other</td>\n",
       "      <td>0.0</td>\n",
       "      <td>0.0</td>\n",
       "      <td>0.0</td>\n",
       "      <td>...</td>\n",
       "      <td>0.0</td>\n",
       "      <td>0.0</td>\n",
       "      <td>0.0</td>\n",
       "      <td>0.0</td>\n",
       "      <td>0.0</td>\n",
       "      <td>0.0</td>\n",
       "      <td>0.0</td>\n",
       "      <td>0.0</td>\n",
       "      <td>0.0</td>\n",
       "      <td>0.0</td>\n",
       "    </tr>\n",
       "  </tbody>\n",
       "</table>\n",
       "<p>5 rows × 3193 columns</p>\n",
       "</div>"
      ],
      "text/plain": [
       "        browser         os gender      time  target hour russia_software  \\\n",
       "32339    Chrome  Windows 8      m  23:18:00       0   23           Other   \n",
       "19405   Firefox     Debian      f  22:27:00       0   22           Other   \n",
       "76158    Chrome  Windows 7      m  21:52:00       0   21           Other   \n",
       "43230    Chrome     Ubuntu      m  21:25:00       0   21           Other   \n",
       "146883   Chrome  Windows 8      f  22:20:00       0   22           Other   \n",
       "\n",
       "        site_10hui_es  site_123inkt_nl  site_17995api_com  ...  \\\n",
       "32339             0.0              0.0                0.0  ...   \n",
       "19405             0.0              0.0                0.0  ...   \n",
       "76158             0.0              0.0                0.0  ...   \n",
       "43230             0.0              0.0                0.0  ...   \n",
       "146883            0.0              0.0                0.0  ...   \n",
       "\n",
       "        site_zooniverse_org  site_zooplus_nl  site_zooqle_com  site_zoup_com  \\\n",
       "32339                   0.0              0.0              0.0            0.0   \n",
       "19405                   0.0              0.0              0.0            0.0   \n",
       "76158                   0.0              0.0              0.0            0.0   \n",
       "43230                   0.0              0.0              0.0            0.0   \n",
       "146883                  0.0              0.0              0.0            0.0   \n",
       "\n",
       "        site_zqlx_com  site_zradio_org  site_zscalergov_net  \\\n",
       "32339             0.0              0.0                  0.0   \n",
       "19405             0.0              0.0                  0.0   \n",
       "76158             0.0              0.0                  0.0   \n",
       "43230             0.0              0.0                  0.0   \n",
       "146883            0.0              0.0                  0.0   \n",
       "\n",
       "        site_zubuchygri_com  site_zuuks_com  site_zwcloud_wang  \n",
       "32339                   0.0             0.0                0.0  \n",
       "19405                   0.0             0.0                0.0  \n",
       "76158                   0.0             0.0                0.0  \n",
       "43230                   0.0             0.0                0.0  \n",
       "146883                  0.0             0.0                0.0  \n",
       "\n",
       "[5 rows x 3193 columns]"
      ]
     },
     "execution_count": 54,
     "metadata": {},
     "output_type": "execute_result"
    }
   ],
   "source": [
    "df = pd.concat([df, sites], axis = 1)\n",
    "df.head()"
   ]
  },
  {
   "cell_type": "code",
   "execution_count": null,
   "id": "894e9318",
   "metadata": {},
   "outputs": [],
   "source": []
  },
  {
   "cell_type": "markdown",
   "id": "025e1de4",
   "metadata": {},
   "source": [
    "Separate the `target` variable from the features"
   ]
  },
  {
   "cell_type": "code",
   "execution_count": 56,
   "id": "310a5b7d",
   "metadata": {},
   "outputs": [
    {
     "data": {
      "text/plain": [
       "120.30075187969925"
      ]
     },
     "execution_count": 56,
     "metadata": {},
     "output_type": "execute_result"
    }
   ],
   "source": [
    "160/1.33"
   ]
  },
  {
   "cell_type": "code",
   "execution_count": 63,
   "id": "fe064aca",
   "metadata": {},
   "outputs": [],
   "source": [
    "N = 3*(df.shape[0]//4)"
   ]
  },
  {
   "cell_type": "code",
   "execution_count": 67,
   "id": "657c6562",
   "metadata": {},
   "outputs": [],
   "source": [
    "df.drop(\"time\", axis = 1, inplace=True)"
   ]
  },
  {
   "cell_type": "code",
   "execution_count": 68,
   "id": "68f0048f",
   "metadata": {},
   "outputs": [],
   "source": [
    "X = df.drop(\"target\", axis = 1)\n",
    "y = df.target"
   ]
  },
  {
   "cell_type": "code",
   "execution_count": 69,
   "id": "7b5518f7",
   "metadata": {},
   "outputs": [],
   "source": [
    "X_train = X.iloc[:N]\n",
    "X_valid = X.iloc[N:]\n",
    "y_train = y.iloc[:N]\n",
    "y_valid = y.iloc[N:]"
   ]
  },
  {
   "cell_type": "code",
   "execution_count": 70,
   "id": "ad29298e",
   "metadata": {},
   "outputs": [
    {
     "data": {
      "text/html": [
       "<div>\n",
       "<style scoped>\n",
       "    .dataframe tbody tr th:only-of-type {\n",
       "        vertical-align: middle;\n",
       "    }\n",
       "\n",
       "    .dataframe tbody tr th {\n",
       "        vertical-align: top;\n",
       "    }\n",
       "\n",
       "    .dataframe thead th {\n",
       "        text-align: right;\n",
       "    }\n",
       "</style>\n",
       "<table border=\"1\" class=\"dataframe\">\n",
       "  <thead>\n",
       "    <tr style=\"text-align: right;\">\n",
       "      <th></th>\n",
       "      <th>browser</th>\n",
       "      <th>os</th>\n",
       "      <th>gender</th>\n",
       "      <th>hour</th>\n",
       "      <th>russia_software</th>\n",
       "      <th>site_10hui_es</th>\n",
       "      <th>site_123inkt_nl</th>\n",
       "      <th>site_17995api_com</th>\n",
       "      <th>site_17k_com</th>\n",
       "      <th>site_19thnews_org</th>\n",
       "      <th>...</th>\n",
       "      <th>site_zooniverse_org</th>\n",
       "      <th>site_zooplus_nl</th>\n",
       "      <th>site_zooqle_com</th>\n",
       "      <th>site_zoup_com</th>\n",
       "      <th>site_zqlx_com</th>\n",
       "      <th>site_zradio_org</th>\n",
       "      <th>site_zscalergov_net</th>\n",
       "      <th>site_zubuchygri_com</th>\n",
       "      <th>site_zuuks_com</th>\n",
       "      <th>site_zwcloud_wang</th>\n",
       "    </tr>\n",
       "  </thead>\n",
       "  <tbody>\n",
       "    <tr>\n",
       "      <th>32339</th>\n",
       "      <td>Chrome</td>\n",
       "      <td>Windows 8</td>\n",
       "      <td>m</td>\n",
       "      <td>23</td>\n",
       "      <td>Other</td>\n",
       "      <td>0.0</td>\n",
       "      <td>0.0</td>\n",
       "      <td>0.0</td>\n",
       "      <td>0.0</td>\n",
       "      <td>0.0</td>\n",
       "      <td>...</td>\n",
       "      <td>0.0</td>\n",
       "      <td>0.0</td>\n",
       "      <td>0.0</td>\n",
       "      <td>0.0</td>\n",
       "      <td>0.0</td>\n",
       "      <td>0.0</td>\n",
       "      <td>0.0</td>\n",
       "      <td>0.0</td>\n",
       "      <td>0.0</td>\n",
       "      <td>0.0</td>\n",
       "    </tr>\n",
       "    <tr>\n",
       "      <th>19405</th>\n",
       "      <td>Firefox</td>\n",
       "      <td>Debian</td>\n",
       "      <td>f</td>\n",
       "      <td>22</td>\n",
       "      <td>Other</td>\n",
       "      <td>0.0</td>\n",
       "      <td>0.0</td>\n",
       "      <td>0.0</td>\n",
       "      <td>0.0</td>\n",
       "      <td>0.0</td>\n",
       "      <td>...</td>\n",
       "      <td>0.0</td>\n",
       "      <td>0.0</td>\n",
       "      <td>0.0</td>\n",
       "      <td>0.0</td>\n",
       "      <td>0.0</td>\n",
       "      <td>0.0</td>\n",
       "      <td>0.0</td>\n",
       "      <td>0.0</td>\n",
       "      <td>0.0</td>\n",
       "      <td>0.0</td>\n",
       "    </tr>\n",
       "    <tr>\n",
       "      <th>76158</th>\n",
       "      <td>Chrome</td>\n",
       "      <td>Windows 7</td>\n",
       "      <td>m</td>\n",
       "      <td>21</td>\n",
       "      <td>Other</td>\n",
       "      <td>0.0</td>\n",
       "      <td>0.0</td>\n",
       "      <td>0.0</td>\n",
       "      <td>0.0</td>\n",
       "      <td>0.0</td>\n",
       "      <td>...</td>\n",
       "      <td>0.0</td>\n",
       "      <td>0.0</td>\n",
       "      <td>0.0</td>\n",
       "      <td>0.0</td>\n",
       "      <td>0.0</td>\n",
       "      <td>0.0</td>\n",
       "      <td>0.0</td>\n",
       "      <td>0.0</td>\n",
       "      <td>0.0</td>\n",
       "      <td>0.0</td>\n",
       "    </tr>\n",
       "    <tr>\n",
       "      <th>43230</th>\n",
       "      <td>Chrome</td>\n",
       "      <td>Ubuntu</td>\n",
       "      <td>m</td>\n",
       "      <td>21</td>\n",
       "      <td>Other</td>\n",
       "      <td>0.0</td>\n",
       "      <td>0.0</td>\n",
       "      <td>0.0</td>\n",
       "      <td>0.0</td>\n",
       "      <td>0.0</td>\n",
       "      <td>...</td>\n",
       "      <td>0.0</td>\n",
       "      <td>0.0</td>\n",
       "      <td>0.0</td>\n",
       "      <td>0.0</td>\n",
       "      <td>0.0</td>\n",
       "      <td>0.0</td>\n",
       "      <td>0.0</td>\n",
       "      <td>0.0</td>\n",
       "      <td>0.0</td>\n",
       "      <td>0.0</td>\n",
       "    </tr>\n",
       "    <tr>\n",
       "      <th>146883</th>\n",
       "      <td>Chrome</td>\n",
       "      <td>Windows 8</td>\n",
       "      <td>f</td>\n",
       "      <td>22</td>\n",
       "      <td>Other</td>\n",
       "      <td>0.0</td>\n",
       "      <td>0.0</td>\n",
       "      <td>0.0</td>\n",
       "      <td>0.0</td>\n",
       "      <td>0.0</td>\n",
       "      <td>...</td>\n",
       "      <td>0.0</td>\n",
       "      <td>0.0</td>\n",
       "      <td>0.0</td>\n",
       "      <td>0.0</td>\n",
       "      <td>0.0</td>\n",
       "      <td>0.0</td>\n",
       "      <td>0.0</td>\n",
       "      <td>0.0</td>\n",
       "      <td>0.0</td>\n",
       "      <td>0.0</td>\n",
       "    </tr>\n",
       "  </tbody>\n",
       "</table>\n",
       "<p>5 rows × 3191 columns</p>\n",
       "</div>"
      ],
      "text/plain": [
       "        browser         os gender hour russia_software  site_10hui_es  \\\n",
       "32339    Chrome  Windows 8      m   23           Other            0.0   \n",
       "19405   Firefox     Debian      f   22           Other            0.0   \n",
       "76158    Chrome  Windows 7      m   21           Other            0.0   \n",
       "43230    Chrome     Ubuntu      m   21           Other            0.0   \n",
       "146883   Chrome  Windows 8      f   22           Other            0.0   \n",
       "\n",
       "        site_123inkt_nl  site_17995api_com  site_17k_com  site_19thnews_org  \\\n",
       "32339               0.0                0.0           0.0                0.0   \n",
       "19405               0.0                0.0           0.0                0.0   \n",
       "76158               0.0                0.0           0.0                0.0   \n",
       "43230               0.0                0.0           0.0                0.0   \n",
       "146883              0.0                0.0           0.0                0.0   \n",
       "\n",
       "        ...  site_zooniverse_org  site_zooplus_nl  site_zooqle_com  \\\n",
       "32339   ...                  0.0              0.0              0.0   \n",
       "19405   ...                  0.0              0.0              0.0   \n",
       "76158   ...                  0.0              0.0              0.0   \n",
       "43230   ...                  0.0              0.0              0.0   \n",
       "146883  ...                  0.0              0.0              0.0   \n",
       "\n",
       "        site_zoup_com  site_zqlx_com  site_zradio_org  site_zscalergov_net  \\\n",
       "32339             0.0            0.0              0.0                  0.0   \n",
       "19405             0.0            0.0              0.0                  0.0   \n",
       "76158             0.0            0.0              0.0                  0.0   \n",
       "43230             0.0            0.0              0.0                  0.0   \n",
       "146883            0.0            0.0              0.0                  0.0   \n",
       "\n",
       "        site_zubuchygri_com  site_zuuks_com  site_zwcloud_wang  \n",
       "32339                   0.0             0.0                0.0  \n",
       "19405                   0.0             0.0                0.0  \n",
       "76158                   0.0             0.0                0.0  \n",
       "43230                   0.0             0.0                0.0  \n",
       "146883                  0.0             0.0                0.0  \n",
       "\n",
       "[5 rows x 3191 columns]"
      ]
     },
     "execution_count": 70,
     "metadata": {},
     "output_type": "execute_result"
    }
   ],
   "source": [
    "X_train.head()"
   ]
  },
  {
   "cell_type": "code",
   "execution_count": null,
   "id": "74b23618",
   "metadata": {},
   "outputs": [],
   "source": []
  },
  {
   "cell_type": "markdown",
   "id": "1f96bfcb",
   "metadata": {},
   "source": [
    "Create training and validation datasets"
   ]
  },
  {
   "cell_type": "code",
   "execution_count": 71,
   "id": "eb36c066",
   "metadata": {},
   "outputs": [],
   "source": [
    "# X_train, X_valid, y_train, y_valid = train_test_split(X, y, test_size=.25, random_state=1, stratify=y)\n",
    "# X_train.head()"
   ]
  },
  {
   "cell_type": "code",
   "execution_count": null,
   "id": "6bd9afcd",
   "metadata": {},
   "outputs": [],
   "source": []
  },
  {
   "cell_type": "markdown",
   "id": "4e5477fd",
   "metadata": {},
   "source": [
    "## Feature engineering Pipeline\n",
    "\n",
    "There are two components to the feature engineering pipeline:\n",
    "- One hot encoding for the discrete variables.\n",
    "- Normalization using standardization for the continous variables."
   ]
  },
  {
   "cell_type": "code",
   "execution_count": null,
   "id": "bb86b18c",
   "metadata": {},
   "outputs": [],
   "source": []
  },
  {
   "cell_type": "code",
   "execution_count": null,
   "id": "711073a8",
   "metadata": {},
   "outputs": [],
   "source": []
  },
  {
   "cell_type": "markdown",
   "id": "5aae3969",
   "metadata": {},
   "source": [
    "**Standardization**"
   ]
  },
  {
   "cell_type": "code",
   "execution_count": null,
   "id": "ec8ca79e",
   "metadata": {},
   "outputs": [],
   "source": []
  },
  {
   "cell_type": "code",
   "execution_count": 77,
   "id": "7cd129ee",
   "metadata": {},
   "outputs": [],
   "source": [
    "# X"
   ]
  },
  {
   "cell_type": "code",
   "execution_count": 72,
   "id": "91db879b",
   "metadata": {},
   "outputs": [],
   "source": [
    "#collect all columns\n",
    "cols = X.columns\n"
   ]
  },
  {
   "cell_type": "markdown",
   "id": "bcfdd9b3",
   "metadata": {},
   "source": [
    "Standardization will be applied to columns representing length of visits to sites."
   ]
  },
  {
   "cell_type": "code",
   "execution_count": 73,
   "id": "0d38861c",
   "metadata": {},
   "outputs": [],
   "source": [
    "#collect sites columns\n",
    "site_cols = X.columns[X.columns.str.startswith(\"site_\")].tolist()\n",
    "\n",
    "#create boolean mask for features that are in site_cols\n",
    "site_mask = cols.isin(site_cols).tolist()\n"
   ]
  },
  {
   "cell_type": "code",
   "execution_count": 74,
   "id": "3991f82c",
   "metadata": {},
   "outputs": [],
   "source": [
    "#Intialize pipeline object that will be used to scale numerical data\n",
    "pipeline_scale = Pipeline([(\"scale\", StandardScaler())])\n",
    "\n",
    "#Create a tuple that has three values, \n",
    "# 1. Step name\n",
    "# 2. The pipeline\n",
    "# 3. column mask which tells sklearn which columns to transform which not to\n",
    "column_transform_scale_step = (\"numerical\", pipeline_scale, site_mask)"
   ]
  },
  {
   "cell_type": "code",
   "execution_count": null,
   "id": "d12ca2e7",
   "metadata": {},
   "outputs": [],
   "source": []
  },
  {
   "cell_type": "markdown",
   "id": "c7289a84",
   "metadata": {},
   "source": [
    "Repeat similar process for categorical data."
   ]
  },
  {
   "cell_type": "code",
   "execution_count": null,
   "id": "57a41afd",
   "metadata": {},
   "outputs": [],
   "source": []
  },
  {
   "cell_type": "code",
   "execution_count": 75,
   "id": "53b8d94e",
   "metadata": {},
   "outputs": [
    {
     "data": {
      "text/html": [
       "<div>\n",
       "<style scoped>\n",
       "    .dataframe tbody tr th:only-of-type {\n",
       "        vertical-align: middle;\n",
       "    }\n",
       "\n",
       "    .dataframe tbody tr th {\n",
       "        vertical-align: top;\n",
       "    }\n",
       "\n",
       "    .dataframe thead th {\n",
       "        text-align: right;\n",
       "    }\n",
       "</style>\n",
       "<table border=\"1\" class=\"dataframe\">\n",
       "  <thead>\n",
       "    <tr style=\"text-align: right;\">\n",
       "      <th></th>\n",
       "      <th>browser</th>\n",
       "      <th>os</th>\n",
       "      <th>gender</th>\n",
       "      <th>target</th>\n",
       "      <th>hour</th>\n",
       "      <th>russia_software</th>\n",
       "      <th>site_10hui_es</th>\n",
       "      <th>site_123inkt_nl</th>\n",
       "      <th>site_17995api_com</th>\n",
       "      <th>site_17k_com</th>\n",
       "      <th>...</th>\n",
       "      <th>site_zooniverse_org</th>\n",
       "      <th>site_zooplus_nl</th>\n",
       "      <th>site_zooqle_com</th>\n",
       "      <th>site_zoup_com</th>\n",
       "      <th>site_zqlx_com</th>\n",
       "      <th>site_zradio_org</th>\n",
       "      <th>site_zscalergov_net</th>\n",
       "      <th>site_zubuchygri_com</th>\n",
       "      <th>site_zuuks_com</th>\n",
       "      <th>site_zwcloud_wang</th>\n",
       "    </tr>\n",
       "  </thead>\n",
       "  <tbody>\n",
       "    <tr>\n",
       "      <th>32339</th>\n",
       "      <td>Chrome</td>\n",
       "      <td>Windows 8</td>\n",
       "      <td>m</td>\n",
       "      <td>0</td>\n",
       "      <td>23</td>\n",
       "      <td>Other</td>\n",
       "      <td>0.0</td>\n",
       "      <td>0.0</td>\n",
       "      <td>0.0</td>\n",
       "      <td>0.0</td>\n",
       "      <td>...</td>\n",
       "      <td>0.0</td>\n",
       "      <td>0.0</td>\n",
       "      <td>0.0</td>\n",
       "      <td>0.0</td>\n",
       "      <td>0.0</td>\n",
       "      <td>0.0</td>\n",
       "      <td>0.0</td>\n",
       "      <td>0.0</td>\n",
       "      <td>0.0</td>\n",
       "      <td>0.0</td>\n",
       "    </tr>\n",
       "    <tr>\n",
       "      <th>19405</th>\n",
       "      <td>Firefox</td>\n",
       "      <td>Debian</td>\n",
       "      <td>f</td>\n",
       "      <td>0</td>\n",
       "      <td>22</td>\n",
       "      <td>Other</td>\n",
       "      <td>0.0</td>\n",
       "      <td>0.0</td>\n",
       "      <td>0.0</td>\n",
       "      <td>0.0</td>\n",
       "      <td>...</td>\n",
       "      <td>0.0</td>\n",
       "      <td>0.0</td>\n",
       "      <td>0.0</td>\n",
       "      <td>0.0</td>\n",
       "      <td>0.0</td>\n",
       "      <td>0.0</td>\n",
       "      <td>0.0</td>\n",
       "      <td>0.0</td>\n",
       "      <td>0.0</td>\n",
       "      <td>0.0</td>\n",
       "    </tr>\n",
       "    <tr>\n",
       "      <th>76158</th>\n",
       "      <td>Chrome</td>\n",
       "      <td>Windows 7</td>\n",
       "      <td>m</td>\n",
       "      <td>0</td>\n",
       "      <td>21</td>\n",
       "      <td>Other</td>\n",
       "      <td>0.0</td>\n",
       "      <td>0.0</td>\n",
       "      <td>0.0</td>\n",
       "      <td>0.0</td>\n",
       "      <td>...</td>\n",
       "      <td>0.0</td>\n",
       "      <td>0.0</td>\n",
       "      <td>0.0</td>\n",
       "      <td>0.0</td>\n",
       "      <td>0.0</td>\n",
       "      <td>0.0</td>\n",
       "      <td>0.0</td>\n",
       "      <td>0.0</td>\n",
       "      <td>0.0</td>\n",
       "      <td>0.0</td>\n",
       "    </tr>\n",
       "    <tr>\n",
       "      <th>43230</th>\n",
       "      <td>Chrome</td>\n",
       "      <td>Ubuntu</td>\n",
       "      <td>m</td>\n",
       "      <td>0</td>\n",
       "      <td>21</td>\n",
       "      <td>Other</td>\n",
       "      <td>0.0</td>\n",
       "      <td>0.0</td>\n",
       "      <td>0.0</td>\n",
       "      <td>0.0</td>\n",
       "      <td>...</td>\n",
       "      <td>0.0</td>\n",
       "      <td>0.0</td>\n",
       "      <td>0.0</td>\n",
       "      <td>0.0</td>\n",
       "      <td>0.0</td>\n",
       "      <td>0.0</td>\n",
       "      <td>0.0</td>\n",
       "      <td>0.0</td>\n",
       "      <td>0.0</td>\n",
       "      <td>0.0</td>\n",
       "    </tr>\n",
       "    <tr>\n",
       "      <th>146883</th>\n",
       "      <td>Chrome</td>\n",
       "      <td>Windows 8</td>\n",
       "      <td>f</td>\n",
       "      <td>0</td>\n",
       "      <td>22</td>\n",
       "      <td>Other</td>\n",
       "      <td>0.0</td>\n",
       "      <td>0.0</td>\n",
       "      <td>0.0</td>\n",
       "      <td>0.0</td>\n",
       "      <td>...</td>\n",
       "      <td>0.0</td>\n",
       "      <td>0.0</td>\n",
       "      <td>0.0</td>\n",
       "      <td>0.0</td>\n",
       "      <td>0.0</td>\n",
       "      <td>0.0</td>\n",
       "      <td>0.0</td>\n",
       "      <td>0.0</td>\n",
       "      <td>0.0</td>\n",
       "      <td>0.0</td>\n",
       "    </tr>\n",
       "  </tbody>\n",
       "</table>\n",
       "<p>5 rows × 3192 columns</p>\n",
       "</div>"
      ],
      "text/plain": [
       "        browser         os gender  target hour russia_software  site_10hui_es  \\\n",
       "32339    Chrome  Windows 8      m       0   23           Other            0.0   \n",
       "19405   Firefox     Debian      f       0   22           Other            0.0   \n",
       "76158    Chrome  Windows 7      m       0   21           Other            0.0   \n",
       "43230    Chrome     Ubuntu      m       0   21           Other            0.0   \n",
       "146883   Chrome  Windows 8      f       0   22           Other            0.0   \n",
       "\n",
       "        site_123inkt_nl  site_17995api_com  site_17k_com  ...  \\\n",
       "32339               0.0                0.0           0.0  ...   \n",
       "19405               0.0                0.0           0.0  ...   \n",
       "76158               0.0                0.0           0.0  ...   \n",
       "43230               0.0                0.0           0.0  ...   \n",
       "146883              0.0                0.0           0.0  ...   \n",
       "\n",
       "        site_zooniverse_org  site_zooplus_nl  site_zooqle_com  site_zoup_com  \\\n",
       "32339                   0.0              0.0              0.0            0.0   \n",
       "19405                   0.0              0.0              0.0            0.0   \n",
       "76158                   0.0              0.0              0.0            0.0   \n",
       "43230                   0.0              0.0              0.0            0.0   \n",
       "146883                  0.0              0.0              0.0            0.0   \n",
       "\n",
       "        site_zqlx_com  site_zradio_org  site_zscalergov_net  \\\n",
       "32339             0.0              0.0                  0.0   \n",
       "19405             0.0              0.0                  0.0   \n",
       "76158             0.0              0.0                  0.0   \n",
       "43230             0.0              0.0                  0.0   \n",
       "146883            0.0              0.0                  0.0   \n",
       "\n",
       "        site_zubuchygri_com  site_zuuks_com  site_zwcloud_wang  \n",
       "32339                   0.0             0.0                0.0  \n",
       "19405                   0.0             0.0                0.0  \n",
       "76158                   0.0             0.0                0.0  \n",
       "43230                   0.0             0.0                0.0  \n",
       "146883                  0.0             0.0                0.0  \n",
       "\n",
       "[5 rows x 3192 columns]"
      ]
     },
     "execution_count": 75,
     "metadata": {},
     "output_type": "execute_result"
    }
   ],
   "source": [
    "df.head()"
   ]
  },
  {
   "cell_type": "code",
   "execution_count": 78,
   "id": "6921b108",
   "metadata": {},
   "outputs": [],
   "source": [
    "cat_cols = ['browser', 'os', 'gender', 'hour', \"russia_software\"]\n",
    "cat_cols_mask= cols.isin(cat_cols)\n",
    "\n",
    "pipeline_ohe = Pipeline([(\"ohe\", OneHotEncoder(categories='auto', \n",
    "                                               handle_unknown='error', \n",
    "                                               sparse=False, drop=\"first\"))])\n",
    "column_transform_ohe_step = (\"cat\", pipeline_ohe, cat_cols_mask)"
   ]
  },
  {
   "cell_type": "markdown",
   "id": "34623b54",
   "metadata": {},
   "source": [
    "Combine the two steps into one pipeline"
   ]
  },
  {
   "cell_type": "code",
   "execution_count": 79,
   "id": "69d78700",
   "metadata": {},
   "outputs": [],
   "source": [
    "#Organize the pipelines in a list\n",
    "\n",
    "transformer_steps = [column_transform_ohe_step, column_transform_scale_step]\n",
    "\n",
    "#Intialize the ColumnTransformer object with the transformer steps\n",
    "\n",
    "feat_eng_pipe = ColumnTransformer(transformers=transformer_steps)"
   ]
  },
  {
   "cell_type": "markdown",
   "id": "f7e56c42",
   "metadata": {},
   "source": [
    "Fit the pipeline on the training data, followed by transforming both the training and validation datasets."
   ]
  },
  {
   "cell_type": "code",
   "execution_count": 80,
   "id": "c0968162",
   "metadata": {},
   "outputs": [],
   "source": [
    "#Fit transform the train dataset\n",
    "X_train = feat_eng_pipe.fit_transform(X_train)\n",
    "\n",
    "#Transform the testing dataset with the rules learned from the training dataset \n",
    "X_valid = feat_eng_pipe.transform(X_valid)\n",
    "\n"
   ]
  },
  {
   "cell_type": "markdown",
   "id": "bffa9dd1",
   "metadata": {},
   "source": [
    "The shape of the pre-processed training data."
   ]
  },
  {
   "cell_type": "code",
   "execution_count": 81,
   "id": "57aa8cf2",
   "metadata": {},
   "outputs": [
    {
     "data": {
      "text/plain": [
       "(120000, 3219)"
      ]
     },
     "execution_count": 81,
     "metadata": {},
     "output_type": "execute_result"
    }
   ],
   "source": [
    "X_train.shape"
   ]
  },
  {
   "cell_type": "markdown",
   "id": "51bbdfb6",
   "metadata": {},
   "source": [
    "Save pipeline transformer object."
   ]
  },
  {
   "cell_type": "code",
   "execution_count": 19,
   "id": "35cb94bf",
   "metadata": {},
   "outputs": [
    {
     "data": {
      "text/plain": [
       "['../model/feature_engineer_pipeline.pkl']"
      ]
     },
     "execution_count": 19,
     "metadata": {},
     "output_type": "execute_result"
    }
   ],
   "source": [
    "joblib.dump(feat_eng_pipe, \"../model/feature_engineer_pipeline.pkl\")"
   ]
  },
  {
   "cell_type": "markdown",
   "id": "1df1a296",
   "metadata": {},
   "source": [
    "Pipeline leaves us with 1049 features.\n",
    "\n",
    "Now let's convert the transformed data back into pandas dataframes."
   ]
  },
  {
   "cell_type": "code",
   "execution_count": 82,
   "id": "76f9872e",
   "metadata": {},
   "outputs": [
    {
     "data": {
      "text/html": [
       "<div>\n",
       "<style scoped>\n",
       "    .dataframe tbody tr th:only-of-type {\n",
       "        vertical-align: middle;\n",
       "    }\n",
       "\n",
       "    .dataframe tbody tr th {\n",
       "        vertical-align: top;\n",
       "    }\n",
       "\n",
       "    .dataframe thead th {\n",
       "        text-align: right;\n",
       "    }\n",
       "</style>\n",
       "<table border=\"1\" class=\"dataframe\">\n",
       "  <thead>\n",
       "    <tr style=\"text-align: right;\">\n",
       "      <th></th>\n",
       "      <th>browser_Firefox</th>\n",
       "      <th>browser_Internet Explorer</th>\n",
       "      <th>browser_Safari</th>\n",
       "      <th>os_MacOS</th>\n",
       "      <th>os_Ubuntu</th>\n",
       "      <th>os_Windows 10</th>\n",
       "      <th>os_Windows 7</th>\n",
       "      <th>os_Windows 8</th>\n",
       "      <th>gender_m</th>\n",
       "      <th>hour_01</th>\n",
       "      <th>...</th>\n",
       "      <th>site_zooniverse_org</th>\n",
       "      <th>site_zooplus_nl</th>\n",
       "      <th>site_zooqle_com</th>\n",
       "      <th>site_zoup_com</th>\n",
       "      <th>site_zqlx_com</th>\n",
       "      <th>site_zradio_org</th>\n",
       "      <th>site_zscalergov_net</th>\n",
       "      <th>site_zubuchygri_com</th>\n",
       "      <th>site_zuuks_com</th>\n",
       "      <th>site_zwcloud_wang</th>\n",
       "    </tr>\n",
       "  </thead>\n",
       "  <tbody>\n",
       "    <tr>\n",
       "      <th>0</th>\n",
       "      <td>0.0</td>\n",
       "      <td>0.0</td>\n",
       "      <td>0.0</td>\n",
       "      <td>0.0</td>\n",
       "      <td>0.0</td>\n",
       "      <td>0.0</td>\n",
       "      <td>0.0</td>\n",
       "      <td>1.0</td>\n",
       "      <td>1.0</td>\n",
       "      <td>0.0</td>\n",
       "      <td>...</td>\n",
       "      <td>-0.005535</td>\n",
       "      <td>-0.005543</td>\n",
       "      <td>-0.006882</td>\n",
       "      <td>-0.006072</td>\n",
       "      <td>-0.006277</td>\n",
       "      <td>-0.006435</td>\n",
       "      <td>-0.006218</td>\n",
       "      <td>-0.005447</td>\n",
       "      <td>-0.006267</td>\n",
       "      <td>-0.005258</td>\n",
       "    </tr>\n",
       "    <tr>\n",
       "      <th>1</th>\n",
       "      <td>1.0</td>\n",
       "      <td>0.0</td>\n",
       "      <td>0.0</td>\n",
       "      <td>0.0</td>\n",
       "      <td>0.0</td>\n",
       "      <td>0.0</td>\n",
       "      <td>0.0</td>\n",
       "      <td>0.0</td>\n",
       "      <td>0.0</td>\n",
       "      <td>0.0</td>\n",
       "      <td>...</td>\n",
       "      <td>-0.005535</td>\n",
       "      <td>-0.005543</td>\n",
       "      <td>-0.006882</td>\n",
       "      <td>-0.006072</td>\n",
       "      <td>-0.006277</td>\n",
       "      <td>-0.006435</td>\n",
       "      <td>-0.006218</td>\n",
       "      <td>-0.005447</td>\n",
       "      <td>-0.006267</td>\n",
       "      <td>-0.005258</td>\n",
       "    </tr>\n",
       "    <tr>\n",
       "      <th>2</th>\n",
       "      <td>0.0</td>\n",
       "      <td>0.0</td>\n",
       "      <td>0.0</td>\n",
       "      <td>0.0</td>\n",
       "      <td>0.0</td>\n",
       "      <td>0.0</td>\n",
       "      <td>1.0</td>\n",
       "      <td>0.0</td>\n",
       "      <td>1.0</td>\n",
       "      <td>0.0</td>\n",
       "      <td>...</td>\n",
       "      <td>-0.005535</td>\n",
       "      <td>-0.005543</td>\n",
       "      <td>-0.006882</td>\n",
       "      <td>-0.006072</td>\n",
       "      <td>-0.006277</td>\n",
       "      <td>-0.006435</td>\n",
       "      <td>-0.006218</td>\n",
       "      <td>-0.005447</td>\n",
       "      <td>-0.006267</td>\n",
       "      <td>-0.005258</td>\n",
       "    </tr>\n",
       "    <tr>\n",
       "      <th>3</th>\n",
       "      <td>0.0</td>\n",
       "      <td>0.0</td>\n",
       "      <td>0.0</td>\n",
       "      <td>0.0</td>\n",
       "      <td>1.0</td>\n",
       "      <td>0.0</td>\n",
       "      <td>0.0</td>\n",
       "      <td>0.0</td>\n",
       "      <td>1.0</td>\n",
       "      <td>0.0</td>\n",
       "      <td>...</td>\n",
       "      <td>-0.005535</td>\n",
       "      <td>-0.005543</td>\n",
       "      <td>-0.006882</td>\n",
       "      <td>-0.006072</td>\n",
       "      <td>-0.006277</td>\n",
       "      <td>-0.006435</td>\n",
       "      <td>-0.006218</td>\n",
       "      <td>-0.005447</td>\n",
       "      <td>-0.006267</td>\n",
       "      <td>-0.005258</td>\n",
       "    </tr>\n",
       "    <tr>\n",
       "      <th>4</th>\n",
       "      <td>0.0</td>\n",
       "      <td>0.0</td>\n",
       "      <td>0.0</td>\n",
       "      <td>0.0</td>\n",
       "      <td>0.0</td>\n",
       "      <td>0.0</td>\n",
       "      <td>0.0</td>\n",
       "      <td>1.0</td>\n",
       "      <td>0.0</td>\n",
       "      <td>0.0</td>\n",
       "      <td>...</td>\n",
       "      <td>-0.005535</td>\n",
       "      <td>-0.005543</td>\n",
       "      <td>-0.006882</td>\n",
       "      <td>-0.006072</td>\n",
       "      <td>-0.006277</td>\n",
       "      <td>-0.006435</td>\n",
       "      <td>-0.006218</td>\n",
       "      <td>-0.005447</td>\n",
       "      <td>-0.006267</td>\n",
       "      <td>-0.005258</td>\n",
       "    </tr>\n",
       "  </tbody>\n",
       "</table>\n",
       "<p>5 rows × 3219 columns</p>\n",
       "</div>"
      ],
      "text/plain": [
       "   browser_Firefox  browser_Internet Explorer  browser_Safari  os_MacOS  \\\n",
       "0              0.0                        0.0             0.0       0.0   \n",
       "1              1.0                        0.0             0.0       0.0   \n",
       "2              0.0                        0.0             0.0       0.0   \n",
       "3              0.0                        0.0             0.0       0.0   \n",
       "4              0.0                        0.0             0.0       0.0   \n",
       "\n",
       "   os_Ubuntu  os_Windows 10  os_Windows 7  os_Windows 8  gender_m  hour_01  \\\n",
       "0        0.0            0.0           0.0           1.0       1.0      0.0   \n",
       "1        0.0            0.0           0.0           0.0       0.0      0.0   \n",
       "2        0.0            0.0           1.0           0.0       1.0      0.0   \n",
       "3        1.0            0.0           0.0           0.0       1.0      0.0   \n",
       "4        0.0            0.0           0.0           1.0       0.0      0.0   \n",
       "\n",
       "   ...  site_zooniverse_org  site_zooplus_nl  site_zooqle_com  site_zoup_com  \\\n",
       "0  ...            -0.005535        -0.005543        -0.006882      -0.006072   \n",
       "1  ...            -0.005535        -0.005543        -0.006882      -0.006072   \n",
       "2  ...            -0.005535        -0.005543        -0.006882      -0.006072   \n",
       "3  ...            -0.005535        -0.005543        -0.006882      -0.006072   \n",
       "4  ...            -0.005535        -0.005543        -0.006882      -0.006072   \n",
       "\n",
       "   site_zqlx_com  site_zradio_org  site_zscalergov_net  site_zubuchygri_com  \\\n",
       "0      -0.006277        -0.006435            -0.006218            -0.005447   \n",
       "1      -0.006277        -0.006435            -0.006218            -0.005447   \n",
       "2      -0.006277        -0.006435            -0.006218            -0.005447   \n",
       "3      -0.006277        -0.006435            -0.006218            -0.005447   \n",
       "4      -0.006277        -0.006435            -0.006218            -0.005447   \n",
       "\n",
       "   site_zuuks_com  site_zwcloud_wang  \n",
       "0       -0.006267          -0.005258  \n",
       "1       -0.006267          -0.005258  \n",
       "2       -0.006267          -0.005258  \n",
       "3       -0.006267          -0.005258  \n",
       "4       -0.006267          -0.005258  \n",
       "\n",
       "[5 rows x 3219 columns]"
      ]
     },
     "execution_count": 82,
     "metadata": {},
     "output_type": "execute_result"
    }
   ],
   "source": [
    "#Access pipeline data to so we can name the one hot encoded columns\n",
    "cat_col_names = feat_eng_pipe.named_transformers_[\"cat\"][\"ohe\"].get_feature_names(cat_cols).tolist()\n",
    "    \n",
    "#Create list of column names\n",
    "column_names = cat_col_names + site_cols\n",
    "\n",
    "X_train = pd.DataFrame(data=X_train, columns=column_names)\n",
    "X_valid = pd.DataFrame(data=X_valid, columns=column_names)\n",
    "X_train.head()"
   ]
  },
  {
   "cell_type": "markdown",
   "id": "07d2e8eb",
   "metadata": {},
   "source": [
    "Now that the features are fully preprocessed we have one last step before we can move onto to modeling and that is dropping the `browser_Safari` column due to its overlap with the `os_MacOS` column"
   ]
  },
  {
   "cell_type": "code",
   "execution_count": 83,
   "id": "e9c71abd",
   "metadata": {},
   "outputs": [],
   "source": [
    "X_train.drop(\"browser_Safari\", axis = 1, inplace=True)\n",
    "X_valid.drop(\"browser_Safari\", axis = 1, inplace=True)"
   ]
  },
  {
   "cell_type": "markdown",
   "id": "540686b2",
   "metadata": {},
   "source": [
    "## Modeling"
   ]
  },
  {
   "cell_type": "markdown",
   "id": "5564d682",
   "metadata": {},
   "source": [
    "\n",
    "- Test two algorithms:\n",
    "    - Logistic Regression\n",
    "    - Random Forest\n",
    "    \n",
    "- Each algorithm is trained on the original, class weighted and smote sampled data.\n",
    "\n",
    "- Determine the optimal probability threshold for each model.\n",
    "\n",
    "- Place a higher value on recall due to desire to minimize false negatives (predictions that fail to flag joe sessions.)"
   ]
  },
  {
   "cell_type": "code",
   "execution_count": null,
   "id": "1a30bbfb",
   "metadata": {},
   "outputs": [],
   "source": []
  },
  {
   "cell_type": "markdown",
   "id": "e87fc5da",
   "metadata": {},
   "source": [
    "This dataframe will store the modeling performance results using these four metrics."
   ]
  },
  {
   "cell_type": "code",
   "execution_count": 84,
   "id": "3a339120",
   "metadata": {},
   "outputs": [
    {
     "data": {
      "text/html": [
       "<div>\n",
       "<style scoped>\n",
       "    .dataframe tbody tr th:only-of-type {\n",
       "        vertical-align: middle;\n",
       "    }\n",
       "\n",
       "    .dataframe tbody tr th {\n",
       "        vertical-align: top;\n",
       "    }\n",
       "\n",
       "    .dataframe thead th {\n",
       "        text-align: right;\n",
       "    }\n",
       "</style>\n",
       "<table border=\"1\" class=\"dataframe\">\n",
       "  <thead>\n",
       "    <tr style=\"text-align: right;\">\n",
       "      <th></th>\n",
       "      <th>accuracy</th>\n",
       "      <th>precision</th>\n",
       "      <th>recall</th>\n",
       "      <th>f1</th>\n",
       "    </tr>\n",
       "  </thead>\n",
       "  <tbody>\n",
       "  </tbody>\n",
       "</table>\n",
       "</div>"
      ],
      "text/plain": [
       "Empty DataFrame\n",
       "Columns: [accuracy, precision, recall, f1]\n",
       "Index: []"
      ]
     },
     "execution_count": 84,
     "metadata": {},
     "output_type": "execute_result"
    }
   ],
   "source": [
    "results_df = pd.DataFrame(columns=[\"accuracy\", \"precision\", \"recall\", \"f1\"])\n",
    "results_df"
   ]
  },
  {
   "cell_type": "markdown",
   "id": "12a4e5c9",
   "metadata": {},
   "source": [
    "Create a class weight dictionary that will be used to counteract the class imbalance."
   ]
  },
  {
   "cell_type": "code",
   "execution_count": 23,
   "id": "bb13ede1",
   "metadata": {},
   "outputs": [
    {
     "data": {
      "text/plain": [
       "{0: 0.5025125628140703, 1: 100.0}"
      ]
     },
     "execution_count": 23,
     "metadata": {},
     "output_type": "execute_result"
    }
   ],
   "source": [
    "class_weights = class_weight.compute_class_weight(class_weight = \"balanced\",classes = np.unique(y_train), y = y_train)\n",
    "class_weights = dict(enumerate(class_weights))\n",
    "class_weights"
   ]
  },
  {
   "cell_type": "markdown",
   "id": "7d67652e",
   "metadata": {},
   "source": [
    "Function for printing training and validation scores."
   ]
  },
  {
   "cell_type": "code",
   "execution_count": 85,
   "id": "3ca7c159",
   "metadata": {},
   "outputs": [],
   "source": [
    "def score_print(model):\n",
    "    #Training score\n",
    "    ts = model.score(X_train, y_train).round(4)\n",
    "    #Validation score\n",
    "    vs = model.score(X_valid, y_valid).round(4)\n",
    "    print(f\"Training score is {ts} and validation score is {vs}\")"
   ]
  },
  {
   "cell_type": "markdown",
   "id": "ea447bd8",
   "metadata": {},
   "source": [
    "### Logistic Regression"
   ]
  },
  {
   "cell_type": "markdown",
   "id": "f1e26ec8",
   "metadata": {},
   "source": [
    "One of the biggest issues we have to deal with is the scale of our training dataset. We have over 1000 features which places a significant burden on our ability to evaluate an array of models and conduct parameter tuning.\n",
    "\n",
    "That's why for the first step of the modeling process, I use the `SelectFromModel` tool to reduce the number of features.\n"
   ]
  },
  {
   "cell_type": "code",
   "execution_count": null,
   "id": "1a3cd24d",
   "metadata": {},
   "outputs": [],
   "source": []
  },
  {
   "cell_type": "markdown",
   "id": "7ca0b424",
   "metadata": {},
   "source": [
    "Model on the original data to determine if there is significant drop off in performance."
   ]
  },
  {
   "cell_type": "code",
   "execution_count": 94,
   "id": "0562eda0",
   "metadata": {},
   "outputs": [
    {
     "data": {
      "text/plain": [
       "array([dtype('float64')], dtype=object)"
      ]
     },
     "execution_count": 94,
     "metadata": {},
     "output_type": "execute_result"
    }
   ],
   "source": [
    "X_train.dtypes.unique()"
   ]
  },
  {
   "cell_type": "code",
   "execution_count": null,
   "id": "73c427c6",
   "metadata": {},
   "outputs": [],
   "source": []
  },
  {
   "cell_type": "code",
   "execution_count": 95,
   "id": "eed8d009",
   "metadata": {},
   "outputs": [
    {
     "data": {
      "text/plain": [
       "LogisticRegression(C=1.0, class_weight=None, dual=False, fit_intercept=True,\n",
       "                   intercept_scaling=1, l1_ratio=None, max_iter=800,\n",
       "                   multi_class='auto', n_jobs=None, penalty='l2',\n",
       "                   random_state=1, solver='lbfgs', tol=0.0001, verbose=0,\n",
       "                   warm_start=False)"
      ]
     },
     "execution_count": 95,
     "metadata": {},
     "output_type": "execute_result"
    }
   ],
   "source": [
    "lr = LogisticRegression(max_iter=800, random_state=1)\n",
    "lr.fit(X_train, y_train)"
   ]
  },
  {
   "cell_type": "code",
   "execution_count": 96,
   "id": "e31aff45",
   "metadata": {},
   "outputs": [
    {
     "data": {
      "text/html": [
       "<div>\n",
       "<style scoped>\n",
       "    .dataframe tbody tr th:only-of-type {\n",
       "        vertical-align: middle;\n",
       "    }\n",
       "\n",
       "    .dataframe tbody tr th {\n",
       "        vertical-align: top;\n",
       "    }\n",
       "\n",
       "    .dataframe thead th {\n",
       "        text-align: right;\n",
       "    }\n",
       "</style>\n",
       "<table border=\"1\" class=\"dataframe\">\n",
       "  <thead>\n",
       "    <tr style=\"text-align: right;\">\n",
       "      <th></th>\n",
       "      <th>browser_Firefox</th>\n",
       "      <th>browser_Internet Explorer</th>\n",
       "      <th>os_MacOS</th>\n",
       "      <th>os_Ubuntu</th>\n",
       "      <th>os_Windows 10</th>\n",
       "      <th>os_Windows 7</th>\n",
       "      <th>os_Windows 8</th>\n",
       "      <th>gender_m</th>\n",
       "      <th>hour_01</th>\n",
       "      <th>hour_02</th>\n",
       "      <th>...</th>\n",
       "      <th>site_zooniverse_org</th>\n",
       "      <th>site_zooplus_nl</th>\n",
       "      <th>site_zooqle_com</th>\n",
       "      <th>site_zoup_com</th>\n",
       "      <th>site_zqlx_com</th>\n",
       "      <th>site_zradio_org</th>\n",
       "      <th>site_zscalergov_net</th>\n",
       "      <th>site_zubuchygri_com</th>\n",
       "      <th>site_zuuks_com</th>\n",
       "      <th>site_zwcloud_wang</th>\n",
       "    </tr>\n",
       "  </thead>\n",
       "  <tbody>\n",
       "    <tr>\n",
       "      <th>0</th>\n",
       "      <td>0.0</td>\n",
       "      <td>0.0</td>\n",
       "      <td>0.0</td>\n",
       "      <td>0.0</td>\n",
       "      <td>0.0</td>\n",
       "      <td>0.0</td>\n",
       "      <td>1.0</td>\n",
       "      <td>1.0</td>\n",
       "      <td>0.0</td>\n",
       "      <td>0.0</td>\n",
       "      <td>...</td>\n",
       "      <td>-0.005535</td>\n",
       "      <td>-0.005543</td>\n",
       "      <td>-0.006882</td>\n",
       "      <td>-0.006072</td>\n",
       "      <td>-0.006277</td>\n",
       "      <td>-0.006435</td>\n",
       "      <td>-0.006218</td>\n",
       "      <td>-0.005447</td>\n",
       "      <td>-0.006267</td>\n",
       "      <td>-0.005258</td>\n",
       "    </tr>\n",
       "    <tr>\n",
       "      <th>1</th>\n",
       "      <td>1.0</td>\n",
       "      <td>0.0</td>\n",
       "      <td>0.0</td>\n",
       "      <td>0.0</td>\n",
       "      <td>0.0</td>\n",
       "      <td>0.0</td>\n",
       "      <td>0.0</td>\n",
       "      <td>0.0</td>\n",
       "      <td>0.0</td>\n",
       "      <td>0.0</td>\n",
       "      <td>...</td>\n",
       "      <td>-0.005535</td>\n",
       "      <td>-0.005543</td>\n",
       "      <td>-0.006882</td>\n",
       "      <td>-0.006072</td>\n",
       "      <td>-0.006277</td>\n",
       "      <td>-0.006435</td>\n",
       "      <td>-0.006218</td>\n",
       "      <td>-0.005447</td>\n",
       "      <td>-0.006267</td>\n",
       "      <td>-0.005258</td>\n",
       "    </tr>\n",
       "    <tr>\n",
       "      <th>2</th>\n",
       "      <td>0.0</td>\n",
       "      <td>0.0</td>\n",
       "      <td>0.0</td>\n",
       "      <td>0.0</td>\n",
       "      <td>0.0</td>\n",
       "      <td>1.0</td>\n",
       "      <td>0.0</td>\n",
       "      <td>1.0</td>\n",
       "      <td>0.0</td>\n",
       "      <td>0.0</td>\n",
       "      <td>...</td>\n",
       "      <td>-0.005535</td>\n",
       "      <td>-0.005543</td>\n",
       "      <td>-0.006882</td>\n",
       "      <td>-0.006072</td>\n",
       "      <td>-0.006277</td>\n",
       "      <td>-0.006435</td>\n",
       "      <td>-0.006218</td>\n",
       "      <td>-0.005447</td>\n",
       "      <td>-0.006267</td>\n",
       "      <td>-0.005258</td>\n",
       "    </tr>\n",
       "    <tr>\n",
       "      <th>3</th>\n",
       "      <td>0.0</td>\n",
       "      <td>0.0</td>\n",
       "      <td>0.0</td>\n",
       "      <td>1.0</td>\n",
       "      <td>0.0</td>\n",
       "      <td>0.0</td>\n",
       "      <td>0.0</td>\n",
       "      <td>1.0</td>\n",
       "      <td>0.0</td>\n",
       "      <td>0.0</td>\n",
       "      <td>...</td>\n",
       "      <td>-0.005535</td>\n",
       "      <td>-0.005543</td>\n",
       "      <td>-0.006882</td>\n",
       "      <td>-0.006072</td>\n",
       "      <td>-0.006277</td>\n",
       "      <td>-0.006435</td>\n",
       "      <td>-0.006218</td>\n",
       "      <td>-0.005447</td>\n",
       "      <td>-0.006267</td>\n",
       "      <td>-0.005258</td>\n",
       "    </tr>\n",
       "    <tr>\n",
       "      <th>4</th>\n",
       "      <td>0.0</td>\n",
       "      <td>0.0</td>\n",
       "      <td>0.0</td>\n",
       "      <td>0.0</td>\n",
       "      <td>0.0</td>\n",
       "      <td>0.0</td>\n",
       "      <td>1.0</td>\n",
       "      <td>0.0</td>\n",
       "      <td>0.0</td>\n",
       "      <td>0.0</td>\n",
       "      <td>...</td>\n",
       "      <td>-0.005535</td>\n",
       "      <td>-0.005543</td>\n",
       "      <td>-0.006882</td>\n",
       "      <td>-0.006072</td>\n",
       "      <td>-0.006277</td>\n",
       "      <td>-0.006435</td>\n",
       "      <td>-0.006218</td>\n",
       "      <td>-0.005447</td>\n",
       "      <td>-0.006267</td>\n",
       "      <td>-0.005258</td>\n",
       "    </tr>\n",
       "  </tbody>\n",
       "</table>\n",
       "<p>5 rows × 3218 columns</p>\n",
       "</div>"
      ],
      "text/plain": [
       "   browser_Firefox  browser_Internet Explorer  os_MacOS  os_Ubuntu  \\\n",
       "0              0.0                        0.0       0.0        0.0   \n",
       "1              1.0                        0.0       0.0        0.0   \n",
       "2              0.0                        0.0       0.0        0.0   \n",
       "3              0.0                        0.0       0.0        1.0   \n",
       "4              0.0                        0.0       0.0        0.0   \n",
       "\n",
       "   os_Windows 10  os_Windows 7  os_Windows 8  gender_m  hour_01  hour_02  ...  \\\n",
       "0            0.0           0.0           1.0       1.0      0.0      0.0  ...   \n",
       "1            0.0           0.0           0.0       0.0      0.0      0.0  ...   \n",
       "2            0.0           1.0           0.0       1.0      0.0      0.0  ...   \n",
       "3            0.0           0.0           0.0       1.0      0.0      0.0  ...   \n",
       "4            0.0           0.0           1.0       0.0      0.0      0.0  ...   \n",
       "\n",
       "   site_zooniverse_org  site_zooplus_nl  site_zooqle_com  site_zoup_com  \\\n",
       "0            -0.005535        -0.005543        -0.006882      -0.006072   \n",
       "1            -0.005535        -0.005543        -0.006882      -0.006072   \n",
       "2            -0.005535        -0.005543        -0.006882      -0.006072   \n",
       "3            -0.005535        -0.005543        -0.006882      -0.006072   \n",
       "4            -0.005535        -0.005543        -0.006882      -0.006072   \n",
       "\n",
       "   site_zqlx_com  site_zradio_org  site_zscalergov_net  site_zubuchygri_com  \\\n",
       "0      -0.006277        -0.006435            -0.006218            -0.005447   \n",
       "1      -0.006277        -0.006435            -0.006218            -0.005447   \n",
       "2      -0.006277        -0.006435            -0.006218            -0.005447   \n",
       "3      -0.006277        -0.006435            -0.006218            -0.005447   \n",
       "4      -0.006277        -0.006435            -0.006218            -0.005447   \n",
       "\n",
       "   site_zuuks_com  site_zwcloud_wang  \n",
       "0       -0.006267          -0.005258  \n",
       "1       -0.006267          -0.005258  \n",
       "2       -0.006267          -0.005258  \n",
       "3       -0.006267          -0.005258  \n",
       "4       -0.006267          -0.005258  \n",
       "\n",
       "[5 rows x 3218 columns]"
      ]
     },
     "execution_count": 96,
     "metadata": {},
     "output_type": "execute_result"
    }
   ],
   "source": [
    "X_train.head()"
   ]
  },
  {
   "cell_type": "code",
   "execution_count": 90,
   "id": "c03c6413",
   "metadata": {},
   "outputs": [
    {
     "data": {
      "text/plain": [
       "LogisticRegression(C=1.0, class_weight=None, dual=False, fit_intercept=True,\n",
       "                   intercept_scaling=1, l1_ratio=None, max_iter=400,\n",
       "                   multi_class='auto', n_jobs=None, penalty='l2',\n",
       "                   random_state=1, solver='lbfgs', tol=0.0001, verbose=0,\n",
       "                   warm_start=False)"
      ]
     },
     "execution_count": 90,
     "metadata": {},
     "output_type": "execute_result"
    }
   ],
   "source": [
    "lr"
   ]
  },
  {
   "cell_type": "code",
   "execution_count": 91,
   "id": "040c9443",
   "metadata": {},
   "outputs": [
    {
     "data": {
      "text/plain": [
       "[]"
      ]
     },
     "execution_count": 91,
     "metadata": {},
     "output_type": "execute_result"
    }
   ],
   "source": [
    "lr.coef_"
   ]
  },
  {
   "cell_type": "code",
   "execution_count": null,
   "id": "4ae99a2f",
   "metadata": {},
   "outputs": [],
   "source": []
  },
  {
   "cell_type": "code",
   "execution_count": 97,
   "id": "84671446",
   "metadata": {},
   "outputs": [
    {
     "name": "stdout",
     "output_type": "stream",
     "text": [
      "Training score is 0.9955 and validation score is 0.9948\n"
     ]
    }
   ],
   "source": [
    "score_print(lr)"
   ]
  },
  {
   "cell_type": "code",
   "execution_count": 98,
   "id": "751eb77f",
   "metadata": {},
   "outputs": [
    {
     "data": {
      "text/plain": [
       "SelectFromModel(estimator=LogisticRegression(C=1.0, class_weight=None,\n",
       "                                             dual=False, fit_intercept=True,\n",
       "                                             intercept_scaling=1, l1_ratio=None,\n",
       "                                             max_iter=800, multi_class='auto',\n",
       "                                             n_jobs=None, penalty='l2',\n",
       "                                             random_state=1, solver='lbfgs',\n",
       "                                             tol=0.0001, verbose=0,\n",
       "                                             warm_start=False),\n",
       "                max_features=None, norm_order=1, prefit=False, threshold=None)"
      ]
     },
     "execution_count": 98,
     "metadata": {},
     "output_type": "execute_result"
    }
   ],
   "source": [
    "select = SelectFromModel(lr)\n",
    "select.fit(X_train, y_train)"
   ]
  },
  {
   "cell_type": "code",
   "execution_count": null,
   "id": "d38dd1aa",
   "metadata": {},
   "outputs": [],
   "source": []
  },
  {
   "cell_type": "markdown",
   "id": "61bbf82c",
   "metadata": {},
   "source": [
    "The number of features left over"
   ]
  },
  {
   "cell_type": "code",
   "execution_count": 99,
   "id": "d6629cae",
   "metadata": {},
   "outputs": [
    {
     "data": {
      "text/plain": [
       "399"
      ]
     },
     "execution_count": 99,
     "metadata": {},
     "output_type": "execute_result"
    }
   ],
   "source": [
    "select.get_support().sum()"
   ]
  },
  {
   "cell_type": "markdown",
   "id": "b87b39ec",
   "metadata": {},
   "source": [
    "The features we're keeping."
   ]
  },
  {
   "cell_type": "code",
   "execution_count": 100,
   "id": "56e32a68",
   "metadata": {},
   "outputs": [
    {
     "data": {
      "text/plain": [
       "Index(['browser_Internet Explorer', 'os_MacOS', 'os_Ubuntu', 'os_Windows 10',\n",
       "       'os_Windows 7', 'os_Windows 8', 'gender_m', 'hour_01', 'hour_02',\n",
       "       'hour_03',\n",
       "       ...\n",
       "       'site_xdf_cn', 'site_xlcbiftjifakbhgxjbj_co', 'site_yahoo_com',\n",
       "       'site_youtube_com', 'site_youtubekids_com', 'site_ytimg_com',\n",
       "       'site_zeny_cz', 'site_zhituibang_com', 'site_zooplus_nl',\n",
       "       'site_zradio_org'],\n",
       "      dtype='object', length=399)"
      ]
     },
     "execution_count": 100,
     "metadata": {},
     "output_type": "execute_result"
    }
   ],
   "source": [
    "keep_cols = X_train.columns[select.get_support()]\n",
    "keep_cols"
   ]
  },
  {
   "cell_type": "code",
   "execution_count": null,
   "id": "72d1b03a",
   "metadata": {},
   "outputs": [],
   "source": []
  },
  {
   "cell_type": "markdown",
   "id": "b9f8bc90",
   "metadata": {},
   "source": [
    "Transform `X_valid` using the good features\n"
   ]
  },
  {
   "cell_type": "code",
   "execution_count": 101,
   "id": "02ad49b9",
   "metadata": {},
   "outputs": [],
   "source": [
    "X_train = select.transform(X_train)\n",
    "X_valid = select.transform(X_valid)"
   ]
  },
  {
   "cell_type": "markdown",
   "id": "64d3185b",
   "metadata": {},
   "source": [
    "convert back to pandas df"
   ]
  },
  {
   "cell_type": "code",
   "execution_count": 102,
   "id": "2369686b",
   "metadata": {},
   "outputs": [],
   "source": [
    "X_train = pd.DataFrame(X_train, columns = keep_cols)\n",
    "X_valid = pd.DataFrame(X_valid, columns = keep_cols)"
   ]
  },
  {
   "cell_type": "markdown",
   "id": "4804b803",
   "metadata": {},
   "source": [
    "Save `select` object"
   ]
  },
  {
   "cell_type": "code",
   "execution_count": 32,
   "id": "9382adcd",
   "metadata": {},
   "outputs": [
    {
     "data": {
      "text/plain": [
       "['../model/feature_selector.pkl']"
      ]
     },
     "execution_count": 32,
     "metadata": {},
     "output_type": "execute_result"
    }
   ],
   "source": [
    "joblib.dump(select, filename=\"../model/feature_selector.pkl\")"
   ]
  },
  {
   "cell_type": "markdown",
   "id": "1f9d684f",
   "metadata": {},
   "source": [
    "Train model with reduced data."
   ]
  },
  {
   "cell_type": "code",
   "execution_count": 103,
   "id": "631f61fb",
   "metadata": {},
   "outputs": [
    {
     "data": {
      "text/plain": [
       "LogisticRegression(C=1.0, class_weight=None, dual=False, fit_intercept=True,\n",
       "                   intercept_scaling=1, l1_ratio=None, max_iter=800,\n",
       "                   multi_class='auto', n_jobs=None, penalty='l2',\n",
       "                   random_state=None, solver='lbfgs', tol=0.0001, verbose=0,\n",
       "                   warm_start=False)"
      ]
     },
     "execution_count": 103,
     "metadata": {},
     "output_type": "execute_result"
    }
   ],
   "source": [
    "lr = LogisticRegression(max_iter=800)\n",
    "lr.fit(X_train, y_train)"
   ]
  },
  {
   "cell_type": "code",
   "execution_count": 104,
   "id": "367b4fe0",
   "metadata": {},
   "outputs": [
    {
     "name": "stdout",
     "output_type": "stream",
     "text": [
      "Training score is 0.9953 and validation score is 0.9949\n"
     ]
    }
   ],
   "source": [
    "score_print(lr)"
   ]
  },
  {
   "cell_type": "markdown",
   "id": "8f8d6c14",
   "metadata": {},
   "source": [
    "The decision to cut out over 90% of the features is validated by the fact we didn't see a significant decrease in the training and validation scores."
   ]
  },
  {
   "cell_type": "code",
   "execution_count": null,
   "id": "e0d3ed12",
   "metadata": {},
   "outputs": [],
   "source": []
  },
  {
   "cell_type": "markdown",
   "id": "a74f120f",
   "metadata": {},
   "source": [
    "Use kfold cross validation to confirm the absence of overfitting."
   ]
  },
  {
   "cell_type": "code",
   "execution_count": 105,
   "id": "8cbd30d5",
   "metadata": {},
   "outputs": [],
   "source": [
    "ts = TimeSeriesSplit()"
   ]
  },
  {
   "cell_type": "code",
   "execution_count": 106,
   "id": "e1ab2549",
   "metadata": {},
   "outputs": [
    {
     "ename": "KeyboardInterrupt",
     "evalue": "",
     "output_type": "error",
     "traceback": [
      "\u001b[0;31m---------------------------------------------------------------------------\u001b[0m",
      "\u001b[0;31mKeyboardInterrupt\u001b[0m                         Traceback (most recent call last)",
      "Input \u001b[0;32mIn [106]\u001b[0m, in \u001b[0;36m<cell line: 3>\u001b[0;34m()\u001b[0m\n\u001b[1;32m      1\u001b[0m \u001b[38;5;66;03m#KFold Cross_validation\u001b[39;00m\n\u001b[1;32m      2\u001b[0m kf \u001b[38;5;241m=\u001b[39m KFold(n_splits\u001b[38;5;241m=\u001b[39m\u001b[38;5;241m5\u001b[39m)\n\u001b[0;32m----> 3\u001b[0m lr_cv \u001b[38;5;241m=\u001b[39m \u001b[43mcross_val_score\u001b[49m\u001b[43m(\u001b[49m\u001b[43mlr\u001b[49m\u001b[43m,\u001b[49m\u001b[43m \u001b[49m\u001b[43mX_train\u001b[49m\u001b[43m,\u001b[49m\u001b[43m \u001b[49m\u001b[43my_train\u001b[49m\u001b[43m,\u001b[49m\u001b[43m \u001b[49m\u001b[43mcv\u001b[49m\u001b[43m \u001b[49m\u001b[38;5;241;43m=\u001b[39;49m\u001b[43mts\u001b[49m\u001b[43m)\u001b[49m\n\u001b[1;32m      4\u001b[0m lr_cv\u001b[38;5;241m.\u001b[39mmean()\n",
      "File \u001b[0;32m~/projects/job_assignments/toptal/George-McIntire-2/assignment_env/lib/python3.9/site-packages/sklearn/model_selection/_validation.py:385\u001b[0m, in \u001b[0;36mcross_val_score\u001b[0;34m(estimator, X, y, groups, scoring, cv, n_jobs, verbose, fit_params, pre_dispatch, error_score)\u001b[0m\n\u001b[1;32m    382\u001b[0m \u001b[38;5;66;03m# To ensure multimetric format is not supported\u001b[39;00m\n\u001b[1;32m    383\u001b[0m scorer \u001b[38;5;241m=\u001b[39m check_scoring(estimator, scoring\u001b[38;5;241m=\u001b[39mscoring)\n\u001b[0;32m--> 385\u001b[0m cv_results \u001b[38;5;241m=\u001b[39m \u001b[43mcross_validate\u001b[49m\u001b[43m(\u001b[49m\u001b[43mestimator\u001b[49m\u001b[38;5;241;43m=\u001b[39;49m\u001b[43mestimator\u001b[49m\u001b[43m,\u001b[49m\u001b[43m \u001b[49m\u001b[43mX\u001b[49m\u001b[38;5;241;43m=\u001b[39;49m\u001b[43mX\u001b[49m\u001b[43m,\u001b[49m\u001b[43m \u001b[49m\u001b[43my\u001b[49m\u001b[38;5;241;43m=\u001b[39;49m\u001b[43my\u001b[49m\u001b[43m,\u001b[49m\u001b[43m \u001b[49m\u001b[43mgroups\u001b[49m\u001b[38;5;241;43m=\u001b[39;49m\u001b[43mgroups\u001b[49m\u001b[43m,\u001b[49m\n\u001b[1;32m    386\u001b[0m \u001b[43m                            \u001b[49m\u001b[43mscoring\u001b[49m\u001b[38;5;241;43m=\u001b[39;49m\u001b[43m{\u001b[49m\u001b[38;5;124;43m'\u001b[39;49m\u001b[38;5;124;43mscore\u001b[39;49m\u001b[38;5;124;43m'\u001b[39;49m\u001b[43m:\u001b[49m\u001b[43m \u001b[49m\u001b[43mscorer\u001b[49m\u001b[43m}\u001b[49m\u001b[43m,\u001b[49m\u001b[43m \u001b[49m\u001b[43mcv\u001b[49m\u001b[38;5;241;43m=\u001b[39;49m\u001b[43mcv\u001b[49m\u001b[43m,\u001b[49m\n\u001b[1;32m    387\u001b[0m \u001b[43m                            \u001b[49m\u001b[43mn_jobs\u001b[49m\u001b[38;5;241;43m=\u001b[39;49m\u001b[43mn_jobs\u001b[49m\u001b[43m,\u001b[49m\u001b[43m \u001b[49m\u001b[43mverbose\u001b[49m\u001b[38;5;241;43m=\u001b[39;49m\u001b[43mverbose\u001b[49m\u001b[43m,\u001b[49m\n\u001b[1;32m    388\u001b[0m \u001b[43m                            \u001b[49m\u001b[43mfit_params\u001b[49m\u001b[38;5;241;43m=\u001b[39;49m\u001b[43mfit_params\u001b[49m\u001b[43m,\u001b[49m\n\u001b[1;32m    389\u001b[0m \u001b[43m                            \u001b[49m\u001b[43mpre_dispatch\u001b[49m\u001b[38;5;241;43m=\u001b[39;49m\u001b[43mpre_dispatch\u001b[49m\u001b[43m,\u001b[49m\n\u001b[1;32m    390\u001b[0m \u001b[43m                            \u001b[49m\u001b[43merror_score\u001b[49m\u001b[38;5;241;43m=\u001b[39;49m\u001b[43merror_score\u001b[49m\u001b[43m)\u001b[49m\n\u001b[1;32m    391\u001b[0m \u001b[38;5;28;01mreturn\u001b[39;00m cv_results[\u001b[38;5;124m'\u001b[39m\u001b[38;5;124mtest_score\u001b[39m\u001b[38;5;124m'\u001b[39m]\n",
      "File \u001b[0;32m~/projects/job_assignments/toptal/George-McIntire-2/assignment_env/lib/python3.9/site-packages/sklearn/model_selection/_validation.py:230\u001b[0m, in \u001b[0;36mcross_validate\u001b[0;34m(estimator, X, y, groups, scoring, cv, n_jobs, verbose, fit_params, pre_dispatch, return_train_score, return_estimator, error_score)\u001b[0m\n\u001b[1;32m    226\u001b[0m \u001b[38;5;66;03m# We clone the estimator to make sure that all the folds are\u001b[39;00m\n\u001b[1;32m    227\u001b[0m \u001b[38;5;66;03m# independent, and that it is pickle-able.\u001b[39;00m\n\u001b[1;32m    228\u001b[0m parallel \u001b[38;5;241m=\u001b[39m Parallel(n_jobs\u001b[38;5;241m=\u001b[39mn_jobs, verbose\u001b[38;5;241m=\u001b[39mverbose,\n\u001b[1;32m    229\u001b[0m                     pre_dispatch\u001b[38;5;241m=\u001b[39mpre_dispatch)\n\u001b[0;32m--> 230\u001b[0m scores \u001b[38;5;241m=\u001b[39m \u001b[43mparallel\u001b[49m\u001b[43m(\u001b[49m\n\u001b[1;32m    231\u001b[0m \u001b[43m    \u001b[49m\u001b[43mdelayed\u001b[49m\u001b[43m(\u001b[49m\u001b[43m_fit_and_score\u001b[49m\u001b[43m)\u001b[49m\u001b[43m(\u001b[49m\n\u001b[1;32m    232\u001b[0m \u001b[43m        \u001b[49m\u001b[43mclone\u001b[49m\u001b[43m(\u001b[49m\u001b[43mestimator\u001b[49m\u001b[43m)\u001b[49m\u001b[43m,\u001b[49m\u001b[43m \u001b[49m\u001b[43mX\u001b[49m\u001b[43m,\u001b[49m\u001b[43m \u001b[49m\u001b[43my\u001b[49m\u001b[43m,\u001b[49m\u001b[43m \u001b[49m\u001b[43mscorers\u001b[49m\u001b[43m,\u001b[49m\u001b[43m \u001b[49m\u001b[43mtrain\u001b[49m\u001b[43m,\u001b[49m\u001b[43m \u001b[49m\u001b[43mtest\u001b[49m\u001b[43m,\u001b[49m\u001b[43m \u001b[49m\u001b[43mverbose\u001b[49m\u001b[43m,\u001b[49m\u001b[43m \u001b[49m\u001b[38;5;28;43;01mNone\u001b[39;49;00m\u001b[43m,\u001b[49m\n\u001b[1;32m    233\u001b[0m \u001b[43m        \u001b[49m\u001b[43mfit_params\u001b[49m\u001b[43m,\u001b[49m\u001b[43m \u001b[49m\u001b[43mreturn_train_score\u001b[49m\u001b[38;5;241;43m=\u001b[39;49m\u001b[43mreturn_train_score\u001b[49m\u001b[43m,\u001b[49m\n\u001b[1;32m    234\u001b[0m \u001b[43m        \u001b[49m\u001b[43mreturn_times\u001b[49m\u001b[38;5;241;43m=\u001b[39;49m\u001b[38;5;28;43;01mTrue\u001b[39;49;00m\u001b[43m,\u001b[49m\u001b[43m \u001b[49m\u001b[43mreturn_estimator\u001b[49m\u001b[38;5;241;43m=\u001b[39;49m\u001b[43mreturn_estimator\u001b[49m\u001b[43m,\u001b[49m\n\u001b[1;32m    235\u001b[0m \u001b[43m        \u001b[49m\u001b[43merror_score\u001b[49m\u001b[38;5;241;43m=\u001b[39;49m\u001b[43merror_score\u001b[49m\u001b[43m)\u001b[49m\n\u001b[1;32m    236\u001b[0m \u001b[43m    \u001b[49m\u001b[38;5;28;43;01mfor\u001b[39;49;00m\u001b[43m \u001b[49m\u001b[43mtrain\u001b[49m\u001b[43m,\u001b[49m\u001b[43m \u001b[49m\u001b[43mtest\u001b[49m\u001b[43m \u001b[49m\u001b[38;5;129;43;01min\u001b[39;49;00m\u001b[43m \u001b[49m\u001b[43mcv\u001b[49m\u001b[38;5;241;43m.\u001b[39;49m\u001b[43msplit\u001b[49m\u001b[43m(\u001b[49m\u001b[43mX\u001b[49m\u001b[43m,\u001b[49m\u001b[43m \u001b[49m\u001b[43my\u001b[49m\u001b[43m,\u001b[49m\u001b[43m \u001b[49m\u001b[43mgroups\u001b[49m\u001b[43m)\u001b[49m\u001b[43m)\u001b[49m\n\u001b[1;32m    238\u001b[0m zipped_scores \u001b[38;5;241m=\u001b[39m \u001b[38;5;28mlist\u001b[39m(\u001b[38;5;28mzip\u001b[39m(\u001b[38;5;241m*\u001b[39mscores))\n\u001b[1;32m    239\u001b[0m \u001b[38;5;28;01mif\u001b[39;00m return_train_score:\n",
      "File \u001b[0;32m~/projects/job_assignments/toptal/George-McIntire-2/assignment_env/lib/python3.9/site-packages/joblib/parallel.py:1046\u001b[0m, in \u001b[0;36mParallel.__call__\u001b[0;34m(self, iterable)\u001b[0m\n\u001b[1;32m   1043\u001b[0m \u001b[38;5;28;01mif\u001b[39;00m \u001b[38;5;28mself\u001b[39m\u001b[38;5;241m.\u001b[39mdispatch_one_batch(iterator):\n\u001b[1;32m   1044\u001b[0m     \u001b[38;5;28mself\u001b[39m\u001b[38;5;241m.\u001b[39m_iterating \u001b[38;5;241m=\u001b[39m \u001b[38;5;28mself\u001b[39m\u001b[38;5;241m.\u001b[39m_original_iterator \u001b[38;5;129;01mis\u001b[39;00m \u001b[38;5;129;01mnot\u001b[39;00m \u001b[38;5;28;01mNone\u001b[39;00m\n\u001b[0;32m-> 1046\u001b[0m \u001b[38;5;28;01mwhile\u001b[39;00m \u001b[38;5;28;43mself\u001b[39;49m\u001b[38;5;241;43m.\u001b[39;49m\u001b[43mdispatch_one_batch\u001b[49m\u001b[43m(\u001b[49m\u001b[43miterator\u001b[49m\u001b[43m)\u001b[49m:\n\u001b[1;32m   1047\u001b[0m     \u001b[38;5;28;01mpass\u001b[39;00m\n\u001b[1;32m   1049\u001b[0m \u001b[38;5;28;01mif\u001b[39;00m pre_dispatch \u001b[38;5;241m==\u001b[39m \u001b[38;5;124m\"\u001b[39m\u001b[38;5;124mall\u001b[39m\u001b[38;5;124m\"\u001b[39m \u001b[38;5;129;01mor\u001b[39;00m n_jobs \u001b[38;5;241m==\u001b[39m \u001b[38;5;241m1\u001b[39m:\n\u001b[1;32m   1050\u001b[0m     \u001b[38;5;66;03m# The iterable was consumed all at once by the above for loop.\u001b[39;00m\n\u001b[1;32m   1051\u001b[0m     \u001b[38;5;66;03m# No need to wait for async callbacks to trigger to\u001b[39;00m\n\u001b[1;32m   1052\u001b[0m     \u001b[38;5;66;03m# consumption.\u001b[39;00m\n",
      "File \u001b[0;32m~/projects/job_assignments/toptal/George-McIntire-2/assignment_env/lib/python3.9/site-packages/joblib/parallel.py:861\u001b[0m, in \u001b[0;36mParallel.dispatch_one_batch\u001b[0;34m(self, iterator)\u001b[0m\n\u001b[1;32m    859\u001b[0m     \u001b[38;5;28;01mreturn\u001b[39;00m \u001b[38;5;28;01mFalse\u001b[39;00m\n\u001b[1;32m    860\u001b[0m \u001b[38;5;28;01melse\u001b[39;00m:\n\u001b[0;32m--> 861\u001b[0m     \u001b[38;5;28;43mself\u001b[39;49m\u001b[38;5;241;43m.\u001b[39;49m\u001b[43m_dispatch\u001b[49m\u001b[43m(\u001b[49m\u001b[43mtasks\u001b[49m\u001b[43m)\u001b[49m\n\u001b[1;32m    862\u001b[0m     \u001b[38;5;28;01mreturn\u001b[39;00m \u001b[38;5;28;01mTrue\u001b[39;00m\n",
      "File \u001b[0;32m~/projects/job_assignments/toptal/George-McIntire-2/assignment_env/lib/python3.9/site-packages/joblib/parallel.py:779\u001b[0m, in \u001b[0;36mParallel._dispatch\u001b[0;34m(self, batch)\u001b[0m\n\u001b[1;32m    777\u001b[0m \u001b[38;5;28;01mwith\u001b[39;00m \u001b[38;5;28mself\u001b[39m\u001b[38;5;241m.\u001b[39m_lock:\n\u001b[1;32m    778\u001b[0m     job_idx \u001b[38;5;241m=\u001b[39m \u001b[38;5;28mlen\u001b[39m(\u001b[38;5;28mself\u001b[39m\u001b[38;5;241m.\u001b[39m_jobs)\n\u001b[0;32m--> 779\u001b[0m     job \u001b[38;5;241m=\u001b[39m \u001b[38;5;28;43mself\u001b[39;49m\u001b[38;5;241;43m.\u001b[39;49m\u001b[43m_backend\u001b[49m\u001b[38;5;241;43m.\u001b[39;49m\u001b[43mapply_async\u001b[49m\u001b[43m(\u001b[49m\u001b[43mbatch\u001b[49m\u001b[43m,\u001b[49m\u001b[43m \u001b[49m\u001b[43mcallback\u001b[49m\u001b[38;5;241;43m=\u001b[39;49m\u001b[43mcb\u001b[49m\u001b[43m)\u001b[49m\n\u001b[1;32m    780\u001b[0m     \u001b[38;5;66;03m# A job can complete so quickly than its callback is\u001b[39;00m\n\u001b[1;32m    781\u001b[0m     \u001b[38;5;66;03m# called before we get here, causing self._jobs to\u001b[39;00m\n\u001b[1;32m    782\u001b[0m     \u001b[38;5;66;03m# grow. To ensure correct results ordering, .insert is\u001b[39;00m\n\u001b[1;32m    783\u001b[0m     \u001b[38;5;66;03m# used (rather than .append) in the following line\u001b[39;00m\n\u001b[1;32m    784\u001b[0m     \u001b[38;5;28mself\u001b[39m\u001b[38;5;241m.\u001b[39m_jobs\u001b[38;5;241m.\u001b[39minsert(job_idx, job)\n",
      "File \u001b[0;32m~/projects/job_assignments/toptal/George-McIntire-2/assignment_env/lib/python3.9/site-packages/joblib/_parallel_backends.py:208\u001b[0m, in \u001b[0;36mSequentialBackend.apply_async\u001b[0;34m(self, func, callback)\u001b[0m\n\u001b[1;32m    206\u001b[0m \u001b[38;5;28;01mdef\u001b[39;00m \u001b[38;5;21mapply_async\u001b[39m(\u001b[38;5;28mself\u001b[39m, func, callback\u001b[38;5;241m=\u001b[39m\u001b[38;5;28;01mNone\u001b[39;00m):\n\u001b[1;32m    207\u001b[0m     \u001b[38;5;124;03m\"\"\"Schedule a func to be run\"\"\"\u001b[39;00m\n\u001b[0;32m--> 208\u001b[0m     result \u001b[38;5;241m=\u001b[39m \u001b[43mImmediateResult\u001b[49m\u001b[43m(\u001b[49m\u001b[43mfunc\u001b[49m\u001b[43m)\u001b[49m\n\u001b[1;32m    209\u001b[0m     \u001b[38;5;28;01mif\u001b[39;00m callback:\n\u001b[1;32m    210\u001b[0m         callback(result)\n",
      "File \u001b[0;32m~/projects/job_assignments/toptal/George-McIntire-2/assignment_env/lib/python3.9/site-packages/joblib/_parallel_backends.py:572\u001b[0m, in \u001b[0;36mImmediateResult.__init__\u001b[0;34m(self, batch)\u001b[0m\n\u001b[1;32m    569\u001b[0m \u001b[38;5;28;01mdef\u001b[39;00m \u001b[38;5;21m__init__\u001b[39m(\u001b[38;5;28mself\u001b[39m, batch):\n\u001b[1;32m    570\u001b[0m     \u001b[38;5;66;03m# Don't delay the application, to avoid keeping the input\u001b[39;00m\n\u001b[1;32m    571\u001b[0m     \u001b[38;5;66;03m# arguments in memory\u001b[39;00m\n\u001b[0;32m--> 572\u001b[0m     \u001b[38;5;28mself\u001b[39m\u001b[38;5;241m.\u001b[39mresults \u001b[38;5;241m=\u001b[39m \u001b[43mbatch\u001b[49m\u001b[43m(\u001b[49m\u001b[43m)\u001b[49m\n",
      "File \u001b[0;32m~/projects/job_assignments/toptal/George-McIntire-2/assignment_env/lib/python3.9/site-packages/joblib/parallel.py:262\u001b[0m, in \u001b[0;36mBatchedCalls.__call__\u001b[0;34m(self)\u001b[0m\n\u001b[1;32m    258\u001b[0m \u001b[38;5;28;01mdef\u001b[39;00m \u001b[38;5;21m__call__\u001b[39m(\u001b[38;5;28mself\u001b[39m):\n\u001b[1;32m    259\u001b[0m     \u001b[38;5;66;03m# Set the default nested backend to self._backend but do not set the\u001b[39;00m\n\u001b[1;32m    260\u001b[0m     \u001b[38;5;66;03m# change the default number of processes to -1\u001b[39;00m\n\u001b[1;32m    261\u001b[0m     \u001b[38;5;28;01mwith\u001b[39;00m parallel_backend(\u001b[38;5;28mself\u001b[39m\u001b[38;5;241m.\u001b[39m_backend, n_jobs\u001b[38;5;241m=\u001b[39m\u001b[38;5;28mself\u001b[39m\u001b[38;5;241m.\u001b[39m_n_jobs):\n\u001b[0;32m--> 262\u001b[0m         \u001b[38;5;28;01mreturn\u001b[39;00m [func(\u001b[38;5;241m*\u001b[39margs, \u001b[38;5;241m*\u001b[39m\u001b[38;5;241m*\u001b[39mkwargs)\n\u001b[1;32m    263\u001b[0m                 \u001b[38;5;28;01mfor\u001b[39;00m func, args, kwargs \u001b[38;5;129;01min\u001b[39;00m \u001b[38;5;28mself\u001b[39m\u001b[38;5;241m.\u001b[39mitems]\n",
      "File \u001b[0;32m~/projects/job_assignments/toptal/George-McIntire-2/assignment_env/lib/python3.9/site-packages/joblib/parallel.py:262\u001b[0m, in \u001b[0;36m<listcomp>\u001b[0;34m(.0)\u001b[0m\n\u001b[1;32m    258\u001b[0m \u001b[38;5;28;01mdef\u001b[39;00m \u001b[38;5;21m__call__\u001b[39m(\u001b[38;5;28mself\u001b[39m):\n\u001b[1;32m    259\u001b[0m     \u001b[38;5;66;03m# Set the default nested backend to self._backend but do not set the\u001b[39;00m\n\u001b[1;32m    260\u001b[0m     \u001b[38;5;66;03m# change the default number of processes to -1\u001b[39;00m\n\u001b[1;32m    261\u001b[0m     \u001b[38;5;28;01mwith\u001b[39;00m parallel_backend(\u001b[38;5;28mself\u001b[39m\u001b[38;5;241m.\u001b[39m_backend, n_jobs\u001b[38;5;241m=\u001b[39m\u001b[38;5;28mself\u001b[39m\u001b[38;5;241m.\u001b[39m_n_jobs):\n\u001b[0;32m--> 262\u001b[0m         \u001b[38;5;28;01mreturn\u001b[39;00m [\u001b[43mfunc\u001b[49m\u001b[43m(\u001b[49m\u001b[38;5;241;43m*\u001b[39;49m\u001b[43margs\u001b[49m\u001b[43m,\u001b[49m\u001b[43m \u001b[49m\u001b[38;5;241;43m*\u001b[39;49m\u001b[38;5;241;43m*\u001b[39;49m\u001b[43mkwargs\u001b[49m\u001b[43m)\u001b[49m\n\u001b[1;32m    263\u001b[0m                 \u001b[38;5;28;01mfor\u001b[39;00m func, args, kwargs \u001b[38;5;129;01min\u001b[39;00m \u001b[38;5;28mself\u001b[39m\u001b[38;5;241m.\u001b[39mitems]\n",
      "File \u001b[0;32m~/projects/job_assignments/toptal/George-McIntire-2/assignment_env/lib/python3.9/site-packages/sklearn/model_selection/_validation.py:515\u001b[0m, in \u001b[0;36m_fit_and_score\u001b[0;34m(estimator, X, y, scorer, train, test, verbose, parameters, fit_params, return_train_score, return_parameters, return_n_test_samples, return_times, return_estimator, error_score)\u001b[0m\n\u001b[1;32m    513\u001b[0m         estimator\u001b[38;5;241m.\u001b[39mfit(X_train, \u001b[38;5;241m*\u001b[39m\u001b[38;5;241m*\u001b[39mfit_params)\n\u001b[1;32m    514\u001b[0m     \u001b[38;5;28;01melse\u001b[39;00m:\n\u001b[0;32m--> 515\u001b[0m         \u001b[43mestimator\u001b[49m\u001b[38;5;241;43m.\u001b[39;49m\u001b[43mfit\u001b[49m\u001b[43m(\u001b[49m\u001b[43mX_train\u001b[49m\u001b[43m,\u001b[49m\u001b[43m \u001b[49m\u001b[43my_train\u001b[49m\u001b[43m,\u001b[49m\u001b[43m \u001b[49m\u001b[38;5;241;43m*\u001b[39;49m\u001b[38;5;241;43m*\u001b[39;49m\u001b[43mfit_params\u001b[49m\u001b[43m)\u001b[49m\n\u001b[1;32m    517\u001b[0m \u001b[38;5;28;01mexcept\u001b[39;00m \u001b[38;5;167;01mException\u001b[39;00m \u001b[38;5;28;01mas\u001b[39;00m e:\n\u001b[1;32m    518\u001b[0m     \u001b[38;5;66;03m# Note fit time as time until error\u001b[39;00m\n\u001b[1;32m    519\u001b[0m     fit_time \u001b[38;5;241m=\u001b[39m time\u001b[38;5;241m.\u001b[39mtime() \u001b[38;5;241m-\u001b[39m start_time\n",
      "File \u001b[0;32m~/projects/job_assignments/toptal/George-McIntire-2/assignment_env/lib/python3.9/site-packages/sklearn/linear_model/_logistic.py:1591\u001b[0m, in \u001b[0;36mLogisticRegression.fit\u001b[0;34m(self, X, y, sample_weight)\u001b[0m\n\u001b[1;32m   1589\u001b[0m \u001b[38;5;28;01melse\u001b[39;00m:\n\u001b[1;32m   1590\u001b[0m     prefer \u001b[38;5;241m=\u001b[39m \u001b[38;5;124m'\u001b[39m\u001b[38;5;124mprocesses\u001b[39m\u001b[38;5;124m'\u001b[39m\n\u001b[0;32m-> 1591\u001b[0m fold_coefs_ \u001b[38;5;241m=\u001b[39m \u001b[43mParallel\u001b[49m\u001b[43m(\u001b[49m\u001b[43mn_jobs\u001b[49m\u001b[38;5;241;43m=\u001b[39;49m\u001b[38;5;28;43mself\u001b[39;49m\u001b[38;5;241;43m.\u001b[39;49m\u001b[43mn_jobs\u001b[49m\u001b[43m,\u001b[49m\u001b[43m \u001b[49m\u001b[43mverbose\u001b[49m\u001b[38;5;241;43m=\u001b[39;49m\u001b[38;5;28;43mself\u001b[39;49m\u001b[38;5;241;43m.\u001b[39;49m\u001b[43mverbose\u001b[49m\u001b[43m,\u001b[49m\n\u001b[1;32m   1592\u001b[0m \u001b[43m                       \u001b[49m\u001b[38;5;241;43m*\u001b[39;49m\u001b[38;5;241;43m*\u001b[39;49m\u001b[43m_joblib_parallel_args\u001b[49m\u001b[43m(\u001b[49m\u001b[43mprefer\u001b[49m\u001b[38;5;241;43m=\u001b[39;49m\u001b[43mprefer\u001b[49m\u001b[43m)\u001b[49m\u001b[43m)\u001b[49m\u001b[43m(\u001b[49m\n\u001b[1;32m   1593\u001b[0m \u001b[43m    \u001b[49m\u001b[43mpath_func\u001b[49m\u001b[43m(\u001b[49m\u001b[43mX\u001b[49m\u001b[43m,\u001b[49m\u001b[43m \u001b[49m\u001b[43my\u001b[49m\u001b[43m,\u001b[49m\u001b[43m \u001b[49m\u001b[43mpos_class\u001b[49m\u001b[38;5;241;43m=\u001b[39;49m\u001b[43mclass_\u001b[49m\u001b[43m,\u001b[49m\u001b[43m \u001b[49m\u001b[43mCs\u001b[49m\u001b[38;5;241;43m=\u001b[39;49m\u001b[43m[\u001b[49m\u001b[43mC_\u001b[49m\u001b[43m]\u001b[49m\u001b[43m,\u001b[49m\n\u001b[1;32m   1594\u001b[0m \u001b[43m              \u001b[49m\u001b[43ml1_ratio\u001b[49m\u001b[38;5;241;43m=\u001b[39;49m\u001b[38;5;28;43mself\u001b[39;49m\u001b[38;5;241;43m.\u001b[39;49m\u001b[43ml1_ratio\u001b[49m\u001b[43m,\u001b[49m\u001b[43m \u001b[49m\u001b[43mfit_intercept\u001b[49m\u001b[38;5;241;43m=\u001b[39;49m\u001b[38;5;28;43mself\u001b[39;49m\u001b[38;5;241;43m.\u001b[39;49m\u001b[43mfit_intercept\u001b[49m\u001b[43m,\u001b[49m\n\u001b[1;32m   1595\u001b[0m \u001b[43m              \u001b[49m\u001b[43mtol\u001b[49m\u001b[38;5;241;43m=\u001b[39;49m\u001b[38;5;28;43mself\u001b[39;49m\u001b[38;5;241;43m.\u001b[39;49m\u001b[43mtol\u001b[49m\u001b[43m,\u001b[49m\u001b[43m \u001b[49m\u001b[43mverbose\u001b[49m\u001b[38;5;241;43m=\u001b[39;49m\u001b[38;5;28;43mself\u001b[39;49m\u001b[38;5;241;43m.\u001b[39;49m\u001b[43mverbose\u001b[49m\u001b[43m,\u001b[49m\u001b[43m \u001b[49m\u001b[43msolver\u001b[49m\u001b[38;5;241;43m=\u001b[39;49m\u001b[43msolver\u001b[49m\u001b[43m,\u001b[49m\n\u001b[1;32m   1596\u001b[0m \u001b[43m              \u001b[49m\u001b[43mmulti_class\u001b[49m\u001b[38;5;241;43m=\u001b[39;49m\u001b[43mmulti_class\u001b[49m\u001b[43m,\u001b[49m\u001b[43m \u001b[49m\u001b[43mmax_iter\u001b[49m\u001b[38;5;241;43m=\u001b[39;49m\u001b[38;5;28;43mself\u001b[39;49m\u001b[38;5;241;43m.\u001b[39;49m\u001b[43mmax_iter\u001b[49m\u001b[43m,\u001b[49m\n\u001b[1;32m   1597\u001b[0m \u001b[43m              \u001b[49m\u001b[43mclass_weight\u001b[49m\u001b[38;5;241;43m=\u001b[39;49m\u001b[38;5;28;43mself\u001b[39;49m\u001b[38;5;241;43m.\u001b[39;49m\u001b[43mclass_weight\u001b[49m\u001b[43m,\u001b[49m\u001b[43m \u001b[49m\u001b[43mcheck_input\u001b[49m\u001b[38;5;241;43m=\u001b[39;49m\u001b[38;5;28;43;01mFalse\u001b[39;49;00m\u001b[43m,\u001b[49m\n\u001b[1;32m   1598\u001b[0m \u001b[43m              \u001b[49m\u001b[43mrandom_state\u001b[49m\u001b[38;5;241;43m=\u001b[39;49m\u001b[38;5;28;43mself\u001b[39;49m\u001b[38;5;241;43m.\u001b[39;49m\u001b[43mrandom_state\u001b[49m\u001b[43m,\u001b[49m\u001b[43m \u001b[49m\u001b[43mcoef\u001b[49m\u001b[38;5;241;43m=\u001b[39;49m\u001b[43mwarm_start_coef_\u001b[49m\u001b[43m,\u001b[49m\n\u001b[1;32m   1599\u001b[0m \u001b[43m              \u001b[49m\u001b[43mpenalty\u001b[49m\u001b[38;5;241;43m=\u001b[39;49m\u001b[43mpenalty\u001b[49m\u001b[43m,\u001b[49m\u001b[43m \u001b[49m\u001b[43mmax_squared_sum\u001b[49m\u001b[38;5;241;43m=\u001b[39;49m\u001b[43mmax_squared_sum\u001b[49m\u001b[43m,\u001b[49m\n\u001b[1;32m   1600\u001b[0m \u001b[43m              \u001b[49m\u001b[43msample_weight\u001b[49m\u001b[38;5;241;43m=\u001b[39;49m\u001b[43msample_weight\u001b[49m\u001b[43m)\u001b[49m\n\u001b[1;32m   1601\u001b[0m \u001b[43m    \u001b[49m\u001b[38;5;28;43;01mfor\u001b[39;49;00m\u001b[43m \u001b[49m\u001b[43mclass_\u001b[49m\u001b[43m,\u001b[49m\u001b[43m \u001b[49m\u001b[43mwarm_start_coef_\u001b[49m\u001b[43m \u001b[49m\u001b[38;5;129;43;01min\u001b[39;49;00m\u001b[43m \u001b[49m\u001b[38;5;28;43mzip\u001b[39;49m\u001b[43m(\u001b[49m\u001b[43mclasses_\u001b[49m\u001b[43m,\u001b[49m\u001b[43m \u001b[49m\u001b[43mwarm_start_coef\u001b[49m\u001b[43m)\u001b[49m\u001b[43m)\u001b[49m\n\u001b[1;32m   1603\u001b[0m fold_coefs_, _, n_iter_ \u001b[38;5;241m=\u001b[39m \u001b[38;5;28mzip\u001b[39m(\u001b[38;5;241m*\u001b[39mfold_coefs_)\n\u001b[1;32m   1604\u001b[0m \u001b[38;5;28mself\u001b[39m\u001b[38;5;241m.\u001b[39mn_iter_ \u001b[38;5;241m=\u001b[39m np\u001b[38;5;241m.\u001b[39masarray(n_iter_, dtype\u001b[38;5;241m=\u001b[39mnp\u001b[38;5;241m.\u001b[39mint32)[:, \u001b[38;5;241m0\u001b[39m]\n",
      "File \u001b[0;32m~/projects/job_assignments/toptal/George-McIntire-2/assignment_env/lib/python3.9/site-packages/joblib/parallel.py:1043\u001b[0m, in \u001b[0;36mParallel.__call__\u001b[0;34m(self, iterable)\u001b[0m\n\u001b[1;32m   1034\u001b[0m \u001b[38;5;28;01mtry\u001b[39;00m:\n\u001b[1;32m   1035\u001b[0m     \u001b[38;5;66;03m# Only set self._iterating to True if at least a batch\u001b[39;00m\n\u001b[1;32m   1036\u001b[0m     \u001b[38;5;66;03m# was dispatched. In particular this covers the edge\u001b[39;00m\n\u001b[0;32m   (...)\u001b[0m\n\u001b[1;32m   1040\u001b[0m     \u001b[38;5;66;03m# was very quick and its callback already dispatched all the\u001b[39;00m\n\u001b[1;32m   1041\u001b[0m     \u001b[38;5;66;03m# remaining jobs.\u001b[39;00m\n\u001b[1;32m   1042\u001b[0m     \u001b[38;5;28mself\u001b[39m\u001b[38;5;241m.\u001b[39m_iterating \u001b[38;5;241m=\u001b[39m \u001b[38;5;28;01mFalse\u001b[39;00m\n\u001b[0;32m-> 1043\u001b[0m     \u001b[38;5;28;01mif\u001b[39;00m \u001b[38;5;28;43mself\u001b[39;49m\u001b[38;5;241;43m.\u001b[39;49m\u001b[43mdispatch_one_batch\u001b[49m\u001b[43m(\u001b[49m\u001b[43miterator\u001b[49m\u001b[43m)\u001b[49m:\n\u001b[1;32m   1044\u001b[0m         \u001b[38;5;28mself\u001b[39m\u001b[38;5;241m.\u001b[39m_iterating \u001b[38;5;241m=\u001b[39m \u001b[38;5;28mself\u001b[39m\u001b[38;5;241m.\u001b[39m_original_iterator \u001b[38;5;129;01mis\u001b[39;00m \u001b[38;5;129;01mnot\u001b[39;00m \u001b[38;5;28;01mNone\u001b[39;00m\n\u001b[1;32m   1046\u001b[0m     \u001b[38;5;28;01mwhile\u001b[39;00m \u001b[38;5;28mself\u001b[39m\u001b[38;5;241m.\u001b[39mdispatch_one_batch(iterator):\n",
      "File \u001b[0;32m~/projects/job_assignments/toptal/George-McIntire-2/assignment_env/lib/python3.9/site-packages/joblib/parallel.py:861\u001b[0m, in \u001b[0;36mParallel.dispatch_one_batch\u001b[0;34m(self, iterator)\u001b[0m\n\u001b[1;32m    859\u001b[0m     \u001b[38;5;28;01mreturn\u001b[39;00m \u001b[38;5;28;01mFalse\u001b[39;00m\n\u001b[1;32m    860\u001b[0m \u001b[38;5;28;01melse\u001b[39;00m:\n\u001b[0;32m--> 861\u001b[0m     \u001b[38;5;28;43mself\u001b[39;49m\u001b[38;5;241;43m.\u001b[39;49m\u001b[43m_dispatch\u001b[49m\u001b[43m(\u001b[49m\u001b[43mtasks\u001b[49m\u001b[43m)\u001b[49m\n\u001b[1;32m    862\u001b[0m     \u001b[38;5;28;01mreturn\u001b[39;00m \u001b[38;5;28;01mTrue\u001b[39;00m\n",
      "File \u001b[0;32m~/projects/job_assignments/toptal/George-McIntire-2/assignment_env/lib/python3.9/site-packages/joblib/parallel.py:779\u001b[0m, in \u001b[0;36mParallel._dispatch\u001b[0;34m(self, batch)\u001b[0m\n\u001b[1;32m    777\u001b[0m \u001b[38;5;28;01mwith\u001b[39;00m \u001b[38;5;28mself\u001b[39m\u001b[38;5;241m.\u001b[39m_lock:\n\u001b[1;32m    778\u001b[0m     job_idx \u001b[38;5;241m=\u001b[39m \u001b[38;5;28mlen\u001b[39m(\u001b[38;5;28mself\u001b[39m\u001b[38;5;241m.\u001b[39m_jobs)\n\u001b[0;32m--> 779\u001b[0m     job \u001b[38;5;241m=\u001b[39m \u001b[38;5;28;43mself\u001b[39;49m\u001b[38;5;241;43m.\u001b[39;49m\u001b[43m_backend\u001b[49m\u001b[38;5;241;43m.\u001b[39;49m\u001b[43mapply_async\u001b[49m\u001b[43m(\u001b[49m\u001b[43mbatch\u001b[49m\u001b[43m,\u001b[49m\u001b[43m \u001b[49m\u001b[43mcallback\u001b[49m\u001b[38;5;241;43m=\u001b[39;49m\u001b[43mcb\u001b[49m\u001b[43m)\u001b[49m\n\u001b[1;32m    780\u001b[0m     \u001b[38;5;66;03m# A job can complete so quickly than its callback is\u001b[39;00m\n\u001b[1;32m    781\u001b[0m     \u001b[38;5;66;03m# called before we get here, causing self._jobs to\u001b[39;00m\n\u001b[1;32m    782\u001b[0m     \u001b[38;5;66;03m# grow. To ensure correct results ordering, .insert is\u001b[39;00m\n\u001b[1;32m    783\u001b[0m     \u001b[38;5;66;03m# used (rather than .append) in the following line\u001b[39;00m\n\u001b[1;32m    784\u001b[0m     \u001b[38;5;28mself\u001b[39m\u001b[38;5;241m.\u001b[39m_jobs\u001b[38;5;241m.\u001b[39minsert(job_idx, job)\n",
      "File \u001b[0;32m~/projects/job_assignments/toptal/George-McIntire-2/assignment_env/lib/python3.9/site-packages/joblib/_parallel_backends.py:208\u001b[0m, in \u001b[0;36mSequentialBackend.apply_async\u001b[0;34m(self, func, callback)\u001b[0m\n\u001b[1;32m    206\u001b[0m \u001b[38;5;28;01mdef\u001b[39;00m \u001b[38;5;21mapply_async\u001b[39m(\u001b[38;5;28mself\u001b[39m, func, callback\u001b[38;5;241m=\u001b[39m\u001b[38;5;28;01mNone\u001b[39;00m):\n\u001b[1;32m    207\u001b[0m     \u001b[38;5;124;03m\"\"\"Schedule a func to be run\"\"\"\u001b[39;00m\n\u001b[0;32m--> 208\u001b[0m     result \u001b[38;5;241m=\u001b[39m \u001b[43mImmediateResult\u001b[49m\u001b[43m(\u001b[49m\u001b[43mfunc\u001b[49m\u001b[43m)\u001b[49m\n\u001b[1;32m    209\u001b[0m     \u001b[38;5;28;01mif\u001b[39;00m callback:\n\u001b[1;32m    210\u001b[0m         callback(result)\n",
      "File \u001b[0;32m~/projects/job_assignments/toptal/George-McIntire-2/assignment_env/lib/python3.9/site-packages/joblib/_parallel_backends.py:572\u001b[0m, in \u001b[0;36mImmediateResult.__init__\u001b[0;34m(self, batch)\u001b[0m\n\u001b[1;32m    569\u001b[0m \u001b[38;5;28;01mdef\u001b[39;00m \u001b[38;5;21m__init__\u001b[39m(\u001b[38;5;28mself\u001b[39m, batch):\n\u001b[1;32m    570\u001b[0m     \u001b[38;5;66;03m# Don't delay the application, to avoid keeping the input\u001b[39;00m\n\u001b[1;32m    571\u001b[0m     \u001b[38;5;66;03m# arguments in memory\u001b[39;00m\n\u001b[0;32m--> 572\u001b[0m     \u001b[38;5;28mself\u001b[39m\u001b[38;5;241m.\u001b[39mresults \u001b[38;5;241m=\u001b[39m \u001b[43mbatch\u001b[49m\u001b[43m(\u001b[49m\u001b[43m)\u001b[49m\n",
      "File \u001b[0;32m~/projects/job_assignments/toptal/George-McIntire-2/assignment_env/lib/python3.9/site-packages/joblib/parallel.py:262\u001b[0m, in \u001b[0;36mBatchedCalls.__call__\u001b[0;34m(self)\u001b[0m\n\u001b[1;32m    258\u001b[0m \u001b[38;5;28;01mdef\u001b[39;00m \u001b[38;5;21m__call__\u001b[39m(\u001b[38;5;28mself\u001b[39m):\n\u001b[1;32m    259\u001b[0m     \u001b[38;5;66;03m# Set the default nested backend to self._backend but do not set the\u001b[39;00m\n\u001b[1;32m    260\u001b[0m     \u001b[38;5;66;03m# change the default number of processes to -1\u001b[39;00m\n\u001b[1;32m    261\u001b[0m     \u001b[38;5;28;01mwith\u001b[39;00m parallel_backend(\u001b[38;5;28mself\u001b[39m\u001b[38;5;241m.\u001b[39m_backend, n_jobs\u001b[38;5;241m=\u001b[39m\u001b[38;5;28mself\u001b[39m\u001b[38;5;241m.\u001b[39m_n_jobs):\n\u001b[0;32m--> 262\u001b[0m         \u001b[38;5;28;01mreturn\u001b[39;00m [func(\u001b[38;5;241m*\u001b[39margs, \u001b[38;5;241m*\u001b[39m\u001b[38;5;241m*\u001b[39mkwargs)\n\u001b[1;32m    263\u001b[0m                 \u001b[38;5;28;01mfor\u001b[39;00m func, args, kwargs \u001b[38;5;129;01min\u001b[39;00m \u001b[38;5;28mself\u001b[39m\u001b[38;5;241m.\u001b[39mitems]\n",
      "File \u001b[0;32m~/projects/job_assignments/toptal/George-McIntire-2/assignment_env/lib/python3.9/site-packages/joblib/parallel.py:262\u001b[0m, in \u001b[0;36m<listcomp>\u001b[0;34m(.0)\u001b[0m\n\u001b[1;32m    258\u001b[0m \u001b[38;5;28;01mdef\u001b[39;00m \u001b[38;5;21m__call__\u001b[39m(\u001b[38;5;28mself\u001b[39m):\n\u001b[1;32m    259\u001b[0m     \u001b[38;5;66;03m# Set the default nested backend to self._backend but do not set the\u001b[39;00m\n\u001b[1;32m    260\u001b[0m     \u001b[38;5;66;03m# change the default number of processes to -1\u001b[39;00m\n\u001b[1;32m    261\u001b[0m     \u001b[38;5;28;01mwith\u001b[39;00m parallel_backend(\u001b[38;5;28mself\u001b[39m\u001b[38;5;241m.\u001b[39m_backend, n_jobs\u001b[38;5;241m=\u001b[39m\u001b[38;5;28mself\u001b[39m\u001b[38;5;241m.\u001b[39m_n_jobs):\n\u001b[0;32m--> 262\u001b[0m         \u001b[38;5;28;01mreturn\u001b[39;00m [\u001b[43mfunc\u001b[49m\u001b[43m(\u001b[49m\u001b[38;5;241;43m*\u001b[39;49m\u001b[43margs\u001b[49m\u001b[43m,\u001b[49m\u001b[43m \u001b[49m\u001b[38;5;241;43m*\u001b[39;49m\u001b[38;5;241;43m*\u001b[39;49m\u001b[43mkwargs\u001b[49m\u001b[43m)\u001b[49m\n\u001b[1;32m    263\u001b[0m                 \u001b[38;5;28;01mfor\u001b[39;00m func, args, kwargs \u001b[38;5;129;01min\u001b[39;00m \u001b[38;5;28mself\u001b[39m\u001b[38;5;241m.\u001b[39mitems]\n",
      "File \u001b[0;32m~/projects/job_assignments/toptal/George-McIntire-2/assignment_env/lib/python3.9/site-packages/sklearn/linear_model/_logistic.py:933\u001b[0m, in \u001b[0;36m_logistic_regression_path\u001b[0;34m(X, y, pos_class, Cs, fit_intercept, max_iter, tol, verbose, solver, coef, class_weight, dual, penalty, intercept_scaling, multi_class, random_state, check_input, max_squared_sum, sample_weight, l1_ratio)\u001b[0m\n\u001b[1;32m    930\u001b[0m \u001b[38;5;28;01mif\u001b[39;00m solver \u001b[38;5;241m==\u001b[39m \u001b[38;5;124m'\u001b[39m\u001b[38;5;124mlbfgs\u001b[39m\u001b[38;5;124m'\u001b[39m:\n\u001b[1;32m    931\u001b[0m     iprint \u001b[38;5;241m=\u001b[39m [\u001b[38;5;241m-\u001b[39m\u001b[38;5;241m1\u001b[39m, \u001b[38;5;241m50\u001b[39m, \u001b[38;5;241m1\u001b[39m, \u001b[38;5;241m100\u001b[39m, \u001b[38;5;241m101\u001b[39m][\n\u001b[1;32m    932\u001b[0m         np\u001b[38;5;241m.\u001b[39msearchsorted(np\u001b[38;5;241m.\u001b[39marray([\u001b[38;5;241m0\u001b[39m, \u001b[38;5;241m1\u001b[39m, \u001b[38;5;241m2\u001b[39m, \u001b[38;5;241m3\u001b[39m]), verbose)]\n\u001b[0;32m--> 933\u001b[0m     opt_res \u001b[38;5;241m=\u001b[39m \u001b[43moptimize\u001b[49m\u001b[38;5;241;43m.\u001b[39;49m\u001b[43mminimize\u001b[49m\u001b[43m(\u001b[49m\n\u001b[1;32m    934\u001b[0m \u001b[43m        \u001b[49m\u001b[43mfunc\u001b[49m\u001b[43m,\u001b[49m\u001b[43m \u001b[49m\u001b[43mw0\u001b[49m\u001b[43m,\u001b[49m\u001b[43m \u001b[49m\u001b[43mmethod\u001b[49m\u001b[38;5;241;43m=\u001b[39;49m\u001b[38;5;124;43m\"\u001b[39;49m\u001b[38;5;124;43mL-BFGS-B\u001b[39;49m\u001b[38;5;124;43m\"\u001b[39;49m\u001b[43m,\u001b[49m\u001b[43m \u001b[49m\u001b[43mjac\u001b[49m\u001b[38;5;241;43m=\u001b[39;49m\u001b[38;5;28;43;01mTrue\u001b[39;49;00m\u001b[43m,\u001b[49m\n\u001b[1;32m    935\u001b[0m \u001b[43m        \u001b[49m\u001b[43margs\u001b[49m\u001b[38;5;241;43m=\u001b[39;49m\u001b[43m(\u001b[49m\u001b[43mX\u001b[49m\u001b[43m,\u001b[49m\u001b[43m \u001b[49m\u001b[43mtarget\u001b[49m\u001b[43m,\u001b[49m\u001b[43m \u001b[49m\u001b[38;5;241;43m1.\u001b[39;49m\u001b[43m \u001b[49m\u001b[38;5;241;43m/\u001b[39;49m\u001b[43m \u001b[49m\u001b[43mC\u001b[49m\u001b[43m,\u001b[49m\u001b[43m \u001b[49m\u001b[43msample_weight\u001b[49m\u001b[43m)\u001b[49m\u001b[43m,\u001b[49m\n\u001b[1;32m    936\u001b[0m \u001b[43m        \u001b[49m\u001b[43moptions\u001b[49m\u001b[38;5;241;43m=\u001b[39;49m\u001b[43m{\u001b[49m\u001b[38;5;124;43m\"\u001b[39;49m\u001b[38;5;124;43miprint\u001b[39;49m\u001b[38;5;124;43m\"\u001b[39;49m\u001b[43m:\u001b[49m\u001b[43m \u001b[49m\u001b[43miprint\u001b[49m\u001b[43m,\u001b[49m\u001b[43m \u001b[49m\u001b[38;5;124;43m\"\u001b[39;49m\u001b[38;5;124;43mgtol\u001b[39;49m\u001b[38;5;124;43m\"\u001b[39;49m\u001b[43m:\u001b[49m\u001b[43m \u001b[49m\u001b[43mtol\u001b[49m\u001b[43m,\u001b[49m\u001b[43m \u001b[49m\u001b[38;5;124;43m\"\u001b[39;49m\u001b[38;5;124;43mmaxiter\u001b[39;49m\u001b[38;5;124;43m\"\u001b[39;49m\u001b[43m:\u001b[49m\u001b[43m \u001b[49m\u001b[43mmax_iter\u001b[49m\u001b[43m}\u001b[49m\n\u001b[1;32m    937\u001b[0m \u001b[43m    \u001b[49m\u001b[43m)\u001b[49m\n\u001b[1;32m    938\u001b[0m     n_iter_i \u001b[38;5;241m=\u001b[39m _check_optimize_result(\n\u001b[1;32m    939\u001b[0m         solver, opt_res, max_iter,\n\u001b[1;32m    940\u001b[0m         extra_warning_msg\u001b[38;5;241m=\u001b[39m_LOGISTIC_SOLVER_CONVERGENCE_MSG)\n\u001b[1;32m    941\u001b[0m     w0, loss \u001b[38;5;241m=\u001b[39m opt_res\u001b[38;5;241m.\u001b[39mx, opt_res\u001b[38;5;241m.\u001b[39mfun\n",
      "File \u001b[0;32m~/projects/job_assignments/toptal/George-McIntire-2/assignment_env/lib/python3.9/site-packages/scipy/optimize/_minimize.py:699\u001b[0m, in \u001b[0;36mminimize\u001b[0;34m(fun, x0, args, method, jac, hess, hessp, bounds, constraints, tol, callback, options)\u001b[0m\n\u001b[1;32m    696\u001b[0m     res \u001b[38;5;241m=\u001b[39m _minimize_newtoncg(fun, x0, args, jac, hess, hessp, callback,\n\u001b[1;32m    697\u001b[0m                              \u001b[38;5;241m*\u001b[39m\u001b[38;5;241m*\u001b[39moptions)\n\u001b[1;32m    698\u001b[0m \u001b[38;5;28;01melif\u001b[39;00m meth \u001b[38;5;241m==\u001b[39m \u001b[38;5;124m'\u001b[39m\u001b[38;5;124ml-bfgs-b\u001b[39m\u001b[38;5;124m'\u001b[39m:\n\u001b[0;32m--> 699\u001b[0m     res \u001b[38;5;241m=\u001b[39m \u001b[43m_minimize_lbfgsb\u001b[49m\u001b[43m(\u001b[49m\u001b[43mfun\u001b[49m\u001b[43m,\u001b[49m\u001b[43m \u001b[49m\u001b[43mx0\u001b[49m\u001b[43m,\u001b[49m\u001b[43m \u001b[49m\u001b[43margs\u001b[49m\u001b[43m,\u001b[49m\u001b[43m \u001b[49m\u001b[43mjac\u001b[49m\u001b[43m,\u001b[49m\u001b[43m \u001b[49m\u001b[43mbounds\u001b[49m\u001b[43m,\u001b[49m\n\u001b[1;32m    700\u001b[0m \u001b[43m                           \u001b[49m\u001b[43mcallback\u001b[49m\u001b[38;5;241;43m=\u001b[39;49m\u001b[43mcallback\u001b[49m\u001b[43m,\u001b[49m\u001b[43m \u001b[49m\u001b[38;5;241;43m*\u001b[39;49m\u001b[38;5;241;43m*\u001b[39;49m\u001b[43moptions\u001b[49m\u001b[43m)\u001b[49m\n\u001b[1;32m    701\u001b[0m \u001b[38;5;28;01melif\u001b[39;00m meth \u001b[38;5;241m==\u001b[39m \u001b[38;5;124m'\u001b[39m\u001b[38;5;124mtnc\u001b[39m\u001b[38;5;124m'\u001b[39m:\n\u001b[1;32m    702\u001b[0m     res \u001b[38;5;241m=\u001b[39m _minimize_tnc(fun, x0, args, jac, bounds, callback\u001b[38;5;241m=\u001b[39mcallback,\n\u001b[1;32m    703\u001b[0m                         \u001b[38;5;241m*\u001b[39m\u001b[38;5;241m*\u001b[39moptions)\n",
      "File \u001b[0;32m~/projects/job_assignments/toptal/George-McIntire-2/assignment_env/lib/python3.9/site-packages/scipy/optimize/_lbfgsb_py.py:362\u001b[0m, in \u001b[0;36m_minimize_lbfgsb\u001b[0;34m(fun, x0, args, jac, bounds, disp, maxcor, ftol, gtol, eps, maxfun, maxiter, iprint, callback, maxls, finite_diff_rel_step, **unknown_options)\u001b[0m\n\u001b[1;32m    356\u001b[0m task_str \u001b[38;5;241m=\u001b[39m task\u001b[38;5;241m.\u001b[39mtobytes()\n\u001b[1;32m    357\u001b[0m \u001b[38;5;28;01mif\u001b[39;00m task_str\u001b[38;5;241m.\u001b[39mstartswith(\u001b[38;5;124mb\u001b[39m\u001b[38;5;124m'\u001b[39m\u001b[38;5;124mFG\u001b[39m\u001b[38;5;124m'\u001b[39m):\n\u001b[1;32m    358\u001b[0m     \u001b[38;5;66;03m# The minimization routine wants f and g at the current x.\u001b[39;00m\n\u001b[1;32m    359\u001b[0m     \u001b[38;5;66;03m# Note that interruptions due to maxfun are postponed\u001b[39;00m\n\u001b[1;32m    360\u001b[0m     \u001b[38;5;66;03m# until the completion of the current minimization iteration.\u001b[39;00m\n\u001b[1;32m    361\u001b[0m     \u001b[38;5;66;03m# Overwrite f and g:\u001b[39;00m\n\u001b[0;32m--> 362\u001b[0m     f, g \u001b[38;5;241m=\u001b[39m \u001b[43mfunc_and_grad\u001b[49m\u001b[43m(\u001b[49m\u001b[43mx\u001b[49m\u001b[43m)\u001b[49m\n\u001b[1;32m    363\u001b[0m \u001b[38;5;28;01melif\u001b[39;00m task_str\u001b[38;5;241m.\u001b[39mstartswith(\u001b[38;5;124mb\u001b[39m\u001b[38;5;124m'\u001b[39m\u001b[38;5;124mNEW_X\u001b[39m\u001b[38;5;124m'\u001b[39m):\n\u001b[1;32m    364\u001b[0m     \u001b[38;5;66;03m# new iteration\u001b[39;00m\n\u001b[1;32m    365\u001b[0m     n_iterations \u001b[38;5;241m+\u001b[39m\u001b[38;5;241m=\u001b[39m \u001b[38;5;241m1\u001b[39m\n",
      "File \u001b[0;32m~/projects/job_assignments/toptal/George-McIntire-2/assignment_env/lib/python3.9/site-packages/scipy/optimize/_differentiable_functions.py:285\u001b[0m, in \u001b[0;36mScalarFunction.fun_and_grad\u001b[0;34m(self, x)\u001b[0m\n\u001b[1;32m    283\u001b[0m \u001b[38;5;28;01mif\u001b[39;00m \u001b[38;5;129;01mnot\u001b[39;00m np\u001b[38;5;241m.\u001b[39marray_equal(x, \u001b[38;5;28mself\u001b[39m\u001b[38;5;241m.\u001b[39mx):\n\u001b[1;32m    284\u001b[0m     \u001b[38;5;28mself\u001b[39m\u001b[38;5;241m.\u001b[39m_update_x_impl(x)\n\u001b[0;32m--> 285\u001b[0m \u001b[38;5;28;43mself\u001b[39;49m\u001b[38;5;241;43m.\u001b[39;49m\u001b[43m_update_fun\u001b[49m\u001b[43m(\u001b[49m\u001b[43m)\u001b[49m\n\u001b[1;32m    286\u001b[0m \u001b[38;5;28mself\u001b[39m\u001b[38;5;241m.\u001b[39m_update_grad()\n\u001b[1;32m    287\u001b[0m \u001b[38;5;28;01mreturn\u001b[39;00m \u001b[38;5;28mself\u001b[39m\u001b[38;5;241m.\u001b[39mf, \u001b[38;5;28mself\u001b[39m\u001b[38;5;241m.\u001b[39mg\n",
      "File \u001b[0;32m~/projects/job_assignments/toptal/George-McIntire-2/assignment_env/lib/python3.9/site-packages/scipy/optimize/_differentiable_functions.py:251\u001b[0m, in \u001b[0;36mScalarFunction._update_fun\u001b[0;34m(self)\u001b[0m\n\u001b[1;32m    249\u001b[0m \u001b[38;5;28;01mdef\u001b[39;00m \u001b[38;5;21m_update_fun\u001b[39m(\u001b[38;5;28mself\u001b[39m):\n\u001b[1;32m    250\u001b[0m     \u001b[38;5;28;01mif\u001b[39;00m \u001b[38;5;129;01mnot\u001b[39;00m \u001b[38;5;28mself\u001b[39m\u001b[38;5;241m.\u001b[39mf_updated:\n\u001b[0;32m--> 251\u001b[0m         \u001b[38;5;28;43mself\u001b[39;49m\u001b[38;5;241;43m.\u001b[39;49m\u001b[43m_update_fun_impl\u001b[49m\u001b[43m(\u001b[49m\u001b[43m)\u001b[49m\n\u001b[1;32m    252\u001b[0m         \u001b[38;5;28mself\u001b[39m\u001b[38;5;241m.\u001b[39mf_updated \u001b[38;5;241m=\u001b[39m \u001b[38;5;28;01mTrue\u001b[39;00m\n",
      "File \u001b[0;32m~/projects/job_assignments/toptal/George-McIntire-2/assignment_env/lib/python3.9/site-packages/scipy/optimize/_differentiable_functions.py:155\u001b[0m, in \u001b[0;36mScalarFunction.__init__.<locals>.update_fun\u001b[0;34m()\u001b[0m\n\u001b[1;32m    154\u001b[0m \u001b[38;5;28;01mdef\u001b[39;00m \u001b[38;5;21mupdate_fun\u001b[39m():\n\u001b[0;32m--> 155\u001b[0m     \u001b[38;5;28mself\u001b[39m\u001b[38;5;241m.\u001b[39mf \u001b[38;5;241m=\u001b[39m \u001b[43mfun_wrapped\u001b[49m\u001b[43m(\u001b[49m\u001b[38;5;28;43mself\u001b[39;49m\u001b[38;5;241;43m.\u001b[39;49m\u001b[43mx\u001b[49m\u001b[43m)\u001b[49m\n",
      "File \u001b[0;32m~/projects/job_assignments/toptal/George-McIntire-2/assignment_env/lib/python3.9/site-packages/scipy/optimize/_differentiable_functions.py:137\u001b[0m, in \u001b[0;36mScalarFunction.__init__.<locals>.fun_wrapped\u001b[0;34m(x)\u001b[0m\n\u001b[1;32m    133\u001b[0m \u001b[38;5;28mself\u001b[39m\u001b[38;5;241m.\u001b[39mnfev \u001b[38;5;241m+\u001b[39m\u001b[38;5;241m=\u001b[39m \u001b[38;5;241m1\u001b[39m\n\u001b[1;32m    134\u001b[0m \u001b[38;5;66;03m# Send a copy because the user may overwrite it.\u001b[39;00m\n\u001b[1;32m    135\u001b[0m \u001b[38;5;66;03m# Overwriting results in undefined behaviour because\u001b[39;00m\n\u001b[1;32m    136\u001b[0m \u001b[38;5;66;03m# fun(self.x) will change self.x, with the two no longer linked.\u001b[39;00m\n\u001b[0;32m--> 137\u001b[0m fx \u001b[38;5;241m=\u001b[39m \u001b[43mfun\u001b[49m\u001b[43m(\u001b[49m\u001b[43mnp\u001b[49m\u001b[38;5;241;43m.\u001b[39;49m\u001b[43mcopy\u001b[49m\u001b[43m(\u001b[49m\u001b[43mx\u001b[49m\u001b[43m)\u001b[49m\u001b[43m,\u001b[49m\u001b[43m \u001b[49m\u001b[38;5;241;43m*\u001b[39;49m\u001b[43margs\u001b[49m\u001b[43m)\u001b[49m\n\u001b[1;32m    138\u001b[0m \u001b[38;5;66;03m# Make sure the function returns a true scalar\u001b[39;00m\n\u001b[1;32m    139\u001b[0m \u001b[38;5;28;01mif\u001b[39;00m \u001b[38;5;129;01mnot\u001b[39;00m np\u001b[38;5;241m.\u001b[39misscalar(fx):\n",
      "File \u001b[0;32m~/projects/job_assignments/toptal/George-McIntire-2/assignment_env/lib/python3.9/site-packages/scipy/optimize/_optimize.py:76\u001b[0m, in \u001b[0;36mMemoizeJac.__call__\u001b[0;34m(self, x, *args)\u001b[0m\n\u001b[1;32m     74\u001b[0m \u001b[38;5;28;01mdef\u001b[39;00m \u001b[38;5;21m__call__\u001b[39m(\u001b[38;5;28mself\u001b[39m, x, \u001b[38;5;241m*\u001b[39margs):\n\u001b[1;32m     75\u001b[0m     \u001b[38;5;124;03m\"\"\" returns the the function value \"\"\"\u001b[39;00m\n\u001b[0;32m---> 76\u001b[0m     \u001b[38;5;28;43mself\u001b[39;49m\u001b[38;5;241;43m.\u001b[39;49m\u001b[43m_compute_if_needed\u001b[49m\u001b[43m(\u001b[49m\u001b[43mx\u001b[49m\u001b[43m,\u001b[49m\u001b[43m \u001b[49m\u001b[38;5;241;43m*\u001b[39;49m\u001b[43margs\u001b[49m\u001b[43m)\u001b[49m\n\u001b[1;32m     77\u001b[0m     \u001b[38;5;28;01mreturn\u001b[39;00m \u001b[38;5;28mself\u001b[39m\u001b[38;5;241m.\u001b[39m_value\n",
      "File \u001b[0;32m~/projects/job_assignments/toptal/George-McIntire-2/assignment_env/lib/python3.9/site-packages/scipy/optimize/_optimize.py:70\u001b[0m, in \u001b[0;36mMemoizeJac._compute_if_needed\u001b[0;34m(self, x, *args)\u001b[0m\n\u001b[1;32m     68\u001b[0m \u001b[38;5;28;01mif\u001b[39;00m \u001b[38;5;129;01mnot\u001b[39;00m np\u001b[38;5;241m.\u001b[39mall(x \u001b[38;5;241m==\u001b[39m \u001b[38;5;28mself\u001b[39m\u001b[38;5;241m.\u001b[39mx) \u001b[38;5;129;01mor\u001b[39;00m \u001b[38;5;28mself\u001b[39m\u001b[38;5;241m.\u001b[39m_value \u001b[38;5;129;01mis\u001b[39;00m \u001b[38;5;28;01mNone\u001b[39;00m \u001b[38;5;129;01mor\u001b[39;00m \u001b[38;5;28mself\u001b[39m\u001b[38;5;241m.\u001b[39mjac \u001b[38;5;129;01mis\u001b[39;00m \u001b[38;5;28;01mNone\u001b[39;00m:\n\u001b[1;32m     69\u001b[0m     \u001b[38;5;28mself\u001b[39m\u001b[38;5;241m.\u001b[39mx \u001b[38;5;241m=\u001b[39m np\u001b[38;5;241m.\u001b[39masarray(x)\u001b[38;5;241m.\u001b[39mcopy()\n\u001b[0;32m---> 70\u001b[0m     fg \u001b[38;5;241m=\u001b[39m \u001b[38;5;28;43mself\u001b[39;49m\u001b[38;5;241;43m.\u001b[39;49m\u001b[43mfun\u001b[49m\u001b[43m(\u001b[49m\u001b[43mx\u001b[49m\u001b[43m,\u001b[49m\u001b[43m \u001b[49m\u001b[38;5;241;43m*\u001b[39;49m\u001b[43margs\u001b[49m\u001b[43m)\u001b[49m\n\u001b[1;32m     71\u001b[0m     \u001b[38;5;28mself\u001b[39m\u001b[38;5;241m.\u001b[39mjac \u001b[38;5;241m=\u001b[39m fg[\u001b[38;5;241m1\u001b[39m]\n\u001b[1;32m     72\u001b[0m     \u001b[38;5;28mself\u001b[39m\u001b[38;5;241m.\u001b[39m_value \u001b[38;5;241m=\u001b[39m fg[\u001b[38;5;241m0\u001b[39m]\n",
      "File \u001b[0;32m~/projects/job_assignments/toptal/George-McIntire-2/assignment_env/lib/python3.9/site-packages/sklearn/linear_model/_logistic.py:129\u001b[0m, in \u001b[0;36m_logistic_loss_and_grad\u001b[0;34m(w, X, y, alpha, sample_weight)\u001b[0m\n\u001b[1;32m    126\u001b[0m z \u001b[38;5;241m=\u001b[39m expit(yz)\n\u001b[1;32m    127\u001b[0m z0 \u001b[38;5;241m=\u001b[39m sample_weight \u001b[38;5;241m*\u001b[39m (z \u001b[38;5;241m-\u001b[39m \u001b[38;5;241m1\u001b[39m) \u001b[38;5;241m*\u001b[39m y\n\u001b[0;32m--> 129\u001b[0m grad[:n_features] \u001b[38;5;241m=\u001b[39m \u001b[43msafe_sparse_dot\u001b[49m\u001b[43m(\u001b[49m\u001b[43mX\u001b[49m\u001b[38;5;241;43m.\u001b[39;49m\u001b[43mT\u001b[49m\u001b[43m,\u001b[49m\u001b[43m \u001b[49m\u001b[43mz0\u001b[49m\u001b[43m)\u001b[49m \u001b[38;5;241m+\u001b[39m alpha \u001b[38;5;241m*\u001b[39m w\n\u001b[1;32m    131\u001b[0m \u001b[38;5;66;03m# Case where we fit the intercept.\u001b[39;00m\n\u001b[1;32m    132\u001b[0m \u001b[38;5;28;01mif\u001b[39;00m grad\u001b[38;5;241m.\u001b[39mshape[\u001b[38;5;241m0\u001b[39m] \u001b[38;5;241m>\u001b[39m n_features:\n",
      "File \u001b[0;32m~/projects/job_assignments/toptal/George-McIntire-2/assignment_env/lib/python3.9/site-packages/sklearn/utils/extmath.py:151\u001b[0m, in \u001b[0;36msafe_sparse_dot\u001b[0;34m(a, b, dense_output)\u001b[0m\n\u001b[1;32m    149\u001b[0m         ret \u001b[38;5;241m=\u001b[39m np\u001b[38;5;241m.\u001b[39mdot(a, b)\n\u001b[1;32m    150\u001b[0m \u001b[38;5;28;01melse\u001b[39;00m:\n\u001b[0;32m--> 151\u001b[0m     ret \u001b[38;5;241m=\u001b[39m \u001b[43ma\u001b[49m\u001b[43m \u001b[49m\u001b[38;5;241;43m@\u001b[39;49m\u001b[43m \u001b[49m\u001b[43mb\u001b[49m\n\u001b[1;32m    153\u001b[0m \u001b[38;5;28;01mif\u001b[39;00m (sparse\u001b[38;5;241m.\u001b[39missparse(a) \u001b[38;5;129;01mand\u001b[39;00m sparse\u001b[38;5;241m.\u001b[39missparse(b)\n\u001b[1;32m    154\u001b[0m         \u001b[38;5;129;01mand\u001b[39;00m dense_output \u001b[38;5;129;01mand\u001b[39;00m \u001b[38;5;28mhasattr\u001b[39m(ret, \u001b[38;5;124m\"\u001b[39m\u001b[38;5;124mtoarray\u001b[39m\u001b[38;5;124m\"\u001b[39m)):\n\u001b[1;32m    155\u001b[0m     \u001b[38;5;28;01mreturn\u001b[39;00m ret\u001b[38;5;241m.\u001b[39mtoarray()\n",
      "\u001b[0;31mKeyboardInterrupt\u001b[0m: "
     ]
    }
   ],
   "source": [
    "#KFold Cross_validation\n",
    "kf = KFold(n_splits=5)\n",
    "lr_cv = cross_val_score(lr, X_train, y_train, cv =ts)\n",
    "lr_cv.mean()"
   ]
  },
  {
   "cell_type": "markdown",
   "id": "b51af12e",
   "metadata": {},
   "source": [
    "There is virtually no overfitting with our logistic regression model."
   ]
  },
  {
   "cell_type": "markdown",
   "id": "77a962e1",
   "metadata": {},
   "source": [
    "**Feature coefficients**"
   ]
  },
  {
   "cell_type": "code",
   "execution_count": 107,
   "id": "f04fe669",
   "metadata": {},
   "outputs": [],
   "source": [
    "lr_coefs = pd.Series(index=X_train.columns, data = lr.coef_[0])"
   ]
  },
  {
   "cell_type": "markdown",
   "id": "25d00bce",
   "metadata": {},
   "source": [
    "The top ten features most associated with joe sessions."
   ]
  },
  {
   "cell_type": "code",
   "execution_count": 108,
   "id": "bfd7f8ac",
   "metadata": {},
   "outputs": [
    {
     "data": {
      "text/plain": [
       "russia_software_RU            5.818250\n",
       "hour_19                       2.763302\n",
       "gender_m                      2.716001\n",
       "hour_20                       2.625901\n",
       "hour_10                       2.438092\n",
       "hour_11                       2.330513\n",
       "os_Ubuntu                     2.004885\n",
       "hour_18                       1.822491\n",
       "hour_17                       1.779255\n",
       "os_Windows 10                 1.779192\n",
       "hour_03                       1.586883\n",
       "hour_16                       1.530157\n",
       "hour_02                       1.373155\n",
       "hour_01                       1.052838\n",
       "site_vk_com                   0.163932\n",
       "site_slack_com                0.112638\n",
       "site_netflix_net              0.105415\n",
       "site_scorecardresearch_com    0.097508\n",
       "site_microsoft_com            0.093743\n",
       "site_apple_com                0.090935\n",
       "dtype: float64"
      ]
     },
     "execution_count": 108,
     "metadata": {},
     "output_type": "execute_result"
    }
   ],
   "source": [
    "lr_coefs.nlargest(20)"
   ]
  },
  {
   "cell_type": "markdown",
   "id": "b82a21bc",
   "metadata": {},
   "source": [
    "Here we get our first insight into the patterns of joe sessions. Sessions that use Russian software, orginate from either Canada or Singapore, and occur during the evening or later morning hours have a much higher chance belonging to joe. What's also interesting here is that none of the `sites` features appear in the top 15 coefficients which perhaps indicates that the actual website session logs aren't as valuable in predicting joe sessions."
   ]
  },
  {
   "cell_type": "code",
   "execution_count": null,
   "id": "1e5defb3",
   "metadata": {},
   "outputs": [],
   "source": []
  },
  {
   "cell_type": "markdown",
   "id": "bf55da57",
   "metadata": {},
   "source": [
    "The top ten features least associated with joe sessions."
   ]
  },
  {
   "cell_type": "code",
   "execution_count": 109,
   "id": "9b1057d4",
   "metadata": {},
   "outputs": [
    {
     "data": {
      "text/plain": [
       "hour_08                     -1.928891\n",
       "hour_04                     -1.814261\n",
       "hour_07                     -1.786997\n",
       "hour_21                     -1.715607\n",
       "hour_05                     -1.666496\n",
       "hour_06                     -1.611155\n",
       "hour_15                     -1.542656\n",
       "hour_14                     -1.522496\n",
       "browser_Internet Explorer   -1.267786\n",
       "os_Windows 8                -1.266790\n",
       "os_MacOS                    -1.162805\n",
       "site_aaplimg_com            -1.145471\n",
       "hour_23                     -0.820309\n",
       "hour_13                     -0.818505\n",
       "hour_09                     -0.806845\n",
       "hour_22                     -0.701960\n",
       "hour_12                     -0.455228\n",
       "site_akamai_net             -0.389942\n",
       "site_app-measurement_com    -0.229369\n",
       "site_googleapis_com         -0.165495\n",
       "dtype: float64"
      ]
     },
     "execution_count": 109,
     "metadata": {},
     "output_type": "execute_result"
    }
   ],
   "source": [
    "lr_coefs.nsmallest(20)"
   ]
  },
  {
   "cell_type": "code",
   "execution_count": null,
   "id": "299fab95",
   "metadata": {},
   "outputs": [],
   "source": []
  },
  {
   "cell_type": "markdown",
   "id": "43d478af",
   "metadata": {},
   "source": [
    "**Other metrics**\n",
    "\n",
    "In this section I evaluate the model using an other performance metrics such as precision, recall, and f1 scores."
   ]
  },
  {
   "cell_type": "code",
   "execution_count": 110,
   "id": "cf308bd2",
   "metadata": {},
   "outputs": [],
   "source": [
    "#Predict validation set\n",
    "val_preds = lr.predict(X_valid)"
   ]
  },
  {
   "cell_type": "markdown",
   "id": "1e4486d5",
   "metadata": {},
   "source": [
    "\n",
    "The `make_confusion_matrix` function imported from `utils.py` displays a visually appealing confusion matrix along with a four performance metrics."
   ]
  },
  {
   "cell_type": "code",
   "execution_count": 112,
   "id": "9d801bab",
   "metadata": {},
   "outputs": [
    {
     "data": {
      "text/html": [
       "<div>\n",
       "<style scoped>\n",
       "    .dataframe tbody tr th:only-of-type {\n",
       "        vertical-align: middle;\n",
       "    }\n",
       "\n",
       "    .dataframe tbody tr th {\n",
       "        vertical-align: top;\n",
       "    }\n",
       "\n",
       "    .dataframe thead th {\n",
       "        text-align: right;\n",
       "    }\n",
       "</style>\n",
       "<table border=\"1\" class=\"dataframe\">\n",
       "  <thead>\n",
       "    <tr style=\"text-align: right;\">\n",
       "      <th></th>\n",
       "      <th>browser_Internet Explorer</th>\n",
       "      <th>os_MacOS</th>\n",
       "      <th>os_Ubuntu</th>\n",
       "      <th>os_Windows 10</th>\n",
       "      <th>os_Windows 7</th>\n",
       "      <th>os_Windows 8</th>\n",
       "      <th>gender_m</th>\n",
       "      <th>hour_01</th>\n",
       "      <th>hour_02</th>\n",
       "      <th>hour_03</th>\n",
       "      <th>...</th>\n",
       "      <th>site_xdf_cn</th>\n",
       "      <th>site_xlcbiftjifakbhgxjbj_co</th>\n",
       "      <th>site_yahoo_com</th>\n",
       "      <th>site_youtube_com</th>\n",
       "      <th>site_youtubekids_com</th>\n",
       "      <th>site_ytimg_com</th>\n",
       "      <th>site_zeny_cz</th>\n",
       "      <th>site_zhituibang_com</th>\n",
       "      <th>site_zooplus_nl</th>\n",
       "      <th>site_zradio_org</th>\n",
       "    </tr>\n",
       "  </thead>\n",
       "  <tbody>\n",
       "    <tr>\n",
       "      <th>0</th>\n",
       "      <td>0.0</td>\n",
       "      <td>0.0</td>\n",
       "      <td>0.0</td>\n",
       "      <td>0.0</td>\n",
       "      <td>0.0</td>\n",
       "      <td>1.0</td>\n",
       "      <td>0.0</td>\n",
       "      <td>0.0</td>\n",
       "      <td>0.0</td>\n",
       "      <td>0.0</td>\n",
       "      <td>...</td>\n",
       "      <td>-0.00555</td>\n",
       "      <td>-0.005515</td>\n",
       "      <td>-0.357266</td>\n",
       "      <td>0.594080</td>\n",
       "      <td>-0.005554</td>\n",
       "      <td>-0.306446</td>\n",
       "      <td>-0.005384</td>\n",
       "      <td>-0.005307</td>\n",
       "      <td>-0.005543</td>\n",
       "      <td>-0.006435</td>\n",
       "    </tr>\n",
       "    <tr>\n",
       "      <th>1</th>\n",
       "      <td>0.0</td>\n",
       "      <td>0.0</td>\n",
       "      <td>0.0</td>\n",
       "      <td>0.0</td>\n",
       "      <td>0.0</td>\n",
       "      <td>1.0</td>\n",
       "      <td>0.0</td>\n",
       "      <td>0.0</td>\n",
       "      <td>0.0</td>\n",
       "      <td>0.0</td>\n",
       "      <td>...</td>\n",
       "      <td>-0.00555</td>\n",
       "      <td>-0.005515</td>\n",
       "      <td>-0.357266</td>\n",
       "      <td>-0.447289</td>\n",
       "      <td>-0.005554</td>\n",
       "      <td>-0.306446</td>\n",
       "      <td>-0.005384</td>\n",
       "      <td>-0.005307</td>\n",
       "      <td>-0.005543</td>\n",
       "      <td>-0.006435</td>\n",
       "    </tr>\n",
       "    <tr>\n",
       "      <th>2</th>\n",
       "      <td>0.0</td>\n",
       "      <td>0.0</td>\n",
       "      <td>0.0</td>\n",
       "      <td>1.0</td>\n",
       "      <td>0.0</td>\n",
       "      <td>0.0</td>\n",
       "      <td>0.0</td>\n",
       "      <td>0.0</td>\n",
       "      <td>0.0</td>\n",
       "      <td>0.0</td>\n",
       "      <td>...</td>\n",
       "      <td>-0.00555</td>\n",
       "      <td>-0.005515</td>\n",
       "      <td>-0.357266</td>\n",
       "      <td>-0.447289</td>\n",
       "      <td>-0.005554</td>\n",
       "      <td>-0.306446</td>\n",
       "      <td>-0.005384</td>\n",
       "      <td>-0.005307</td>\n",
       "      <td>-0.005543</td>\n",
       "      <td>-0.006435</td>\n",
       "    </tr>\n",
       "    <tr>\n",
       "      <th>3</th>\n",
       "      <td>0.0</td>\n",
       "      <td>0.0</td>\n",
       "      <td>0.0</td>\n",
       "      <td>0.0</td>\n",
       "      <td>1.0</td>\n",
       "      <td>0.0</td>\n",
       "      <td>1.0</td>\n",
       "      <td>0.0</td>\n",
       "      <td>0.0</td>\n",
       "      <td>0.0</td>\n",
       "      <td>...</td>\n",
       "      <td>-0.00555</td>\n",
       "      <td>-0.005515</td>\n",
       "      <td>1.145307</td>\n",
       "      <td>0.420262</td>\n",
       "      <td>-0.005554</td>\n",
       "      <td>-0.306446</td>\n",
       "      <td>-0.005384</td>\n",
       "      <td>-0.005307</td>\n",
       "      <td>-0.005543</td>\n",
       "      <td>-0.006435</td>\n",
       "    </tr>\n",
       "    <tr>\n",
       "      <th>4</th>\n",
       "      <td>0.0</td>\n",
       "      <td>0.0</td>\n",
       "      <td>0.0</td>\n",
       "      <td>1.0</td>\n",
       "      <td>0.0</td>\n",
       "      <td>0.0</td>\n",
       "      <td>0.0</td>\n",
       "      <td>0.0</td>\n",
       "      <td>0.0</td>\n",
       "      <td>0.0</td>\n",
       "      <td>...</td>\n",
       "      <td>-0.00555</td>\n",
       "      <td>-0.005515</td>\n",
       "      <td>-0.357266</td>\n",
       "      <td>1.214331</td>\n",
       "      <td>-0.005554</td>\n",
       "      <td>-0.306446</td>\n",
       "      <td>-0.005384</td>\n",
       "      <td>-0.005307</td>\n",
       "      <td>-0.005543</td>\n",
       "      <td>-0.006435</td>\n",
       "    </tr>\n",
       "    <tr>\n",
       "      <th>...</th>\n",
       "      <td>...</td>\n",
       "      <td>...</td>\n",
       "      <td>...</td>\n",
       "      <td>...</td>\n",
       "      <td>...</td>\n",
       "      <td>...</td>\n",
       "      <td>...</td>\n",
       "      <td>...</td>\n",
       "      <td>...</td>\n",
       "      <td>...</td>\n",
       "      <td>...</td>\n",
       "      <td>...</td>\n",
       "      <td>...</td>\n",
       "      <td>...</td>\n",
       "      <td>...</td>\n",
       "      <td>...</td>\n",
       "      <td>...</td>\n",
       "      <td>...</td>\n",
       "      <td>...</td>\n",
       "      <td>...</td>\n",
       "      <td>...</td>\n",
       "    </tr>\n",
       "    <tr>\n",
       "      <th>39995</th>\n",
       "      <td>0.0</td>\n",
       "      <td>1.0</td>\n",
       "      <td>0.0</td>\n",
       "      <td>0.0</td>\n",
       "      <td>0.0</td>\n",
       "      <td>0.0</td>\n",
       "      <td>1.0</td>\n",
       "      <td>0.0</td>\n",
       "      <td>0.0</td>\n",
       "      <td>0.0</td>\n",
       "      <td>...</td>\n",
       "      <td>-0.00555</td>\n",
       "      <td>-0.005515</td>\n",
       "      <td>-0.357266</td>\n",
       "      <td>-0.447289</td>\n",
       "      <td>-0.005554</td>\n",
       "      <td>-0.306446</td>\n",
       "      <td>-0.005384</td>\n",
       "      <td>-0.005307</td>\n",
       "      <td>-0.005543</td>\n",
       "      <td>-0.006435</td>\n",
       "    </tr>\n",
       "    <tr>\n",
       "      <th>39996</th>\n",
       "      <td>0.0</td>\n",
       "      <td>1.0</td>\n",
       "      <td>0.0</td>\n",
       "      <td>0.0</td>\n",
       "      <td>0.0</td>\n",
       "      <td>0.0</td>\n",
       "      <td>1.0</td>\n",
       "      <td>0.0</td>\n",
       "      <td>0.0</td>\n",
       "      <td>0.0</td>\n",
       "      <td>...</td>\n",
       "      <td>-0.00555</td>\n",
       "      <td>-0.005515</td>\n",
       "      <td>-0.357266</td>\n",
       "      <td>-0.447289</td>\n",
       "      <td>-0.005554</td>\n",
       "      <td>-0.306446</td>\n",
       "      <td>-0.005384</td>\n",
       "      <td>-0.005307</td>\n",
       "      <td>-0.005543</td>\n",
       "      <td>-0.006435</td>\n",
       "    </tr>\n",
       "    <tr>\n",
       "      <th>39997</th>\n",
       "      <td>0.0</td>\n",
       "      <td>1.0</td>\n",
       "      <td>0.0</td>\n",
       "      <td>0.0</td>\n",
       "      <td>0.0</td>\n",
       "      <td>0.0</td>\n",
       "      <td>1.0</td>\n",
       "      <td>0.0</td>\n",
       "      <td>0.0</td>\n",
       "      <td>0.0</td>\n",
       "      <td>...</td>\n",
       "      <td>-0.00555</td>\n",
       "      <td>-0.005515</td>\n",
       "      <td>-0.357266</td>\n",
       "      <td>-0.447289</td>\n",
       "      <td>-0.005554</td>\n",
       "      <td>-0.306446</td>\n",
       "      <td>-0.005384</td>\n",
       "      <td>-0.005307</td>\n",
       "      <td>-0.005543</td>\n",
       "      <td>-0.006435</td>\n",
       "    </tr>\n",
       "    <tr>\n",
       "      <th>39998</th>\n",
       "      <td>0.0</td>\n",
       "      <td>1.0</td>\n",
       "      <td>0.0</td>\n",
       "      <td>0.0</td>\n",
       "      <td>0.0</td>\n",
       "      <td>0.0</td>\n",
       "      <td>1.0</td>\n",
       "      <td>0.0</td>\n",
       "      <td>0.0</td>\n",
       "      <td>0.0</td>\n",
       "      <td>...</td>\n",
       "      <td>-0.00555</td>\n",
       "      <td>-0.005515</td>\n",
       "      <td>-0.357266</td>\n",
       "      <td>2.020172</td>\n",
       "      <td>-0.005554</td>\n",
       "      <td>-0.306446</td>\n",
       "      <td>-0.005384</td>\n",
       "      <td>-0.005307</td>\n",
       "      <td>-0.005543</td>\n",
       "      <td>-0.006435</td>\n",
       "    </tr>\n",
       "    <tr>\n",
       "      <th>39999</th>\n",
       "      <td>0.0</td>\n",
       "      <td>1.0</td>\n",
       "      <td>0.0</td>\n",
       "      <td>0.0</td>\n",
       "      <td>0.0</td>\n",
       "      <td>0.0</td>\n",
       "      <td>1.0</td>\n",
       "      <td>0.0</td>\n",
       "      <td>0.0</td>\n",
       "      <td>0.0</td>\n",
       "      <td>...</td>\n",
       "      <td>-0.00555</td>\n",
       "      <td>-0.005515</td>\n",
       "      <td>-0.357266</td>\n",
       "      <td>-0.447289</td>\n",
       "      <td>-0.005554</td>\n",
       "      <td>-0.306446</td>\n",
       "      <td>-0.005384</td>\n",
       "      <td>-0.005307</td>\n",
       "      <td>-0.005543</td>\n",
       "      <td>-0.006435</td>\n",
       "    </tr>\n",
       "  </tbody>\n",
       "</table>\n",
       "<p>40000 rows × 399 columns</p>\n",
       "</div>"
      ],
      "text/plain": [
       "       browser_Internet Explorer  os_MacOS  os_Ubuntu  os_Windows 10  \\\n",
       "0                            0.0       0.0        0.0            0.0   \n",
       "1                            0.0       0.0        0.0            0.0   \n",
       "2                            0.0       0.0        0.0            1.0   \n",
       "3                            0.0       0.0        0.0            0.0   \n",
       "4                            0.0       0.0        0.0            1.0   \n",
       "...                          ...       ...        ...            ...   \n",
       "39995                        0.0       1.0        0.0            0.0   \n",
       "39996                        0.0       1.0        0.0            0.0   \n",
       "39997                        0.0       1.0        0.0            0.0   \n",
       "39998                        0.0       1.0        0.0            0.0   \n",
       "39999                        0.0       1.0        0.0            0.0   \n",
       "\n",
       "       os_Windows 7  os_Windows 8  gender_m  hour_01  hour_02  hour_03  ...  \\\n",
       "0               0.0           1.0       0.0      0.0      0.0      0.0  ...   \n",
       "1               0.0           1.0       0.0      0.0      0.0      0.0  ...   \n",
       "2               0.0           0.0       0.0      0.0      0.0      0.0  ...   \n",
       "3               1.0           0.0       1.0      0.0      0.0      0.0  ...   \n",
       "4               0.0           0.0       0.0      0.0      0.0      0.0  ...   \n",
       "...             ...           ...       ...      ...      ...      ...  ...   \n",
       "39995           0.0           0.0       1.0      0.0      0.0      0.0  ...   \n",
       "39996           0.0           0.0       1.0      0.0      0.0      0.0  ...   \n",
       "39997           0.0           0.0       1.0      0.0      0.0      0.0  ...   \n",
       "39998           0.0           0.0       1.0      0.0      0.0      0.0  ...   \n",
       "39999           0.0           0.0       1.0      0.0      0.0      0.0  ...   \n",
       "\n",
       "       site_xdf_cn  site_xlcbiftjifakbhgxjbj_co  site_yahoo_com  \\\n",
       "0         -0.00555                    -0.005515       -0.357266   \n",
       "1         -0.00555                    -0.005515       -0.357266   \n",
       "2         -0.00555                    -0.005515       -0.357266   \n",
       "3         -0.00555                    -0.005515        1.145307   \n",
       "4         -0.00555                    -0.005515       -0.357266   \n",
       "...            ...                          ...             ...   \n",
       "39995     -0.00555                    -0.005515       -0.357266   \n",
       "39996     -0.00555                    -0.005515       -0.357266   \n",
       "39997     -0.00555                    -0.005515       -0.357266   \n",
       "39998     -0.00555                    -0.005515       -0.357266   \n",
       "39999     -0.00555                    -0.005515       -0.357266   \n",
       "\n",
       "       site_youtube_com  site_youtubekids_com  site_ytimg_com  site_zeny_cz  \\\n",
       "0              0.594080             -0.005554       -0.306446     -0.005384   \n",
       "1             -0.447289             -0.005554       -0.306446     -0.005384   \n",
       "2             -0.447289             -0.005554       -0.306446     -0.005384   \n",
       "3              0.420262             -0.005554       -0.306446     -0.005384   \n",
       "4              1.214331             -0.005554       -0.306446     -0.005384   \n",
       "...                 ...                   ...             ...           ...   \n",
       "39995         -0.447289             -0.005554       -0.306446     -0.005384   \n",
       "39996         -0.447289             -0.005554       -0.306446     -0.005384   \n",
       "39997         -0.447289             -0.005554       -0.306446     -0.005384   \n",
       "39998          2.020172             -0.005554       -0.306446     -0.005384   \n",
       "39999         -0.447289             -0.005554       -0.306446     -0.005384   \n",
       "\n",
       "       site_zhituibang_com  site_zooplus_nl  site_zradio_org  \n",
       "0                -0.005307        -0.005543        -0.006435  \n",
       "1                -0.005307        -0.005543        -0.006435  \n",
       "2                -0.005307        -0.005543        -0.006435  \n",
       "3                -0.005307        -0.005543        -0.006435  \n",
       "4                -0.005307        -0.005543        -0.006435  \n",
       "...                    ...              ...              ...  \n",
       "39995            -0.005307        -0.005543        -0.006435  \n",
       "39996            -0.005307        -0.005543        -0.006435  \n",
       "39997            -0.005307        -0.005543        -0.006435  \n",
       "39998            -0.005307        -0.005543        -0.006435  \n",
       "39999            -0.005307        -0.005543        -0.006435  \n",
       "\n",
       "[40000 rows x 399 columns]"
      ]
     },
     "execution_count": 112,
     "metadata": {},
     "output_type": "execute_result"
    }
   ],
   "source": [
    "X_valid"
   ]
  },
  {
   "cell_type": "code",
   "execution_count": 111,
   "id": "868886de",
   "metadata": {},
   "outputs": [
    {
     "name": "stderr",
     "output_type": "stream",
     "text": [
      "/Users/georgemcintire/projects/job_assignments/toptal/George-McIntire-2/code/utils.py:192: RuntimeWarning: invalid value encountered in double_scalars\n",
      "  f1_score  = 2*precision*recall / (precision + recall)\n"
     ]
    },
    {
     "data": {
      "image/png": "[encoded data removed]",
      "text/plain": [
       "<Figure size 460.8x345.6 with 2 Axes>"
      ]
     },
     "metadata": {
      "needs_background": "light"
     },
     "output_type": "display_data"
    }
   ],
   "source": [
    "group_names = [\"True Neg\", \"False Pos\", \"False Neg\", \"True Pos\"]\n",
    "class_names = [\"Not Joe\", \"Joe\"]\n",
    "make_confusion_matrix(y_valid, val_preds, group_names=group_names, categories=class_names, percent=False)"
   ]
  },
  {
   "cell_type": "markdown",
   "id": "ea947131",
   "metadata": {},
   "source": [
    "This results confirms demonstrates a persistent problem when dealing with imbalanced class datasets. The extremely high accuracy is not reflected in the other 3 metrics."
   ]
  },
  {
   "cell_type": "markdown",
   "id": "9b5c8728",
   "metadata": {},
   "source": [
    "Record scores into `results_df` table using the `save_results` function"
   ]
  },
  {
   "cell_type": "code",
   "execution_count": 42,
   "id": "6a9921f8",
   "metadata": {},
   "outputs": [],
   "source": [
    "def save_results(model, model_name, X_train=X_train, X_valid=X_valid, \n",
    "                                     y_train=y_train, y_valid= y_valid, thresh = None):\n",
    "    \n",
    "    #make predictions for train and validation data\n",
    "    \n",
    "    #Predictions if using threshold\n",
    "    \n",
    "    if thresh:\n",
    "        train_probs = model.predict_proba(X_train)[:, 1]\n",
    "        valid_probs = model.predict_proba(X_valid)[:, 1]\n",
    "        train_preds = np.where(train_probs>=thresh, 1, 0)\n",
    "        valid_preds = np.where(valid_probs>=thresh, 1, 0)\n",
    "        \n",
    "    else:\n",
    "        train_preds = model.predict(X_train)\n",
    "        valid_preds = model.predict(X_valid)\n",
    "    \n",
    "    train_results = []\n",
    "    valid_results = []\n",
    "    \n",
    "    #iterate over the four metrics and produce their training and validation scores\n",
    "    for metric in [accuracy_score, precision_score, recall_score, f1_score]:\n",
    "        train_results.append(metric(y_train, train_preds).round(4))\n",
    "        valid_results.append(metric(y_valid, valid_preds).round(4))\n",
    "        \n",
    "    #save results into results_df\n",
    "    \n",
    "    results_df.loc[model_name+\"_train\", :] = train_results\n",
    "    results_df.loc[model_name+\"_valid\", :] = valid_results"
   ]
  },
  {
   "cell_type": "code",
   "execution_count": 43,
   "id": "bbcbab2e",
   "metadata": {},
   "outputs": [],
   "source": [
    "save_results(lr, \"Logistic_Regression\")"
   ]
  },
  {
   "cell_type": "code",
   "execution_count": 44,
   "id": "219b5362",
   "metadata": {},
   "outputs": [
    {
     "data": {
      "text/html": [
       "<div>\n",
       "<style scoped>\n",
       "    .dataframe tbody tr th:only-of-type {\n",
       "        vertical-align: middle;\n",
       "    }\n",
       "\n",
       "    .dataframe tbody tr th {\n",
       "        vertical-align: top;\n",
       "    }\n",
       "\n",
       "    .dataframe thead th {\n",
       "        text-align: right;\n",
       "    }\n",
       "</style>\n",
       "<table border=\"1\" class=\"dataframe\">\n",
       "  <thead>\n",
       "    <tr style=\"text-align: right;\">\n",
       "      <th></th>\n",
       "      <th>accuracy</th>\n",
       "      <th>precision</th>\n",
       "      <th>recall</th>\n",
       "      <th>f1</th>\n",
       "    </tr>\n",
       "  </thead>\n",
       "  <tbody>\n",
       "    <tr>\n",
       "      <th>Logistic_Regression_train</th>\n",
       "      <td>0.9968</td>\n",
       "      <td>0.9355</td>\n",
       "      <td>0.3867</td>\n",
       "      <td>0.5472</td>\n",
       "    </tr>\n",
       "    <tr>\n",
       "      <th>Logistic_Regression_valid</th>\n",
       "      <td>0.9966</td>\n",
       "      <td>0.881</td>\n",
       "      <td>0.37</td>\n",
       "      <td>0.5211</td>\n",
       "    </tr>\n",
       "  </tbody>\n",
       "</table>\n",
       "</div>"
      ],
      "text/plain": [
       "                          accuracy precision  recall      f1\n",
       "Logistic_Regression_train   0.9968    0.9355  0.3867  0.5472\n",
       "Logistic_Regression_valid   0.9966     0.881    0.37  0.5211"
      ]
     },
     "execution_count": 44,
     "metadata": {},
     "output_type": "execute_result"
    }
   ],
   "source": [
    "results_df"
   ]
  },
  {
   "cell_type": "markdown",
   "id": "668b4a4e",
   "metadata": {},
   "source": [
    "The recall score is extremely poor and indicates that our model fails to flag almost two-thirds of joe sessions. To see if we can improve the recall score I'm going to derive the optimal probalitity threshold for the predictions."
   ]
  },
  {
   "cell_type": "code",
   "execution_count": null,
   "id": "201de4a1",
   "metadata": {},
   "outputs": [],
   "source": []
  },
  {
   "cell_type": "markdown",
   "id": "29be0b57",
   "metadata": {},
   "source": [
    "The `roc_curve_thresh` function:\n",
    "    \n",
    "    - Plots the roc curve\n",
    "    - Prints the optimal threshold, G-Mean, and AUC score.\n",
    "    - Returns the optimal threshold for use in future modeling."
   ]
  },
  {
   "cell_type": "code",
   "execution_count": 113,
   "id": "69ef30c7",
   "metadata": {},
   "outputs": [],
   "source": [
    "val_probs = lr.predict_proba(X_valid)[:, 1]"
   ]
  },
  {
   "cell_type": "code",
   "execution_count": 114,
   "id": "113fe646",
   "metadata": {},
   "outputs": [],
   "source": [
    "def roc_curve_thresh(y_test, probs):\n",
    "    fpr, tpr, thresholds = roc_curve(y_test, probs)\n",
    "    auc_score = roc_auc_score(y_test, probs)\n",
    "    # calculate the g-mean for each threshold\n",
    "    gmean = np.sqrt(tpr * (1-fpr))\n",
    "    # locate the index of the largest g-mean\n",
    "    ix = np.argmax(gmean)\n",
    "    print('Best Threshold={}, G-Mean={}, AUC={}'.format(thresholds[ix].round(4),\n",
    "                                                        gmean[ix].round(4),\n",
    "                                                         auc_score.round(4)))\n",
    "    # plot the roc curve for the model\n",
    "    plt.plot([0,1], [0,1], linestyle='--')\n",
    "    plt.plot(fpr, tpr, marker='.')\n",
    "    plt.scatter(fpr[ix], tpr[ix], marker='o', color='black', label='Best')\n",
    "    # axis labels\n",
    "    plt.xlabel('False Positive Rate')\n",
    "    plt.ylabel('True Positive Rate')\n",
    "    plt.legend()\n",
    "    # show the plot\n",
    "    plt.show()\n",
    "    return thresholds[ix]"
   ]
  },
  {
   "cell_type": "code",
   "execution_count": 115,
   "id": "c122f0ba",
   "metadata": {},
   "outputs": [
    {
     "name": "stdout",
     "output_type": "stream",
     "text": [
      "Best Threshold=0.0013, G-Mean=0.96, AUC=0.967\n"
     ]
    },
    {
     "data": {
      "image/png": "[encoded data removed]",
      "text/plain": [
       "<Figure size 432x288 with 1 Axes>"
      ]
     },
     "metadata": {
      "needs_background": "light"
     },
     "output_type": "display_data"
    }
   ],
   "source": [
    "opt_thresh = roc_curve_thresh(y_valid, val_probs)"
   ]
  },
  {
   "cell_type": "markdown",
   "id": "40774c33",
   "metadata": {},
   "source": [
    "This function outputs predictions based on a desired probability threshold."
   ]
  },
  {
   "cell_type": "code",
   "execution_count": 116,
   "id": "8ce45e05",
   "metadata": {},
   "outputs": [],
   "source": [
    "def thresh_predictor(probs, thresh):\n",
    "    return np.where(probs>=thresh, 1, 0)"
   ]
  },
  {
   "cell_type": "code",
   "execution_count": 117,
   "id": "c9eb594a",
   "metadata": {},
   "outputs": [],
   "source": [
    "#Make predictions based on \n",
    "thresh_preds = thresh_predictor(val_probs, opt_thresh)"
   ]
  },
  {
   "cell_type": "markdown",
   "id": "ea6f87b6",
   "metadata": {},
   "source": [
    "Visualize confusion matrix"
   ]
  },
  {
   "cell_type": "code",
   "execution_count": 118,
   "id": "1559e005",
   "metadata": {},
   "outputs": [
    {
     "data": {
      "image/png": "[encoded data removed]",
      "text/plain": [
       "<Figure size 432x288 with 2 Axes>"
      ]
     },
     "metadata": {
      "needs_background": "light"
     },
     "output_type": "display_data"
    }
   ],
   "source": [
    "\n",
    "make_confusion_matrix(y_valid, thresh_preds, group_names=group_names, categories=class_names, percent=False)"
   ]
  },
  {
   "cell_type": "markdown",
   "id": "3a9a78f1",
   "metadata": {},
   "source": [
    "We managed to produce a perfect recall score (to be expected) using a less strict threshold, however it came at the expense of our precision score. The low precision score indicates that not even one-fifth of our joe predictions are correct."
   ]
  },
  {
   "cell_type": "markdown",
   "id": "c5040f01",
   "metadata": {},
   "source": [
    "Save results"
   ]
  },
  {
   "cell_type": "code",
   "execution_count": 121,
   "id": "bba8f3aa",
   "metadata": {},
   "outputs": [],
   "source": [
    "# save_results(lr, \"Logistic_Regression_opt_thresh\", thresh=opt_thresh)"
   ]
  },
  {
   "cell_type": "code",
   "execution_count": 120,
   "id": "7763970e",
   "metadata": {},
   "outputs": [
    {
     "data": {
      "text/html": [
       "<div>\n",
       "<style scoped>\n",
       "    .dataframe tbody tr th:only-of-type {\n",
       "        vertical-align: middle;\n",
       "    }\n",
       "\n",
       "    .dataframe tbody tr th {\n",
       "        vertical-align: top;\n",
       "    }\n",
       "\n",
       "    .dataframe thead th {\n",
       "        text-align: right;\n",
       "    }\n",
       "</style>\n",
       "<table border=\"1\" class=\"dataframe\">\n",
       "  <thead>\n",
       "    <tr style=\"text-align: right;\">\n",
       "      <th></th>\n",
       "      <th>accuracy</th>\n",
       "      <th>precision</th>\n",
       "      <th>recall</th>\n",
       "      <th>f1</th>\n",
       "    </tr>\n",
       "  </thead>\n",
       "  <tbody>\n",
       "  </tbody>\n",
       "</table>\n",
       "</div>"
      ],
      "text/plain": [
       "Empty DataFrame\n",
       "Columns: [accuracy, precision, recall, f1]\n",
       "Index: []"
      ]
     },
     "execution_count": 120,
     "metadata": {},
     "output_type": "execute_result"
    }
   ],
   "source": [
    "results_df"
   ]
  },
  {
   "cell_type": "markdown",
   "id": "dd33a0e2",
   "metadata": {},
   "source": [
    "The imbalanced class necessitates the use of data modification techniques. The two methods I'll be using are reweighting the classes and SMOTE under-sampling."
   ]
  },
  {
   "cell_type": "markdown",
   "id": "9bb90c10",
   "metadata": {},
   "source": [
    "This next model is essentially a weighted logistic regression model, in which I tell the model weight the smaller class."
   ]
  },
  {
   "cell_type": "code",
   "execution_count": 53,
   "id": "70da6c7b",
   "metadata": {},
   "outputs": [
    {
     "data": {
      "text/plain": [
       "LogisticRegression(C=1.0, class_weight={0: 0.5025125628140703, 1: 100.0},\n",
       "                   dual=False, fit_intercept=True, intercept_scaling=1,\n",
       "                   l1_ratio=None, max_iter=300, multi_class='auto', n_jobs=None,\n",
       "                   penalty='l2', random_state=1, solver='lbfgs', tol=0.0001,\n",
       "                   verbose=0, warm_start=False)"
      ]
     },
     "execution_count": 53,
     "metadata": {},
     "output_type": "execute_result"
    }
   ],
   "source": [
    "lr_cw = LogisticRegression(max_iter= 300, class_weight=class_weights, random_state=1)\n",
    "lr_cw.fit(X_train, y_train)"
   ]
  },
  {
   "cell_type": "code",
   "execution_count": 54,
   "id": "f2c9bcbf",
   "metadata": {},
   "outputs": [
    {
     "name": "stdout",
     "output_type": "stream",
     "text": [
      "Training score is 0.9864 and validation score is 0.987\n"
     ]
    }
   ],
   "source": [
    "score_print(lr_cw)"
   ]
  },
  {
   "cell_type": "markdown",
   "id": "69c2ce68",
   "metadata": {},
   "source": [
    "Weighting the class unfortunately produces scores below the null accuracy."
   ]
  },
  {
   "cell_type": "markdown",
   "id": "2d3c13f1",
   "metadata": {},
   "source": [
    "Now let's see how it peforms based on the other metrics."
   ]
  },
  {
   "cell_type": "code",
   "execution_count": 55,
   "id": "0139e413",
   "metadata": {},
   "outputs": [
    {
     "data": {
      "image/png": "[encoded data removed]",
      "text/plain": [
       "<Figure size 432x288 with 2 Axes>"
      ]
     },
     "metadata": {
      "needs_background": "light"
     },
     "output_type": "display_data"
    }
   ],
   "source": [
    "#Predict validation set\n",
    "val_preds = lr_cw.predict(X_valid)\n",
    "\n",
    "#Confusion matrix\n",
    "make_confusion_matrix(y_valid, val_preds, group_names=group_names, categories=class_names, percent=False)\n",
    "\n"
   ]
  },
  {
   "cell_type": "markdown",
   "id": "6cf44509",
   "metadata": {},
   "source": [
    "Using weighted classes produces a near perfect recall score and a poor precision score despite an improvement. The F1 score did see improvement but remains far from satisfactory."
   ]
  },
  {
   "cell_type": "markdown",
   "id": "0c197858",
   "metadata": {},
   "source": [
    "Save results"
   ]
  },
  {
   "cell_type": "code",
   "execution_count": 56,
   "id": "17a3cc9f",
   "metadata": {},
   "outputs": [
    {
     "data": {
      "text/html": [
       "<div>\n",
       "<style scoped>\n",
       "    .dataframe tbody tr th:only-of-type {\n",
       "        vertical-align: middle;\n",
       "    }\n",
       "\n",
       "    .dataframe tbody tr th {\n",
       "        vertical-align: top;\n",
       "    }\n",
       "\n",
       "    .dataframe thead th {\n",
       "        text-align: right;\n",
       "    }\n",
       "</style>\n",
       "<table border=\"1\" class=\"dataframe\">\n",
       "  <thead>\n",
       "    <tr style=\"text-align: right;\">\n",
       "      <th></th>\n",
       "      <th>accuracy</th>\n",
       "      <th>precision</th>\n",
       "      <th>recall</th>\n",
       "      <th>f1</th>\n",
       "    </tr>\n",
       "  </thead>\n",
       "  <tbody>\n",
       "    <tr>\n",
       "      <th>Logistic_Regression_train</th>\n",
       "      <td>0.9968</td>\n",
       "      <td>0.9355</td>\n",
       "      <td>0.3867</td>\n",
       "      <td>0.5472</td>\n",
       "    </tr>\n",
       "    <tr>\n",
       "      <th>Logistic_Regression_valid</th>\n",
       "      <td>0.9966</td>\n",
       "      <td>0.881</td>\n",
       "      <td>0.37</td>\n",
       "      <td>0.5211</td>\n",
       "    </tr>\n",
       "    <tr>\n",
       "      <th>Logistic_Regression_opt_thresh_train</th>\n",
       "      <td>0.9759</td>\n",
       "      <td>0.1719</td>\n",
       "      <td>1.0</td>\n",
       "      <td>0.2933</td>\n",
       "    </tr>\n",
       "    <tr>\n",
       "      <th>Logistic_Regression_opt_thresh_valid</th>\n",
       "      <td>0.9776</td>\n",
       "      <td>0.1826</td>\n",
       "      <td>1.0</td>\n",
       "      <td>0.3089</td>\n",
       "    </tr>\n",
       "    <tr>\n",
       "      <th>Logistic_Regression_weight_class_train</th>\n",
       "      <td>0.9864</td>\n",
       "      <td>0.2682</td>\n",
       "      <td>1.0</td>\n",
       "      <td>0.423</td>\n",
       "    </tr>\n",
       "    <tr>\n",
       "      <th>Logistic_Regression_weight_class_valid</th>\n",
       "      <td>0.987</td>\n",
       "      <td>0.2775</td>\n",
       "      <td>0.995</td>\n",
       "      <td>0.434</td>\n",
       "    </tr>\n",
       "  </tbody>\n",
       "</table>\n",
       "</div>"
      ],
      "text/plain": [
       "                                       accuracy precision  recall      f1\n",
       "Logistic_Regression_train                0.9968    0.9355  0.3867  0.5472\n",
       "Logistic_Regression_valid                0.9966     0.881    0.37  0.5211\n",
       "Logistic_Regression_opt_thresh_train     0.9759    0.1719     1.0  0.2933\n",
       "Logistic_Regression_opt_thresh_valid     0.9776    0.1826     1.0  0.3089\n",
       "Logistic_Regression_weight_class_train   0.9864    0.2682     1.0   0.423\n",
       "Logistic_Regression_weight_class_valid    0.987    0.2775   0.995   0.434"
      ]
     },
     "execution_count": 56,
     "metadata": {},
     "output_type": "execute_result"
    }
   ],
   "source": [
    "save_results(lr_cw, \"Logistic_Regression_weight_class\")\n",
    "results_df"
   ]
  },
  {
   "cell_type": "markdown",
   "id": "c43876f1",
   "metadata": {},
   "source": [
    "Calculate metrics using optimal threshold"
   ]
  },
  {
   "cell_type": "code",
   "execution_count": 57,
   "id": "4d6ca583",
   "metadata": {},
   "outputs": [
    {
     "name": "stdout",
     "output_type": "stream",
     "text": [
      "Best Threshold=0.4688, G-Mean=0.9932, AUC=0.9963\n"
     ]
    },
    {
     "data": {
      "image/png": "[encoded data removed]",
      "text/plain": [
       "<Figure size 432x288 with 1 Axes>"
      ]
     },
     "metadata": {
      "needs_background": "light"
     },
     "output_type": "display_data"
    }
   ],
   "source": [
    "val_probs = lr_cw.predict_proba(X_valid)[:, 1]\n",
    "opt_thresh = roc_curve_thresh(y_valid, val_probs)"
   ]
  },
  {
   "cell_type": "code",
   "execution_count": 58,
   "id": "20255840",
   "metadata": {},
   "outputs": [
    {
     "data": {
      "image/png": "[encoded data removed]",
      "text/plain": [
       "<Figure size 432x288 with 2 Axes>"
      ]
     },
     "metadata": {
      "needs_background": "light"
     },
     "output_type": "display_data"
    }
   ],
   "source": [
    "thresh_preds = thresh_predictor(val_probs, thresh=opt_thresh)\n",
    "make_confusion_matrix(y_valid, thresh_preds,group_names=group_names, categories=class_names, percent=False)"
   ]
  },
  {
   "cell_type": "markdown",
   "id": "83949033",
   "metadata": {},
   "source": [
    "Using an optimized threshold yields a slight decrease in our precision score."
   ]
  },
  {
   "cell_type": "markdown",
   "id": "b39fc314",
   "metadata": {},
   "source": [
    "Save results"
   ]
  },
  {
   "cell_type": "code",
   "execution_count": 59,
   "id": "58d5e83e",
   "metadata": {},
   "outputs": [
    {
     "data": {
      "text/html": [
       "<div>\n",
       "<style scoped>\n",
       "    .dataframe tbody tr th:only-of-type {\n",
       "        vertical-align: middle;\n",
       "    }\n",
       "\n",
       "    .dataframe tbody tr th {\n",
       "        vertical-align: top;\n",
       "    }\n",
       "\n",
       "    .dataframe thead th {\n",
       "        text-align: right;\n",
       "    }\n",
       "</style>\n",
       "<table border=\"1\" class=\"dataframe\">\n",
       "  <thead>\n",
       "    <tr style=\"text-align: right;\">\n",
       "      <th></th>\n",
       "      <th>accuracy</th>\n",
       "      <th>precision</th>\n",
       "      <th>recall</th>\n",
       "      <th>f1</th>\n",
       "    </tr>\n",
       "  </thead>\n",
       "  <tbody>\n",
       "    <tr>\n",
       "      <th>Logistic_Regression_train</th>\n",
       "      <td>0.9968</td>\n",
       "      <td>0.9355</td>\n",
       "      <td>0.3867</td>\n",
       "      <td>0.5472</td>\n",
       "    </tr>\n",
       "    <tr>\n",
       "      <th>Logistic_Regression_valid</th>\n",
       "      <td>0.9966</td>\n",
       "      <td>0.881</td>\n",
       "      <td>0.37</td>\n",
       "      <td>0.5211</td>\n",
       "    </tr>\n",
       "    <tr>\n",
       "      <th>Logistic_Regression_opt_thresh_train</th>\n",
       "      <td>0.9759</td>\n",
       "      <td>0.1719</td>\n",
       "      <td>1.0</td>\n",
       "      <td>0.2933</td>\n",
       "    </tr>\n",
       "    <tr>\n",
       "      <th>Logistic_Regression_opt_thresh_valid</th>\n",
       "      <td>0.9776</td>\n",
       "      <td>0.1826</td>\n",
       "      <td>1.0</td>\n",
       "      <td>0.3089</td>\n",
       "    </tr>\n",
       "    <tr>\n",
       "      <th>Logistic_Regression_weight_class_train</th>\n",
       "      <td>0.9864</td>\n",
       "      <td>0.2682</td>\n",
       "      <td>1.0</td>\n",
       "      <td>0.423</td>\n",
       "    </tr>\n",
       "    <tr>\n",
       "      <th>Logistic_Regression_weight_class_valid</th>\n",
       "      <td>0.987</td>\n",
       "      <td>0.2775</td>\n",
       "      <td>0.995</td>\n",
       "      <td>0.434</td>\n",
       "    </tr>\n",
       "    <tr>\n",
       "      <th>Logistic_Regression_class_weights_opt_thresh_train</th>\n",
       "      <td>0.9859</td>\n",
       "      <td>0.262</td>\n",
       "      <td>1.0</td>\n",
       "      <td>0.4152</td>\n",
       "    </tr>\n",
       "    <tr>\n",
       "      <th>Logistic_Regression_class_weights_opt_thresh_valid</th>\n",
       "      <td>0.9864</td>\n",
       "      <td>0.2695</td>\n",
       "      <td>1.0</td>\n",
       "      <td>0.4246</td>\n",
       "    </tr>\n",
       "  </tbody>\n",
       "</table>\n",
       "</div>"
      ],
      "text/plain": [
       "                                                   accuracy precision  recall  \\\n",
       "Logistic_Regression_train                            0.9968    0.9355  0.3867   \n",
       "Logistic_Regression_valid                            0.9966     0.881    0.37   \n",
       "Logistic_Regression_opt_thresh_train                 0.9759    0.1719     1.0   \n",
       "Logistic_Regression_opt_thresh_valid                 0.9776    0.1826     1.0   \n",
       "Logistic_Regression_weight_class_train               0.9864    0.2682     1.0   \n",
       "Logistic_Regression_weight_class_valid                0.987    0.2775   0.995   \n",
       "Logistic_Regression_class_weights_opt_thresh_train   0.9859     0.262     1.0   \n",
       "Logistic_Regression_class_weights_opt_thresh_valid   0.9864    0.2695     1.0   \n",
       "\n",
       "                                                        f1  \n",
       "Logistic_Regression_train                           0.5472  \n",
       "Logistic_Regression_valid                           0.5211  \n",
       "Logistic_Regression_opt_thresh_train                0.2933  \n",
       "Logistic_Regression_opt_thresh_valid                0.3089  \n",
       "Logistic_Regression_weight_class_train               0.423  \n",
       "Logistic_Regression_weight_class_valid               0.434  \n",
       "Logistic_Regression_class_weights_opt_thresh_train  0.4152  \n",
       "Logistic_Regression_class_weights_opt_thresh_valid  0.4246  "
      ]
     },
     "execution_count": 59,
     "metadata": {},
     "output_type": "execute_result"
    }
   ],
   "source": [
    "save_results(lr_cw, \"Logistic_Regression_class_weights_opt_thresh\",thresh=opt_thresh)\n",
    "results_df"
   ]
  },
  {
   "cell_type": "markdown",
   "id": "fbc38f43",
   "metadata": {},
   "source": [
    "For the resampling section, I combine oversampling with undersampling."
   ]
  },
  {
   "cell_type": "code",
   "execution_count": 110,
   "id": "76161c54",
   "metadata": {},
   "outputs": [],
   "source": [
    "#Intialize oversampling tool\n",
    "over = SMOTE(sampling_strategy=.1, random_state=1)\n",
    "#Intialize undersampling tool\n",
    "under = RandomUnderSampler(sampling_strategy=.5, random_state=1)\n",
    "\n",
    "#Construct resampling pipeline\n",
    "imb_steps = [(\"over\", over), (\"under\", under)]\n",
    "imb_pipe = IM_Pipeline(steps=imb_steps)"
   ]
  },
  {
   "cell_type": "markdown",
   "id": "eee986b0",
   "metadata": {},
   "source": [
    "Resample the training data"
   ]
  },
  {
   "cell_type": "code",
   "execution_count": 111,
   "id": "0f30402b",
   "metadata": {},
   "outputs": [
    {
     "name": "stderr",
     "output_type": "stream",
     "text": [
      "/Users/georgemcintire/projects/job_assignments/toptal/George-McIntire-2/assignment_env/lib/python3.9/site-packages/sklearn/utils/deprecation.py:87: FutureWarning: Function safe_indexing is deprecated; safe_indexing is deprecated in version 0.22 and will be removed in version 0.24.\n",
      "  warnings.warn(msg, category=FutureWarning)\n",
      "/Users/georgemcintire/projects/job_assignments/toptal/George-McIntire-2/assignment_env/lib/python3.9/site-packages/sklearn/utils/deprecation.py:87: FutureWarning: Function safe_indexing is deprecated; safe_indexing is deprecated in version 0.22 and will be removed in version 0.24.\n",
      "  warnings.warn(msg, category=FutureWarning)\n"
     ]
    }
   ],
   "source": [
    "X_train_rs, y_train_rs = imb_pipe.fit_resample(X_train, y_train)"
   ]
  },
  {
   "cell_type": "code",
   "execution_count": 112,
   "id": "14150879",
   "metadata": {},
   "outputs": [
    {
     "data": {
      "text/plain": [
       "(35820, 83)"
      ]
     },
     "execution_count": 112,
     "metadata": {},
     "output_type": "execute_result"
    }
   ],
   "source": [
    "X_train_rs.shape"
   ]
  },
  {
   "cell_type": "code",
   "execution_count": 114,
   "id": "07ca9b0a",
   "metadata": {},
   "outputs": [
    {
     "data": {
      "text/plain": [
       "0    0.666667\n",
       "1    0.333333\n",
       "dtype: float64"
      ]
     },
     "execution_count": 114,
     "metadata": {},
     "output_type": "execute_result"
    }
   ],
   "source": [
    "pd.value_counts(y_train_rs, normalize=True)"
   ]
  },
  {
   "cell_type": "markdown",
   "id": "02ab702f",
   "metadata": {},
   "source": [
    "Due to resampling, the training data is about 20% of each original size and the null accuracy is now 66.67%"
   ]
  },
  {
   "cell_type": "code",
   "execution_count": null,
   "id": "6d9e266a",
   "metadata": {},
   "outputs": [],
   "source": []
  },
  {
   "cell_type": "markdown",
   "id": "f437d9be",
   "metadata": {},
   "source": [
    "Now repeat the modeling process with the resampled data"
   ]
  },
  {
   "cell_type": "markdown",
   "id": "4569e961",
   "metadata": {},
   "source": [
    "Train a logisitic regression model"
   ]
  },
  {
   "cell_type": "code",
   "execution_count": 115,
   "id": "8e429162",
   "metadata": {},
   "outputs": [
    {
     "data": {
      "text/plain": [
       "LogisticRegression(C=1.0, class_weight=None, dual=False, fit_intercept=True,\n",
       "                   intercept_scaling=1, l1_ratio=None, max_iter=300,\n",
       "                   multi_class='auto', n_jobs=None, penalty='l2',\n",
       "                   random_state=1, solver='lbfgs', tol=0.0001, verbose=0,\n",
       "                   warm_start=False)"
      ]
     },
     "execution_count": 115,
     "metadata": {},
     "output_type": "execute_result"
    }
   ],
   "source": [
    "lr_rs = LogisticRegression(max_iter=300, random_state=1)\n",
    "lr_rs.fit(X_train_rs, y_train_rs)"
   ]
  },
  {
   "cell_type": "code",
   "execution_count": 116,
   "id": "5b4d1783",
   "metadata": {},
   "outputs": [
    {
     "name": "stdout",
     "output_type": "stream",
     "text": [
      "Training Score = 0.9901, Validation Score = 0.9856\n"
     ]
    }
   ],
   "source": [
    "train_score = lr_rs.score(X_train_rs, y_train_rs).round(4)\n",
    "valid_score = lr_rs.score(X_valid, y_valid).round(4)\n",
    "print(f\"Training Score = {train_score}, Validation Score = {valid_score}\")"
   ]
  },
  {
   "cell_type": "markdown",
   "id": "3df466a7",
   "metadata": {},
   "source": [
    "The resampled training data does not produce accuracy scores higher than the null accuracy"
   ]
  },
  {
   "cell_type": "markdown",
   "id": "645382ef",
   "metadata": {},
   "source": [
    "Let's see how well this technique does with other metrics"
   ]
  },
  {
   "cell_type": "code",
   "execution_count": 117,
   "id": "38e7c205",
   "metadata": {},
   "outputs": [
    {
     "data": {
      "image/png": "[encoded data removed]",
      "text/plain": [
       "<Figure size 432x288 with 2 Axes>"
      ]
     },
     "metadata": {
      "needs_background": "light"
     },
     "output_type": "display_data"
    }
   ],
   "source": [
    "val_preds = lr_rs.predict(X_valid)\n",
    "\n",
    "make_confusion_matrix(y_valid, val_preds, group_names=group_names, categories=class_names, percent=False)"
   ]
  },
  {
   "cell_type": "markdown",
   "id": "8724c123",
   "metadata": {},
   "source": [
    "Resampling does produce a near perfect recall score but fails to make significant improvements in the precision and f1 scores."
   ]
  },
  {
   "cell_type": "code",
   "execution_count": 118,
   "id": "fd55b3db",
   "metadata": {},
   "outputs": [
    {
     "data": {
      "text/html": [
       "<div>\n",
       "<style scoped>\n",
       "    .dataframe tbody tr th:only-of-type {\n",
       "        vertical-align: middle;\n",
       "    }\n",
       "\n",
       "    .dataframe tbody tr th {\n",
       "        vertical-align: top;\n",
       "    }\n",
       "\n",
       "    .dataframe thead th {\n",
       "        text-align: right;\n",
       "    }\n",
       "</style>\n",
       "<table border=\"1\" class=\"dataframe\">\n",
       "  <thead>\n",
       "    <tr style=\"text-align: right;\">\n",
       "      <th></th>\n",
       "      <th>accuracy</th>\n",
       "      <th>precision</th>\n",
       "      <th>recall</th>\n",
       "      <th>f1</th>\n",
       "    </tr>\n",
       "  </thead>\n",
       "  <tbody>\n",
       "    <tr>\n",
       "      <th>Logistic_Regression_train</th>\n",
       "      <td>0.9968</td>\n",
       "      <td>0.9355</td>\n",
       "      <td>0.3867</td>\n",
       "      <td>0.5472</td>\n",
       "    </tr>\n",
       "    <tr>\n",
       "      <th>Logistic_Regression_valid</th>\n",
       "      <td>0.9966</td>\n",
       "      <td>0.881</td>\n",
       "      <td>0.37</td>\n",
       "      <td>0.5211</td>\n",
       "    </tr>\n",
       "    <tr>\n",
       "      <th>Logistic_Regression_opt_thresh_train</th>\n",
       "      <td>0.9759</td>\n",
       "      <td>0.1719</td>\n",
       "      <td>1.0</td>\n",
       "      <td>0.2933</td>\n",
       "    </tr>\n",
       "    <tr>\n",
       "      <th>Logistic_Regression_opt_thresh_valid</th>\n",
       "      <td>0.9776</td>\n",
       "      <td>0.1826</td>\n",
       "      <td>1.0</td>\n",
       "      <td>0.3089</td>\n",
       "    </tr>\n",
       "    <tr>\n",
       "      <th>Logistic_Regression_weight_class_train</th>\n",
       "      <td>0.9864</td>\n",
       "      <td>0.2682</td>\n",
       "      <td>1.0</td>\n",
       "      <td>0.423</td>\n",
       "    </tr>\n",
       "    <tr>\n",
       "      <th>Logistic_Regression_weight_class_valid</th>\n",
       "      <td>0.987</td>\n",
       "      <td>0.2775</td>\n",
       "      <td>0.995</td>\n",
       "      <td>0.434</td>\n",
       "    </tr>\n",
       "    <tr>\n",
       "      <th>Logistic_Regression_class_weights_opt_thresh_train</th>\n",
       "      <td>0.9859</td>\n",
       "      <td>0.262</td>\n",
       "      <td>1.0</td>\n",
       "      <td>0.4152</td>\n",
       "    </tr>\n",
       "    <tr>\n",
       "      <th>Logistic_Regression_class_weights_opt_thresh_valid</th>\n",
       "      <td>0.9864</td>\n",
       "      <td>0.2695</td>\n",
       "      <td>1.0</td>\n",
       "      <td>0.4246</td>\n",
       "    </tr>\n",
       "    <tr>\n",
       "      <th>Logistic_Regression_resampled_train</th>\n",
       "      <td>0.9901</td>\n",
       "      <td>0.9711</td>\n",
       "      <td>1.0</td>\n",
       "      <td>0.9854</td>\n",
       "    </tr>\n",
       "    <tr>\n",
       "      <th>Logistic_Regression_resampled_valid</th>\n",
       "      <td>0.9856</td>\n",
       "      <td>0.2558</td>\n",
       "      <td>0.985</td>\n",
       "      <td>0.4062</td>\n",
       "    </tr>\n",
       "  </tbody>\n",
       "</table>\n",
       "</div>"
      ],
      "text/plain": [
       "                                                   accuracy precision  recall  \\\n",
       "Logistic_Regression_train                            0.9968    0.9355  0.3867   \n",
       "Logistic_Regression_valid                            0.9966     0.881    0.37   \n",
       "Logistic_Regression_opt_thresh_train                 0.9759    0.1719     1.0   \n",
       "Logistic_Regression_opt_thresh_valid                 0.9776    0.1826     1.0   \n",
       "Logistic_Regression_weight_class_train               0.9864    0.2682     1.0   \n",
       "Logistic_Regression_weight_class_valid                0.987    0.2775   0.995   \n",
       "Logistic_Regression_class_weights_opt_thresh_train   0.9859     0.262     1.0   \n",
       "Logistic_Regression_class_weights_opt_thresh_valid   0.9864    0.2695     1.0   \n",
       "Logistic_Regression_resampled_train                  0.9901    0.9711     1.0   \n",
       "Logistic_Regression_resampled_valid                  0.9856    0.2558   0.985   \n",
       "\n",
       "                                                        f1  \n",
       "Logistic_Regression_train                           0.5472  \n",
       "Logistic_Regression_valid                           0.5211  \n",
       "Logistic_Regression_opt_thresh_train                0.2933  \n",
       "Logistic_Regression_opt_thresh_valid                0.3089  \n",
       "Logistic_Regression_weight_class_train               0.423  \n",
       "Logistic_Regression_weight_class_valid               0.434  \n",
       "Logistic_Regression_class_weights_opt_thresh_train  0.4152  \n",
       "Logistic_Regression_class_weights_opt_thresh_valid  0.4246  \n",
       "Logistic_Regression_resampled_train                 0.9854  \n",
       "Logistic_Regression_resampled_valid                 0.4062  "
      ]
     },
     "execution_count": 118,
     "metadata": {},
     "output_type": "execute_result"
    }
   ],
   "source": [
    "save_results(lr_rs, \"Logistic_Regression_resampled\", X_train=X_train_rs, y_train=y_train_rs)\n",
    "results_df"
   ]
  },
  {
   "cell_type": "markdown",
   "id": "550e19fe",
   "metadata": {},
   "source": [
    "The logistic regression resampled model is the first one to demonstrate significant overfitting as shown by the gulf between the training and validation precision and f1 scores."
   ]
  },
  {
   "cell_type": "code",
   "execution_count": 119,
   "id": "5e5c4d0b",
   "metadata": {},
   "outputs": [
    {
     "name": "stdout",
     "output_type": "stream",
     "text": [
      "Best Threshold=0.2896, G-Mean=0.9908, AUC=0.9964\n"
     ]
    },
    {
     "data": {
      "image/png": "[encoded data removed]",
      "text/plain": [
       "<Figure size 432x288 with 1 Axes>"
      ]
     },
     "metadata": {
      "needs_background": "light"
     },
     "output_type": "display_data"
    }
   ],
   "source": [
    "val_probs = lr_rs.predict_proba(X_valid)[:, 1]\n",
    "opt_thresh = roc_curve_thresh(y_valid, val_probs)"
   ]
  },
  {
   "cell_type": "code",
   "execution_count": 120,
   "id": "c1279aa5",
   "metadata": {},
   "outputs": [
    {
     "data": {
      "image/png": "[encoded data removed]",
      "text/plain": [
       "<Figure size 432x288 with 2 Axes>"
      ]
     },
     "metadata": {
      "needs_background": "light"
     },
     "output_type": "display_data"
    }
   ],
   "source": [
    "thresh_preds = thresh_predictor(val_probs, thresh=opt_thresh)\n",
    "make_confusion_matrix(y_valid, thresh_preds,group_names=group_names, categories=class_names, percent=False)"
   ]
  },
  {
   "cell_type": "markdown",
   "id": "9d3a68fe",
   "metadata": {},
   "source": [
    "Using an optimized threshold only decreases our precision and f1 scores."
   ]
  },
  {
   "cell_type": "code",
   "execution_count": 121,
   "id": "091f966d",
   "metadata": {},
   "outputs": [
    {
     "data": {
      "text/html": [
       "<div>\n",
       "<style scoped>\n",
       "    .dataframe tbody tr th:only-of-type {\n",
       "        vertical-align: middle;\n",
       "    }\n",
       "\n",
       "    .dataframe tbody tr th {\n",
       "        vertical-align: top;\n",
       "    }\n",
       "\n",
       "    .dataframe thead th {\n",
       "        text-align: right;\n",
       "    }\n",
       "</style>\n",
       "<table border=\"1\" class=\"dataframe\">\n",
       "  <thead>\n",
       "    <tr style=\"text-align: right;\">\n",
       "      <th></th>\n",
       "      <th>accuracy</th>\n",
       "      <th>precision</th>\n",
       "      <th>recall</th>\n",
       "      <th>f1</th>\n",
       "    </tr>\n",
       "  </thead>\n",
       "  <tbody>\n",
       "    <tr>\n",
       "      <th>Logistic_Regression_train</th>\n",
       "      <td>0.9968</td>\n",
       "      <td>0.9355</td>\n",
       "      <td>0.3867</td>\n",
       "      <td>0.5472</td>\n",
       "    </tr>\n",
       "    <tr>\n",
       "      <th>Logistic_Regression_valid</th>\n",
       "      <td>0.9966</td>\n",
       "      <td>0.881</td>\n",
       "      <td>0.37</td>\n",
       "      <td>0.5211</td>\n",
       "    </tr>\n",
       "    <tr>\n",
       "      <th>Logistic_Regression_opt_thresh_train</th>\n",
       "      <td>0.9759</td>\n",
       "      <td>0.1719</td>\n",
       "      <td>1.0</td>\n",
       "      <td>0.2933</td>\n",
       "    </tr>\n",
       "    <tr>\n",
       "      <th>Logistic_Regression_opt_thresh_valid</th>\n",
       "      <td>0.9776</td>\n",
       "      <td>0.1826</td>\n",
       "      <td>1.0</td>\n",
       "      <td>0.3089</td>\n",
       "    </tr>\n",
       "    <tr>\n",
       "      <th>Logistic_Regression_weight_class_train</th>\n",
       "      <td>0.9864</td>\n",
       "      <td>0.2682</td>\n",
       "      <td>1.0</td>\n",
       "      <td>0.423</td>\n",
       "    </tr>\n",
       "    <tr>\n",
       "      <th>Logistic_Regression_weight_class_valid</th>\n",
       "      <td>0.987</td>\n",
       "      <td>0.2775</td>\n",
       "      <td>0.995</td>\n",
       "      <td>0.434</td>\n",
       "    </tr>\n",
       "    <tr>\n",
       "      <th>Logistic_Regression_class_weights_opt_thresh_train</th>\n",
       "      <td>0.9859</td>\n",
       "      <td>0.262</td>\n",
       "      <td>1.0</td>\n",
       "      <td>0.4152</td>\n",
       "    </tr>\n",
       "    <tr>\n",
       "      <th>Logistic_Regression_class_weights_opt_thresh_valid</th>\n",
       "      <td>0.9864</td>\n",
       "      <td>0.2695</td>\n",
       "      <td>1.0</td>\n",
       "      <td>0.4246</td>\n",
       "    </tr>\n",
       "    <tr>\n",
       "      <th>Logistic_Regression_resampled_train</th>\n",
       "      <td>0.9901</td>\n",
       "      <td>0.9711</td>\n",
       "      <td>1.0</td>\n",
       "      <td>0.9854</td>\n",
       "    </tr>\n",
       "    <tr>\n",
       "      <th>Logistic_Regression_resampled_valid</th>\n",
       "      <td>0.9856</td>\n",
       "      <td>0.2558</td>\n",
       "      <td>0.985</td>\n",
       "      <td>0.4062</td>\n",
       "    </tr>\n",
       "    <tr>\n",
       "      <th>Logistic_Regression_resampled_opt_thresh_train</th>\n",
       "      <td>0.9869</td>\n",
       "      <td>0.9622</td>\n",
       "      <td>1.0</td>\n",
       "      <td>0.9807</td>\n",
       "    </tr>\n",
       "    <tr>\n",
       "      <th>Logistic_Regression_resampled_opt_thresh_valid</th>\n",
       "      <td>0.9818</td>\n",
       "      <td>0.216</td>\n",
       "      <td>1.0</td>\n",
       "      <td>0.3552</td>\n",
       "    </tr>\n",
       "  </tbody>\n",
       "</table>\n",
       "</div>"
      ],
      "text/plain": [
       "                                                   accuracy precision  recall  \\\n",
       "Logistic_Regression_train                            0.9968    0.9355  0.3867   \n",
       "Logistic_Regression_valid                            0.9966     0.881    0.37   \n",
       "Logistic_Regression_opt_thresh_train                 0.9759    0.1719     1.0   \n",
       "Logistic_Regression_opt_thresh_valid                 0.9776    0.1826     1.0   \n",
       "Logistic_Regression_weight_class_train               0.9864    0.2682     1.0   \n",
       "Logistic_Regression_weight_class_valid                0.987    0.2775   0.995   \n",
       "Logistic_Regression_class_weights_opt_thresh_train   0.9859     0.262     1.0   \n",
       "Logistic_Regression_class_weights_opt_thresh_valid   0.9864    0.2695     1.0   \n",
       "Logistic_Regression_resampled_train                  0.9901    0.9711     1.0   \n",
       "Logistic_Regression_resampled_valid                  0.9856    0.2558   0.985   \n",
       "Logistic_Regression_resampled_opt_thresh_train       0.9869    0.9622     1.0   \n",
       "Logistic_Regression_resampled_opt_thresh_valid       0.9818     0.216     1.0   \n",
       "\n",
       "                                                        f1  \n",
       "Logistic_Regression_train                           0.5472  \n",
       "Logistic_Regression_valid                           0.5211  \n",
       "Logistic_Regression_opt_thresh_train                0.2933  \n",
       "Logistic_Regression_opt_thresh_valid                0.3089  \n",
       "Logistic_Regression_weight_class_train               0.423  \n",
       "Logistic_Regression_weight_class_valid               0.434  \n",
       "Logistic_Regression_class_weights_opt_thresh_train  0.4152  \n",
       "Logistic_Regression_class_weights_opt_thresh_valid  0.4246  \n",
       "Logistic_Regression_resampled_train                 0.9854  \n",
       "Logistic_Regression_resampled_valid                 0.4062  \n",
       "Logistic_Regression_resampled_opt_thresh_train      0.9807  \n",
       "Logistic_Regression_resampled_opt_thresh_valid      0.3552  "
      ]
     },
     "execution_count": 121,
     "metadata": {},
     "output_type": "execute_result"
    }
   ],
   "source": [
    "save_results(lr_rs, \"Logistic_Regression_resampled_opt_thresh\", \n",
    "             X_train=X_train_rs, y_train=y_train_rs, thresh=opt_thresh)\n",
    "results_df"
   ]
  },
  {
   "cell_type": "code",
   "execution_count": null,
   "id": "479f60c0",
   "metadata": {},
   "outputs": [],
   "source": []
  },
  {
   "cell_type": "markdown",
   "id": "e06ad3e0",
   "metadata": {},
   "source": [
    "### Random Forest."
   ]
  },
  {
   "cell_type": "markdown",
   "id": "3b2fbfc7",
   "metadata": {},
   "source": [
    "In this section I opt for a higher performing modeling to see make significant improvements upon on my modeling.\n",
    "\n",
    "Similar to the Logistic Regression section, I'll also be optimizing the probability threshold and sampling to deal with the imbalanced class. What's different in this section is the use of parameter tuning to determine the best Random Forest model."
   ]
  },
  {
   "cell_type": "code",
   "execution_count": null,
   "id": "1b3a820d",
   "metadata": {},
   "outputs": [],
   "source": []
  },
  {
   "cell_type": "markdown",
   "id": "7b300904",
   "metadata": {},
   "source": [
    "Train a baseline Random Forest model using the default settings."
   ]
  },
  {
   "cell_type": "code",
   "execution_count": 122,
   "id": "cf94ac79",
   "metadata": {},
   "outputs": [
    {
     "data": {
      "text/plain": [
       "RandomForestClassifier(bootstrap=True, ccp_alpha=0.0, class_weight=None,\n",
       "                       criterion='gini', max_depth=None, max_features='auto',\n",
       "                       max_leaf_nodes=None, max_samples=None,\n",
       "                       min_impurity_decrease=0.0, min_impurity_split=None,\n",
       "                       min_samples_leaf=1, min_samples_split=2,\n",
       "                       min_weight_fraction_leaf=0.0, n_estimators=100,\n",
       "                       n_jobs=None, oob_score=False, random_state=1, verbose=0,\n",
       "                       warm_start=False)"
      ]
     },
     "execution_count": 122,
     "metadata": {},
     "output_type": "execute_result"
    }
   ],
   "source": [
    "\n",
    "rf = RandomForestClassifier(random_state=1) #default n estimators = 100\n",
    "rf.fit(X_train, y_train)"
   ]
  },
  {
   "cell_type": "code",
   "execution_count": 123,
   "id": "c6a169ad",
   "metadata": {},
   "outputs": [
    {
     "name": "stdout",
     "output_type": "stream",
     "text": [
      "Training score is 1.0 and validation score is 0.9968\n"
     ]
    }
   ],
   "source": [
    "score_print(rf)"
   ]
  },
  {
   "cell_type": "markdown",
   "id": "0029632b",
   "metadata": {},
   "source": [
    "Random Forest produces a perfect training score but virtually the same validation score as Logistic Regression."
   ]
  },
  {
   "cell_type": "markdown",
   "id": "3633b26b",
   "metadata": {},
   "source": [
    "Cross validate to check for overfitting"
   ]
  },
  {
   "cell_type": "code",
   "execution_count": 124,
   "id": "da74567d",
   "metadata": {},
   "outputs": [
    {
     "data": {
      "text/plain": [
       "0.9966583333333332"
      ]
     },
     "execution_count": 124,
     "metadata": {},
     "output_type": "execute_result"
    }
   ],
   "source": [
    "kf = KFold(n_splits=5)\n",
    "rf_cv = cross_val_score(rf, X_train, y_train, cv=kf)\n",
    "rf_cv.mean()"
   ]
  },
  {
   "cell_type": "markdown",
   "id": "f2881358",
   "metadata": {},
   "source": [
    "The cross validated accuracy is slightly lower than that of our validation score."
   ]
  },
  {
   "cell_type": "code",
   "execution_count": null,
   "id": "30684c44",
   "metadata": {},
   "outputs": [],
   "source": []
  },
  {
   "cell_type": "markdown",
   "id": "c4abe0f8",
   "metadata": {},
   "source": [
    "Evaluate Random Forest using other metrics"
   ]
  },
  {
   "cell_type": "code",
   "execution_count": 125,
   "id": "377f7d40",
   "metadata": {},
   "outputs": [
    {
     "data": {
      "image/png": "[encoded data removed]",
      "text/plain": [
       "<Figure size 432x288 with 2 Axes>"
      ]
     },
     "metadata": {
      "needs_background": "light"
     },
     "output_type": "display_data"
    }
   ],
   "source": [
    "val_preds = rf.predict(X_valid)\n",
    "\n",
    "make_confusion_matrix(y_valid, val_preds, group_names=group_names, categories=class_names, percent=False)"
   ]
  },
  {
   "cell_type": "markdown",
   "id": "09c48956",
   "metadata": {},
   "source": [
    "The Random Forest baseline model produces a very similar result to the baseline Logistic Regression model."
   ]
  },
  {
   "cell_type": "markdown",
   "id": "cc5964c0",
   "metadata": {},
   "source": [
    "Save results"
   ]
  },
  {
   "cell_type": "code",
   "execution_count": 126,
   "id": "d3cb07dd",
   "metadata": {},
   "outputs": [
    {
     "data": {
      "text/html": [
       "<div>\n",
       "<style scoped>\n",
       "    .dataframe tbody tr th:only-of-type {\n",
       "        vertical-align: middle;\n",
       "    }\n",
       "\n",
       "    .dataframe tbody tr th {\n",
       "        vertical-align: top;\n",
       "    }\n",
       "\n",
       "    .dataframe thead th {\n",
       "        text-align: right;\n",
       "    }\n",
       "</style>\n",
       "<table border=\"1\" class=\"dataframe\">\n",
       "  <thead>\n",
       "    <tr style=\"text-align: right;\">\n",
       "      <th></th>\n",
       "      <th>accuracy</th>\n",
       "      <th>precision</th>\n",
       "      <th>recall</th>\n",
       "      <th>f1</th>\n",
       "    </tr>\n",
       "  </thead>\n",
       "  <tbody>\n",
       "    <tr>\n",
       "      <th>Logistic_Regression_train</th>\n",
       "      <td>0.9968</td>\n",
       "      <td>0.9355</td>\n",
       "      <td>0.3867</td>\n",
       "      <td>0.5472</td>\n",
       "    </tr>\n",
       "    <tr>\n",
       "      <th>Logistic_Regression_valid</th>\n",
       "      <td>0.9966</td>\n",
       "      <td>0.881</td>\n",
       "      <td>0.37</td>\n",
       "      <td>0.5211</td>\n",
       "    </tr>\n",
       "    <tr>\n",
       "      <th>Logistic_Regression_opt_thresh_train</th>\n",
       "      <td>0.9759</td>\n",
       "      <td>0.1719</td>\n",
       "      <td>1.0</td>\n",
       "      <td>0.2933</td>\n",
       "    </tr>\n",
       "    <tr>\n",
       "      <th>Logistic_Regression_opt_thresh_valid</th>\n",
       "      <td>0.9776</td>\n",
       "      <td>0.1826</td>\n",
       "      <td>1.0</td>\n",
       "      <td>0.3089</td>\n",
       "    </tr>\n",
       "    <tr>\n",
       "      <th>Logistic_Regression_weight_class_train</th>\n",
       "      <td>0.9864</td>\n",
       "      <td>0.2682</td>\n",
       "      <td>1.0</td>\n",
       "      <td>0.423</td>\n",
       "    </tr>\n",
       "    <tr>\n",
       "      <th>Logistic_Regression_weight_class_valid</th>\n",
       "      <td>0.987</td>\n",
       "      <td>0.2775</td>\n",
       "      <td>0.995</td>\n",
       "      <td>0.434</td>\n",
       "    </tr>\n",
       "    <tr>\n",
       "      <th>Logistic_Regression_class_weights_opt_thresh_train</th>\n",
       "      <td>0.9859</td>\n",
       "      <td>0.262</td>\n",
       "      <td>1.0</td>\n",
       "      <td>0.4152</td>\n",
       "    </tr>\n",
       "    <tr>\n",
       "      <th>Logistic_Regression_class_weights_opt_thresh_valid</th>\n",
       "      <td>0.9864</td>\n",
       "      <td>0.2695</td>\n",
       "      <td>1.0</td>\n",
       "      <td>0.4246</td>\n",
       "    </tr>\n",
       "    <tr>\n",
       "      <th>Logistic_Regression_resampled_train</th>\n",
       "      <td>0.9901</td>\n",
       "      <td>0.9711</td>\n",
       "      <td>1.0</td>\n",
       "      <td>0.9854</td>\n",
       "    </tr>\n",
       "    <tr>\n",
       "      <th>Logistic_Regression_resampled_valid</th>\n",
       "      <td>0.9856</td>\n",
       "      <td>0.2558</td>\n",
       "      <td>0.985</td>\n",
       "      <td>0.4062</td>\n",
       "    </tr>\n",
       "    <tr>\n",
       "      <th>Logistic_Regression_resampled_opt_thresh_train</th>\n",
       "      <td>0.9869</td>\n",
       "      <td>0.9622</td>\n",
       "      <td>1.0</td>\n",
       "      <td>0.9807</td>\n",
       "    </tr>\n",
       "    <tr>\n",
       "      <th>Logistic_Regression_resampled_opt_thresh_valid</th>\n",
       "      <td>0.9818</td>\n",
       "      <td>0.216</td>\n",
       "      <td>1.0</td>\n",
       "      <td>0.3552</td>\n",
       "    </tr>\n",
       "    <tr>\n",
       "      <th>Random_Forest_train</th>\n",
       "      <td>0.9968</td>\n",
       "      <td>0.9355</td>\n",
       "      <td>0.3867</td>\n",
       "      <td>0.5472</td>\n",
       "    </tr>\n",
       "    <tr>\n",
       "      <th>Random_Forest_valid</th>\n",
       "      <td>0.9966</td>\n",
       "      <td>0.881</td>\n",
       "      <td>0.37</td>\n",
       "      <td>0.5211</td>\n",
       "    </tr>\n",
       "  </tbody>\n",
       "</table>\n",
       "</div>"
      ],
      "text/plain": [
       "                                                   accuracy precision  recall  \\\n",
       "Logistic_Regression_train                            0.9968    0.9355  0.3867   \n",
       "Logistic_Regression_valid                            0.9966     0.881    0.37   \n",
       "Logistic_Regression_opt_thresh_train                 0.9759    0.1719     1.0   \n",
       "Logistic_Regression_opt_thresh_valid                 0.9776    0.1826     1.0   \n",
       "Logistic_Regression_weight_class_train               0.9864    0.2682     1.0   \n",
       "Logistic_Regression_weight_class_valid                0.987    0.2775   0.995   \n",
       "Logistic_Regression_class_weights_opt_thresh_train   0.9859     0.262     1.0   \n",
       "Logistic_Regression_class_weights_opt_thresh_valid   0.9864    0.2695     1.0   \n",
       "Logistic_Regression_resampled_train                  0.9901    0.9711     1.0   \n",
       "Logistic_Regression_resampled_valid                  0.9856    0.2558   0.985   \n",
       "Logistic_Regression_resampled_opt_thresh_train       0.9869    0.9622     1.0   \n",
       "Logistic_Regression_resampled_opt_thresh_valid       0.9818     0.216     1.0   \n",
       "Random_Forest_train                                  0.9968    0.9355  0.3867   \n",
       "Random_Forest_valid                                  0.9966     0.881    0.37   \n",
       "\n",
       "                                                        f1  \n",
       "Logistic_Regression_train                           0.5472  \n",
       "Logistic_Regression_valid                           0.5211  \n",
       "Logistic_Regression_opt_thresh_train                0.2933  \n",
       "Logistic_Regression_opt_thresh_valid                0.3089  \n",
       "Logistic_Regression_weight_class_train               0.423  \n",
       "Logistic_Regression_weight_class_valid               0.434  \n",
       "Logistic_Regression_class_weights_opt_thresh_train  0.4152  \n",
       "Logistic_Regression_class_weights_opt_thresh_valid  0.4246  \n",
       "Logistic_Regression_resampled_train                 0.9854  \n",
       "Logistic_Regression_resampled_valid                 0.4062  \n",
       "Logistic_Regression_resampled_opt_thresh_train      0.9807  \n",
       "Logistic_Regression_resampled_opt_thresh_valid      0.3552  \n",
       "Random_Forest_train                                 0.5472  \n",
       "Random_Forest_valid                                 0.5211  "
      ]
     },
     "execution_count": 126,
     "metadata": {},
     "output_type": "execute_result"
    }
   ],
   "source": [
    "save_results(lr, \"Random_Forest\")\n",
    "results_df"
   ]
  },
  {
   "cell_type": "markdown",
   "id": "e8d9c03e",
   "metadata": {},
   "source": [
    "Optimize threshold"
   ]
  },
  {
   "cell_type": "code",
   "execution_count": 127,
   "id": "7b96f5e5",
   "metadata": {},
   "outputs": [
    {
     "name": "stdout",
     "output_type": "stream",
     "text": [
      "Best Threshold=0.02, G-Mean=0.9781, AUC=0.9961\n"
     ]
    },
    {
     "data": {
      "image/png": "[encoded data removed]",
      "text/plain": [
       "<Figure size 432x288 with 1 Axes>"
      ]
     },
     "metadata": {
      "needs_background": "light"
     },
     "output_type": "display_data"
    }
   ],
   "source": [
    "val_probs = rf.predict_proba(X_valid)[:, 1]\n",
    "opt_thresh = roc_curve_thresh(y_valid, val_probs)"
   ]
  },
  {
   "cell_type": "code",
   "execution_count": 128,
   "id": "c9c49f62",
   "metadata": {},
   "outputs": [
    {
     "data": {
      "image/png": "[encoded data removed]",
      "text/plain": [
       "<Figure size 432x288 with 2 Axes>"
      ]
     },
     "metadata": {
      "needs_background": "light"
     },
     "output_type": "display_data"
    }
   ],
   "source": [
    "thresh_preds = thresh_predictor(val_probs, thresh=opt_thresh)\n",
    "make_confusion_matrix(y_valid, thresh_preds,group_names=group_names, categories=class_names, percent=False)"
   ]
  },
  {
   "cell_type": "markdown",
   "id": "98dd07fd",
   "metadata": {},
   "source": [
    "As we saw with Logistic Regression, Random Forest predictions subject to an optimized threshold produce a near perfect recall but atrocious precision and f1 scores."
   ]
  },
  {
   "cell_type": "code",
   "execution_count": 129,
   "id": "c249cf03",
   "metadata": {},
   "outputs": [
    {
     "data": {
      "text/html": [
       "<div>\n",
       "<style scoped>\n",
       "    .dataframe tbody tr th:only-of-type {\n",
       "        vertical-align: middle;\n",
       "    }\n",
       "\n",
       "    .dataframe tbody tr th {\n",
       "        vertical-align: top;\n",
       "    }\n",
       "\n",
       "    .dataframe thead th {\n",
       "        text-align: right;\n",
       "    }\n",
       "</style>\n",
       "<table border=\"1\" class=\"dataframe\">\n",
       "  <thead>\n",
       "    <tr style=\"text-align: right;\">\n",
       "      <th></th>\n",
       "      <th>accuracy</th>\n",
       "      <th>precision</th>\n",
       "      <th>recall</th>\n",
       "      <th>f1</th>\n",
       "    </tr>\n",
       "  </thead>\n",
       "  <tbody>\n",
       "    <tr>\n",
       "      <th>Logistic_Regression_train</th>\n",
       "      <td>0.9968</td>\n",
       "      <td>0.9355</td>\n",
       "      <td>0.3867</td>\n",
       "      <td>0.5472</td>\n",
       "    </tr>\n",
       "    <tr>\n",
       "      <th>Logistic_Regression_valid</th>\n",
       "      <td>0.9966</td>\n",
       "      <td>0.881</td>\n",
       "      <td>0.37</td>\n",
       "      <td>0.5211</td>\n",
       "    </tr>\n",
       "    <tr>\n",
       "      <th>Logistic_Regression_opt_thresh_train</th>\n",
       "      <td>0.9759</td>\n",
       "      <td>0.1719</td>\n",
       "      <td>1.0</td>\n",
       "      <td>0.2933</td>\n",
       "    </tr>\n",
       "    <tr>\n",
       "      <th>Logistic_Regression_opt_thresh_valid</th>\n",
       "      <td>0.9776</td>\n",
       "      <td>0.1826</td>\n",
       "      <td>1.0</td>\n",
       "      <td>0.3089</td>\n",
       "    </tr>\n",
       "    <tr>\n",
       "      <th>Logistic_Regression_weight_class_train</th>\n",
       "      <td>0.9864</td>\n",
       "      <td>0.2682</td>\n",
       "      <td>1.0</td>\n",
       "      <td>0.423</td>\n",
       "    </tr>\n",
       "    <tr>\n",
       "      <th>Logistic_Regression_weight_class_valid</th>\n",
       "      <td>0.987</td>\n",
       "      <td>0.2775</td>\n",
       "      <td>0.995</td>\n",
       "      <td>0.434</td>\n",
       "    </tr>\n",
       "    <tr>\n",
       "      <th>Logistic_Regression_class_weights_opt_thresh_train</th>\n",
       "      <td>0.9859</td>\n",
       "      <td>0.262</td>\n",
       "      <td>1.0</td>\n",
       "      <td>0.4152</td>\n",
       "    </tr>\n",
       "    <tr>\n",
       "      <th>Logistic_Regression_class_weights_opt_thresh_valid</th>\n",
       "      <td>0.9864</td>\n",
       "      <td>0.2695</td>\n",
       "      <td>1.0</td>\n",
       "      <td>0.4246</td>\n",
       "    </tr>\n",
       "    <tr>\n",
       "      <th>Logistic_Regression_resampled_train</th>\n",
       "      <td>0.9901</td>\n",
       "      <td>0.9711</td>\n",
       "      <td>1.0</td>\n",
       "      <td>0.9854</td>\n",
       "    </tr>\n",
       "    <tr>\n",
       "      <th>Logistic_Regression_resampled_valid</th>\n",
       "      <td>0.9856</td>\n",
       "      <td>0.2558</td>\n",
       "      <td>0.985</td>\n",
       "      <td>0.4062</td>\n",
       "    </tr>\n",
       "    <tr>\n",
       "      <th>Logistic_Regression_resampled_opt_thresh_train</th>\n",
       "      <td>0.9869</td>\n",
       "      <td>0.9622</td>\n",
       "      <td>1.0</td>\n",
       "      <td>0.9807</td>\n",
       "    </tr>\n",
       "    <tr>\n",
       "      <th>Logistic_Regression_resampled_opt_thresh_valid</th>\n",
       "      <td>0.9818</td>\n",
       "      <td>0.216</td>\n",
       "      <td>1.0</td>\n",
       "      <td>0.3552</td>\n",
       "    </tr>\n",
       "    <tr>\n",
       "      <th>Random_Forest_train</th>\n",
       "      <td>0.9968</td>\n",
       "      <td>0.9355</td>\n",
       "      <td>0.3867</td>\n",
       "      <td>0.5472</td>\n",
       "    </tr>\n",
       "    <tr>\n",
       "      <th>Random_Forest_valid</th>\n",
       "      <td>0.9966</td>\n",
       "      <td>0.881</td>\n",
       "      <td>0.37</td>\n",
       "      <td>0.5211</td>\n",
       "    </tr>\n",
       "    <tr>\n",
       "      <th>Random_Forest_opt_thresh_train</th>\n",
       "      <td>0.9806</td>\n",
       "      <td>0.2053</td>\n",
       "      <td>1.0</td>\n",
       "      <td>0.3406</td>\n",
       "    </tr>\n",
       "    <tr>\n",
       "      <th>Random_Forest_opt_thresh_valid</th>\n",
       "      <td>0.9665</td>\n",
       "      <td>0.1288</td>\n",
       "      <td>0.99</td>\n",
       "      <td>0.228</td>\n",
       "    </tr>\n",
       "  </tbody>\n",
       "</table>\n",
       "</div>"
      ],
      "text/plain": [
       "                                                   accuracy precision  recall  \\\n",
       "Logistic_Regression_train                            0.9968    0.9355  0.3867   \n",
       "Logistic_Regression_valid                            0.9966     0.881    0.37   \n",
       "Logistic_Regression_opt_thresh_train                 0.9759    0.1719     1.0   \n",
       "Logistic_Regression_opt_thresh_valid                 0.9776    0.1826     1.0   \n",
       "Logistic_Regression_weight_class_train               0.9864    0.2682     1.0   \n",
       "Logistic_Regression_weight_class_valid                0.987    0.2775   0.995   \n",
       "Logistic_Regression_class_weights_opt_thresh_train   0.9859     0.262     1.0   \n",
       "Logistic_Regression_class_weights_opt_thresh_valid   0.9864    0.2695     1.0   \n",
       "Logistic_Regression_resampled_train                  0.9901    0.9711     1.0   \n",
       "Logistic_Regression_resampled_valid                  0.9856    0.2558   0.985   \n",
       "Logistic_Regression_resampled_opt_thresh_train       0.9869    0.9622     1.0   \n",
       "Logistic_Regression_resampled_opt_thresh_valid       0.9818     0.216     1.0   \n",
       "Random_Forest_train                                  0.9968    0.9355  0.3867   \n",
       "Random_Forest_valid                                  0.9966     0.881    0.37   \n",
       "Random_Forest_opt_thresh_train                       0.9806    0.2053     1.0   \n",
       "Random_Forest_opt_thresh_valid                       0.9665    0.1288    0.99   \n",
       "\n",
       "                                                        f1  \n",
       "Logistic_Regression_train                           0.5472  \n",
       "Logistic_Regression_valid                           0.5211  \n",
       "Logistic_Regression_opt_thresh_train                0.2933  \n",
       "Logistic_Regression_opt_thresh_valid                0.3089  \n",
       "Logistic_Regression_weight_class_train               0.423  \n",
       "Logistic_Regression_weight_class_valid               0.434  \n",
       "Logistic_Regression_class_weights_opt_thresh_train  0.4152  \n",
       "Logistic_Regression_class_weights_opt_thresh_valid  0.4246  \n",
       "Logistic_Regression_resampled_train                 0.9854  \n",
       "Logistic_Regression_resampled_valid                 0.4062  \n",
       "Logistic_Regression_resampled_opt_thresh_train      0.9807  \n",
       "Logistic_Regression_resampled_opt_thresh_valid      0.3552  \n",
       "Random_Forest_train                                 0.5472  \n",
       "Random_Forest_valid                                 0.5211  \n",
       "Random_Forest_opt_thresh_train                      0.3406  \n",
       "Random_Forest_opt_thresh_valid                       0.228  "
      ]
     },
     "execution_count": 129,
     "metadata": {},
     "output_type": "execute_result"
    }
   ],
   "source": [
    "save_results(rf,\"Random_Forest_opt_thresh\", thresh=opt_thresh)\n",
    "results_df"
   ]
  },
  {
   "cell_type": "markdown",
   "id": "f8238962",
   "metadata": {},
   "source": [
    "These initial Random Forest results are disappointing so it is my hope that we parameter-tuning can produce better metrics."
   ]
  },
  {
   "cell_type": "markdown",
   "id": "e20a5c4a",
   "metadata": {},
   "source": [
    "Before I move onto parameter tuning let's see what are the best features according to the Random Forest model"
   ]
  },
  {
   "cell_type": "code",
   "execution_count": 130,
   "id": "4a65e15d",
   "metadata": {},
   "outputs": [],
   "source": [
    "rf_fi = pd.Series(index=X_train.columns, data = rf.feature_importances_)"
   ]
  },
  {
   "cell_type": "markdown",
   "id": "f4639a70",
   "metadata": {},
   "source": [
    "The top 20 most important features according to Random Forest"
   ]
  },
  {
   "cell_type": "code",
   "execution_count": 131,
   "id": "a30fefd0",
   "metadata": {},
   "outputs": [
    {
     "data": {
      "text/plain": [
       "country_Canada          0.114862\n",
       "site_slack_com          0.083094\n",
       "site_youtube_com        0.080193\n",
       "site_vk_com             0.079566\n",
       "site_lenta_ru           0.078730\n",
       "site_mail_google_com    0.076482\n",
       "country_Singapore       0.060163\n",
       "russia_software_RU      0.056725\n",
       "hour_19                 0.021729\n",
       "hour_20                 0.018540\n",
       "os_Ubuntu               0.017889\n",
       "country_France          0.015569\n",
       "hour_10                 0.015310\n",
       "browser_Firefox         0.013795\n",
       "site_wikimedia_org      0.013552\n",
       "site_skype_com          0.013502\n",
       "site_facebook_com       0.013218\n",
       "site_doubleclick_net    0.012880\n",
       "site_yahoo_com          0.011907\n",
       "hour_11                 0.011098\n",
       "dtype: float64"
      ]
     },
     "execution_count": 131,
     "metadata": {},
     "output_type": "execute_result"
    }
   ],
   "source": [
    "rf_fi.nlargest(20)"
   ]
  },
  {
   "cell_type": "code",
   "execution_count": null,
   "id": "8da48849",
   "metadata": {},
   "outputs": [],
   "source": [
    " "
   ]
  },
  {
   "cell_type": "code",
   "execution_count": 132,
   "id": "59d942af",
   "metadata": {},
   "outputs": [
    {
     "name": "stdout",
     "output_type": "stream",
     "text": [
      "Fitting 5 folds for each of 8 candidates, totalling 40 fits\n",
      "[CV] n_estimators=150 ................................................\n"
     ]
    },
    {
     "name": "stderr",
     "output_type": "stream",
     "text": [
      "[Parallel(n_jobs=1)]: Using backend SequentialBackend with 1 concurrent workers.\n"
     ]
    },
    {
     "name": "stdout",
     "output_type": "stream",
     "text": [
      "[CV] .................... n_estimators=150, score=0.548, total=   6.0s\n",
      "[CV] n_estimators=150 ................................................\n"
     ]
    },
    {
     "name": "stderr",
     "output_type": "stream",
     "text": [
      "[Parallel(n_jobs=1)]: Done   1 out of   1 | elapsed:    6.0s remaining:    0.0s\n"
     ]
    },
    {
     "name": "stdout",
     "output_type": "stream",
     "text": [
      "[CV] .................... n_estimators=150, score=0.436, total=   6.0s\n",
      "[CV] n_estimators=150 ................................................\n"
     ]
    },
    {
     "name": "stderr",
     "output_type": "stream",
     "text": [
      "[Parallel(n_jobs=1)]: Done   2 out of   2 | elapsed:   12.1s remaining:    0.0s\n"
     ]
    },
    {
     "name": "stdout",
     "output_type": "stream",
     "text": [
      "[CV] .................... n_estimators=150, score=0.568, total=   5.9s\n",
      "[CV] n_estimators=150 ................................................\n"
     ]
    },
    {
     "name": "stderr",
     "output_type": "stream",
     "text": [
      "[Parallel(n_jobs=1)]: Done   3 out of   3 | elapsed:   18.0s remaining:    0.0s\n"
     ]
    },
    {
     "name": "stdout",
     "output_type": "stream",
     "text": [
      "[CV] .................... n_estimators=150, score=0.512, total=   6.0s\n",
      "[CV] n_estimators=150 ................................................\n"
     ]
    },
    {
     "name": "stderr",
     "output_type": "stream",
     "text": [
      "[Parallel(n_jobs=1)]: Done   4 out of   4 | elapsed:   24.0s remaining:    0.0s\n"
     ]
    },
    {
     "name": "stdout",
     "output_type": "stream",
     "text": [
      "[CV] .................... n_estimators=150, score=0.491, total=   6.8s\n",
      "[CV] n_estimators=200 ................................................\n",
      "[CV] .................... n_estimators=200, score=0.548, total=   7.7s\n",
      "[CV] n_estimators=200 ................................................\n",
      "[CV] .................... n_estimators=200, score=0.426, total=   8.2s\n",
      "[CV] n_estimators=200 ................................................\n",
      "[CV] .................... n_estimators=200, score=0.576, total=   8.2s\n",
      "[CV] n_estimators=200 ................................................\n",
      "[CV] .................... n_estimators=200, score=0.503, total=   7.9s\n",
      "[CV] n_estimators=200 ................................................\n",
      "[CV] .................... n_estimators=200, score=0.479, total=   8.1s\n",
      "[CV] n_estimators=250 ................................................\n",
      "[CV] .................... n_estimators=250, score=0.539, total=  10.2s\n",
      "[CV] n_estimators=250 ................................................\n",
      "[CV] .................... n_estimators=250, score=0.426, total=  10.7s\n",
      "[CV] n_estimators=250 ................................................\n",
      "[CV] .................... n_estimators=250, score=0.580, total=  10.5s\n",
      "[CV] n_estimators=250 ................................................\n",
      "[CV] .................... n_estimators=250, score=0.512, total=   9.9s\n",
      "[CV] n_estimators=250 ................................................\n",
      "[CV] .................... n_estimators=250, score=0.469, total=  10.4s\n",
      "[CV] n_estimators=300 ................................................\n",
      "[CV] .................... n_estimators=300, score=0.556, total=  12.4s\n",
      "[CV] n_estimators=300 ................................................\n",
      "[CV] .................... n_estimators=300, score=0.416, total=  13.3s\n",
      "[CV] n_estimators=300 ................................................\n",
      "[CV] .................... n_estimators=300, score=0.576, total=  12.8s\n",
      "[CV] n_estimators=300 ................................................\n",
      "[CV] .................... n_estimators=300, score=0.512, total=  11.6s\n",
      "[CV] n_estimators=300 ................................................\n",
      "[CV] .................... n_estimators=300, score=0.488, total=  12.1s\n",
      "[CV] n_estimators=350 ................................................\n",
      "[CV] .................... n_estimators=350, score=0.548, total=  14.0s\n",
      "[CV] n_estimators=350 ................................................\n",
      "[CV] .................... n_estimators=350, score=0.418, total=  14.2s\n",
      "[CV] n_estimators=350 ................................................\n",
      "[CV] .................... n_estimators=350, score=0.580, total=  14.0s\n",
      "[CV] n_estimators=350 ................................................\n",
      "[CV] .................... n_estimators=350, score=0.512, total=  14.1s\n",
      "[CV] n_estimators=350 ................................................\n",
      "[CV] .................... n_estimators=350, score=0.488, total=  13.7s\n",
      "[CV] n_estimators=400 ................................................\n",
      "[CV] .................... n_estimators=400, score=0.548, total=  16.6s\n",
      "[CV] n_estimators=400 ................................................\n",
      "[CV] .................... n_estimators=400, score=0.439, total=  17.3s\n",
      "[CV] n_estimators=400 ................................................\n",
      "[CV] .................... n_estimators=400, score=0.576, total=  17.2s\n",
      "[CV] n_estimators=400 ................................................\n",
      "[CV] .................... n_estimators=400, score=0.512, total=  17.3s\n",
      "[CV] n_estimators=400 ................................................\n",
      "[CV] .................... n_estimators=400, score=0.491, total=  17.4s\n",
      "[CV] n_estimators=450 ................................................\n",
      "[CV] .................... n_estimators=450, score=0.544, total=  20.1s\n",
      "[CV] n_estimators=450 ................................................\n",
      "[CV] .................... n_estimators=450, score=0.429, total=  20.0s\n",
      "[CV] n_estimators=450 ................................................\n",
      "[CV] .................... n_estimators=450, score=0.568, total=  20.1s\n",
      "[CV] n_estimators=450 ................................................\n",
      "[CV] .................... n_estimators=450, score=0.512, total=  19.0s\n",
      "[CV] n_estimators=450 ................................................\n",
      "[CV] .................... n_estimators=450, score=0.500, total=  18.3s\n",
      "[CV] n_estimators=500 ................................................\n",
      "[CV] .................... n_estimators=500, score=0.544, total=  19.9s\n",
      "[CV] n_estimators=500 ................................................\n",
      "[CV] .................... n_estimators=500, score=0.436, total=  20.1s\n",
      "[CV] n_estimators=500 ................................................\n",
      "[CV] .................... n_estimators=500, score=0.568, total=  19.7s\n",
      "[CV] n_estimators=500 ................................................\n",
      "[CV] .................... n_estimators=500, score=0.512, total=  19.5s\n",
      "[CV] n_estimators=500 ................................................\n",
      "[CV] .................... n_estimators=500, score=0.488, total=  19.4s\n"
     ]
    },
    {
     "name": "stderr",
     "output_type": "stream",
     "text": [
      "[Parallel(n_jobs=1)]: Done  40 out of  40 | elapsed:  9.0min finished\n"
     ]
    },
    {
     "data": {
      "text/plain": [
       "GridSearchCV(cv=5, error_score=nan,\n",
       "             estimator=RandomForestClassifier(bootstrap=True, ccp_alpha=0.0,\n",
       "                                              class_weight=None,\n",
       "                                              criterion='gini', max_depth=None,\n",
       "                                              max_features='auto',\n",
       "                                              max_leaf_nodes=None,\n",
       "                                              max_samples=None,\n",
       "                                              min_impurity_decrease=0.0,\n",
       "                                              min_impurity_split=None,\n",
       "                                              min_samples_leaf=1,\n",
       "                                              min_samples_split=2,\n",
       "                                              min_weight_fraction_leaf=0.0,\n",
       "                                              n_estimators=100, n_jobs=None,\n",
       "                                              oob_score=False, random_state=1,\n",
       "                                              verbose=0, warm_start=False),\n",
       "             iid='deprecated', n_jobs=None,\n",
       "             param_grid={'n_estimators': array([150, 200, 250, 300, 350, 400, 450, 500])},\n",
       "             pre_dispatch='2*n_jobs', refit=True, return_train_score=False,\n",
       "             scoring='f1', verbose=5)"
      ]
     },
     "execution_count": 132,
     "metadata": {},
     "output_type": "execute_result"
    }
   ],
   "source": [
    "#intialize the parameter grid\n",
    "n_estimators = np.arange(150, 550, 50)\n",
    "param_grid = dict(n_estimators=n_estimators)\n",
    "\n",
    "# Build the grid search, cross validate 5 times and optimize using the f1 score\n",
    "\n",
    "grid = GridSearchCV(estimator=RandomForestClassifier(random_state=1), \n",
    "                    param_grid=param_grid, cv = 5, scoring=\"f1\", verbose=5)\n",
    "grid.fit(X_train, y_train)"
   ]
  },
  {
   "cell_type": "code",
   "execution_count": 133,
   "id": "a7bebddf",
   "metadata": {},
   "outputs": [
    {
     "name": "stdout",
     "output_type": "stream",
     "text": [
      "The best parameters = {'n_estimators': 400} and best score = 0.5132\n"
     ]
    }
   ],
   "source": [
    "print(\"The best parameters = {} and best score = {}\".format(grid.best_params_, grid.best_score_.round(4)))"
   ]
  },
  {
   "cell_type": "markdown",
   "id": "ea7b29ff",
   "metadata": {},
   "source": [
    "Save best model"
   ]
  },
  {
   "cell_type": "code",
   "execution_count": 134,
   "id": "ef359f19",
   "metadata": {},
   "outputs": [],
   "source": [
    "rf_gs = grid.best_estimator_"
   ]
  },
  {
   "cell_type": "markdown",
   "id": "22c9a6ee",
   "metadata": {},
   "source": [
    "Get training and validation accuracy scores"
   ]
  },
  {
   "cell_type": "code",
   "execution_count": 135,
   "id": "1cfcbe11",
   "metadata": {},
   "outputs": [
    {
     "name": "stdout",
     "output_type": "stream",
     "text": [
      "Training score is 1.0 and validation score is 0.9968\n"
     ]
    }
   ],
   "source": [
    "score_print(rf_gs)"
   ]
  },
  {
   "cell_type": "markdown",
   "id": "d7f966cf",
   "metadata": {},
   "source": [
    "The grid search Random Forest model does not produce a higher validation accuracy than its baseline counterpart"
   ]
  },
  {
   "cell_type": "code",
   "execution_count": null,
   "id": "b5ae8e07",
   "metadata": {},
   "outputs": [],
   "source": []
  },
  {
   "cell_type": "markdown",
   "id": "cc2f5b24",
   "metadata": {},
   "source": [
    "Evaluate using other metrics"
   ]
  },
  {
   "cell_type": "code",
   "execution_count": 136,
   "id": "7a4fd416",
   "metadata": {},
   "outputs": [
    {
     "data": {
      "image/png": "[encoded data removed]",
      "text/plain": [
       "<Figure size 432x288 with 2 Axes>"
      ]
     },
     "metadata": {
      "needs_background": "light"
     },
     "output_type": "display_data"
    }
   ],
   "source": [
    "val_preds = rf_gs.predict(X_valid)\n",
    "\n",
    "make_confusion_matrix(y_valid, val_preds, group_names=group_names, categories=class_names, percent=False)"
   ]
  },
  {
   "cell_type": "markdown",
   "id": "61bad2d2",
   "metadata": {},
   "source": [
    "Save results"
   ]
  },
  {
   "cell_type": "code",
   "execution_count": 137,
   "id": "91e512a5",
   "metadata": {},
   "outputs": [
    {
     "data": {
      "text/html": [
       "<div>\n",
       "<style scoped>\n",
       "    .dataframe tbody tr th:only-of-type {\n",
       "        vertical-align: middle;\n",
       "    }\n",
       "\n",
       "    .dataframe tbody tr th {\n",
       "        vertical-align: top;\n",
       "    }\n",
       "\n",
       "    .dataframe thead th {\n",
       "        text-align: right;\n",
       "    }\n",
       "</style>\n",
       "<table border=\"1\" class=\"dataframe\">\n",
       "  <thead>\n",
       "    <tr style=\"text-align: right;\">\n",
       "      <th></th>\n",
       "      <th>accuracy</th>\n",
       "      <th>precision</th>\n",
       "      <th>recall</th>\n",
       "      <th>f1</th>\n",
       "    </tr>\n",
       "  </thead>\n",
       "  <tbody>\n",
       "    <tr>\n",
       "      <th>Logistic_Regression_train</th>\n",
       "      <td>0.9968</td>\n",
       "      <td>0.9355</td>\n",
       "      <td>0.3867</td>\n",
       "      <td>0.5472</td>\n",
       "    </tr>\n",
       "    <tr>\n",
       "      <th>Logistic_Regression_valid</th>\n",
       "      <td>0.9966</td>\n",
       "      <td>0.881</td>\n",
       "      <td>0.37</td>\n",
       "      <td>0.5211</td>\n",
       "    </tr>\n",
       "    <tr>\n",
       "      <th>Logistic_Regression_opt_thresh_train</th>\n",
       "      <td>0.9759</td>\n",
       "      <td>0.1719</td>\n",
       "      <td>1.0</td>\n",
       "      <td>0.2933</td>\n",
       "    </tr>\n",
       "    <tr>\n",
       "      <th>Logistic_Regression_opt_thresh_valid</th>\n",
       "      <td>0.9776</td>\n",
       "      <td>0.1826</td>\n",
       "      <td>1.0</td>\n",
       "      <td>0.3089</td>\n",
       "    </tr>\n",
       "    <tr>\n",
       "      <th>Logistic_Regression_weight_class_train</th>\n",
       "      <td>0.9864</td>\n",
       "      <td>0.2682</td>\n",
       "      <td>1.0</td>\n",
       "      <td>0.423</td>\n",
       "    </tr>\n",
       "    <tr>\n",
       "      <th>Logistic_Regression_weight_class_valid</th>\n",
       "      <td>0.987</td>\n",
       "      <td>0.2775</td>\n",
       "      <td>0.995</td>\n",
       "      <td>0.434</td>\n",
       "    </tr>\n",
       "    <tr>\n",
       "      <th>Logistic_Regression_class_weights_opt_thresh_train</th>\n",
       "      <td>0.9859</td>\n",
       "      <td>0.262</td>\n",
       "      <td>1.0</td>\n",
       "      <td>0.4152</td>\n",
       "    </tr>\n",
       "    <tr>\n",
       "      <th>Logistic_Regression_class_weights_opt_thresh_valid</th>\n",
       "      <td>0.9864</td>\n",
       "      <td>0.2695</td>\n",
       "      <td>1.0</td>\n",
       "      <td>0.4246</td>\n",
       "    </tr>\n",
       "    <tr>\n",
       "      <th>Logistic_Regression_resampled_train</th>\n",
       "      <td>0.9901</td>\n",
       "      <td>0.9711</td>\n",
       "      <td>1.0</td>\n",
       "      <td>0.9854</td>\n",
       "    </tr>\n",
       "    <tr>\n",
       "      <th>Logistic_Regression_resampled_valid</th>\n",
       "      <td>0.9856</td>\n",
       "      <td>0.2558</td>\n",
       "      <td>0.985</td>\n",
       "      <td>0.4062</td>\n",
       "    </tr>\n",
       "    <tr>\n",
       "      <th>Logistic_Regression_resampled_opt_thresh_train</th>\n",
       "      <td>0.9869</td>\n",
       "      <td>0.9622</td>\n",
       "      <td>1.0</td>\n",
       "      <td>0.9807</td>\n",
       "    </tr>\n",
       "    <tr>\n",
       "      <th>Logistic_Regression_resampled_opt_thresh_valid</th>\n",
       "      <td>0.9818</td>\n",
       "      <td>0.216</td>\n",
       "      <td>1.0</td>\n",
       "      <td>0.3552</td>\n",
       "    </tr>\n",
       "    <tr>\n",
       "      <th>Random_Forest_train</th>\n",
       "      <td>0.9968</td>\n",
       "      <td>0.9355</td>\n",
       "      <td>0.3867</td>\n",
       "      <td>0.5472</td>\n",
       "    </tr>\n",
       "    <tr>\n",
       "      <th>Random_Forest_valid</th>\n",
       "      <td>0.9966</td>\n",
       "      <td>0.881</td>\n",
       "      <td>0.37</td>\n",
       "      <td>0.5211</td>\n",
       "    </tr>\n",
       "    <tr>\n",
       "      <th>Random_Forest_opt_thresh_train</th>\n",
       "      <td>0.9806</td>\n",
       "      <td>0.2053</td>\n",
       "      <td>1.0</td>\n",
       "      <td>0.3406</td>\n",
       "    </tr>\n",
       "    <tr>\n",
       "      <th>Random_Forest_opt_thresh_valid</th>\n",
       "      <td>0.9665</td>\n",
       "      <td>0.1288</td>\n",
       "      <td>0.99</td>\n",
       "      <td>0.228</td>\n",
       "    </tr>\n",
       "    <tr>\n",
       "      <th>Random_Forest_GS_train</th>\n",
       "      <td>1.0</td>\n",
       "      <td>1.0</td>\n",
       "      <td>1.0</td>\n",
       "      <td>1.0</td>\n",
       "    </tr>\n",
       "    <tr>\n",
       "      <th>Random_Forest_GS_valid</th>\n",
       "      <td>0.9968</td>\n",
       "      <td>1.0</td>\n",
       "      <td>0.365</td>\n",
       "      <td>0.5348</td>\n",
       "    </tr>\n",
       "  </tbody>\n",
       "</table>\n",
       "</div>"
      ],
      "text/plain": [
       "                                                   accuracy precision  recall  \\\n",
       "Logistic_Regression_train                            0.9968    0.9355  0.3867   \n",
       "Logistic_Regression_valid                            0.9966     0.881    0.37   \n",
       "Logistic_Regression_opt_thresh_train                 0.9759    0.1719     1.0   \n",
       "Logistic_Regression_opt_thresh_valid                 0.9776    0.1826     1.0   \n",
       "Logistic_Regression_weight_class_train               0.9864    0.2682     1.0   \n",
       "Logistic_Regression_weight_class_valid                0.987    0.2775   0.995   \n",
       "Logistic_Regression_class_weights_opt_thresh_train   0.9859     0.262     1.0   \n",
       "Logistic_Regression_class_weights_opt_thresh_valid   0.9864    0.2695     1.0   \n",
       "Logistic_Regression_resampled_train                  0.9901    0.9711     1.0   \n",
       "Logistic_Regression_resampled_valid                  0.9856    0.2558   0.985   \n",
       "Logistic_Regression_resampled_opt_thresh_train       0.9869    0.9622     1.0   \n",
       "Logistic_Regression_resampled_opt_thresh_valid       0.9818     0.216     1.0   \n",
       "Random_Forest_train                                  0.9968    0.9355  0.3867   \n",
       "Random_Forest_valid                                  0.9966     0.881    0.37   \n",
       "Random_Forest_opt_thresh_train                       0.9806    0.2053     1.0   \n",
       "Random_Forest_opt_thresh_valid                       0.9665    0.1288    0.99   \n",
       "Random_Forest_GS_train                                  1.0       1.0     1.0   \n",
       "Random_Forest_GS_valid                               0.9968       1.0   0.365   \n",
       "\n",
       "                                                        f1  \n",
       "Logistic_Regression_train                           0.5472  \n",
       "Logistic_Regression_valid                           0.5211  \n",
       "Logistic_Regression_opt_thresh_train                0.2933  \n",
       "Logistic_Regression_opt_thresh_valid                0.3089  \n",
       "Logistic_Regression_weight_class_train               0.423  \n",
       "Logistic_Regression_weight_class_valid               0.434  \n",
       "Logistic_Regression_class_weights_opt_thresh_train  0.4152  \n",
       "Logistic_Regression_class_weights_opt_thresh_valid  0.4246  \n",
       "Logistic_Regression_resampled_train                 0.9854  \n",
       "Logistic_Regression_resampled_valid                 0.4062  \n",
       "Logistic_Regression_resampled_opt_thresh_train      0.9807  \n",
       "Logistic_Regression_resampled_opt_thresh_valid      0.3552  \n",
       "Random_Forest_train                                 0.5472  \n",
       "Random_Forest_valid                                 0.5211  \n",
       "Random_Forest_opt_thresh_train                      0.3406  \n",
       "Random_Forest_opt_thresh_valid                       0.228  \n",
       "Random_Forest_GS_train                                 1.0  \n",
       "Random_Forest_GS_valid                              0.5348  "
      ]
     },
     "execution_count": 137,
     "metadata": {},
     "output_type": "execute_result"
    }
   ],
   "source": [
    "save_results(rf_gs,\"Random_Forest_GS\")\n",
    "results_df"
   ]
  },
  {
   "cell_type": "markdown",
   "id": "5ca4ae12",
   "metadata": {},
   "source": [
    "Optimize Threshold"
   ]
  },
  {
   "cell_type": "code",
   "execution_count": 138,
   "id": "afe9bf15",
   "metadata": {},
   "outputs": [
    {
     "name": "stdout",
     "output_type": "stream",
     "text": [
      "Best Threshold=0.03, G-Mean=0.989, AUC=0.9965\n"
     ]
    },
    {
     "data": {
      "image/png": "[encoded data removed]",
      "text/plain": [
       "<Figure size 432x288 with 1 Axes>"
      ]
     },
     "metadata": {
      "needs_background": "light"
     },
     "output_type": "display_data"
    }
   ],
   "source": [
    "val_probs = rf_gs.predict_proba(X_valid)[:, 1]\n",
    "opt_thresh = roc_curve_thresh(y_valid, val_probs)"
   ]
  },
  {
   "cell_type": "code",
   "execution_count": 139,
   "id": "abf52596",
   "metadata": {},
   "outputs": [
    {
     "data": {
      "image/png": "[encoded data removed]",
      "text/plain": [
       "<Figure size 432x288 with 2 Axes>"
      ]
     },
     "metadata": {
      "needs_background": "light"
     },
     "output_type": "display_data"
    }
   ],
   "source": [
    "thresh_preds = thresh_predictor(val_probs, thresh=opt_thresh)\n",
    "make_confusion_matrix(y_valid, thresh_preds,group_names=group_names, categories=class_names, percent=False)"
   ]
  },
  {
   "cell_type": "markdown",
   "id": "b5fc74a6",
   "metadata": {},
   "source": [
    "We're seeing familiar results here, the Random Forest with an optimized threshold produces a perfect recall score at the expense of its precision and f1 scores."
   ]
  },
  {
   "cell_type": "markdown",
   "id": "7f2d3ebc",
   "metadata": {},
   "source": [
    "Save results"
   ]
  },
  {
   "cell_type": "code",
   "execution_count": 140,
   "id": "e04eaf6d",
   "metadata": {},
   "outputs": [
    {
     "data": {
      "text/html": [
       "<div>\n",
       "<style scoped>\n",
       "    .dataframe tbody tr th:only-of-type {\n",
       "        vertical-align: middle;\n",
       "    }\n",
       "\n",
       "    .dataframe tbody tr th {\n",
       "        vertical-align: top;\n",
       "    }\n",
       "\n",
       "    .dataframe thead th {\n",
       "        text-align: right;\n",
       "    }\n",
       "</style>\n",
       "<table border=\"1\" class=\"dataframe\">\n",
       "  <thead>\n",
       "    <tr style=\"text-align: right;\">\n",
       "      <th></th>\n",
       "      <th>accuracy</th>\n",
       "      <th>precision</th>\n",
       "      <th>recall</th>\n",
       "      <th>f1</th>\n",
       "    </tr>\n",
       "  </thead>\n",
       "  <tbody>\n",
       "    <tr>\n",
       "      <th>Logistic_Regression_train</th>\n",
       "      <td>0.9968</td>\n",
       "      <td>0.9355</td>\n",
       "      <td>0.3867</td>\n",
       "      <td>0.5472</td>\n",
       "    </tr>\n",
       "    <tr>\n",
       "      <th>Logistic_Regression_valid</th>\n",
       "      <td>0.9966</td>\n",
       "      <td>0.881</td>\n",
       "      <td>0.37</td>\n",
       "      <td>0.5211</td>\n",
       "    </tr>\n",
       "    <tr>\n",
       "      <th>Logistic_Regression_opt_thresh_train</th>\n",
       "      <td>0.9759</td>\n",
       "      <td>0.1719</td>\n",
       "      <td>1.0</td>\n",
       "      <td>0.2933</td>\n",
       "    </tr>\n",
       "    <tr>\n",
       "      <th>Logistic_Regression_opt_thresh_valid</th>\n",
       "      <td>0.9776</td>\n",
       "      <td>0.1826</td>\n",
       "      <td>1.0</td>\n",
       "      <td>0.3089</td>\n",
       "    </tr>\n",
       "    <tr>\n",
       "      <th>Logistic_Regression_weight_class_train</th>\n",
       "      <td>0.9864</td>\n",
       "      <td>0.2682</td>\n",
       "      <td>1.0</td>\n",
       "      <td>0.423</td>\n",
       "    </tr>\n",
       "    <tr>\n",
       "      <th>Logistic_Regression_weight_class_valid</th>\n",
       "      <td>0.987</td>\n",
       "      <td>0.2775</td>\n",
       "      <td>0.995</td>\n",
       "      <td>0.434</td>\n",
       "    </tr>\n",
       "    <tr>\n",
       "      <th>Logistic_Regression_class_weights_opt_thresh_train</th>\n",
       "      <td>0.9859</td>\n",
       "      <td>0.262</td>\n",
       "      <td>1.0</td>\n",
       "      <td>0.4152</td>\n",
       "    </tr>\n",
       "    <tr>\n",
       "      <th>Logistic_Regression_class_weights_opt_thresh_valid</th>\n",
       "      <td>0.9864</td>\n",
       "      <td>0.2695</td>\n",
       "      <td>1.0</td>\n",
       "      <td>0.4246</td>\n",
       "    </tr>\n",
       "    <tr>\n",
       "      <th>Logistic_Regression_resampled_train</th>\n",
       "      <td>0.9901</td>\n",
       "      <td>0.9711</td>\n",
       "      <td>1.0</td>\n",
       "      <td>0.9854</td>\n",
       "    </tr>\n",
       "    <tr>\n",
       "      <th>Logistic_Regression_resampled_valid</th>\n",
       "      <td>0.9856</td>\n",
       "      <td>0.2558</td>\n",
       "      <td>0.985</td>\n",
       "      <td>0.4062</td>\n",
       "    </tr>\n",
       "    <tr>\n",
       "      <th>Logistic_Regression_resampled_opt_thresh_train</th>\n",
       "      <td>0.9869</td>\n",
       "      <td>0.9622</td>\n",
       "      <td>1.0</td>\n",
       "      <td>0.9807</td>\n",
       "    </tr>\n",
       "    <tr>\n",
       "      <th>Logistic_Regression_resampled_opt_thresh_valid</th>\n",
       "      <td>0.9818</td>\n",
       "      <td>0.216</td>\n",
       "      <td>1.0</td>\n",
       "      <td>0.3552</td>\n",
       "    </tr>\n",
       "    <tr>\n",
       "      <th>Random_Forest_train</th>\n",
       "      <td>0.9968</td>\n",
       "      <td>0.9355</td>\n",
       "      <td>0.3867</td>\n",
       "      <td>0.5472</td>\n",
       "    </tr>\n",
       "    <tr>\n",
       "      <th>Random_Forest_valid</th>\n",
       "      <td>0.9966</td>\n",
       "      <td>0.881</td>\n",
       "      <td>0.37</td>\n",
       "      <td>0.5211</td>\n",
       "    </tr>\n",
       "    <tr>\n",
       "      <th>Random_Forest_opt_thresh_train</th>\n",
       "      <td>0.9806</td>\n",
       "      <td>0.2053</td>\n",
       "      <td>1.0</td>\n",
       "      <td>0.3406</td>\n",
       "    </tr>\n",
       "    <tr>\n",
       "      <th>Random_Forest_opt_thresh_valid</th>\n",
       "      <td>0.9665</td>\n",
       "      <td>0.1288</td>\n",
       "      <td>0.99</td>\n",
       "      <td>0.228</td>\n",
       "    </tr>\n",
       "    <tr>\n",
       "      <th>Random_Forest_GS_train</th>\n",
       "      <td>1.0</td>\n",
       "      <td>1.0</td>\n",
       "      <td>1.0</td>\n",
       "      <td>1.0</td>\n",
       "    </tr>\n",
       "    <tr>\n",
       "      <th>Random_Forest_GS_valid</th>\n",
       "      <td>0.9968</td>\n",
       "      <td>1.0</td>\n",
       "      <td>0.365</td>\n",
       "      <td>0.5348</td>\n",
       "    </tr>\n",
       "    <tr>\n",
       "      <th>Random_Forest_GS_opt_thresh_train</th>\n",
       "      <td>0.9896</td>\n",
       "      <td>0.3238</td>\n",
       "      <td>1.0</td>\n",
       "      <td>0.4892</td>\n",
       "    </tr>\n",
       "    <tr>\n",
       "      <th>Random_Forest_GS_opt_thresh_valid</th>\n",
       "      <td>0.9782</td>\n",
       "      <td>0.1869</td>\n",
       "      <td>1.0</td>\n",
       "      <td>0.315</td>\n",
       "    </tr>\n",
       "  </tbody>\n",
       "</table>\n",
       "</div>"
      ],
      "text/plain": [
       "                                                   accuracy precision  recall  \\\n",
       "Logistic_Regression_train                            0.9968    0.9355  0.3867   \n",
       "Logistic_Regression_valid                            0.9966     0.881    0.37   \n",
       "Logistic_Regression_opt_thresh_train                 0.9759    0.1719     1.0   \n",
       "Logistic_Regression_opt_thresh_valid                 0.9776    0.1826     1.0   \n",
       "Logistic_Regression_weight_class_train               0.9864    0.2682     1.0   \n",
       "Logistic_Regression_weight_class_valid                0.987    0.2775   0.995   \n",
       "Logistic_Regression_class_weights_opt_thresh_train   0.9859     0.262     1.0   \n",
       "Logistic_Regression_class_weights_opt_thresh_valid   0.9864    0.2695     1.0   \n",
       "Logistic_Regression_resampled_train                  0.9901    0.9711     1.0   \n",
       "Logistic_Regression_resampled_valid                  0.9856    0.2558   0.985   \n",
       "Logistic_Regression_resampled_opt_thresh_train       0.9869    0.9622     1.0   \n",
       "Logistic_Regression_resampled_opt_thresh_valid       0.9818     0.216     1.0   \n",
       "Random_Forest_train                                  0.9968    0.9355  0.3867   \n",
       "Random_Forest_valid                                  0.9966     0.881    0.37   \n",
       "Random_Forest_opt_thresh_train                       0.9806    0.2053     1.0   \n",
       "Random_Forest_opt_thresh_valid                       0.9665    0.1288    0.99   \n",
       "Random_Forest_GS_train                                  1.0       1.0     1.0   \n",
       "Random_Forest_GS_valid                               0.9968       1.0   0.365   \n",
       "Random_Forest_GS_opt_thresh_train                    0.9896    0.3238     1.0   \n",
       "Random_Forest_GS_opt_thresh_valid                    0.9782    0.1869     1.0   \n",
       "\n",
       "                                                        f1  \n",
       "Logistic_Regression_train                           0.5472  \n",
       "Logistic_Regression_valid                           0.5211  \n",
       "Logistic_Regression_opt_thresh_train                0.2933  \n",
       "Logistic_Regression_opt_thresh_valid                0.3089  \n",
       "Logistic_Regression_weight_class_train               0.423  \n",
       "Logistic_Regression_weight_class_valid               0.434  \n",
       "Logistic_Regression_class_weights_opt_thresh_train  0.4152  \n",
       "Logistic_Regression_class_weights_opt_thresh_valid  0.4246  \n",
       "Logistic_Regression_resampled_train                 0.9854  \n",
       "Logistic_Regression_resampled_valid                 0.4062  \n",
       "Logistic_Regression_resampled_opt_thresh_train      0.9807  \n",
       "Logistic_Regression_resampled_opt_thresh_valid      0.3552  \n",
       "Random_Forest_train                                 0.5472  \n",
       "Random_Forest_valid                                 0.5211  \n",
       "Random_Forest_opt_thresh_train                      0.3406  \n",
       "Random_Forest_opt_thresh_valid                       0.228  \n",
       "Random_Forest_GS_train                                 1.0  \n",
       "Random_Forest_GS_valid                              0.5348  \n",
       "Random_Forest_GS_opt_thresh_train                   0.4892  \n",
       "Random_Forest_GS_opt_thresh_valid                    0.315  "
      ]
     },
     "execution_count": 140,
     "metadata": {},
     "output_type": "execute_result"
    }
   ],
   "source": [
    "save_results(rf_gs,\"Random_Forest_GS_opt_thresh\", thresh=opt_thresh)\n",
    "results_df"
   ]
  },
  {
   "cell_type": "markdown",
   "id": "977a6303",
   "metadata": {},
   "source": [
    "Next step is to employ the resampling techniques"
   ]
  },
  {
   "cell_type": "code",
   "execution_count": null,
   "id": "f6bff076",
   "metadata": {},
   "outputs": [],
   "source": []
  },
  {
   "cell_type": "markdown",
   "id": "f4e33580",
   "metadata": {},
   "source": [
    "Train Random Forest model on the resampled data"
   ]
  },
  {
   "cell_type": "code",
   "execution_count": 141,
   "id": "1f9e0143",
   "metadata": {},
   "outputs": [
    {
     "data": {
      "text/plain": [
       "RandomForestClassifier(bootstrap=True, ccp_alpha=0.0, class_weight=None,\n",
       "                       criterion='gini', max_depth=None, max_features='auto',\n",
       "                       max_leaf_nodes=None, max_samples=None,\n",
       "                       min_impurity_decrease=0.0, min_impurity_split=None,\n",
       "                       min_samples_leaf=1, min_samples_split=2,\n",
       "                       min_weight_fraction_leaf=0.0, n_estimators=400,\n",
       "                       n_jobs=None, oob_score=False, random_state=1, verbose=0,\n",
       "                       warm_start=False)"
      ]
     },
     "execution_count": 141,
     "metadata": {},
     "output_type": "execute_result"
    }
   ],
   "source": [
    "rf_rs = RandomForestClassifier(n_estimators=400, random_state=1)\n",
    "rf_rs.fit(X_train_rs, y_train_rs)"
   ]
  },
  {
   "cell_type": "code",
   "execution_count": 142,
   "id": "d1f1a530",
   "metadata": {},
   "outputs": [
    {
     "name": "stdout",
     "output_type": "stream",
     "text": [
      "Training score is 0.9941 and validation score is 0.9922\n"
     ]
    }
   ],
   "source": [
    "score_print(rf_rs)"
   ]
  },
  {
   "cell_type": "markdown",
   "id": "6e6fbb9f",
   "metadata": {},
   "source": [
    "Still not surpassing the null accuracy here."
   ]
  },
  {
   "cell_type": "code",
   "execution_count": null,
   "id": "48f87f2e",
   "metadata": {},
   "outputs": [],
   "source": []
  },
  {
   "cell_type": "markdown",
   "id": "692a2599",
   "metadata": {},
   "source": [
    "Evaluate using other metrics"
   ]
  },
  {
   "cell_type": "code",
   "execution_count": 143,
   "id": "0086b1e3",
   "metadata": {},
   "outputs": [
    {
     "data": {
      "image/png": "[encoded data removed]",
      "text/plain": [
       "<Figure size 432x288 with 2 Axes>"
      ]
     },
     "metadata": {
      "needs_background": "light"
     },
     "output_type": "display_data"
    }
   ],
   "source": [
    "val_preds = rf_rs.predict(X_valid)\n",
    "\n",
    "make_confusion_matrix(y_valid, val_preds, group_names=group_names, categories=class_names, percent=False)"
   ]
  },
  {
   "cell_type": "markdown",
   "id": "3340aa9b",
   "metadata": {},
   "source": [
    "Resampling the data pushes our F1 score up from the optimized threshold model."
   ]
  },
  {
   "cell_type": "markdown",
   "id": "4cf91dea",
   "metadata": {},
   "source": [
    "Save results"
   ]
  },
  {
   "cell_type": "code",
   "execution_count": 144,
   "id": "28685d6f",
   "metadata": {},
   "outputs": [],
   "source": [
    "save_results(rf_rs, \"Random_Forest_resampled\")"
   ]
  },
  {
   "cell_type": "markdown",
   "id": "e91d4840",
   "metadata": {},
   "source": [
    "### Deciding on the Best Model."
   ]
  },
  {
   "cell_type": "markdown",
   "id": "23806179",
   "metadata": {},
   "source": [
    "After an exhaustive modeling process, it appears I've encountered a wall in terms of improving model performance.\n",
    "\n",
    "None of the models were able to achieve an exceptional f1 score. Some models were able to achieve fantastic recall or precision scores but those high scores always came at the cost of the other."
   ]
  },
  {
   "cell_type": "markdown",
   "id": "6093d2d6",
   "metadata": {},
   "source": [
    "Using the table, that kept track of all the model performances, to choose the best model, I pick grid searched Random Forest model because it has the highest validation f1 score."
   ]
  },
  {
   "cell_type": "code",
   "execution_count": 146,
   "id": "48c3e55d",
   "metadata": {},
   "outputs": [
    {
     "data": {
      "text/html": [
       "<div>\n",
       "<style scoped>\n",
       "    .dataframe tbody tr th:only-of-type {\n",
       "        vertical-align: middle;\n",
       "    }\n",
       "\n",
       "    .dataframe tbody tr th {\n",
       "        vertical-align: top;\n",
       "    }\n",
       "\n",
       "    .dataframe thead th {\n",
       "        text-align: right;\n",
       "    }\n",
       "</style>\n",
       "<table border=\"1\" class=\"dataframe\">\n",
       "  <thead>\n",
       "    <tr style=\"text-align: right;\">\n",
       "      <th></th>\n",
       "      <th>accuracy</th>\n",
       "      <th>precision</th>\n",
       "      <th>recall</th>\n",
       "      <th>f1</th>\n",
       "    </tr>\n",
       "  </thead>\n",
       "  <tbody>\n",
       "    <tr>\n",
       "      <th>Logistic_Regression_train</th>\n",
       "      <td>0.9968</td>\n",
       "      <td>0.9355</td>\n",
       "      <td>0.3867</td>\n",
       "      <td>0.5472</td>\n",
       "    </tr>\n",
       "    <tr>\n",
       "      <th>Logistic_Regression_valid</th>\n",
       "      <td>0.9966</td>\n",
       "      <td>0.881</td>\n",
       "      <td>0.37</td>\n",
       "      <td>0.5211</td>\n",
       "    </tr>\n",
       "    <tr>\n",
       "      <th>Logistic_Regression_opt_thresh_train</th>\n",
       "      <td>0.9759</td>\n",
       "      <td>0.1719</td>\n",
       "      <td>1.0</td>\n",
       "      <td>0.2933</td>\n",
       "    </tr>\n",
       "    <tr>\n",
       "      <th>Logistic_Regression_opt_thresh_valid</th>\n",
       "      <td>0.9776</td>\n",
       "      <td>0.1826</td>\n",
       "      <td>1.0</td>\n",
       "      <td>0.3089</td>\n",
       "    </tr>\n",
       "    <tr>\n",
       "      <th>Logistic_Regression_weight_class_train</th>\n",
       "      <td>0.9864</td>\n",
       "      <td>0.2682</td>\n",
       "      <td>1.0</td>\n",
       "      <td>0.423</td>\n",
       "    </tr>\n",
       "    <tr>\n",
       "      <th>Logistic_Regression_weight_class_valid</th>\n",
       "      <td>0.987</td>\n",
       "      <td>0.2775</td>\n",
       "      <td>0.995</td>\n",
       "      <td>0.434</td>\n",
       "    </tr>\n",
       "    <tr>\n",
       "      <th>Logistic_Regression_class_weights_opt_thresh_train</th>\n",
       "      <td>0.9859</td>\n",
       "      <td>0.262</td>\n",
       "      <td>1.0</td>\n",
       "      <td>0.4152</td>\n",
       "    </tr>\n",
       "    <tr>\n",
       "      <th>Logistic_Regression_class_weights_opt_thresh_valid</th>\n",
       "      <td>0.9864</td>\n",
       "      <td>0.2695</td>\n",
       "      <td>1.0</td>\n",
       "      <td>0.4246</td>\n",
       "    </tr>\n",
       "    <tr>\n",
       "      <th>Logistic_Regression_resampled_train</th>\n",
       "      <td>0.9901</td>\n",
       "      <td>0.9711</td>\n",
       "      <td>1.0</td>\n",
       "      <td>0.9854</td>\n",
       "    </tr>\n",
       "    <tr>\n",
       "      <th>Logistic_Regression_resampled_valid</th>\n",
       "      <td>0.9856</td>\n",
       "      <td>0.2558</td>\n",
       "      <td>0.985</td>\n",
       "      <td>0.4062</td>\n",
       "    </tr>\n",
       "    <tr>\n",
       "      <th>Logistic_Regression_resampled_opt_thresh_train</th>\n",
       "      <td>0.9869</td>\n",
       "      <td>0.9622</td>\n",
       "      <td>1.0</td>\n",
       "      <td>0.9807</td>\n",
       "    </tr>\n",
       "    <tr>\n",
       "      <th>Logistic_Regression_resampled_opt_thresh_valid</th>\n",
       "      <td>0.9818</td>\n",
       "      <td>0.216</td>\n",
       "      <td>1.0</td>\n",
       "      <td>0.3552</td>\n",
       "    </tr>\n",
       "    <tr>\n",
       "      <th>Random_Forest_train</th>\n",
       "      <td>0.9968</td>\n",
       "      <td>0.9355</td>\n",
       "      <td>0.3867</td>\n",
       "      <td>0.5472</td>\n",
       "    </tr>\n",
       "    <tr>\n",
       "      <th>Random_Forest_valid</th>\n",
       "      <td>0.9966</td>\n",
       "      <td>0.881</td>\n",
       "      <td>0.37</td>\n",
       "      <td>0.5211</td>\n",
       "    </tr>\n",
       "    <tr>\n",
       "      <th>Random_Forest_opt_thresh_train</th>\n",
       "      <td>0.9806</td>\n",
       "      <td>0.2053</td>\n",
       "      <td>1.0</td>\n",
       "      <td>0.3406</td>\n",
       "    </tr>\n",
       "    <tr>\n",
       "      <th>Random_Forest_opt_thresh_valid</th>\n",
       "      <td>0.9665</td>\n",
       "      <td>0.1288</td>\n",
       "      <td>0.99</td>\n",
       "      <td>0.228</td>\n",
       "    </tr>\n",
       "    <tr>\n",
       "      <th>Random_Forest_GS_train</th>\n",
       "      <td>1.0</td>\n",
       "      <td>1.0</td>\n",
       "      <td>1.0</td>\n",
       "      <td>1.0</td>\n",
       "    </tr>\n",
       "    <tr>\n",
       "      <th>Random_Forest_GS_valid</th>\n",
       "      <td>0.9968</td>\n",
       "      <td>1.0</td>\n",
       "      <td>0.365</td>\n",
       "      <td>0.5348</td>\n",
       "    </tr>\n",
       "    <tr>\n",
       "      <th>Random_Forest_GS_opt_thresh_train</th>\n",
       "      <td>0.9896</td>\n",
       "      <td>0.3238</td>\n",
       "      <td>1.0</td>\n",
       "      <td>0.4892</td>\n",
       "    </tr>\n",
       "    <tr>\n",
       "      <th>Random_Forest_GS_opt_thresh_valid</th>\n",
       "      <td>0.9782</td>\n",
       "      <td>0.1869</td>\n",
       "      <td>1.0</td>\n",
       "      <td>0.315</td>\n",
       "    </tr>\n",
       "    <tr>\n",
       "      <th>Random_Forest_resampled_train</th>\n",
       "      <td>0.9941</td>\n",
       "      <td>0.4601</td>\n",
       "      <td>1.0</td>\n",
       "      <td>0.6303</td>\n",
       "    </tr>\n",
       "    <tr>\n",
       "      <th>Random_Forest_resampled_valid</th>\n",
       "      <td>0.9922</td>\n",
       "      <td>0.3747</td>\n",
       "      <td>0.83</td>\n",
       "      <td>0.5163</td>\n",
       "    </tr>\n",
       "  </tbody>\n",
       "</table>\n",
       "</div>"
      ],
      "text/plain": [
       "                                                   accuracy precision  recall  \\\n",
       "Logistic_Regression_train                            0.9968    0.9355  0.3867   \n",
       "Logistic_Regression_valid                            0.9966     0.881    0.37   \n",
       "Logistic_Regression_opt_thresh_train                 0.9759    0.1719     1.0   \n",
       "Logistic_Regression_opt_thresh_valid                 0.9776    0.1826     1.0   \n",
       "Logistic_Regression_weight_class_train               0.9864    0.2682     1.0   \n",
       "Logistic_Regression_weight_class_valid                0.987    0.2775   0.995   \n",
       "Logistic_Regression_class_weights_opt_thresh_train   0.9859     0.262     1.0   \n",
       "Logistic_Regression_class_weights_opt_thresh_valid   0.9864    0.2695     1.0   \n",
       "Logistic_Regression_resampled_train                  0.9901    0.9711     1.0   \n",
       "Logistic_Regression_resampled_valid                  0.9856    0.2558   0.985   \n",
       "Logistic_Regression_resampled_opt_thresh_train       0.9869    0.9622     1.0   \n",
       "Logistic_Regression_resampled_opt_thresh_valid       0.9818     0.216     1.0   \n",
       "Random_Forest_train                                  0.9968    0.9355  0.3867   \n",
       "Random_Forest_valid                                  0.9966     0.881    0.37   \n",
       "Random_Forest_opt_thresh_train                       0.9806    0.2053     1.0   \n",
       "Random_Forest_opt_thresh_valid                       0.9665    0.1288    0.99   \n",
       "Random_Forest_GS_train                                  1.0       1.0     1.0   \n",
       "Random_Forest_GS_valid                               0.9968       1.0   0.365   \n",
       "Random_Forest_GS_opt_thresh_train                    0.9896    0.3238     1.0   \n",
       "Random_Forest_GS_opt_thresh_valid                    0.9782    0.1869     1.0   \n",
       "Random_Forest_resampled_train                        0.9941    0.4601     1.0   \n",
       "Random_Forest_resampled_valid                        0.9922    0.3747    0.83   \n",
       "\n",
       "                                                        f1  \n",
       "Logistic_Regression_train                           0.5472  \n",
       "Logistic_Regression_valid                           0.5211  \n",
       "Logistic_Regression_opt_thresh_train                0.2933  \n",
       "Logistic_Regression_opt_thresh_valid                0.3089  \n",
       "Logistic_Regression_weight_class_train               0.423  \n",
       "Logistic_Regression_weight_class_valid               0.434  \n",
       "Logistic_Regression_class_weights_opt_thresh_train  0.4152  \n",
       "Logistic_Regression_class_weights_opt_thresh_valid  0.4246  \n",
       "Logistic_Regression_resampled_train                 0.9854  \n",
       "Logistic_Regression_resampled_valid                 0.4062  \n",
       "Logistic_Regression_resampled_opt_thresh_train      0.9807  \n",
       "Logistic_Regression_resampled_opt_thresh_valid      0.3552  \n",
       "Random_Forest_train                                 0.5472  \n",
       "Random_Forest_valid                                 0.5211  \n",
       "Random_Forest_opt_thresh_train                      0.3406  \n",
       "Random_Forest_opt_thresh_valid                       0.228  \n",
       "Random_Forest_GS_train                                 1.0  \n",
       "Random_Forest_GS_valid                              0.5348  \n",
       "Random_Forest_GS_opt_thresh_train                   0.4892  \n",
       "Random_Forest_GS_opt_thresh_valid                    0.315  \n",
       "Random_Forest_resampled_train                       0.6303  \n",
       "Random_Forest_resampled_valid                       0.5163  "
      ]
     },
     "execution_count": 146,
     "metadata": {},
     "output_type": "execute_result"
    }
   ],
   "source": [
    "results_df"
   ]
  },
  {
   "cell_type": "code",
   "execution_count": 148,
   "id": "fa13a0a5",
   "metadata": {},
   "outputs": [
    {
     "data": {
      "text/plain": [
       "['../model/Random_Forest_model.pkl']"
      ]
     },
     "execution_count": 148,
     "metadata": {},
     "output_type": "execute_result"
    }
   ],
   "source": [
    "#Save best model\n",
    "joblib.dump(rf_gs, \"../model/Random_Forest_model.pkl\")"
   ]
  },
  {
   "cell_type": "code",
   "execution_count": null,
   "id": "3888c6ce",
   "metadata": {},
   "outputs": [],
   "source": []
  },
  {
   "cell_type": "markdown",
   "id": "da6122f4",
   "metadata": {},
   "source": [
    "Throughout the course of the modeling it's become clear choosing the right probability threshold is extremely important. That's why I feel it is necessary to include the following chart that shows the relationship between probability threshold and the precision and recall scores."
   ]
  },
  {
   "cell_type": "code",
   "execution_count": 152,
   "id": "2bffa6fc",
   "metadata": {},
   "outputs": [],
   "source": [
    "#make validation predictions\n",
    "val_preds = rf_gs.predict_proba(X_valid)[:, 1]"
   ]
  },
  {
   "cell_type": "code",
   "execution_count": 159,
   "id": "a24da4db",
   "metadata": {},
   "outputs": [],
   "source": [
    "precisions, recalls, thresholds = precision_recall_curve(y_valid, val_preds)"
   ]
  },
  {
   "cell_type": "code",
   "execution_count": 162,
   "id": "d071f95a",
   "metadata": {},
   "outputs": [
    {
     "data": {
      "text/plain": [
       "<matplotlib.legend.Legend at 0x13f22c2b0>"
      ]
     },
     "execution_count": 162,
     "metadata": {},
     "output_type": "execute_result"
    },
    {
     "data": {
      "image/png": "[encoded data removed]",
      "text/plain": [
       "<Figure size 720x504 with 1 Axes>"
      ]
     },
     "metadata": {
      "needs_background": "light"
     },
     "output_type": "display_data"
    }
   ],
   "source": [
    "plt.figure(figsize = (10, 7))\n",
    "plt.plot(thresholds, precisions[:-1], \"b--\", label=\"Precision\")\n",
    "plt.plot(thresholds, recalls[:-1], \"g--\", label=\"Recall\")\n",
    "plt.xlabel(\"Threshold\")\n",
    "plt.legend(bbox_to_anchor=(1.05, 1), loc='upper left', borderaxespad=0.)"
   ]
  },
  {
   "cell_type": "markdown",
   "id": "5226faa0",
   "metadata": {},
   "source": [
    "I advise the stakeholders to consult this graph in order to choose the optimal threshold that strikes the right balance between false negatives and false positives."
   ]
  },
  {
   "cell_type": "code",
   "execution_count": null,
   "id": "ad9d06f5",
   "metadata": {},
   "outputs": [],
   "source": []
  }
 ],
 "metadata": {
  "kernelspec": {
   "display_name": "assignment_env",
   "language": "python",
   "name": "assignment_env"
  },
  "language_info": {
   "codemirror_mode": {
    "name": "ipython",
    "version": 3
   },
   "file_extension": ".py",
   "mimetype": "text/x-python",
   "name": "python",
   "nbconvert_exporter": "python",
   "pygments_lexer": "ipython3",
   "version": "3.9.12"
  }
 },
 "nbformat": 4,
 "nbformat_minor": 5
}
