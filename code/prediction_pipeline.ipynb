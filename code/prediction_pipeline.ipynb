{
 "cells": [
  {
   "cell_type": "code",
   "execution_count": 50,
   "id": "4d6c1102",
   "metadata": {},
   "outputs": [],
   "source": [
    "import joblib\n",
    "import json\n",
    "import pandas as pd\n",
    "import numpy as np"
   ]
  },
  {
   "cell_type": "code",
   "execution_count": 51,
   "id": "eff8db18",
   "metadata": {},
   "outputs": [],
   "source": [
    "path = \"../data/verify.json\"\n",
    "with open(path) as f:\n",
    "    data = json.load(f)"
   ]
  },
  {
   "cell_type": "code",
   "execution_count": 52,
   "id": "fefdce89",
   "metadata": {},
   "outputs": [
    {
     "data": {
      "text/html": [
       "<div>\n",
       "<style scoped>\n",
       "    .dataframe tbody tr th:only-of-type {\n",
       "        vertical-align: middle;\n",
       "    }\n",
       "\n",
       "    .dataframe tbody tr th {\n",
       "        vertical-align: top;\n",
       "    }\n",
       "\n",
       "    .dataframe thead th {\n",
       "        text-align: right;\n",
       "    }\n",
       "</style>\n",
       "<table border=\"1\" class=\"dataframe\">\n",
       "  <thead>\n",
       "    <tr style=\"text-align: right;\">\n",
       "      <th></th>\n",
       "      <th>browser</th>\n",
       "      <th>os</th>\n",
       "      <th>locale</th>\n",
       "      <th>gender</th>\n",
       "      <th>location</th>\n",
       "      <th>sites</th>\n",
       "      <th>time</th>\n",
       "      <th>date</th>\n",
       "    </tr>\n",
       "  </thead>\n",
       "  <tbody>\n",
       "    <tr>\n",
       "      <th>0</th>\n",
       "      <td>Firefox</td>\n",
       "      <td>Ubuntu</td>\n",
       "      <td>ru-RU</td>\n",
       "      <td>m</td>\n",
       "      <td>Singapore/Singapore</td>\n",
       "      <td>[{'site': 'mail.google.com', 'length': 63}, {'...</td>\n",
       "      <td>13:06:00</td>\n",
       "      <td>2019-04-22</td>\n",
       "    </tr>\n",
       "    <tr>\n",
       "      <th>1</th>\n",
       "      <td>Chrome</td>\n",
       "      <td>Windows 10</td>\n",
       "      <td>ru-RU</td>\n",
       "      <td>m</td>\n",
       "      <td>Singapore/Singapore</td>\n",
       "      <td>[{'site': 'mail.google.com', 'length': 122}, {...</td>\n",
       "      <td>14:13:00</td>\n",
       "      <td>2019-04-24</td>\n",
       "    </tr>\n",
       "    <tr>\n",
       "      <th>2</th>\n",
       "      <td>Firefox</td>\n",
       "      <td>Ubuntu</td>\n",
       "      <td>ru-RU</td>\n",
       "      <td>m</td>\n",
       "      <td>Singapore/Singapore</td>\n",
       "      <td>[{'site': 'mail.google.com', 'length': 174}, {...</td>\n",
       "      <td>14:01:00</td>\n",
       "      <td>2019-04-26</td>\n",
       "    </tr>\n",
       "    <tr>\n",
       "      <th>3</th>\n",
       "      <td>Firefox</td>\n",
       "      <td>Ubuntu</td>\n",
       "      <td>ru-RU</td>\n",
       "      <td>m</td>\n",
       "      <td>Singapore/Singapore</td>\n",
       "      <td>[{'site': 'mail.google.com', 'length': 473}, {...</td>\n",
       "      <td>14:49:00</td>\n",
       "      <td>2019-04-28</td>\n",
       "    </tr>\n",
       "    <tr>\n",
       "      <th>4</th>\n",
       "      <td>Firefox</td>\n",
       "      <td>Windows 10</td>\n",
       "      <td>ru-RU</td>\n",
       "      <td>m</td>\n",
       "      <td>Singapore/Singapore</td>\n",
       "      <td>[{'site': 'mail.google.com', 'length': 119}, {...</td>\n",
       "      <td>05:55:00</td>\n",
       "      <td>2019-04-29</td>\n",
       "    </tr>\n",
       "  </tbody>\n",
       "</table>\n",
       "</div>"
      ],
      "text/plain": [
       "   browser          os locale gender             location  \\\n",
       "0  Firefox      Ubuntu  ru-RU      m  Singapore/Singapore   \n",
       "1   Chrome  Windows 10  ru-RU      m  Singapore/Singapore   \n",
       "2  Firefox      Ubuntu  ru-RU      m  Singapore/Singapore   \n",
       "3  Firefox      Ubuntu  ru-RU      m  Singapore/Singapore   \n",
       "4  Firefox  Windows 10  ru-RU      m  Singapore/Singapore   \n",
       "\n",
       "                                               sites      time        date  \n",
       "0  [{'site': 'mail.google.com', 'length': 63}, {'...  13:06:00  2019-04-22  \n",
       "1  [{'site': 'mail.google.com', 'length': 122}, {...  14:13:00  2019-04-24  \n",
       "2  [{'site': 'mail.google.com', 'length': 174}, {...  14:01:00  2019-04-26  \n",
       "3  [{'site': 'mail.google.com', 'length': 473}, {...  14:49:00  2019-04-28  \n",
       "4  [{'site': 'mail.google.com', 'length': 119}, {...  05:55:00  2019-04-29  "
      ]
     },
     "execution_count": 52,
     "metadata": {},
     "output_type": "execute_result"
    }
   ],
   "source": [
    "df = pd.json_normalize(data)\n",
    "df.head()"
   ]
  },
  {
   "cell_type": "code",
   "execution_count": 53,
   "id": "f8379362",
   "metadata": {},
   "outputs": [],
   "source": [
    "sites = df[\"sites\"]"
   ]
  },
  {
   "cell_type": "code",
   "execution_count": 54,
   "id": "2a403899",
   "metadata": {},
   "outputs": [],
   "source": [
    "cv = joblib.load(\"../model/countvec.joblib\")"
   ]
  },
  {
   "cell_type": "code",
   "execution_count": 55,
   "id": "62bda9ee",
   "metadata": {},
   "outputs": [],
   "source": [
    "sites_enc = cv.transform(sites)"
   ]
  },
  {
   "cell_type": "code",
   "execution_count": 56,
   "id": "918e3193",
   "metadata": {},
   "outputs": [],
   "source": [
    "sites_enc = pd.DataFrame(sites_enc.toarray(), columns=cv.get_feature_names())"
   ]
  },
  {
   "cell_type": "code",
   "execution_count": 57,
   "id": "3d0fc46c",
   "metadata": {},
   "outputs": [],
   "source": [
    "df.drop(\"sites\", axis = 1, inplace=True)"
   ]
  },
  {
   "cell_type": "code",
   "execution_count": 58,
   "id": "0495290b",
   "metadata": {},
   "outputs": [],
   "source": [
    "df[\"software_language\"] = df.locale.apply(lambda x:x[:2])\n",
    "df['software_country'] = df.locale.apply(lambda x:x[-2:])\n",
    "df.drop(\"locale\", axis =1 , inplace=True)"
   ]
  },
  {
   "cell_type": "code",
   "execution_count": 59,
   "id": "621ace4b",
   "metadata": {},
   "outputs": [],
   "source": [
    "df[\"country\"] = df.location.apply(lambda x:x.split('/')[0])\n",
    "df[\"city\"] = df.location.apply(lambda x:x.split('/')[1])\n",
    "df.drop(\"location\", axis = 1, inplace=True)"
   ]
  },
  {
   "cell_type": "code",
   "execution_count": 60,
   "id": "4f6fbea1",
   "metadata": {},
   "outputs": [],
   "source": [
    "df[\"hour\"] = df.time.apply(lambda x:int(x[:2]))"
   ]
  },
  {
   "cell_type": "code",
   "execution_count": 61,
   "id": "b1844e77",
   "metadata": {},
   "outputs": [
    {
     "data": {
      "text/html": [
       "<div>\n",
       "<style scoped>\n",
       "    .dataframe tbody tr th:only-of-type {\n",
       "        vertical-align: middle;\n",
       "    }\n",
       "\n",
       "    .dataframe tbody tr th {\n",
       "        vertical-align: top;\n",
       "    }\n",
       "\n",
       "    .dataframe thead th {\n",
       "        text-align: right;\n",
       "    }\n",
       "</style>\n",
       "<table border=\"1\" class=\"dataframe\">\n",
       "  <thead>\n",
       "    <tr style=\"text-align: right;\">\n",
       "      <th></th>\n",
       "      <th>browser</th>\n",
       "      <th>os</th>\n",
       "      <th>gender</th>\n",
       "      <th>time</th>\n",
       "      <th>date</th>\n",
       "      <th>software_language</th>\n",
       "      <th>software_country</th>\n",
       "      <th>country</th>\n",
       "      <th>city</th>\n",
       "      <th>hour</th>\n",
       "    </tr>\n",
       "  </thead>\n",
       "  <tbody>\n",
       "    <tr>\n",
       "      <th>0</th>\n",
       "      <td>Firefox</td>\n",
       "      <td>Ubuntu</td>\n",
       "      <td>m</td>\n",
       "      <td>13:06:00</td>\n",
       "      <td>2019-04-22</td>\n",
       "      <td>ru</td>\n",
       "      <td>RU</td>\n",
       "      <td>Singapore</td>\n",
       "      <td>Singapore</td>\n",
       "      <td>13</td>\n",
       "    </tr>\n",
       "    <tr>\n",
       "      <th>1</th>\n",
       "      <td>Chrome</td>\n",
       "      <td>Windows 10</td>\n",
       "      <td>m</td>\n",
       "      <td>14:13:00</td>\n",
       "      <td>2019-04-24</td>\n",
       "      <td>ru</td>\n",
       "      <td>RU</td>\n",
       "      <td>Singapore</td>\n",
       "      <td>Singapore</td>\n",
       "      <td>14</td>\n",
       "    </tr>\n",
       "    <tr>\n",
       "      <th>2</th>\n",
       "      <td>Firefox</td>\n",
       "      <td>Ubuntu</td>\n",
       "      <td>m</td>\n",
       "      <td>14:01:00</td>\n",
       "      <td>2019-04-26</td>\n",
       "      <td>ru</td>\n",
       "      <td>RU</td>\n",
       "      <td>Singapore</td>\n",
       "      <td>Singapore</td>\n",
       "      <td>14</td>\n",
       "    </tr>\n",
       "    <tr>\n",
       "      <th>3</th>\n",
       "      <td>Firefox</td>\n",
       "      <td>Ubuntu</td>\n",
       "      <td>m</td>\n",
       "      <td>14:49:00</td>\n",
       "      <td>2019-04-28</td>\n",
       "      <td>ru</td>\n",
       "      <td>RU</td>\n",
       "      <td>Singapore</td>\n",
       "      <td>Singapore</td>\n",
       "      <td>14</td>\n",
       "    </tr>\n",
       "    <tr>\n",
       "      <th>4</th>\n",
       "      <td>Firefox</td>\n",
       "      <td>Windows 10</td>\n",
       "      <td>m</td>\n",
       "      <td>05:55:00</td>\n",
       "      <td>2019-04-29</td>\n",
       "      <td>ru</td>\n",
       "      <td>RU</td>\n",
       "      <td>Singapore</td>\n",
       "      <td>Singapore</td>\n",
       "      <td>5</td>\n",
       "    </tr>\n",
       "  </tbody>\n",
       "</table>\n",
       "</div>"
      ],
      "text/plain": [
       "   browser          os gender      time        date software_language  \\\n",
       "0  Firefox      Ubuntu      m  13:06:00  2019-04-22                ru   \n",
       "1   Chrome  Windows 10      m  14:13:00  2019-04-24                ru   \n",
       "2  Firefox      Ubuntu      m  14:01:00  2019-04-26                ru   \n",
       "3  Firefox      Ubuntu      m  14:49:00  2019-04-28                ru   \n",
       "4  Firefox  Windows 10      m  05:55:00  2019-04-29                ru   \n",
       "\n",
       "  software_country    country       city  hour  \n",
       "0               RU  Singapore  Singapore    13  \n",
       "1               RU  Singapore  Singapore    14  \n",
       "2               RU  Singapore  Singapore    14  \n",
       "3               RU  Singapore  Singapore    14  \n",
       "4               RU  Singapore  Singapore     5  "
      ]
     },
     "execution_count": 61,
     "metadata": {},
     "output_type": "execute_result"
    }
   ],
   "source": [
    "df.head()"
   ]
  },
  {
   "cell_type": "code",
   "execution_count": 62,
   "id": "9081caeb",
   "metadata": {},
   "outputs": [],
   "source": [
    "drops = [\"time\", \"date\", 'city']\n",
    "df.drop(drops, axis = 1, inplace=True)"
   ]
  },
  {
   "cell_type": "code",
   "execution_count": 63,
   "id": "e3ebf445",
   "metadata": {},
   "outputs": [],
   "source": [
    "df[\"russia_software\"] = np.where(df.software_country=='RU', \"RU\", \"Other\")\n",
    "\n",
    "df.drop(['software_country',\"software_language\"] , axis = 1, inplace=True)"
   ]
  },
  {
   "cell_type": "code",
   "execution_count": 64,
   "id": "2fd47560",
   "metadata": {},
   "outputs": [
    {
     "name": "stderr",
     "output_type": "stream",
     "text": [
      "/var/folders/lj/w4hy005d5vx9qy3lrwz0xdl80000gn/T/ipykernel_39813/161791293.py:1: FutureWarning: The default value of regex will change from True to False in a future version. In addition, single character regular expressions will *not* be treated as literal strings when regex=True.\n",
      "  sites_enc.columns = sites_enc.columns.str.replace(\".\", \"_\")\n"
     ]
    }
   ],
   "source": [
    "sites_enc.columns = sites_enc.columns.str.replace(\".\", \"_\")"
   ]
  },
  {
   "cell_type": "code",
   "execution_count": 65,
   "id": "5eeeced0",
   "metadata": {},
   "outputs": [],
   "source": [
    "df = pd.concat([df, sites_enc], axis = 1)"
   ]
  },
  {
   "cell_type": "code",
   "execution_count": 76,
   "id": "c1f6427f",
   "metadata": {},
   "outputs": [],
   "source": [
    "site_cols = sites_enc.columns"
   ]
  },
  {
   "cell_type": "code",
   "execution_count": 66,
   "id": "1e728386",
   "metadata": {},
   "outputs": [],
   "source": [
    "feat_eng_pipe = joblib.load(\"../model/feature_engineer_pipeline.pkl\")"
   ]
  },
  {
   "cell_type": "code",
   "execution_count": 74,
   "id": "29d90bec",
   "metadata": {},
   "outputs": [
    {
     "name": "stderr",
     "output_type": "stream",
     "text": [
      "/Users/georgemcintire/projects/job_assignments/toptal/George-McIntire-2/assignment_env/lib/python3.9/site-packages/sklearn/compose/_column_transformer.py:427: FutureWarning: Given feature/column names or counts do not match the ones for the data given during fit. This will fail from v0.24.\n",
      "  warnings.warn(\"Given feature/column names or counts do not match \"\n"
     ]
    }
   ],
   "source": [
    "pred_data = feat_eng_pipe.transform(df)"
   ]
  },
  {
   "cell_type": "code",
   "execution_count": 69,
   "id": "0d1aa50a",
   "metadata": {},
   "outputs": [],
   "source": [
    "cat_cols = ['browser', 'os', 'gender', 'country', 'hour', \"russia_software\"]"
   ]
  },
  {
   "cell_type": "code",
   "execution_count": 70,
   "id": "c7e70f75",
   "metadata": {},
   "outputs": [],
   "source": [
    "cat_col_names = feat_eng_pipe.named_transformers_[\"cat\"][\"ohe\"].get_feature_names(cat_cols).tolist()"
   ]
  },
  {
   "cell_type": "code",
   "execution_count": 78,
   "id": "cac8bfb8",
   "metadata": {},
   "outputs": [],
   "source": [
    "column_names = cat_col_names + site_cols.tolist()"
   ]
  },
  {
   "cell_type": "code",
   "execution_count": 79,
   "id": "02d74d64",
   "metadata": {},
   "outputs": [],
   "source": [
    "\n",
    "\n",
    "pred_data = pd.DataFrame(data=pred_data, columns=column_names)\n"
   ]
  },
  {
   "cell_type": "code",
   "execution_count": 81,
   "id": "665f8401",
   "metadata": {},
   "outputs": [
    {
     "data": {
      "text/html": [
       "<div>\n",
       "<style scoped>\n",
       "    .dataframe tbody tr th:only-of-type {\n",
       "        vertical-align: middle;\n",
       "    }\n",
       "\n",
       "    .dataframe tbody tr th {\n",
       "        vertical-align: top;\n",
       "    }\n",
       "\n",
       "    .dataframe thead th {\n",
       "        text-align: right;\n",
       "    }\n",
       "</style>\n",
       "<table border=\"1\" class=\"dataframe\">\n",
       "  <thead>\n",
       "    <tr style=\"text-align: right;\">\n",
       "      <th></th>\n",
       "      <th>browser_Firefox</th>\n",
       "      <th>browser_Internet Explorer</th>\n",
       "      <th>browser_Safari</th>\n",
       "      <th>os_MacOS</th>\n",
       "      <th>os_Ubuntu</th>\n",
       "      <th>os_Windows 10</th>\n",
       "      <th>os_Windows 7</th>\n",
       "      <th>os_Windows 8</th>\n",
       "      <th>gender_m</th>\n",
       "      <th>country_Brazil</th>\n",
       "      <th>...</th>\n",
       "      <th>yupptv_io</th>\n",
       "      <th>ziffstatic_com</th>\n",
       "      <th>zmedia_vn</th>\n",
       "      <th>zomatobook_com</th>\n",
       "      <th>zoomg_ir</th>\n",
       "      <th>zoozoosexporn_com</th>\n",
       "      <th>zradio_org</th>\n",
       "      <th>zscalergov_net</th>\n",
       "      <th>zubuchygri_com</th>\n",
       "      <th>zuuks_com</th>\n",
       "    </tr>\n",
       "  </thead>\n",
       "  <tbody>\n",
       "    <tr>\n",
       "      <th>0</th>\n",
       "      <td>1.0</td>\n",
       "      <td>0.0</td>\n",
       "      <td>0.0</td>\n",
       "      <td>0.0</td>\n",
       "      <td>1.0</td>\n",
       "      <td>0.0</td>\n",
       "      <td>0.0</td>\n",
       "      <td>0.0</td>\n",
       "      <td>1.0</td>\n",
       "      <td>0.0</td>\n",
       "      <td>...</td>\n",
       "      <td>-0.003584</td>\n",
       "      <td>-0.004739</td>\n",
       "      <td>-0.006483</td>\n",
       "      <td>-0.004851</td>\n",
       "      <td>-0.004078</td>\n",
       "      <td>-0.003795</td>\n",
       "      <td>-0.006528</td>\n",
       "      <td>-0.005339</td>\n",
       "      <td>-0.003942</td>\n",
       "      <td>-0.004998</td>\n",
       "    </tr>\n",
       "    <tr>\n",
       "      <th>1</th>\n",
       "      <td>0.0</td>\n",
       "      <td>0.0</td>\n",
       "      <td>0.0</td>\n",
       "      <td>0.0</td>\n",
       "      <td>0.0</td>\n",
       "      <td>1.0</td>\n",
       "      <td>0.0</td>\n",
       "      <td>0.0</td>\n",
       "      <td>1.0</td>\n",
       "      <td>0.0</td>\n",
       "      <td>...</td>\n",
       "      <td>-0.003584</td>\n",
       "      <td>-0.004739</td>\n",
       "      <td>-0.006483</td>\n",
       "      <td>-0.004851</td>\n",
       "      <td>-0.004078</td>\n",
       "      <td>-0.003795</td>\n",
       "      <td>-0.006528</td>\n",
       "      <td>-0.005339</td>\n",
       "      <td>-0.003942</td>\n",
       "      <td>-0.004998</td>\n",
       "    </tr>\n",
       "    <tr>\n",
       "      <th>2</th>\n",
       "      <td>1.0</td>\n",
       "      <td>0.0</td>\n",
       "      <td>0.0</td>\n",
       "      <td>0.0</td>\n",
       "      <td>1.0</td>\n",
       "      <td>0.0</td>\n",
       "      <td>0.0</td>\n",
       "      <td>0.0</td>\n",
       "      <td>1.0</td>\n",
       "      <td>0.0</td>\n",
       "      <td>...</td>\n",
       "      <td>-0.003584</td>\n",
       "      <td>-0.004739</td>\n",
       "      <td>-0.006483</td>\n",
       "      <td>-0.004851</td>\n",
       "      <td>-0.004078</td>\n",
       "      <td>-0.003795</td>\n",
       "      <td>-0.006528</td>\n",
       "      <td>-0.005339</td>\n",
       "      <td>-0.003942</td>\n",
       "      <td>-0.004998</td>\n",
       "    </tr>\n",
       "    <tr>\n",
       "      <th>3</th>\n",
       "      <td>1.0</td>\n",
       "      <td>0.0</td>\n",
       "      <td>0.0</td>\n",
       "      <td>0.0</td>\n",
       "      <td>1.0</td>\n",
       "      <td>0.0</td>\n",
       "      <td>0.0</td>\n",
       "      <td>0.0</td>\n",
       "      <td>1.0</td>\n",
       "      <td>0.0</td>\n",
       "      <td>...</td>\n",
       "      <td>-0.003584</td>\n",
       "      <td>-0.004739</td>\n",
       "      <td>-0.006483</td>\n",
       "      <td>-0.004851</td>\n",
       "      <td>-0.004078</td>\n",
       "      <td>-0.003795</td>\n",
       "      <td>-0.006528</td>\n",
       "      <td>-0.005339</td>\n",
       "      <td>-0.003942</td>\n",
       "      <td>-0.004998</td>\n",
       "    </tr>\n",
       "    <tr>\n",
       "      <th>4</th>\n",
       "      <td>1.0</td>\n",
       "      <td>0.0</td>\n",
       "      <td>0.0</td>\n",
       "      <td>0.0</td>\n",
       "      <td>0.0</td>\n",
       "      <td>1.0</td>\n",
       "      <td>0.0</td>\n",
       "      <td>0.0</td>\n",
       "      <td>1.0</td>\n",
       "      <td>0.0</td>\n",
       "      <td>...</td>\n",
       "      <td>-0.003584</td>\n",
       "      <td>-0.004739</td>\n",
       "      <td>-0.006483</td>\n",
       "      <td>-0.004851</td>\n",
       "      <td>-0.004078</td>\n",
       "      <td>-0.003795</td>\n",
       "      <td>-0.006528</td>\n",
       "      <td>-0.005339</td>\n",
       "      <td>-0.003942</td>\n",
       "      <td>-0.004998</td>\n",
       "    </tr>\n",
       "  </tbody>\n",
       "</table>\n",
       "<p>5 rows × 1049 columns</p>\n",
       "</div>"
      ],
      "text/plain": [
       "   browser_Firefox  browser_Internet Explorer  browser_Safari  os_MacOS  \\\n",
       "0              1.0                        0.0             0.0       0.0   \n",
       "1              0.0                        0.0             0.0       0.0   \n",
       "2              1.0                        0.0             0.0       0.0   \n",
       "3              1.0                        0.0             0.0       0.0   \n",
       "4              1.0                        0.0             0.0       0.0   \n",
       "\n",
       "   os_Ubuntu  os_Windows 10  os_Windows 7  os_Windows 8  gender_m  \\\n",
       "0        1.0            0.0           0.0           0.0       1.0   \n",
       "1        0.0            1.0           0.0           0.0       1.0   \n",
       "2        1.0            0.0           0.0           0.0       1.0   \n",
       "3        1.0            0.0           0.0           0.0       1.0   \n",
       "4        0.0            1.0           0.0           0.0       1.0   \n",
       "\n",
       "   country_Brazil  ...  yupptv_io  ziffstatic_com  zmedia_vn  zomatobook_com  \\\n",
       "0             0.0  ...  -0.003584       -0.004739  -0.006483       -0.004851   \n",
       "1             0.0  ...  -0.003584       -0.004739  -0.006483       -0.004851   \n",
       "2             0.0  ...  -0.003584       -0.004739  -0.006483       -0.004851   \n",
       "3             0.0  ...  -0.003584       -0.004739  -0.006483       -0.004851   \n",
       "4             0.0  ...  -0.003584       -0.004739  -0.006483       -0.004851   \n",
       "\n",
       "   zoomg_ir  zoozoosexporn_com  zradio_org  zscalergov_net  zubuchygri_com  \\\n",
       "0 -0.004078          -0.003795   -0.006528       -0.005339       -0.003942   \n",
       "1 -0.004078          -0.003795   -0.006528       -0.005339       -0.003942   \n",
       "2 -0.004078          -0.003795   -0.006528       -0.005339       -0.003942   \n",
       "3 -0.004078          -0.003795   -0.006528       -0.005339       -0.003942   \n",
       "4 -0.004078          -0.003795   -0.006528       -0.005339       -0.003942   \n",
       "\n",
       "   zuuks_com  \n",
       "0  -0.004998  \n",
       "1  -0.004998  \n",
       "2  -0.004998  \n",
       "3  -0.004998  \n",
       "4  -0.004998  \n",
       "\n",
       "[5 rows x 1049 columns]"
      ]
     },
     "execution_count": 81,
     "metadata": {},
     "output_type": "execute_result"
    }
   ],
   "source": [
    "pred_data.head()"
   ]
  },
  {
   "cell_type": "code",
   "execution_count": 82,
   "id": "af5dca95",
   "metadata": {},
   "outputs": [],
   "source": [
    "pred_data.drop(\"browser_Safari\", axis = 1, inplace=True)"
   ]
  },
  {
   "cell_type": "code",
   "execution_count": 83,
   "id": "65d41514",
   "metadata": {},
   "outputs": [],
   "source": [
    "select = joblib.load(\"../model/feature_selector.pkl\")"
   ]
  },
  {
   "cell_type": "code",
   "execution_count": 84,
   "id": "4fc54666",
   "metadata": {},
   "outputs": [],
   "source": [
    "pred_data = select.transform(pred_data)"
   ]
  },
  {
   "cell_type": "code",
   "execution_count": 85,
   "id": "34b63f58",
   "metadata": {},
   "outputs": [
    {
     "data": {
      "text/plain": [
       "(22700, 83)"
      ]
     },
     "execution_count": 85,
     "metadata": {},
     "output_type": "execute_result"
    }
   ],
   "source": [
    "pred_data.shape"
   ]
  },
  {
   "cell_type": "code",
   "execution_count": 86,
   "id": "e16194f5",
   "metadata": {},
   "outputs": [],
   "source": [
    "model = joblib.load(\"../model/Random_Forest_model.pkl\")"
   ]
  },
  {
   "cell_type": "code",
   "execution_count": 88,
   "id": "57970a49",
   "metadata": {},
   "outputs": [],
   "source": [
    "preds = model.predict(pred_data)"
   ]
  },
  {
   "cell_type": "code",
   "execution_count": 91,
   "id": "af372a5d",
   "metadata": {},
   "outputs": [
    {
     "data": {
      "text/plain": [
       "0    0.989515\n",
       "1    0.010485\n",
       "dtype: float64"
      ]
     },
     "execution_count": 91,
     "metadata": {},
     "output_type": "execute_result"
    }
   ],
   "source": [
    "pd.value_counts(preds, normalize=True)"
   ]
  },
  {
   "cell_type": "code",
   "execution_count": 92,
   "id": "9f6b54fd",
   "metadata": {},
   "outputs": [
    {
     "data": {
      "text/html": [
       "<div>\n",
       "<style scoped>\n",
       "    .dataframe tbody tr th:only-of-type {\n",
       "        vertical-align: middle;\n",
       "    }\n",
       "\n",
       "    .dataframe tbody tr th {\n",
       "        vertical-align: top;\n",
       "    }\n",
       "\n",
       "    .dataframe thead th {\n",
       "        text-align: right;\n",
       "    }\n",
       "</style>\n",
       "<table border=\"1\" class=\"dataframe\">\n",
       "  <thead>\n",
       "    <tr style=\"text-align: right;\">\n",
       "      <th></th>\n",
       "      <th>browser</th>\n",
       "      <th>os</th>\n",
       "      <th>gender</th>\n",
       "      <th>country</th>\n",
       "      <th>hour</th>\n",
       "      <th>russia_software</th>\n",
       "      <th>0x_tf</th>\n",
       "      <th>139_com</th>\n",
       "      <th>22_cn</th>\n",
       "      <th>247wallst_com</th>\n",
       "      <th>...</th>\n",
       "      <th>yupptv_io</th>\n",
       "      <th>ziffstatic_com</th>\n",
       "      <th>zmedia_vn</th>\n",
       "      <th>zomatobook_com</th>\n",
       "      <th>zoomg_ir</th>\n",
       "      <th>zoozoosexporn_com</th>\n",
       "      <th>zradio_org</th>\n",
       "      <th>zscalergov_net</th>\n",
       "      <th>zubuchygri_com</th>\n",
       "      <th>zuuks_com</th>\n",
       "    </tr>\n",
       "  </thead>\n",
       "  <tbody>\n",
       "    <tr>\n",
       "      <th>0</th>\n",
       "      <td>Firefox</td>\n",
       "      <td>Ubuntu</td>\n",
       "      <td>m</td>\n",
       "      <td>Singapore</td>\n",
       "      <td>13</td>\n",
       "      <td>RU</td>\n",
       "      <td>0</td>\n",
       "      <td>0</td>\n",
       "      <td>0</td>\n",
       "      <td>0</td>\n",
       "      <td>...</td>\n",
       "      <td>0</td>\n",
       "      <td>0</td>\n",
       "      <td>0</td>\n",
       "      <td>0</td>\n",
       "      <td>0</td>\n",
       "      <td>0</td>\n",
       "      <td>0</td>\n",
       "      <td>0</td>\n",
       "      <td>0</td>\n",
       "      <td>0</td>\n",
       "    </tr>\n",
       "    <tr>\n",
       "      <th>1</th>\n",
       "      <td>Chrome</td>\n",
       "      <td>Windows 10</td>\n",
       "      <td>m</td>\n",
       "      <td>Singapore</td>\n",
       "      <td>14</td>\n",
       "      <td>RU</td>\n",
       "      <td>0</td>\n",
       "      <td>0</td>\n",
       "      <td>0</td>\n",
       "      <td>0</td>\n",
       "      <td>...</td>\n",
       "      <td>0</td>\n",
       "      <td>0</td>\n",
       "      <td>0</td>\n",
       "      <td>0</td>\n",
       "      <td>0</td>\n",
       "      <td>0</td>\n",
       "      <td>0</td>\n",
       "      <td>0</td>\n",
       "      <td>0</td>\n",
       "      <td>0</td>\n",
       "    </tr>\n",
       "    <tr>\n",
       "      <th>2</th>\n",
       "      <td>Firefox</td>\n",
       "      <td>Ubuntu</td>\n",
       "      <td>m</td>\n",
       "      <td>Singapore</td>\n",
       "      <td>14</td>\n",
       "      <td>RU</td>\n",
       "      <td>0</td>\n",
       "      <td>0</td>\n",
       "      <td>0</td>\n",
       "      <td>0</td>\n",
       "      <td>...</td>\n",
       "      <td>0</td>\n",
       "      <td>0</td>\n",
       "      <td>0</td>\n",
       "      <td>0</td>\n",
       "      <td>0</td>\n",
       "      <td>0</td>\n",
       "      <td>0</td>\n",
       "      <td>0</td>\n",
       "      <td>0</td>\n",
       "      <td>0</td>\n",
       "    </tr>\n",
       "    <tr>\n",
       "      <th>3</th>\n",
       "      <td>Firefox</td>\n",
       "      <td>Ubuntu</td>\n",
       "      <td>m</td>\n",
       "      <td>Singapore</td>\n",
       "      <td>14</td>\n",
       "      <td>RU</td>\n",
       "      <td>0</td>\n",
       "      <td>0</td>\n",
       "      <td>0</td>\n",
       "      <td>0</td>\n",
       "      <td>...</td>\n",
       "      <td>0</td>\n",
       "      <td>0</td>\n",
       "      <td>0</td>\n",
       "      <td>0</td>\n",
       "      <td>0</td>\n",
       "      <td>0</td>\n",
       "      <td>0</td>\n",
       "      <td>0</td>\n",
       "      <td>0</td>\n",
       "      <td>0</td>\n",
       "    </tr>\n",
       "    <tr>\n",
       "      <th>4</th>\n",
       "      <td>Firefox</td>\n",
       "      <td>Windows 10</td>\n",
       "      <td>m</td>\n",
       "      <td>Singapore</td>\n",
       "      <td>5</td>\n",
       "      <td>RU</td>\n",
       "      <td>0</td>\n",
       "      <td>0</td>\n",
       "      <td>0</td>\n",
       "      <td>0</td>\n",
       "      <td>...</td>\n",
       "      <td>0</td>\n",
       "      <td>0</td>\n",
       "      <td>0</td>\n",
       "      <td>0</td>\n",
       "      <td>0</td>\n",
       "      <td>0</td>\n",
       "      <td>0</td>\n",
       "      <td>0</td>\n",
       "      <td>0</td>\n",
       "      <td>0</td>\n",
       "    </tr>\n",
       "  </tbody>\n",
       "</table>\n",
       "<p>5 rows × 1006 columns</p>\n",
       "</div>"
      ],
      "text/plain": [
       "   browser          os gender    country  hour russia_software  0x_tf  \\\n",
       "0  Firefox      Ubuntu      m  Singapore    13              RU      0   \n",
       "1   Chrome  Windows 10      m  Singapore    14              RU      0   \n",
       "2  Firefox      Ubuntu      m  Singapore    14              RU      0   \n",
       "3  Firefox      Ubuntu      m  Singapore    14              RU      0   \n",
       "4  Firefox  Windows 10      m  Singapore     5              RU      0   \n",
       "\n",
       "   139_com  22_cn  247wallst_com  ...  yupptv_io  ziffstatic_com  zmedia_vn  \\\n",
       "0        0      0              0  ...          0               0          0   \n",
       "1        0      0              0  ...          0               0          0   \n",
       "2        0      0              0  ...          0               0          0   \n",
       "3        0      0              0  ...          0               0          0   \n",
       "4        0      0              0  ...          0               0          0   \n",
       "\n",
       "   zomatobook_com  zoomg_ir  zoozoosexporn_com  zradio_org  zscalergov_net  \\\n",
       "0               0         0                  0           0               0   \n",
       "1               0         0                  0           0               0   \n",
       "2               0         0                  0           0               0   \n",
       "3               0         0                  0           0               0   \n",
       "4               0         0                  0           0               0   \n",
       "\n",
       "   zubuchygri_com  zuuks_com  \n",
       "0               0          0  \n",
       "1               0          0  \n",
       "2               0          0  \n",
       "3               0          0  \n",
       "4               0          0  \n",
       "\n",
       "[5 rows x 1006 columns]"
      ]
     },
     "execution_count": 92,
     "metadata": {},
     "output_type": "execute_result"
    }
   ],
   "source": [
    "df.head()"
   ]
  },
  {
   "cell_type": "code",
   "execution_count": 97,
   "id": "b32028ab",
   "metadata": {},
   "outputs": [],
   "source": [
    "preds_df = pd.DataFrame(index=df.index, data = preds)"
   ]
  },
  {
   "cell_type": "code",
   "execution_count": 98,
   "id": "00a5c0a4",
   "metadata": {},
   "outputs": [],
   "source": [
    "preds_df.to_csv(\"../data/result.csv\")"
   ]
  },
  {
   "cell_type": "code",
   "execution_count": null,
   "id": "e8be50f0",
   "metadata": {},
   "outputs": [],
   "source": []
  }
 ],
 "metadata": {
  "kernelspec": {
   "display_name": "assignment_env",
   "language": "python",
   "name": "assignment_env"
  },
  "language_info": {
   "codemirror_mode": {
    "name": "ipython",
    "version": 3
   },
   "file_extension": ".py",
   "mimetype": "text/x-python",
   "name": "python",
   "nbconvert_exporter": "python",
   "pygments_lexer": "ipython3",
   "version": "3.9.12"
  }
 },
 "nbformat": 4,
 "nbformat_minor": 5
}
