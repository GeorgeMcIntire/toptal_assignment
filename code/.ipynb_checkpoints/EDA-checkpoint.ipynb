{
 "cells": [
  {
   "cell_type": "markdown",
   "id": "a5c02119",
   "metadata": {},
   "source": [
    "# Exploratory Data Analysis"
   ]
  },
  {
   "cell_type": "markdown",
   "id": "a5a5d85c",
   "metadata": {},
   "source": [
    "### Objective\n",
    "\n",
    "In this notebook I familiarize myself with the data. This includes cleaning and restructuring the data in a way that suits the project's machine learning-based goal. Throughout the course of this notebook I inspect the different variables in the data to understand them and also get a sense of if and how they'll factor into my modeling.\n"
   ]
  },
  {
   "cell_type": "code",
   "execution_count": null,
   "id": "37c8d86e",
   "metadata": {},
   "outputs": [],
   "source": []
  },
  {
   "cell_type": "markdown",
   "id": "50c76503",
   "metadata": {},
   "source": [
    "### Data Dictionary\n",
    "\n",
    "\"The dataset contains data about user sessions that have been recorded over a period of\n",
    "time. The dataset consists of two parts: the training dataset where user ID's are labeled, and\n",
    "the verification set without labels.\n",
    "Each session is represented by a JSON object with the following fields:\n",
    "\n",
    "- \"user_id\" is the unique identifier of the user.\n",
    "- \"browser\", \"os\", \"locale\" contain info about the software on the user's machine.\n",
    "- \"gender\", \"location\" give analytics data about the user.\n",
    "- \"date\" and \"time\" is the moment when the session started (in GMT).\n",
    "- \"sites\" is a list of up to 15 sites visited during the session. For each site, the URL and the length of visit in seconds are given.\""
   ]
  },
  {
   "cell_type": "markdown",
   "id": "f4792558",
   "metadata": {},
   "source": [
    "Imports"
   ]
  },
  {
   "cell_type": "code",
   "execution_count": 2,
   "id": "211fdea0",
   "metadata": {},
   "outputs": [],
   "source": [
    "import pandas as pd\n",
    "import numpy as np\n",
    "import json\n",
    "import joblib\n",
    "import matplotlib.pyplot as plt\n",
    "from collections import Counter, defaultdict\n",
    "from sklearn.feature_extraction.text import CountVectorizer\n",
    "\n",
    "#utililty helper functions I made to aide with plotting\n",
    "from utils import histogram_boxplot, labeled_barplot, distribution_plot_wrt_target, crosstab_plot, custom_vect"
   ]
  },
  {
   "cell_type": "code",
   "execution_count": 3,
   "id": "4474554c",
   "metadata": {},
   "outputs": [],
   "source": [
    "#Load in data\n",
    "path = \"../data/dataset.json\"\n",
    "with open(path) as f:\n",
    "    data = json.load(f)\n"
   ]
  },
  {
   "cell_type": "markdown",
   "id": "e67adb3a",
   "metadata": {},
   "source": [
    "Inspect first element."
   ]
  },
  {
   "cell_type": "code",
   "execution_count": 4,
   "id": "a7f2fc81",
   "metadata": {},
   "outputs": [
    {
     "data": {
      "text/plain": [
       "{'browser': 'Chrome',\n",
       " 'os': 'Windows 8',\n",
       " 'locale': 'de-DE',\n",
       " 'user_id': 164,\n",
       " 'gender': 'm',\n",
       " 'location': 'Canada/Toronto',\n",
       " 'sites': [{'site': 'lenta.ru', 'length': 296},\n",
       "  {'site': 'lenta.ru', 'length': 69},\n",
       "  {'site': 'vk.com', 'length': 94},\n",
       "  {'site': 'lenta.ru', 'length': 129},\n",
       "  {'site': 'wikipedia.org', 'length': 70},\n",
       "  {'site': 'instagram.com', 'length': 120},\n",
       "  {'site': 'msn.com', 'length': 54},\n",
       "  {'site': 'amazon.com', 'length': 213},\n",
       "  {'site': 'outlook.com', 'length': 140},\n",
       "  {'site': 'verisign.com', 'length': 166},\n",
       "  {'site': 'googleadservices.com', 'length': 115},\n",
       "  {'site': 'akamaiedge.net', 'length': 88},\n",
       "  {'site': 'stardock.com', 'length': 207},\n",
       "  {'site': 'mediaarea.net', 'length': 78}],\n",
       " 'time': '03:57:00',\n",
       " 'date': '2016-08-14'}"
      ]
     },
     "execution_count": 4,
     "metadata": {},
     "output_type": "execute_result"
    }
   ],
   "source": [
    "data[0]"
   ]
  },
  {
   "cell_type": "markdown",
   "id": "ca306fdd",
   "metadata": {},
   "source": [
    "Convert to pandas dataframe"
   ]
  },
  {
   "cell_type": "code",
   "execution_count": 5,
   "id": "7173883c",
   "metadata": {},
   "outputs": [
    {
     "data": {
      "text/html": [
       "<div>\n",
       "<style scoped>\n",
       "    .dataframe tbody tr th:only-of-type {\n",
       "        vertical-align: middle;\n",
       "    }\n",
       "\n",
       "    .dataframe tbody tr th {\n",
       "        vertical-align: top;\n",
       "    }\n",
       "\n",
       "    .dataframe thead th {\n",
       "        text-align: right;\n",
       "    }\n",
       "</style>\n",
       "<table border=\"1\" class=\"dataframe\">\n",
       "  <thead>\n",
       "    <tr style=\"text-align: right;\">\n",
       "      <th></th>\n",
       "      <th>browser</th>\n",
       "      <th>os</th>\n",
       "      <th>locale</th>\n",
       "      <th>user_id</th>\n",
       "      <th>gender</th>\n",
       "      <th>location</th>\n",
       "      <th>sites</th>\n",
       "      <th>time</th>\n",
       "      <th>date</th>\n",
       "    </tr>\n",
       "  </thead>\n",
       "  <tbody>\n",
       "    <tr>\n",
       "      <th>0</th>\n",
       "      <td>Chrome</td>\n",
       "      <td>Windows 8</td>\n",
       "      <td>de-DE</td>\n",
       "      <td>164</td>\n",
       "      <td>m</td>\n",
       "      <td>Canada/Toronto</td>\n",
       "      <td>[{'site': 'lenta.ru', 'length': 296}, {'site':...</td>\n",
       "      <td>03:57:00</td>\n",
       "      <td>2016-08-14</td>\n",
       "    </tr>\n",
       "    <tr>\n",
       "      <th>1</th>\n",
       "      <td>Chrome</td>\n",
       "      <td>Windows 10</td>\n",
       "      <td>pt-PT</td>\n",
       "      <td>99</td>\n",
       "      <td>f</td>\n",
       "      <td>Netherlands/Amsterdam</td>\n",
       "      <td>[{'site': 'windowsupdate.com', 'length': 56}, ...</td>\n",
       "      <td>13:52:00</td>\n",
       "      <td>2016-05-31</td>\n",
       "    </tr>\n",
       "    <tr>\n",
       "      <th>2</th>\n",
       "      <td>Chrome</td>\n",
       "      <td>Windows 10</td>\n",
       "      <td>bg-BG</td>\n",
       "      <td>28</td>\n",
       "      <td>m</td>\n",
       "      <td>Brazil/Rio de Janeiro</td>\n",
       "      <td>[{'site': 'slack.com', 'length': 158}, {'site'...</td>\n",
       "      <td>17:40:00</td>\n",
       "      <td>2019-04-15</td>\n",
       "    </tr>\n",
       "    <tr>\n",
       "      <th>3</th>\n",
       "      <td>Internet Explorer</td>\n",
       "      <td>Ubuntu</td>\n",
       "      <td>en-US</td>\n",
       "      <td>163</td>\n",
       "      <td>f</td>\n",
       "      <td>New Zealand/Auckland</td>\n",
       "      <td>[{'site': 'amazon.com', 'length': 168}, {'site...</td>\n",
       "      <td>20:23:00</td>\n",
       "      <td>2018-03-25</td>\n",
       "    </tr>\n",
       "    <tr>\n",
       "      <th>4</th>\n",
       "      <td>Firefox</td>\n",
       "      <td>Debian</td>\n",
       "      <td>ro-RO</td>\n",
       "      <td>177</td>\n",
       "      <td>f</td>\n",
       "      <td>New Zealand/Auckland</td>\n",
       "      <td>[{'site': 'vk.com', 'length': 43}, {'site': 'm...</td>\n",
       "      <td>01:10:00</td>\n",
       "      <td>2018-09-08</td>\n",
       "    </tr>\n",
       "  </tbody>\n",
       "</table>\n",
       "</div>"
      ],
      "text/plain": [
       "             browser          os locale  user_id gender  \\\n",
       "0             Chrome   Windows 8  de-DE      164      m   \n",
       "1             Chrome  Windows 10  pt-PT       99      f   \n",
       "2             Chrome  Windows 10  bg-BG       28      m   \n",
       "3  Internet Explorer      Ubuntu  en-US      163      f   \n",
       "4            Firefox      Debian  ro-RO      177      f   \n",
       "\n",
       "                location                                              sites  \\\n",
       "0         Canada/Toronto  [{'site': 'lenta.ru', 'length': 296}, {'site':...   \n",
       "1  Netherlands/Amsterdam  [{'site': 'windowsupdate.com', 'length': 56}, ...   \n",
       "2  Brazil/Rio de Janeiro  [{'site': 'slack.com', 'length': 158}, {'site'...   \n",
       "3   New Zealand/Auckland  [{'site': 'amazon.com', 'length': 168}, {'site...   \n",
       "4   New Zealand/Auckland  [{'site': 'vk.com', 'length': 43}, {'site': 'm...   \n",
       "\n",
       "       time        date  \n",
       "0  03:57:00  2016-08-14  \n",
       "1  13:52:00  2016-05-31  \n",
       "2  17:40:00  2019-04-15  \n",
       "3  20:23:00  2018-03-25  \n",
       "4  01:10:00  2018-09-08  "
      ]
     },
     "execution_count": 5,
     "metadata": {},
     "output_type": "execute_result"
    }
   ],
   "source": [
    "df = pd.json_normalize(data)\n",
    "df.head()"
   ]
  },
  {
   "cell_type": "code",
   "execution_count": 6,
   "id": "5c789557",
   "metadata": {},
   "outputs": [
    {
     "name": "stdout",
     "output_type": "stream",
     "text": [
      "<class 'pandas.core.frame.DataFrame'>\n",
      "RangeIndex: 160000 entries, 0 to 159999\n",
      "Data columns (total 9 columns):\n",
      " #   Column    Non-Null Count   Dtype \n",
      "---  ------    --------------   ----- \n",
      " 0   browser   160000 non-null  object\n",
      " 1   os        160000 non-null  object\n",
      " 2   locale    160000 non-null  object\n",
      " 3   user_id   160000 non-null  int64 \n",
      " 4   gender    160000 non-null  object\n",
      " 5   location  160000 non-null  object\n",
      " 6   sites     160000 non-null  object\n",
      " 7   time      160000 non-null  object\n",
      " 8   date      160000 non-null  object\n",
      "dtypes: int64(1), object(8)\n",
      "memory usage: 11.0+ MB\n"
     ]
    }
   ],
   "source": [
    "df.info()"
   ]
  },
  {
   "cell_type": "markdown",
   "id": "0a833130",
   "metadata": {},
   "source": [
    "We have 160000 rows and 9 columns. More importantly, we see that there are no null values"
   ]
  },
  {
   "cell_type": "code",
   "execution_count": null,
   "id": "895f0da9",
   "metadata": {},
   "outputs": [],
   "source": []
  },
  {
   "cell_type": "markdown",
   "id": "6cd9505e",
   "metadata": {},
   "source": [
    "I create a new column called `target` which comes from transforming the `user_id` column into 1 representing joe sessions and 0 representing non joe sessions."
   ]
  },
  {
   "cell_type": "code",
   "execution_count": 7,
   "id": "73b0f2dd",
   "metadata": {},
   "outputs": [],
   "source": [
    "df[\"target\"] = (df.user_id==0)*1"
   ]
  },
  {
   "cell_type": "code",
   "execution_count": 8,
   "id": "1faeab41",
   "metadata": {},
   "outputs": [
    {
     "data": {
      "text/plain": [
       "0    159200\n",
       "1       800\n",
       "Name: target, dtype: int64"
      ]
     },
     "execution_count": 8,
     "metadata": {},
     "output_type": "execute_result"
    }
   ],
   "source": [
    "df.target.value_counts()"
   ]
  },
  {
   "cell_type": "code",
   "execution_count": 9,
   "id": "bd453673",
   "metadata": {},
   "outputs": [
    {
     "data": {
      "text/plain": [
       "0    0.995\n",
       "1    0.005\n",
       "Name: target, dtype: float64"
      ]
     },
     "execution_count": 9,
     "metadata": {},
     "output_type": "execute_result"
    }
   ],
   "source": [
    "df.target.value_counts(normalize=True)"
   ]
  },
  {
   "cell_type": "markdown",
   "id": "7ed1b010",
   "metadata": {},
   "source": [
    "Here we have a highly imbalanced class dataset, where only 1 in 200 datapoints belong to the true class."
   ]
  },
  {
   "cell_type": "code",
   "execution_count": null,
   "id": "750c028c",
   "metadata": {},
   "outputs": [],
   "source": []
  },
  {
   "cell_type": "markdown",
   "id": "4730660d",
   "metadata": {},
   "source": [
    "Drop `user_id`"
   ]
  },
  {
   "cell_type": "code",
   "execution_count": 10,
   "id": "6725fcb1",
   "metadata": {},
   "outputs": [],
   "source": [
    "df.drop(\"user_id\", axis = 1, inplace=True)"
   ]
  },
  {
   "cell_type": "code",
   "execution_count": 11,
   "id": "a9b9f8d7",
   "metadata": {},
   "outputs": [
    {
     "data": {
      "text/html": [
       "<div>\n",
       "<style scoped>\n",
       "    .dataframe tbody tr th:only-of-type {\n",
       "        vertical-align: middle;\n",
       "    }\n",
       "\n",
       "    .dataframe tbody tr th {\n",
       "        vertical-align: top;\n",
       "    }\n",
       "\n",
       "    .dataframe thead th {\n",
       "        text-align: right;\n",
       "    }\n",
       "</style>\n",
       "<table border=\"1\" class=\"dataframe\">\n",
       "  <thead>\n",
       "    <tr style=\"text-align: right;\">\n",
       "      <th></th>\n",
       "      <th>browser</th>\n",
       "      <th>os</th>\n",
       "      <th>locale</th>\n",
       "      <th>gender</th>\n",
       "      <th>location</th>\n",
       "      <th>sites</th>\n",
       "      <th>time</th>\n",
       "      <th>date</th>\n",
       "      <th>target</th>\n",
       "    </tr>\n",
       "  </thead>\n",
       "  <tbody>\n",
       "    <tr>\n",
       "      <th>0</th>\n",
       "      <td>Chrome</td>\n",
       "      <td>Windows 8</td>\n",
       "      <td>de-DE</td>\n",
       "      <td>m</td>\n",
       "      <td>Canada/Toronto</td>\n",
       "      <td>[{'site': 'lenta.ru', 'length': 296}, {'site':...</td>\n",
       "      <td>03:57:00</td>\n",
       "      <td>2016-08-14</td>\n",
       "      <td>0</td>\n",
       "    </tr>\n",
       "    <tr>\n",
       "      <th>1</th>\n",
       "      <td>Chrome</td>\n",
       "      <td>Windows 10</td>\n",
       "      <td>pt-PT</td>\n",
       "      <td>f</td>\n",
       "      <td>Netherlands/Amsterdam</td>\n",
       "      <td>[{'site': 'windowsupdate.com', 'length': 56}, ...</td>\n",
       "      <td>13:52:00</td>\n",
       "      <td>2016-05-31</td>\n",
       "      <td>0</td>\n",
       "    </tr>\n",
       "    <tr>\n",
       "      <th>2</th>\n",
       "      <td>Chrome</td>\n",
       "      <td>Windows 10</td>\n",
       "      <td>bg-BG</td>\n",
       "      <td>m</td>\n",
       "      <td>Brazil/Rio de Janeiro</td>\n",
       "      <td>[{'site': 'slack.com', 'length': 158}, {'site'...</td>\n",
       "      <td>17:40:00</td>\n",
       "      <td>2019-04-15</td>\n",
       "      <td>0</td>\n",
       "    </tr>\n",
       "    <tr>\n",
       "      <th>3</th>\n",
       "      <td>Internet Explorer</td>\n",
       "      <td>Ubuntu</td>\n",
       "      <td>en-US</td>\n",
       "      <td>f</td>\n",
       "      <td>New Zealand/Auckland</td>\n",
       "      <td>[{'site': 'amazon.com', 'length': 168}, {'site...</td>\n",
       "      <td>20:23:00</td>\n",
       "      <td>2018-03-25</td>\n",
       "      <td>0</td>\n",
       "    </tr>\n",
       "    <tr>\n",
       "      <th>4</th>\n",
       "      <td>Firefox</td>\n",
       "      <td>Debian</td>\n",
       "      <td>ro-RO</td>\n",
       "      <td>f</td>\n",
       "      <td>New Zealand/Auckland</td>\n",
       "      <td>[{'site': 'vk.com', 'length': 43}, {'site': 'm...</td>\n",
       "      <td>01:10:00</td>\n",
       "      <td>2018-09-08</td>\n",
       "      <td>0</td>\n",
       "    </tr>\n",
       "  </tbody>\n",
       "</table>\n",
       "</div>"
      ],
      "text/plain": [
       "             browser          os locale gender               location  \\\n",
       "0             Chrome   Windows 8  de-DE      m         Canada/Toronto   \n",
       "1             Chrome  Windows 10  pt-PT      f  Netherlands/Amsterdam   \n",
       "2             Chrome  Windows 10  bg-BG      m  Brazil/Rio de Janeiro   \n",
       "3  Internet Explorer      Ubuntu  en-US      f   New Zealand/Auckland   \n",
       "4            Firefox      Debian  ro-RO      f   New Zealand/Auckland   \n",
       "\n",
       "                                               sites      time        date  \\\n",
       "0  [{'site': 'lenta.ru', 'length': 296}, {'site':...  03:57:00  2016-08-14   \n",
       "1  [{'site': 'windowsupdate.com', 'length': 56}, ...  13:52:00  2016-05-31   \n",
       "2  [{'site': 'slack.com', 'length': 158}, {'site'...  17:40:00  2019-04-15   \n",
       "3  [{'site': 'amazon.com', 'length': 168}, {'site...  20:23:00  2018-03-25   \n",
       "4  [{'site': 'vk.com', 'length': 43}, {'site': 'm...  01:10:00  2018-09-08   \n",
       "\n",
       "   target  \n",
       "0       0  \n",
       "1       0  \n",
       "2       0  \n",
       "3       0  \n",
       "4       0  "
      ]
     },
     "execution_count": 11,
     "metadata": {},
     "output_type": "execute_result"
    }
   ],
   "source": [
    "df.head()"
   ]
  },
  {
   "cell_type": "code",
   "execution_count": null,
   "id": "b3747676",
   "metadata": {},
   "outputs": [],
   "source": []
  },
  {
   "cell_type": "code",
   "execution_count": null,
   "id": "0edadbb8",
   "metadata": {},
   "outputs": [],
   "source": []
  },
  {
   "cell_type": "markdown",
   "id": "4fc1f444",
   "metadata": {},
   "source": [
    "Next up I inspect each of the features. My process involves looking structure of the data, visualizing distributions, and understanding the cardinality of discrete features."
   ]
  },
  {
   "cell_type": "markdown",
   "id": "a9ae0958",
   "metadata": {},
   "source": [
    "### Sites\n",
    "\n",
    "Due to the nested element of the `sites`, this collection of valuable information requires extensive data wrangling."
   ]
  },
  {
   "cell_type": "code",
   "execution_count": 12,
   "id": "ae6a7f03",
   "metadata": {},
   "outputs": [
    {
     "data": {
      "text/plain": [
       "0         [{'site': 'lenta.ru', 'length': 296}, {'site':...\n",
       "1         [{'site': 'windowsupdate.com', 'length': 56}, ...\n",
       "2         [{'site': 'slack.com', 'length': 158}, {'site'...\n",
       "3         [{'site': 'amazon.com', 'length': 168}, {'site...\n",
       "4         [{'site': 'vk.com', 'length': 43}, {'site': 'm...\n",
       "                                ...                        \n",
       "159995    [{'site': 'amazon.com', 'length': 54}, {'site'...\n",
       "159996    [{'site': 'microsoft.com', 'length': 278}, {'s...\n",
       "159997    [{'site': 'googleapis.com', 'length': 86}, {'s...\n",
       "159998    [{'site': 'live.com', 'length': 145}, {'site':...\n",
       "159999    [{'site': 'amazon.com', 'length': 89}, {'site'...\n",
       "Name: sites, Length: 160000, dtype: object"
      ]
     },
     "execution_count": 12,
     "metadata": {},
     "output_type": "execute_result"
    }
   ],
   "source": [
    "sites = df[\"sites\"]\n",
    "sites"
   ]
  },
  {
   "cell_type": "markdown",
   "id": "0d19930f",
   "metadata": {},
   "source": [
    "My goal here is to create a matrix where columns represent websites, rows are sessions, and the values are the time spent at that site for that session."
   ]
  },
  {
   "cell_type": "markdown",
   "id": "d841526e",
   "metadata": {},
   "source": [
    "I decided that the best way to do accomplish this task was to treat the array as if I was making a document term matrix from raw text."
   ]
  },
  {
   "cell_type": "code",
   "execution_count": null,
   "id": "3255050d",
   "metadata": {},
   "outputs": [],
   "source": []
  },
  {
   "cell_type": "markdown",
   "id": "0213216e",
   "metadata": {},
   "source": [
    "I use `custom_vect` function I imported from from utils.py to format the nested array data so it can't be vectorized.\n"
   ]
  },
  {
   "cell_type": "markdown",
   "id": "50ab7d95",
   "metadata": {},
   "source": [
    "This is effectively what the `custom_vect` function does. The frequency of the website name in each row is determined by the number of seconds spent on the site."
   ]
  },
  {
   "cell_type": "code",
   "execution_count": 13,
   "id": "9b23ef5c",
   "metadata": {},
   "outputs": [
    {
     "data": {
      "text/plain": [
       "0    [lenta.ru, lenta.ru, lenta.ru, lenta.ru, lenta...\n",
       "1    [windowsupdate.com, windowsupdate.com, windows...\n",
       "2    [slack.com, slack.com, slack.com, slack.com, s...\n",
       "3    [amazon.com, amazon.com, amazon.com, amazon.co...\n",
       "4    [vk.com, vk.com, vk.com, vk.com, vk.com, vk.co...\n",
       "5    [netflix.net, netflix.net, netflix.net, netfli...\n",
       "6    [google.com, google.com, google.com, google.co...\n",
       "7    [vk.com, vk.com, vk.com, vk.com, vk.com, vk.co...\n",
       "8    [digicert.com, digicert.com, digicert.com, dig...\n",
       "9    [scorecardresearch.com, scorecardresearch.com,...\n",
       "Name: sites, dtype: object"
      ]
     },
     "execution_count": 13,
     "metadata": {},
     "output_type": "execute_result"
    }
   ],
   "source": [
    "sites.iloc[:10].apply(custom_vect)"
   ]
  },
  {
   "cell_type": "code",
   "execution_count": null,
   "id": "f4e6fdb7",
   "metadata": {},
   "outputs": [],
   "source": []
  },
  {
   "cell_type": "markdown",
   "id": "4b16bf78",
   "metadata": {},
   "source": [
    "How many websites are there in total?"
   ]
  },
  {
   "cell_type": "code",
   "execution_count": 30,
   "id": "0bd2d861",
   "metadata": {},
   "outputs": [],
   "source": [
    "n_sites = set()"
   ]
  },
  {
   "cell_type": "code",
   "execution_count": 31,
   "id": "163bee41",
   "metadata": {},
   "outputs": [],
   "source": [
    "for i in range(len(sites)):\n",
    "    row = sites.iloc[i]\n",
    "    \n",
    "    for e in row:\n",
    "        n_sites.add(e[\"site\"])"
   ]
  },
  {
   "cell_type": "code",
   "execution_count": 32,
   "id": "4c208808",
   "metadata": {},
   "outputs": [
    {
     "data": {
      "text/plain": [
       "157771"
      ]
     },
     "execution_count": 32,
     "metadata": {},
     "output_type": "execute_result"
    }
   ],
   "source": [
    "len(n_sites)"
   ]
  },
  {
   "cell_type": "markdown",
   "id": "7149f0e9",
   "metadata": {},
   "source": [
    "157771 sites provides a scalability and dimensionality issue so I think it's best to keep the top 1000 most visited websites. So I'd like to calculate what percent of the total time spent visiting websites belongs to the top 1000."
   ]
  },
  {
   "cell_type": "code",
   "execution_count": 34,
   "id": "29e448b0",
   "metadata": {},
   "outputs": [
    {
     "data": {
      "text/plain": [
       "0.8608227790119717"
      ]
     },
     "execution_count": 34,
     "metadata": {},
     "output_type": "execute_result"
    }
   ],
   "source": [
    "#Dictionary to hold sites and the total visit time spent.\n",
    "site_time = defaultdict(int)\n",
    "\n",
    "for i in range(len(sites)):\n",
    "    row = sites.iloc[i]\n",
    "    \n",
    "    for e in row:\n",
    "        sit = e[\"site\"]\n",
    "        leng = e[\"length\"]\n",
    "        site_time[sit] += leng\n",
    "        \n",
    "#Convert to series\n",
    "site_time = pd.Series(site_time)\n",
    "\n",
    "#Calculate percent of total time belonging to top 1000\n",
    "site_time.nlargest(1000).sum()/site_time.sum()"
   ]
  },
  {
   "cell_type": "markdown",
   "id": "fdab92e4",
   "metadata": {},
   "source": [
    "86.1% of total time spent visting websites belongs to the top 1000 most frequented websites. Based on this, I think it's sufficient to stick to these 1000 sites when restructing the `sites` data."
   ]
  },
  {
   "cell_type": "code",
   "execution_count": null,
   "id": "5792b5e9",
   "metadata": {},
   "outputs": [],
   "source": []
  },
  {
   "cell_type": "markdown",
   "id": "44b61341",
   "metadata": {},
   "source": [
    "Here I set up the `CountVectorizer` to restructure the `sites` data."
   ]
  },
  {
   "cell_type": "code",
   "execution_count": 35,
   "id": "8ece97d4",
   "metadata": {},
   "outputs": [
    {
     "data": {
      "text/html": [
       "<div>\n",
       "<style scoped>\n",
       "    .dataframe tbody tr th:only-of-type {\n",
       "        vertical-align: middle;\n",
       "    }\n",
       "\n",
       "    .dataframe tbody tr th {\n",
       "        vertical-align: top;\n",
       "    }\n",
       "\n",
       "    .dataframe thead th {\n",
       "        text-align: right;\n",
       "    }\n",
       "</style>\n",
       "<table border=\"1\" class=\"dataframe\">\n",
       "  <thead>\n",
       "    <tr style=\"text-align: right;\">\n",
       "      <th></th>\n",
       "      <th>0x.tf</th>\n",
       "      <th>139.com</th>\n",
       "      <th>22.cn</th>\n",
       "      <th>247wallst.com</th>\n",
       "      <th>28s06.xyz</th>\n",
       "      <th>32degrees.com</th>\n",
       "      <th>4digitalsignage.com</th>\n",
       "      <th>4icu.org</th>\n",
       "      <th>4shared.com</th>\n",
       "      <th>7xxgq.xyz</th>\n",
       "      <th>...</th>\n",
       "      <th>yupptv.io</th>\n",
       "      <th>ziffstatic.com</th>\n",
       "      <th>zmedia.vn</th>\n",
       "      <th>zomatobook.com</th>\n",
       "      <th>zoomg.ir</th>\n",
       "      <th>zoozoosexporn.com</th>\n",
       "      <th>zradio.org</th>\n",
       "      <th>zscalergov.net</th>\n",
       "      <th>zubuchygri.com</th>\n",
       "      <th>zuuks.com</th>\n",
       "    </tr>\n",
       "  </thead>\n",
       "  <tbody>\n",
       "    <tr>\n",
       "      <th>0</th>\n",
       "      <td>0</td>\n",
       "      <td>0</td>\n",
       "      <td>0</td>\n",
       "      <td>0</td>\n",
       "      <td>0</td>\n",
       "      <td>0</td>\n",
       "      <td>0</td>\n",
       "      <td>0</td>\n",
       "      <td>0</td>\n",
       "      <td>0</td>\n",
       "      <td>...</td>\n",
       "      <td>0</td>\n",
       "      <td>0</td>\n",
       "      <td>0</td>\n",
       "      <td>0</td>\n",
       "      <td>0</td>\n",
       "      <td>0</td>\n",
       "      <td>0</td>\n",
       "      <td>0</td>\n",
       "      <td>0</td>\n",
       "      <td>0</td>\n",
       "    </tr>\n",
       "    <tr>\n",
       "      <th>1</th>\n",
       "      <td>0</td>\n",
       "      <td>0</td>\n",
       "      <td>0</td>\n",
       "      <td>0</td>\n",
       "      <td>0</td>\n",
       "      <td>0</td>\n",
       "      <td>0</td>\n",
       "      <td>0</td>\n",
       "      <td>0</td>\n",
       "      <td>0</td>\n",
       "      <td>...</td>\n",
       "      <td>0</td>\n",
       "      <td>0</td>\n",
       "      <td>0</td>\n",
       "      <td>0</td>\n",
       "      <td>0</td>\n",
       "      <td>0</td>\n",
       "      <td>0</td>\n",
       "      <td>0</td>\n",
       "      <td>0</td>\n",
       "      <td>0</td>\n",
       "    </tr>\n",
       "    <tr>\n",
       "      <th>2</th>\n",
       "      <td>0</td>\n",
       "      <td>0</td>\n",
       "      <td>0</td>\n",
       "      <td>0</td>\n",
       "      <td>0</td>\n",
       "      <td>0</td>\n",
       "      <td>0</td>\n",
       "      <td>0</td>\n",
       "      <td>0</td>\n",
       "      <td>0</td>\n",
       "      <td>...</td>\n",
       "      <td>0</td>\n",
       "      <td>0</td>\n",
       "      <td>0</td>\n",
       "      <td>0</td>\n",
       "      <td>0</td>\n",
       "      <td>0</td>\n",
       "      <td>0</td>\n",
       "      <td>0</td>\n",
       "      <td>0</td>\n",
       "      <td>0</td>\n",
       "    </tr>\n",
       "    <tr>\n",
       "      <th>3</th>\n",
       "      <td>0</td>\n",
       "      <td>0</td>\n",
       "      <td>0</td>\n",
       "      <td>0</td>\n",
       "      <td>0</td>\n",
       "      <td>0</td>\n",
       "      <td>0</td>\n",
       "      <td>0</td>\n",
       "      <td>0</td>\n",
       "      <td>0</td>\n",
       "      <td>...</td>\n",
       "      <td>0</td>\n",
       "      <td>0</td>\n",
       "      <td>0</td>\n",
       "      <td>0</td>\n",
       "      <td>0</td>\n",
       "      <td>0</td>\n",
       "      <td>0</td>\n",
       "      <td>0</td>\n",
       "      <td>0</td>\n",
       "      <td>0</td>\n",
       "    </tr>\n",
       "    <tr>\n",
       "      <th>4</th>\n",
       "      <td>0</td>\n",
       "      <td>0</td>\n",
       "      <td>0</td>\n",
       "      <td>0</td>\n",
       "      <td>0</td>\n",
       "      <td>0</td>\n",
       "      <td>0</td>\n",
       "      <td>0</td>\n",
       "      <td>0</td>\n",
       "      <td>0</td>\n",
       "      <td>...</td>\n",
       "      <td>0</td>\n",
       "      <td>0</td>\n",
       "      <td>0</td>\n",
       "      <td>0</td>\n",
       "      <td>0</td>\n",
       "      <td>0</td>\n",
       "      <td>0</td>\n",
       "      <td>0</td>\n",
       "      <td>0</td>\n",
       "      <td>0</td>\n",
       "    </tr>\n",
       "    <tr>\n",
       "      <th>...</th>\n",
       "      <td>...</td>\n",
       "      <td>...</td>\n",
       "      <td>...</td>\n",
       "      <td>...</td>\n",
       "      <td>...</td>\n",
       "      <td>...</td>\n",
       "      <td>...</td>\n",
       "      <td>...</td>\n",
       "      <td>...</td>\n",
       "      <td>...</td>\n",
       "      <td>...</td>\n",
       "      <td>...</td>\n",
       "      <td>...</td>\n",
       "      <td>...</td>\n",
       "      <td>...</td>\n",
       "      <td>...</td>\n",
       "      <td>...</td>\n",
       "      <td>...</td>\n",
       "      <td>...</td>\n",
       "      <td>...</td>\n",
       "      <td>...</td>\n",
       "    </tr>\n",
       "    <tr>\n",
       "      <th>159995</th>\n",
       "      <td>0</td>\n",
       "      <td>0</td>\n",
       "      <td>0</td>\n",
       "      <td>0</td>\n",
       "      <td>0</td>\n",
       "      <td>0</td>\n",
       "      <td>0</td>\n",
       "      <td>0</td>\n",
       "      <td>0</td>\n",
       "      <td>0</td>\n",
       "      <td>...</td>\n",
       "      <td>0</td>\n",
       "      <td>0</td>\n",
       "      <td>0</td>\n",
       "      <td>0</td>\n",
       "      <td>0</td>\n",
       "      <td>0</td>\n",
       "      <td>0</td>\n",
       "      <td>0</td>\n",
       "      <td>0</td>\n",
       "      <td>0</td>\n",
       "    </tr>\n",
       "    <tr>\n",
       "      <th>159996</th>\n",
       "      <td>0</td>\n",
       "      <td>0</td>\n",
       "      <td>0</td>\n",
       "      <td>0</td>\n",
       "      <td>0</td>\n",
       "      <td>0</td>\n",
       "      <td>0</td>\n",
       "      <td>0</td>\n",
       "      <td>0</td>\n",
       "      <td>0</td>\n",
       "      <td>...</td>\n",
       "      <td>0</td>\n",
       "      <td>0</td>\n",
       "      <td>0</td>\n",
       "      <td>0</td>\n",
       "      <td>0</td>\n",
       "      <td>0</td>\n",
       "      <td>0</td>\n",
       "      <td>0</td>\n",
       "      <td>0</td>\n",
       "      <td>0</td>\n",
       "    </tr>\n",
       "    <tr>\n",
       "      <th>159997</th>\n",
       "      <td>0</td>\n",
       "      <td>0</td>\n",
       "      <td>0</td>\n",
       "      <td>0</td>\n",
       "      <td>0</td>\n",
       "      <td>0</td>\n",
       "      <td>0</td>\n",
       "      <td>0</td>\n",
       "      <td>0</td>\n",
       "      <td>0</td>\n",
       "      <td>...</td>\n",
       "      <td>0</td>\n",
       "      <td>0</td>\n",
       "      <td>0</td>\n",
       "      <td>0</td>\n",
       "      <td>0</td>\n",
       "      <td>0</td>\n",
       "      <td>0</td>\n",
       "      <td>0</td>\n",
       "      <td>0</td>\n",
       "      <td>0</td>\n",
       "    </tr>\n",
       "    <tr>\n",
       "      <th>159998</th>\n",
       "      <td>0</td>\n",
       "      <td>0</td>\n",
       "      <td>0</td>\n",
       "      <td>0</td>\n",
       "      <td>0</td>\n",
       "      <td>0</td>\n",
       "      <td>0</td>\n",
       "      <td>0</td>\n",
       "      <td>0</td>\n",
       "      <td>0</td>\n",
       "      <td>...</td>\n",
       "      <td>0</td>\n",
       "      <td>0</td>\n",
       "      <td>0</td>\n",
       "      <td>0</td>\n",
       "      <td>0</td>\n",
       "      <td>0</td>\n",
       "      <td>0</td>\n",
       "      <td>0</td>\n",
       "      <td>0</td>\n",
       "      <td>0</td>\n",
       "    </tr>\n",
       "    <tr>\n",
       "      <th>159999</th>\n",
       "      <td>0</td>\n",
       "      <td>0</td>\n",
       "      <td>0</td>\n",
       "      <td>0</td>\n",
       "      <td>0</td>\n",
       "      <td>0</td>\n",
       "      <td>0</td>\n",
       "      <td>0</td>\n",
       "      <td>0</td>\n",
       "      <td>0</td>\n",
       "      <td>...</td>\n",
       "      <td>0</td>\n",
       "      <td>0</td>\n",
       "      <td>0</td>\n",
       "      <td>0</td>\n",
       "      <td>0</td>\n",
       "      <td>0</td>\n",
       "      <td>0</td>\n",
       "      <td>0</td>\n",
       "      <td>0</td>\n",
       "      <td>0</td>\n",
       "    </tr>\n",
       "  </tbody>\n",
       "</table>\n",
       "<p>160000 rows × 1000 columns</p>\n",
       "</div>"
      ],
      "text/plain": [
       "        0x.tf  139.com  22.cn  247wallst.com  28s06.xyz  32degrees.com  \\\n",
       "0           0        0      0              0          0              0   \n",
       "1           0        0      0              0          0              0   \n",
       "2           0        0      0              0          0              0   \n",
       "3           0        0      0              0          0              0   \n",
       "4           0        0      0              0          0              0   \n",
       "...       ...      ...    ...            ...        ...            ...   \n",
       "159995      0        0      0              0          0              0   \n",
       "159996      0        0      0              0          0              0   \n",
       "159997      0        0      0              0          0              0   \n",
       "159998      0        0      0              0          0              0   \n",
       "159999      0        0      0              0          0              0   \n",
       "\n",
       "        4digitalsignage.com  4icu.org  4shared.com  7xxgq.xyz  ...  yupptv.io  \\\n",
       "0                         0         0            0          0  ...          0   \n",
       "1                         0         0            0          0  ...          0   \n",
       "2                         0         0            0          0  ...          0   \n",
       "3                         0         0            0          0  ...          0   \n",
       "4                         0         0            0          0  ...          0   \n",
       "...                     ...       ...          ...        ...  ...        ...   \n",
       "159995                    0         0            0          0  ...          0   \n",
       "159996                    0         0            0          0  ...          0   \n",
       "159997                    0         0            0          0  ...          0   \n",
       "159998                    0         0            0          0  ...          0   \n",
       "159999                    0         0            0          0  ...          0   \n",
       "\n",
       "        ziffstatic.com  zmedia.vn  zomatobook.com  zoomg.ir  \\\n",
       "0                    0          0               0         0   \n",
       "1                    0          0               0         0   \n",
       "2                    0          0               0         0   \n",
       "3                    0          0               0         0   \n",
       "4                    0          0               0         0   \n",
       "...                ...        ...             ...       ...   \n",
       "159995               0          0               0         0   \n",
       "159996               0          0               0         0   \n",
       "159997               0          0               0         0   \n",
       "159998               0          0               0         0   \n",
       "159999               0          0               0         0   \n",
       "\n",
       "        zoozoosexporn.com  zradio.org  zscalergov.net  zubuchygri.com  \\\n",
       "0                       0           0               0               0   \n",
       "1                       0           0               0               0   \n",
       "2                       0           0               0               0   \n",
       "3                       0           0               0               0   \n",
       "4                       0           0               0               0   \n",
       "...                   ...         ...             ...             ...   \n",
       "159995                  0           0               0               0   \n",
       "159996                  0           0               0               0   \n",
       "159997                  0           0               0               0   \n",
       "159998                  0           0               0               0   \n",
       "159999                  0           0               0               0   \n",
       "\n",
       "        zuuks.com  \n",
       "0               0  \n",
       "1               0  \n",
       "2               0  \n",
       "3               0  \n",
       "4               0  \n",
       "...           ...  \n",
       "159995          0  \n",
       "159996          0  \n",
       "159997          0  \n",
       "159998          0  \n",
       "159999          0  \n",
       "\n",
       "[160000 rows x 1000 columns]"
      ]
     },
     "execution_count": 35,
     "metadata": {},
     "output_type": "execute_result"
    }
   ],
   "source": [
    "cv = CountVectorizer(analyzer=custom_vect, max_features=1000)\n",
    "sites_enc = cv.fit_transform(sites)\n",
    "sites_enc = pd.DataFrame(sites_enc.toarray(), columns=cv.get_feature_names())\n",
    "sites_enc"
   ]
  },
  {
   "cell_type": "markdown",
   "id": "225ab8d5",
   "metadata": {},
   "source": [
    "Save the `CountVectorizer` object to the `models` directory so that it can be used to transform the validation data."
   ]
  },
  {
   "cell_type": "code",
   "execution_count": 36,
   "id": "ad373cfb",
   "metadata": {},
   "outputs": [
    {
     "data": {
      "text/plain": [
       "['../model/countvec.joblib']"
      ]
     },
     "execution_count": 36,
     "metadata": {},
     "output_type": "execute_result"
    }
   ],
   "source": [
    "joblib.dump(cv, \"../model/countvec.joblib\")"
   ]
  },
  {
   "cell_type": "markdown",
   "id": "6867fed2",
   "metadata": {},
   "source": [
    "The newly created `sites_enc` data can be now be used to train a machine learning model."
   ]
  },
  {
   "cell_type": "markdown",
   "id": "2fbf170c",
   "metadata": {},
   "source": [
    "The top 20 most visited sites. "
   ]
  },
  {
   "cell_type": "code",
   "execution_count": 37,
   "id": "2c5a40a6",
   "metadata": {},
   "outputs": [
    {
     "data": {
      "text/plain": [
       "amazon.com               19899832\n",
       "wikipedia.org            19582538\n",
       "vk.com                    7321567\n",
       "mail.google.com           5838751\n",
       "youtube.com               5835843\n",
       "lenta.ru                  5753531\n",
       "slack.com                 5741614\n",
       "toptal.com                4871228\n",
       "netflix.com               4177459\n",
       "scorecardresearch.com     4017629\n",
       "msn.com                   3985468\n",
       "facebook.com              3960248\n",
       "nflxso.net                3944517\n",
       "icloud.com                3840726\n",
       "verisign.com              3831966\n",
       "twitter.com               3797960\n",
       "akamaiedge.net            3722344\n",
       "airbnb.com                3707828\n",
       "skyscanner.com            3641410\n",
       "googleadservices.com      3492801\n",
       "dtype: int64"
      ]
     },
     "execution_count": 37,
     "metadata": {},
     "output_type": "execute_result"
    }
   ],
   "source": [
    "most_viewed_sites = sites_enc.sum()\n",
    "most_viewed_sites.nlargest(20)"
   ]
  },
  {
   "cell_type": "markdown",
   "id": "4fcb4f92",
   "metadata": {},
   "source": [
    "Create a new column that holds the average session length per site per session for the purpose of analyzing the relationship between session length and the target variable."
   ]
  },
  {
   "cell_type": "code",
   "execution_count": 38,
   "id": "38b9d747",
   "metadata": {},
   "outputs": [
    {
     "data": {
      "text/plain": [
       "0         155.400000\n",
       "1         119.166667\n",
       "2         114.200000\n",
       "3          98.000000\n",
       "4          95.300000\n",
       "             ...    \n",
       "159995    107.727273\n",
       "159996    176.166667\n",
       "159997    135.727273\n",
       "159998    126.250000\n",
       "159999    133.090909\n",
       "Length: 160000, dtype: float64"
      ]
     },
     "execution_count": 38,
     "metadata": {},
     "output_type": "execute_result"
    }
   ],
   "source": [
    "total_length = sites_enc.sum(axis = 1)\n",
    "avg_length = total_length/(sites_enc>0).sum(axis = 1)\n",
    "avg_length"
   ]
  },
  {
   "cell_type": "code",
   "execution_count": 39,
   "id": "82319adf",
   "metadata": {},
   "outputs": [],
   "source": [
    "#add avg_length to data\n",
    "df[\"avg_length\"] = avg_length"
   ]
  },
  {
   "cell_type": "code",
   "execution_count": 40,
   "id": "85a991b8",
   "metadata": {},
   "outputs": [],
   "source": [
    "#remove sites\n",
    "df.drop(\"sites\", axis = 1, inplace = True)"
   ]
  },
  {
   "cell_type": "code",
   "execution_count": 41,
   "id": "e29e06ab",
   "metadata": {},
   "outputs": [
    {
     "data": {
      "text/html": [
       "<div>\n",
       "<style scoped>\n",
       "    .dataframe tbody tr th:only-of-type {\n",
       "        vertical-align: middle;\n",
       "    }\n",
       "\n",
       "    .dataframe tbody tr th {\n",
       "        vertical-align: top;\n",
       "    }\n",
       "\n",
       "    .dataframe thead th {\n",
       "        text-align: right;\n",
       "    }\n",
       "</style>\n",
       "<table border=\"1\" class=\"dataframe\">\n",
       "  <thead>\n",
       "    <tr style=\"text-align: right;\">\n",
       "      <th></th>\n",
       "      <th>browser</th>\n",
       "      <th>os</th>\n",
       "      <th>locale</th>\n",
       "      <th>gender</th>\n",
       "      <th>location</th>\n",
       "      <th>time</th>\n",
       "      <th>date</th>\n",
       "      <th>target</th>\n",
       "      <th>avg_length</th>\n",
       "    </tr>\n",
       "  </thead>\n",
       "  <tbody>\n",
       "    <tr>\n",
       "      <th>0</th>\n",
       "      <td>Chrome</td>\n",
       "      <td>Windows 8</td>\n",
       "      <td>de-DE</td>\n",
       "      <td>m</td>\n",
       "      <td>Canada/Toronto</td>\n",
       "      <td>03:57:00</td>\n",
       "      <td>2016-08-14</td>\n",
       "      <td>0</td>\n",
       "      <td>155.400000</td>\n",
       "    </tr>\n",
       "    <tr>\n",
       "      <th>1</th>\n",
       "      <td>Chrome</td>\n",
       "      <td>Windows 10</td>\n",
       "      <td>pt-PT</td>\n",
       "      <td>f</td>\n",
       "      <td>Netherlands/Amsterdam</td>\n",
       "      <td>13:52:00</td>\n",
       "      <td>2016-05-31</td>\n",
       "      <td>0</td>\n",
       "      <td>119.166667</td>\n",
       "    </tr>\n",
       "    <tr>\n",
       "      <th>2</th>\n",
       "      <td>Chrome</td>\n",
       "      <td>Windows 10</td>\n",
       "      <td>bg-BG</td>\n",
       "      <td>m</td>\n",
       "      <td>Brazil/Rio de Janeiro</td>\n",
       "      <td>17:40:00</td>\n",
       "      <td>2019-04-15</td>\n",
       "      <td>0</td>\n",
       "      <td>114.200000</td>\n",
       "    </tr>\n",
       "    <tr>\n",
       "      <th>3</th>\n",
       "      <td>Internet Explorer</td>\n",
       "      <td>Ubuntu</td>\n",
       "      <td>en-US</td>\n",
       "      <td>f</td>\n",
       "      <td>New Zealand/Auckland</td>\n",
       "      <td>20:23:00</td>\n",
       "      <td>2018-03-25</td>\n",
       "      <td>0</td>\n",
       "      <td>98.000000</td>\n",
       "    </tr>\n",
       "    <tr>\n",
       "      <th>4</th>\n",
       "      <td>Firefox</td>\n",
       "      <td>Debian</td>\n",
       "      <td>ro-RO</td>\n",
       "      <td>f</td>\n",
       "      <td>New Zealand/Auckland</td>\n",
       "      <td>01:10:00</td>\n",
       "      <td>2018-09-08</td>\n",
       "      <td>0</td>\n",
       "      <td>95.300000</td>\n",
       "    </tr>\n",
       "  </tbody>\n",
       "</table>\n",
       "</div>"
      ],
      "text/plain": [
       "             browser          os locale gender               location  \\\n",
       "0             Chrome   Windows 8  de-DE      m         Canada/Toronto   \n",
       "1             Chrome  Windows 10  pt-PT      f  Netherlands/Amsterdam   \n",
       "2             Chrome  Windows 10  bg-BG      m  Brazil/Rio de Janeiro   \n",
       "3  Internet Explorer      Ubuntu  en-US      f   New Zealand/Auckland   \n",
       "4            Firefox      Debian  ro-RO      f   New Zealand/Auckland   \n",
       "\n",
       "       time        date  target  avg_length  \n",
       "0  03:57:00  2016-08-14       0  155.400000  \n",
       "1  13:52:00  2016-05-31       0  119.166667  \n",
       "2  17:40:00  2019-04-15       0  114.200000  \n",
       "3  20:23:00  2018-03-25       0   98.000000  \n",
       "4  01:10:00  2018-09-08       0   95.300000  "
      ]
     },
     "execution_count": 41,
     "metadata": {},
     "output_type": "execute_result"
    }
   ],
   "source": [
    "df.head()"
   ]
  },
  {
   "cell_type": "markdown",
   "id": "9e941519",
   "metadata": {},
   "source": [
    "Visualize the distribution of `avg_length`"
   ]
  },
  {
   "cell_type": "code",
   "execution_count": 42,
   "id": "54e98a26",
   "metadata": {},
   "outputs": [
    {
     "data": {
      "image/png": "[encoded data removed]",
      "text/plain": [
       "<Figure size 864x504 with 2 Axes>"
      ]
     },
     "metadata": {
      "needs_background": "light"
     },
     "output_type": "display_data"
    }
   ],
   "source": [
    "histogram_boxplot(df, \"avg_length\")"
   ]
  },
  {
   "cell_type": "markdown",
   "id": "bea71755",
   "metadata": {},
   "source": [
    "Data shows a normal distribution, with the majority of sessions visiting each site for on average between 100 and 200 seconds."
   ]
  },
  {
   "cell_type": "markdown",
   "id": "b38b2bbb",
   "metadata": {},
   "source": [
    "### Browser"
   ]
  },
  {
   "cell_type": "code",
   "execution_count": null,
   "id": "429508ff",
   "metadata": {},
   "outputs": [],
   "source": []
  },
  {
   "cell_type": "code",
   "execution_count": 23,
   "id": "fda1d1df",
   "metadata": {},
   "outputs": [
    {
     "data": {
      "text/plain": [
       "Chrome               83544\n",
       "Firefox              34442\n",
       "Safari               28381\n",
       "Internet Explorer    13633\n",
       "Name: browser, dtype: int64"
      ]
     },
     "execution_count": 23,
     "metadata": {},
     "output_type": "execute_result"
    }
   ],
   "source": [
    "df.browser.value_counts()"
   ]
  },
  {
   "cell_type": "code",
   "execution_count": 21,
   "id": "cf35d9b1",
   "metadata": {},
   "outputs": [
    {
     "data": {
      "image/png": "[encoded data removed]",
      "text/plain": [
       "<Figure size 360x360 with 1 Axes>"
      ]
     },
     "metadata": {
      "needs_background": "light"
     },
     "output_type": "display_data"
    }
   ],
   "source": [
    "labeled_barplot(df, \"browser\", perc = True)"
   ]
  },
  {
   "cell_type": "markdown",
   "id": "ca5aeb68",
   "metadata": {},
   "source": [
    "Slight majority of sessions used a Chrome as their browser."
   ]
  },
  {
   "cell_type": "code",
   "execution_count": null,
   "id": "b36005c2",
   "metadata": {},
   "outputs": [],
   "source": []
  },
  {
   "cell_type": "markdown",
   "id": "a4ca36a8",
   "metadata": {},
   "source": [
    "### OS"
   ]
  },
  {
   "cell_type": "code",
   "execution_count": 43,
   "id": "daa0f308",
   "metadata": {},
   "outputs": [
    {
     "data": {
      "image/png": "[encoded data removed]",
      "text/plain": [
       "<Figure size 504x360 with 1 Axes>"
      ]
     },
     "metadata": {
      "needs_background": "light"
     },
     "output_type": "display_data"
    }
   ],
   "source": [
    "labeled_barplot(df, \"os\", perc = True)"
   ]
  },
  {
   "cell_type": "markdown",
   "id": "db1a8a69",
   "metadata": {},
   "source": [
    "Windows is the dominant OS here, representing almost 70% of the sessions."
   ]
  },
  {
   "cell_type": "code",
   "execution_count": null,
   "id": "9b27bf78",
   "metadata": {},
   "outputs": [],
   "source": []
  },
  {
   "cell_type": "markdown",
   "id": "ab247acb",
   "metadata": {},
   "source": [
    "### Locale"
   ]
  },
  {
   "cell_type": "code",
   "execution_count": 44,
   "id": "255ccd59",
   "metadata": {},
   "outputs": [
    {
     "data": {
      "text/plain": [
       "0    de-DE\n",
       "1    pt-PT\n",
       "2    bg-BG\n",
       "3    en-US\n",
       "4    ro-RO\n",
       "Name: locale, dtype: object"
      ]
     },
     "execution_count": 44,
     "metadata": {},
     "output_type": "execute_result"
    }
   ],
   "source": [
    "df.locale.head()"
   ]
  },
  {
   "cell_type": "markdown",
   "id": "359381a9",
   "metadata": {},
   "source": [
    "For locale I split up the variables by separating the codes representing language from country"
   ]
  },
  {
   "cell_type": "code",
   "execution_count": 45,
   "id": "fb2f2f54",
   "metadata": {},
   "outputs": [
    {
     "data": {
      "text/plain": [
       "en    41949\n",
       "ru    16402\n",
       "pt    14809\n",
       "bg    14375\n",
       "nl    10836\n",
       "de    10473\n",
       "ja     9571\n",
       "ro     8869\n",
       "fr     8026\n",
       "it     6693\n",
       "es     6428\n",
       "pl     6372\n",
       "uk     5197\n",
       "Name: software_language, dtype: int64"
      ]
     },
     "execution_count": 45,
     "metadata": {},
     "output_type": "execute_result"
    }
   ],
   "source": [
    "df[\"software_language\"] = df.locale.apply(lambda x:x[:2])\n",
    "df.software_language.value_counts()"
   ]
  },
  {
   "cell_type": "code",
   "execution_count": 46,
   "id": "3a1f72c7",
   "metadata": {},
   "outputs": [
    {
     "data": {
      "image/png": "[encoded data removed]",
      "text/plain": [
       "<Figure size 1008x360 with 1 Axes>"
      ]
     },
     "metadata": {
      "needs_background": "light"
     },
     "output_type": "display_data"
    }
   ],
   "source": [
    "labeled_barplot(df, \"software_language\", perc = True)"
   ]
  },
  {
   "cell_type": "markdown",
   "id": "b1ef8c06",
   "metadata": {},
   "source": [
    "English holds a plurality of software language used in sessions."
   ]
  },
  {
   "cell_type": "code",
   "execution_count": null,
   "id": "b4368e4c",
   "metadata": {},
   "outputs": [],
   "source": []
  },
  {
   "cell_type": "code",
   "execution_count": 47,
   "id": "a948036b",
   "metadata": {},
   "outputs": [
    {
     "data": {
      "text/plain": [
       "RU    16402\n",
       "BG    14375\n",
       "NL    10836\n",
       "DE    10473\n",
       "SG    10047\n",
       "JP     9571\n",
       "RO     8869\n",
       "CA     8745\n",
       "FR     8026\n",
       "NZ     7588\n",
       "PT     7509\n",
       "BR     7300\n",
       "GB     6795\n",
       "IT     6693\n",
       "MX     6428\n",
       "US     6392\n",
       "PL     6372\n",
       "UA     5197\n",
       "AU     2382\n",
       "Name: software_country, dtype: int64"
      ]
     },
     "execution_count": 47,
     "metadata": {},
     "output_type": "execute_result"
    }
   ],
   "source": [
    "df['software_country'] = df.locale.apply(lambda x:x[-2:])\n",
    "df.software_country.value_counts()"
   ]
  },
  {
   "cell_type": "code",
   "execution_count": 48,
   "id": "62aaca43",
   "metadata": {},
   "outputs": [
    {
     "data": {
      "image/png": "[encoded data removed]",
      "text/plain": [
       "<Figure size 1440x360 with 1 Axes>"
      ]
     },
     "metadata": {
      "needs_background": "light"
     },
     "output_type": "display_data"
    }
   ],
   "source": [
    "labeled_barplot(df, \"software_country\", perc = True)"
   ]
  },
  {
   "cell_type": "markdown",
   "id": "8b45fc88",
   "metadata": {},
   "source": [
    "The `software_country` variable fairly evenly distributed, with the largest amount (Russia) comprising 10.3% of the sessions."
   ]
  },
  {
   "cell_type": "code",
   "execution_count": null,
   "id": "c32ec2ff",
   "metadata": {},
   "outputs": [],
   "source": []
  },
  {
   "cell_type": "markdown",
   "id": "885f767c",
   "metadata": {},
   "source": [
    "Drop `locale` variable"
   ]
  },
  {
   "cell_type": "code",
   "execution_count": 49,
   "id": "b5d1fe26",
   "metadata": {},
   "outputs": [],
   "source": [
    "df.drop(\"locale\", axis = 1, inplace=True)"
   ]
  },
  {
   "cell_type": "code",
   "execution_count": 50,
   "id": "48542f69",
   "metadata": {},
   "outputs": [
    {
     "data": {
      "text/html": [
       "<div>\n",
       "<style scoped>\n",
       "    .dataframe tbody tr th:only-of-type {\n",
       "        vertical-align: middle;\n",
       "    }\n",
       "\n",
       "    .dataframe tbody tr th {\n",
       "        vertical-align: top;\n",
       "    }\n",
       "\n",
       "    .dataframe thead th {\n",
       "        text-align: right;\n",
       "    }\n",
       "</style>\n",
       "<table border=\"1\" class=\"dataframe\">\n",
       "  <thead>\n",
       "    <tr style=\"text-align: right;\">\n",
       "      <th></th>\n",
       "      <th>browser</th>\n",
       "      <th>os</th>\n",
       "      <th>gender</th>\n",
       "      <th>location</th>\n",
       "      <th>time</th>\n",
       "      <th>date</th>\n",
       "      <th>target</th>\n",
       "      <th>avg_length</th>\n",
       "      <th>software_language</th>\n",
       "      <th>software_country</th>\n",
       "    </tr>\n",
       "  </thead>\n",
       "  <tbody>\n",
       "    <tr>\n",
       "      <th>0</th>\n",
       "      <td>Chrome</td>\n",
       "      <td>Windows 8</td>\n",
       "      <td>m</td>\n",
       "      <td>Canada/Toronto</td>\n",
       "      <td>03:57:00</td>\n",
       "      <td>2016-08-14</td>\n",
       "      <td>0</td>\n",
       "      <td>155.400000</td>\n",
       "      <td>de</td>\n",
       "      <td>DE</td>\n",
       "    </tr>\n",
       "    <tr>\n",
       "      <th>1</th>\n",
       "      <td>Chrome</td>\n",
       "      <td>Windows 10</td>\n",
       "      <td>f</td>\n",
       "      <td>Netherlands/Amsterdam</td>\n",
       "      <td>13:52:00</td>\n",
       "      <td>2016-05-31</td>\n",
       "      <td>0</td>\n",
       "      <td>119.166667</td>\n",
       "      <td>pt</td>\n",
       "      <td>PT</td>\n",
       "    </tr>\n",
       "    <tr>\n",
       "      <th>2</th>\n",
       "      <td>Chrome</td>\n",
       "      <td>Windows 10</td>\n",
       "      <td>m</td>\n",
       "      <td>Brazil/Rio de Janeiro</td>\n",
       "      <td>17:40:00</td>\n",
       "      <td>2019-04-15</td>\n",
       "      <td>0</td>\n",
       "      <td>114.200000</td>\n",
       "      <td>bg</td>\n",
       "      <td>BG</td>\n",
       "    </tr>\n",
       "    <tr>\n",
       "      <th>3</th>\n",
       "      <td>Internet Explorer</td>\n",
       "      <td>Ubuntu</td>\n",
       "      <td>f</td>\n",
       "      <td>New Zealand/Auckland</td>\n",
       "      <td>20:23:00</td>\n",
       "      <td>2018-03-25</td>\n",
       "      <td>0</td>\n",
       "      <td>98.000000</td>\n",
       "      <td>en</td>\n",
       "      <td>US</td>\n",
       "    </tr>\n",
       "    <tr>\n",
       "      <th>4</th>\n",
       "      <td>Firefox</td>\n",
       "      <td>Debian</td>\n",
       "      <td>f</td>\n",
       "      <td>New Zealand/Auckland</td>\n",
       "      <td>01:10:00</td>\n",
       "      <td>2018-09-08</td>\n",
       "      <td>0</td>\n",
       "      <td>95.300000</td>\n",
       "      <td>ro</td>\n",
       "      <td>RO</td>\n",
       "    </tr>\n",
       "  </tbody>\n",
       "</table>\n",
       "</div>"
      ],
      "text/plain": [
       "             browser          os gender               location      time  \\\n",
       "0             Chrome   Windows 8      m         Canada/Toronto  03:57:00   \n",
       "1             Chrome  Windows 10      f  Netherlands/Amsterdam  13:52:00   \n",
       "2             Chrome  Windows 10      m  Brazil/Rio de Janeiro  17:40:00   \n",
       "3  Internet Explorer      Ubuntu      f   New Zealand/Auckland  20:23:00   \n",
       "4            Firefox      Debian      f   New Zealand/Auckland  01:10:00   \n",
       "\n",
       "         date  target  avg_length software_language software_country  \n",
       "0  2016-08-14       0  155.400000                de               DE  \n",
       "1  2016-05-31       0  119.166667                pt               PT  \n",
       "2  2019-04-15       0  114.200000                bg               BG  \n",
       "3  2018-03-25       0   98.000000                en               US  \n",
       "4  2018-09-08       0   95.300000                ro               RO  "
      ]
     },
     "execution_count": 50,
     "metadata": {},
     "output_type": "execute_result"
    }
   ],
   "source": [
    "df.head()"
   ]
  },
  {
   "cell_type": "markdown",
   "id": "8399e4c3",
   "metadata": {},
   "source": [
    "### Gender"
   ]
  },
  {
   "cell_type": "code",
   "execution_count": 51,
   "id": "19228da4",
   "metadata": {},
   "outputs": [
    {
     "data": {
      "image/png": "[encoded data removed]",
      "text/plain": [
       "<Figure size 216x360 with 1 Axes>"
      ]
     },
     "metadata": {
      "needs_background": "light"
     },
     "output_type": "display_data"
    }
   ],
   "source": [
    "labeled_barplot(df, \"gender\", perc = True)"
   ]
  },
  {
   "cell_type": "markdown",
   "id": "e621fb4c",
   "metadata": {},
   "source": [
    "A gender ratio of almost 2:1 between men and women."
   ]
  },
  {
   "cell_type": "markdown",
   "id": "0719c1b1",
   "metadata": {},
   "source": [
    "### Location"
   ]
  },
  {
   "cell_type": "code",
   "execution_count": 52,
   "id": "d9bb53f1",
   "metadata": {},
   "outputs": [
    {
     "data": {
      "text/plain": [
       "0                Canada/Toronto\n",
       "1         Netherlands/Amsterdam\n",
       "2         Brazil/Rio de Janeiro\n",
       "3          New Zealand/Auckland\n",
       "4          New Zealand/Auckland\n",
       "                  ...          \n",
       "159995           China/Shanghai\n",
       "159996     New Zealand/Auckland\n",
       "159997            Russia/Moscow\n",
       "159998               Italy/Rome\n",
       "159999    Netherlands/Amsterdam\n",
       "Name: location, Length: 160000, dtype: object"
      ]
     },
     "execution_count": 52,
     "metadata": {},
     "output_type": "execute_result"
    }
   ],
   "source": [
    "df[\"location\"]"
   ]
  },
  {
   "cell_type": "markdown",
   "id": "815fad26",
   "metadata": {},
   "source": [
    "I split up the `location` variable into `country` and `city`"
   ]
  },
  {
   "cell_type": "code",
   "execution_count": 53,
   "id": "5f896cd2",
   "metadata": {},
   "outputs": [],
   "source": [
    "df[\"country\"] = df.location.apply(lambda x:x.split('/')[0])\n",
    "df[\"city\"] = df.location.apply(lambda x:x.split('/')[1])"
   ]
  },
  {
   "cell_type": "code",
   "execution_count": 54,
   "id": "66d9841f",
   "metadata": {},
   "outputs": [
    {
     "data": {
      "text/html": [
       "<div>\n",
       "<style scoped>\n",
       "    .dataframe tbody tr th:only-of-type {\n",
       "        vertical-align: middle;\n",
       "    }\n",
       "\n",
       "    .dataframe tbody tr th {\n",
       "        vertical-align: top;\n",
       "    }\n",
       "\n",
       "    .dataframe thead th {\n",
       "        text-align: right;\n",
       "    }\n",
       "</style>\n",
       "<table border=\"1\" class=\"dataframe\">\n",
       "  <thead>\n",
       "    <tr style=\"text-align: right;\">\n",
       "      <th></th>\n",
       "      <th>browser</th>\n",
       "      <th>os</th>\n",
       "      <th>gender</th>\n",
       "      <th>location</th>\n",
       "      <th>time</th>\n",
       "      <th>date</th>\n",
       "      <th>target</th>\n",
       "      <th>avg_length</th>\n",
       "      <th>software_language</th>\n",
       "      <th>software_country</th>\n",
       "      <th>country</th>\n",
       "      <th>city</th>\n",
       "    </tr>\n",
       "  </thead>\n",
       "  <tbody>\n",
       "    <tr>\n",
       "      <th>0</th>\n",
       "      <td>Chrome</td>\n",
       "      <td>Windows 8</td>\n",
       "      <td>m</td>\n",
       "      <td>Canada/Toronto</td>\n",
       "      <td>03:57:00</td>\n",
       "      <td>2016-08-14</td>\n",
       "      <td>0</td>\n",
       "      <td>155.400000</td>\n",
       "      <td>de</td>\n",
       "      <td>DE</td>\n",
       "      <td>Canada</td>\n",
       "      <td>Toronto</td>\n",
       "    </tr>\n",
       "    <tr>\n",
       "      <th>1</th>\n",
       "      <td>Chrome</td>\n",
       "      <td>Windows 10</td>\n",
       "      <td>f</td>\n",
       "      <td>Netherlands/Amsterdam</td>\n",
       "      <td>13:52:00</td>\n",
       "      <td>2016-05-31</td>\n",
       "      <td>0</td>\n",
       "      <td>119.166667</td>\n",
       "      <td>pt</td>\n",
       "      <td>PT</td>\n",
       "      <td>Netherlands</td>\n",
       "      <td>Amsterdam</td>\n",
       "    </tr>\n",
       "    <tr>\n",
       "      <th>2</th>\n",
       "      <td>Chrome</td>\n",
       "      <td>Windows 10</td>\n",
       "      <td>m</td>\n",
       "      <td>Brazil/Rio de Janeiro</td>\n",
       "      <td>17:40:00</td>\n",
       "      <td>2019-04-15</td>\n",
       "      <td>0</td>\n",
       "      <td>114.200000</td>\n",
       "      <td>bg</td>\n",
       "      <td>BG</td>\n",
       "      <td>Brazil</td>\n",
       "      <td>Rio de Janeiro</td>\n",
       "    </tr>\n",
       "    <tr>\n",
       "      <th>3</th>\n",
       "      <td>Internet Explorer</td>\n",
       "      <td>Ubuntu</td>\n",
       "      <td>f</td>\n",
       "      <td>New Zealand/Auckland</td>\n",
       "      <td>20:23:00</td>\n",
       "      <td>2018-03-25</td>\n",
       "      <td>0</td>\n",
       "      <td>98.000000</td>\n",
       "      <td>en</td>\n",
       "      <td>US</td>\n",
       "      <td>New Zealand</td>\n",
       "      <td>Auckland</td>\n",
       "    </tr>\n",
       "    <tr>\n",
       "      <th>4</th>\n",
       "      <td>Firefox</td>\n",
       "      <td>Debian</td>\n",
       "      <td>f</td>\n",
       "      <td>New Zealand/Auckland</td>\n",
       "      <td>01:10:00</td>\n",
       "      <td>2018-09-08</td>\n",
       "      <td>0</td>\n",
       "      <td>95.300000</td>\n",
       "      <td>ro</td>\n",
       "      <td>RO</td>\n",
       "      <td>New Zealand</td>\n",
       "      <td>Auckland</td>\n",
       "    </tr>\n",
       "  </tbody>\n",
       "</table>\n",
       "</div>"
      ],
      "text/plain": [
       "             browser          os gender               location      time  \\\n",
       "0             Chrome   Windows 8      m         Canada/Toronto  03:57:00   \n",
       "1             Chrome  Windows 10      f  Netherlands/Amsterdam  13:52:00   \n",
       "2             Chrome  Windows 10      m  Brazil/Rio de Janeiro  17:40:00   \n",
       "3  Internet Explorer      Ubuntu      f   New Zealand/Auckland  20:23:00   \n",
       "4            Firefox      Debian      f   New Zealand/Auckland  01:10:00   \n",
       "\n",
       "         date  target  avg_length software_language software_country  \\\n",
       "0  2016-08-14       0  155.400000                de               DE   \n",
       "1  2016-05-31       0  119.166667                pt               PT   \n",
       "2  2019-04-15       0  114.200000                bg               BG   \n",
       "3  2018-03-25       0   98.000000                en               US   \n",
       "4  2018-09-08       0   95.300000                ro               RO   \n",
       "\n",
       "       country            city  \n",
       "0       Canada         Toronto  \n",
       "1  Netherlands       Amsterdam  \n",
       "2       Brazil  Rio de Janeiro  \n",
       "3  New Zealand        Auckland  \n",
       "4  New Zealand        Auckland  "
      ]
     },
     "execution_count": 54,
     "metadata": {},
     "output_type": "execute_result"
    }
   ],
   "source": [
    "df.head()"
   ]
  },
  {
   "cell_type": "code",
   "execution_count": 55,
   "id": "8d8a9238",
   "metadata": {},
   "outputs": [
    {
     "data": {
      "image/png": "[encoded data removed]",
      "text/plain": [
       "<Figure size 1296x360 with 1 Axes>"
      ]
     },
     "metadata": {
      "needs_background": "light"
     },
     "output_type": "display_data"
    }
   ],
   "source": [
    "labeled_barplot(df, \"country\", perc=True)"
   ]
  },
  {
   "cell_type": "code",
   "execution_count": 56,
   "id": "fb2816a4",
   "metadata": {},
   "outputs": [
    {
     "data": {
      "image/png": "[encoded data removed]",
      "text/plain": [
       "<Figure size 1584x360 with 1 Axes>"
      ]
     },
     "metadata": {
      "needs_background": "light"
     },
     "output_type": "display_data"
    }
   ],
   "source": [
    "labeled_barplot(df, \"city\", perc = True)"
   ]
  },
  {
   "cell_type": "code",
   "execution_count": 57,
   "id": "888f995c",
   "metadata": {},
   "outputs": [],
   "source": [
    "#drop location\n",
    "df.drop(\"location\", axis = 1, inplace=True)"
   ]
  },
  {
   "cell_type": "code",
   "execution_count": null,
   "id": "01cd0204",
   "metadata": {},
   "outputs": [],
   "source": []
  },
  {
   "cell_type": "code",
   "execution_count": null,
   "id": "afbe1c37",
   "metadata": {},
   "outputs": [],
   "source": []
  },
  {
   "cell_type": "markdown",
   "id": "0fc938e1",
   "metadata": {},
   "source": [
    "### Time"
   ]
  },
  {
   "cell_type": "code",
   "execution_count": 58,
   "id": "b6303180",
   "metadata": {},
   "outputs": [
    {
     "data": {
      "text/plain": [
       "dtype('O')"
      ]
     },
     "execution_count": 58,
     "metadata": {},
     "output_type": "execute_result"
    }
   ],
   "source": [
    "df.time.dtype"
   ]
  },
  {
   "cell_type": "code",
   "execution_count": 59,
   "id": "b8627213",
   "metadata": {},
   "outputs": [
    {
     "data": {
      "text/plain": [
       "array(['00'], dtype=object)"
      ]
     },
     "execution_count": 59,
     "metadata": {},
     "output_type": "execute_result"
    }
   ],
   "source": [
    "df.time.apply(lambda x:x[-2:]).unique()"
   ]
  },
  {
   "cell_type": "markdown",
   "id": "c79991ef",
   "metadata": {},
   "source": [
    "All time values have 00 second marks."
   ]
  },
  {
   "cell_type": "code",
   "execution_count": 60,
   "id": "94e37c92",
   "metadata": {},
   "outputs": [
    {
     "data": {
      "text/plain": [
       "03:00:00    1339\n",
       "05:00:00    1243\n",
       "04:00:00     925\n",
       "07:00:00     889\n",
       "09:00:00     622\n",
       "            ... \n",
       "22:17:00      60\n",
       "22:05:00      59\n",
       "22:20:00      59\n",
       "20:07:00      59\n",
       "20:21:00      51\n",
       "Name: time, Length: 1440, dtype: int64"
      ]
     },
     "execution_count": 60,
     "metadata": {},
     "output_type": "execute_result"
    }
   ],
   "source": [
    "df.time.value_counts()"
   ]
  },
  {
   "cell_type": "markdown",
   "id": "9ecec0af",
   "metadata": {},
   "source": [
    "Grab the hour from the `time` variable"
   ]
  },
  {
   "cell_type": "code",
   "execution_count": 61,
   "id": "afb7f044",
   "metadata": {},
   "outputs": [],
   "source": [
    "df[\"hour\"] = df.time.apply(lambda x:int(x[:2]))"
   ]
  },
  {
   "cell_type": "code",
   "execution_count": 62,
   "id": "6733c93c",
   "metadata": {},
   "outputs": [
    {
     "data": {
      "image/png": "[encoded data removed]",
      "text/plain": [
       "<Figure size 1800x360 with 1 Axes>"
      ]
     },
     "metadata": {
      "needs_background": "light"
     },
     "output_type": "display_data"
    }
   ],
   "source": [
    "labeled_barplot(df, 'hour', perc=True)"
   ]
  },
  {
   "cell_type": "markdown",
   "id": "2dd1584c",
   "metadata": {},
   "source": [
    "There doesn't appear to be much variation of the hours at which sessions occur."
   ]
  },
  {
   "cell_type": "code",
   "execution_count": 63,
   "id": "c4b043ba",
   "metadata": {},
   "outputs": [
    {
     "data": {
      "text/html": [
       "<div>\n",
       "<style scoped>\n",
       "    .dataframe tbody tr th:only-of-type {\n",
       "        vertical-align: middle;\n",
       "    }\n",
       "\n",
       "    .dataframe tbody tr th {\n",
       "        vertical-align: top;\n",
       "    }\n",
       "\n",
       "    .dataframe thead th {\n",
       "        text-align: right;\n",
       "    }\n",
       "</style>\n",
       "<table border=\"1\" class=\"dataframe\">\n",
       "  <thead>\n",
       "    <tr style=\"text-align: right;\">\n",
       "      <th></th>\n",
       "      <th>browser</th>\n",
       "      <th>os</th>\n",
       "      <th>gender</th>\n",
       "      <th>time</th>\n",
       "      <th>date</th>\n",
       "      <th>target</th>\n",
       "      <th>avg_length</th>\n",
       "      <th>software_language</th>\n",
       "      <th>software_country</th>\n",
       "      <th>country</th>\n",
       "      <th>city</th>\n",
       "      <th>hour</th>\n",
       "    </tr>\n",
       "  </thead>\n",
       "  <tbody>\n",
       "    <tr>\n",
       "      <th>0</th>\n",
       "      <td>Chrome</td>\n",
       "      <td>Windows 8</td>\n",
       "      <td>m</td>\n",
       "      <td>03:57:00</td>\n",
       "      <td>2016-08-14</td>\n",
       "      <td>0</td>\n",
       "      <td>155.400000</td>\n",
       "      <td>de</td>\n",
       "      <td>DE</td>\n",
       "      <td>Canada</td>\n",
       "      <td>Toronto</td>\n",
       "      <td>3</td>\n",
       "    </tr>\n",
       "    <tr>\n",
       "      <th>1</th>\n",
       "      <td>Chrome</td>\n",
       "      <td>Windows 10</td>\n",
       "      <td>f</td>\n",
       "      <td>13:52:00</td>\n",
       "      <td>2016-05-31</td>\n",
       "      <td>0</td>\n",
       "      <td>119.166667</td>\n",
       "      <td>pt</td>\n",
       "      <td>PT</td>\n",
       "      <td>Netherlands</td>\n",
       "      <td>Amsterdam</td>\n",
       "      <td>13</td>\n",
       "    </tr>\n",
       "    <tr>\n",
       "      <th>2</th>\n",
       "      <td>Chrome</td>\n",
       "      <td>Windows 10</td>\n",
       "      <td>m</td>\n",
       "      <td>17:40:00</td>\n",
       "      <td>2019-04-15</td>\n",
       "      <td>0</td>\n",
       "      <td>114.200000</td>\n",
       "      <td>bg</td>\n",
       "      <td>BG</td>\n",
       "      <td>Brazil</td>\n",
       "      <td>Rio de Janeiro</td>\n",
       "      <td>17</td>\n",
       "    </tr>\n",
       "    <tr>\n",
       "      <th>3</th>\n",
       "      <td>Internet Explorer</td>\n",
       "      <td>Ubuntu</td>\n",
       "      <td>f</td>\n",
       "      <td>20:23:00</td>\n",
       "      <td>2018-03-25</td>\n",
       "      <td>0</td>\n",
       "      <td>98.000000</td>\n",
       "      <td>en</td>\n",
       "      <td>US</td>\n",
       "      <td>New Zealand</td>\n",
       "      <td>Auckland</td>\n",
       "      <td>20</td>\n",
       "    </tr>\n",
       "    <tr>\n",
       "      <th>4</th>\n",
       "      <td>Firefox</td>\n",
       "      <td>Debian</td>\n",
       "      <td>f</td>\n",
       "      <td>01:10:00</td>\n",
       "      <td>2018-09-08</td>\n",
       "      <td>0</td>\n",
       "      <td>95.300000</td>\n",
       "      <td>ro</td>\n",
       "      <td>RO</td>\n",
       "      <td>New Zealand</td>\n",
       "      <td>Auckland</td>\n",
       "      <td>1</td>\n",
       "    </tr>\n",
       "  </tbody>\n",
       "</table>\n",
       "</div>"
      ],
      "text/plain": [
       "             browser          os gender      time        date  target  \\\n",
       "0             Chrome   Windows 8      m  03:57:00  2016-08-14       0   \n",
       "1             Chrome  Windows 10      f  13:52:00  2016-05-31       0   \n",
       "2             Chrome  Windows 10      m  17:40:00  2019-04-15       0   \n",
       "3  Internet Explorer      Ubuntu      f  20:23:00  2018-03-25       0   \n",
       "4            Firefox      Debian      f  01:10:00  2018-09-08       0   \n",
       "\n",
       "   avg_length software_language software_country      country            city  \\\n",
       "0  155.400000                de               DE       Canada         Toronto   \n",
       "1  119.166667                pt               PT  Netherlands       Amsterdam   \n",
       "2  114.200000                bg               BG       Brazil  Rio de Janeiro   \n",
       "3   98.000000                en               US  New Zealand        Auckland   \n",
       "4   95.300000                ro               RO  New Zealand        Auckland   \n",
       "\n",
       "   hour  \n",
       "0     3  \n",
       "1    13  \n",
       "2    17  \n",
       "3    20  \n",
       "4     1  "
      ]
     },
     "execution_count": 63,
     "metadata": {},
     "output_type": "execute_result"
    }
   ],
   "source": [
    "df.head()"
   ]
  },
  {
   "cell_type": "markdown",
   "id": "3ead6e51",
   "metadata": {},
   "source": [
    "### date"
   ]
  },
  {
   "cell_type": "markdown",
   "id": "e89d2cf9",
   "metadata": {},
   "source": [
    "Conver the `date` column into a datetime object"
   ]
  },
  {
   "cell_type": "code",
   "execution_count": 64,
   "id": "9ada1b27",
   "metadata": {},
   "outputs": [
    {
     "data": {
      "text/plain": [
       "0        2016-08-14\n",
       "1        2016-05-31\n",
       "2        2019-04-15\n",
       "3        2018-03-25\n",
       "4        2018-09-08\n",
       "            ...    \n",
       "159995   2018-10-15\n",
       "159996   2016-03-23\n",
       "159997   2019-03-03\n",
       "159998   2016-12-14\n",
       "159999   2016-12-04\n",
       "Name: date, Length: 160000, dtype: datetime64[ns]"
      ]
     },
     "execution_count": 64,
     "metadata": {},
     "output_type": "execute_result"
    }
   ],
   "source": [
    "df[\"date\"] = pd.to_datetime(df[\"date\"])\n",
    "df.date"
   ]
  },
  {
   "cell_type": "markdown",
   "id": "390f0235",
   "metadata": {},
   "source": [
    "Create a new variable called `weekday`."
   ]
  },
  {
   "cell_type": "code",
   "execution_count": 65,
   "id": "5664804d",
   "metadata": {},
   "outputs": [],
   "source": [
    "df[\"weekday\"] = (df.date.dt.weekday < 5)*1"
   ]
  },
  {
   "cell_type": "markdown",
   "id": "abbcf1d3",
   "metadata": {},
   "source": [
    "Visualize the rate of sessions per month over the course of the data."
   ]
  },
  {
   "cell_type": "code",
   "execution_count": 66,
   "id": "095dff7a",
   "metadata": {},
   "outputs": [
    {
     "data": {
      "image/png": "[encoded data removed]",
      "text/plain": [
       "<Figure size 792x576 with 1 Axes>"
      ]
     },
     "metadata": {
      "needs_background": "light"
     },
     "output_type": "display_data"
    }
   ],
   "source": [
    "dates = pd.Series(index=df.date.values, data = np.ones(shape=df.shape[0]))\n",
    "monthly = dates.resample(\"m\").sum()\n",
    "monthly.plot(figsize=(11, 8));"
   ]
  },
  {
   "cell_type": "markdown",
   "id": "abc59597",
   "metadata": {},
   "source": [
    "A cursory look at the data shows that outside of the beginning and end months, the rate of sessions has been consistent."
   ]
  },
  {
   "cell_type": "markdown",
   "id": "fec9f910",
   "metadata": {},
   "source": [
    "## Bivariate Analysis\n",
    "\n",
    "In this section, I examine the relationship between various pairs of variables with a focus on the relationships between the target and features."
   ]
  },
  {
   "cell_type": "code",
   "execution_count": null,
   "id": "92225ce9",
   "metadata": {},
   "outputs": [],
   "source": []
  },
  {
   "cell_type": "markdown",
   "id": "f6a7ab54",
   "metadata": {},
   "source": [
    "The `distribution_plot_wrt_target` function plots boxplots and histograms for a specific quantitative variable grouped by the groups of a categorical variable."
   ]
  },
  {
   "cell_type": "code",
   "execution_count": null,
   "id": "72827f23",
   "metadata": {},
   "outputs": [],
   "source": []
  },
  {
   "cell_type": "markdown",
   "id": "97c28fae",
   "metadata": {},
   "source": [
    "###  Avg_length vs target"
   ]
  },
  {
   "cell_type": "code",
   "execution_count": 67,
   "id": "31d44e9a",
   "metadata": {},
   "outputs": [
    {
     "data": {
      "image/png": "[encoded data removed]",
      "text/plain": [
       "<Figure size 864x720 with 4 Axes>"
      ]
     },
     "metadata": {
      "needs_background": "light"
     },
     "output_type": "display_data"
    }
   ],
   "source": [
    "distribution_plot_wrt_target(df, \"avg_length\", 'target')"
   ]
  },
  {
   "cell_type": "markdown",
   "id": "bef2a415",
   "metadata": {},
   "source": [
    "It does not appear that there is a substantial difference of the average length of sessions for joe and not joe sessions."
   ]
  },
  {
   "cell_type": "markdown",
   "id": "859225c7",
   "metadata": {},
   "source": [
    "###  hour vs target"
   ]
  },
  {
   "cell_type": "code",
   "execution_count": 68,
   "id": "e1b590a8",
   "metadata": {},
   "outputs": [
    {
     "data": {
      "image/png": "[encoded data removed]",
      "text/plain": [
       "<Figure size 864x720 with 4 Axes>"
      ]
     },
     "metadata": {
      "needs_background": "light"
     },
     "output_type": "display_data"
    }
   ],
   "source": [
    "distribution_plot_wrt_target(df, \"hour\", 'target')"
   ]
  },
  {
   "cell_type": "markdown",
   "id": "d122bddb",
   "metadata": {},
   "source": [
    "From here we see that the average time of day of sessions does not significantly differ between joe and not joe sessions."
   ]
  },
  {
   "cell_type": "markdown",
   "id": "5ad1964b",
   "metadata": {},
   "source": [
    "### browser vs target"
   ]
  },
  {
   "cell_type": "markdown",
   "id": "2fd49f5f",
   "metadata": {},
   "source": [
    "I use the `crosstab_plot` function to analyze the relationship between two different categorical variables."
   ]
  },
  {
   "cell_type": "markdown",
   "id": "183bafdf",
   "metadata": {},
   "source": [
    "The following plot shows what the percentage of sessions that are joe for each of the values in the browser column. The vertical red line shows the overall percentage of the data that is marked as joe."
   ]
  },
  {
   "cell_type": "code",
   "execution_count": 69,
   "id": "50713a17",
   "metadata": {},
   "outputs": [
    {
     "data": {
      "image/png": "[encoded data removed]",
      "text/plain": [
       "<Figure size 576x432 with 1 Axes>"
      ]
     },
     "metadata": {
      "needs_background": "light"
     },
     "output_type": "display_data"
    }
   ],
   "source": [
    "crosstab_plot(df, 'browser', 'target')"
   ]
  },
  {
   "cell_type": "markdown",
   "id": "d33bacf1",
   "metadata": {},
   "source": [
    "From this plot we see that the Firefox is disproportionately used more often in joe sessions compared to the other three. Safari and Internet Explorer aren't even used once for joe sessions where Chrome sessions match the general population."
   ]
  },
  {
   "cell_type": "code",
   "execution_count": null,
   "id": "1907db70",
   "metadata": {},
   "outputs": [],
   "source": []
  },
  {
   "cell_type": "markdown",
   "id": "66ae0827",
   "metadata": {},
   "source": [
    "### OS vs target"
   ]
  },
  {
   "cell_type": "code",
   "execution_count": 70,
   "id": "0883488f",
   "metadata": {},
   "outputs": [
    {
     "data": {
      "image/png": "[encoded data removed]",
      "text/plain": [
       "<Figure size 576x432 with 1 Axes>"
      ]
     },
     "metadata": {
      "needs_background": "light"
     },
     "output_type": "display_data"
    }
   ],
   "source": [
    "crosstab_plot(df, 'os', 'target')"
   ]
  },
  {
   "cell_type": "markdown",
   "id": "d309de83",
   "metadata": {},
   "source": [
    "Joe sessions only use either Ubuntu or Windows 10 operating systems. Joe sessions accounts for almost 3.5% of all Ubuntu sessions."
   ]
  },
  {
   "cell_type": "code",
   "execution_count": null,
   "id": "9b72578c",
   "metadata": {},
   "outputs": [],
   "source": []
  },
  {
   "cell_type": "markdown",
   "id": "aa896609",
   "metadata": {},
   "source": [
    "### gender vs target"
   ]
  },
  {
   "cell_type": "code",
   "execution_count": 71,
   "id": "b67a9883",
   "metadata": {},
   "outputs": [
    {
     "data": {
      "image/png": "[encoded data removed]",
      "text/plain": [
       "<Figure size 576x432 with 1 Axes>"
      ]
     },
     "metadata": {
      "needs_background": "light"
     },
     "output_type": "display_data"
    }
   ],
   "source": [
    "crosstab_plot(df, 'gender', 'target')"
   ]
  },
  {
   "cell_type": "markdown",
   "id": "c025406b",
   "metadata": {},
   "source": [
    "We learn here that Joe is a male and therefore that a sessions from a female guarantees that that session isn't Joe."
   ]
  },
  {
   "cell_type": "code",
   "execution_count": null,
   "id": "1683b78a",
   "metadata": {},
   "outputs": [],
   "source": []
  },
  {
   "cell_type": "markdown",
   "id": "3e60f869",
   "metadata": {},
   "source": [
    "### country and city vs target"
   ]
  },
  {
   "cell_type": "code",
   "execution_count": 72,
   "id": "b754f64e",
   "metadata": {},
   "outputs": [
    {
     "data": {
      "image/png": "[encoded data removed]",
      "text/plain": [
       "<Figure size 576x432 with 1 Axes>"
      ]
     },
     "metadata": {
      "needs_background": "light"
     },
     "output_type": "display_data"
    }
   ],
   "source": [
    "crosstab_plot(df, 'country', 'target')"
   ]
  },
  {
   "cell_type": "code",
   "execution_count": 73,
   "id": "1983afe0",
   "metadata": {},
   "outputs": [
    {
     "data": {
      "image/png": "[encoded data removed]",
      "text/plain": [
       "<Figure size 576x432 with 1 Axes>"
      ]
     },
     "metadata": {
      "needs_background": "light"
     },
     "output_type": "display_data"
    }
   ],
   "source": [
    "crosstab_plot(df, 'city', 'target')"
   ]
  },
  {
   "cell_type": "markdown",
   "id": "fa7095c3",
   "metadata": {},
   "source": [
    "Joe sessions only occur in only four cities, in addition this plot tells us that we don't need both columns."
   ]
  },
  {
   "cell_type": "code",
   "execution_count": null,
   "id": "6e8c5fe4",
   "metadata": {},
   "outputs": [],
   "source": []
  },
  {
   "cell_type": "markdown",
   "id": "60abe327",
   "metadata": {},
   "source": [
    "### software vs target"
   ]
  },
  {
   "cell_type": "code",
   "execution_count": 74,
   "id": "e9722053",
   "metadata": {},
   "outputs": [
    {
     "data": {
      "image/png": "[encoded data removed]",
      "text/plain": [
       "<Figure size 576x432 with 1 Axes>"
      ]
     },
     "metadata": {
      "needs_background": "light"
     },
     "output_type": "display_data"
    }
   ],
   "source": [
    "crosstab_plot(df, 'software_language', 'target')"
   ]
  },
  {
   "cell_type": "code",
   "execution_count": 75,
   "id": "185e093a",
   "metadata": {},
   "outputs": [
    {
     "data": {
      "image/png": "[encoded data removed]",
      "text/plain": [
       "<Figure size 576x432 with 1 Axes>"
      ]
     },
     "metadata": {
      "needs_background": "light"
     },
     "output_type": "display_data"
    }
   ],
   "source": [
    "crosstab_plot(df, 'software_country', 'target')"
   ]
  },
  {
   "cell_type": "code",
   "execution_count": 76,
   "id": "755e7b47",
   "metadata": {},
   "outputs": [
    {
     "data": {
      "text/html": [
       "<div>\n",
       "<style scoped>\n",
       "    .dataframe tbody tr th:only-of-type {\n",
       "        vertical-align: middle;\n",
       "    }\n",
       "\n",
       "    .dataframe tbody tr th {\n",
       "        vertical-align: top;\n",
       "    }\n",
       "\n",
       "    .dataframe thead th {\n",
       "        text-align: right;\n",
       "    }\n",
       "</style>\n",
       "<table border=\"1\" class=\"dataframe\">\n",
       "  <thead>\n",
       "    <tr style=\"text-align: right;\">\n",
       "      <th>software_language</th>\n",
       "      <th>bg</th>\n",
       "      <th>de</th>\n",
       "      <th>en</th>\n",
       "      <th>es</th>\n",
       "      <th>fr</th>\n",
       "      <th>it</th>\n",
       "      <th>ja</th>\n",
       "      <th>nl</th>\n",
       "      <th>pl</th>\n",
       "      <th>pt</th>\n",
       "      <th>ro</th>\n",
       "      <th>ru</th>\n",
       "      <th>uk</th>\n",
       "    </tr>\n",
       "    <tr>\n",
       "      <th>software_country</th>\n",
       "      <th></th>\n",
       "      <th></th>\n",
       "      <th></th>\n",
       "      <th></th>\n",
       "      <th></th>\n",
       "      <th></th>\n",
       "      <th></th>\n",
       "      <th></th>\n",
       "      <th></th>\n",
       "      <th></th>\n",
       "      <th></th>\n",
       "      <th></th>\n",
       "      <th></th>\n",
       "    </tr>\n",
       "  </thead>\n",
       "  <tbody>\n",
       "    <tr>\n",
       "      <th>AU</th>\n",
       "      <td>0</td>\n",
       "      <td>0</td>\n",
       "      <td>2382</td>\n",
       "      <td>0</td>\n",
       "      <td>0</td>\n",
       "      <td>0</td>\n",
       "      <td>0</td>\n",
       "      <td>0</td>\n",
       "      <td>0</td>\n",
       "      <td>0</td>\n",
       "      <td>0</td>\n",
       "      <td>0</td>\n",
       "      <td>0</td>\n",
       "    </tr>\n",
       "    <tr>\n",
       "      <th>BG</th>\n",
       "      <td>14375</td>\n",
       "      <td>0</td>\n",
       "      <td>0</td>\n",
       "      <td>0</td>\n",
       "      <td>0</td>\n",
       "      <td>0</td>\n",
       "      <td>0</td>\n",
       "      <td>0</td>\n",
       "      <td>0</td>\n",
       "      <td>0</td>\n",
       "      <td>0</td>\n",
       "      <td>0</td>\n",
       "      <td>0</td>\n",
       "    </tr>\n",
       "    <tr>\n",
       "      <th>BR</th>\n",
       "      <td>0</td>\n",
       "      <td>0</td>\n",
       "      <td>0</td>\n",
       "      <td>0</td>\n",
       "      <td>0</td>\n",
       "      <td>0</td>\n",
       "      <td>0</td>\n",
       "      <td>0</td>\n",
       "      <td>0</td>\n",
       "      <td>7300</td>\n",
       "      <td>0</td>\n",
       "      <td>0</td>\n",
       "      <td>0</td>\n",
       "    </tr>\n",
       "    <tr>\n",
       "      <th>CA</th>\n",
       "      <td>0</td>\n",
       "      <td>0</td>\n",
       "      <td>8745</td>\n",
       "      <td>0</td>\n",
       "      <td>0</td>\n",
       "      <td>0</td>\n",
       "      <td>0</td>\n",
       "      <td>0</td>\n",
       "      <td>0</td>\n",
       "      <td>0</td>\n",
       "      <td>0</td>\n",
       "      <td>0</td>\n",
       "      <td>0</td>\n",
       "    </tr>\n",
       "    <tr>\n",
       "      <th>DE</th>\n",
       "      <td>0</td>\n",
       "      <td>10473</td>\n",
       "      <td>0</td>\n",
       "      <td>0</td>\n",
       "      <td>0</td>\n",
       "      <td>0</td>\n",
       "      <td>0</td>\n",
       "      <td>0</td>\n",
       "      <td>0</td>\n",
       "      <td>0</td>\n",
       "      <td>0</td>\n",
       "      <td>0</td>\n",
       "      <td>0</td>\n",
       "    </tr>\n",
       "    <tr>\n",
       "      <th>FR</th>\n",
       "      <td>0</td>\n",
       "      <td>0</td>\n",
       "      <td>0</td>\n",
       "      <td>0</td>\n",
       "      <td>8026</td>\n",
       "      <td>0</td>\n",
       "      <td>0</td>\n",
       "      <td>0</td>\n",
       "      <td>0</td>\n",
       "      <td>0</td>\n",
       "      <td>0</td>\n",
       "      <td>0</td>\n",
       "      <td>0</td>\n",
       "    </tr>\n",
       "    <tr>\n",
       "      <th>GB</th>\n",
       "      <td>0</td>\n",
       "      <td>0</td>\n",
       "      <td>6795</td>\n",
       "      <td>0</td>\n",
       "      <td>0</td>\n",
       "      <td>0</td>\n",
       "      <td>0</td>\n",
       "      <td>0</td>\n",
       "      <td>0</td>\n",
       "      <td>0</td>\n",
       "      <td>0</td>\n",
       "      <td>0</td>\n",
       "      <td>0</td>\n",
       "    </tr>\n",
       "    <tr>\n",
       "      <th>IT</th>\n",
       "      <td>0</td>\n",
       "      <td>0</td>\n",
       "      <td>0</td>\n",
       "      <td>0</td>\n",
       "      <td>0</td>\n",
       "      <td>6693</td>\n",
       "      <td>0</td>\n",
       "      <td>0</td>\n",
       "      <td>0</td>\n",
       "      <td>0</td>\n",
       "      <td>0</td>\n",
       "      <td>0</td>\n",
       "      <td>0</td>\n",
       "    </tr>\n",
       "    <tr>\n",
       "      <th>JP</th>\n",
       "      <td>0</td>\n",
       "      <td>0</td>\n",
       "      <td>0</td>\n",
       "      <td>0</td>\n",
       "      <td>0</td>\n",
       "      <td>0</td>\n",
       "      <td>9571</td>\n",
       "      <td>0</td>\n",
       "      <td>0</td>\n",
       "      <td>0</td>\n",
       "      <td>0</td>\n",
       "      <td>0</td>\n",
       "      <td>0</td>\n",
       "    </tr>\n",
       "    <tr>\n",
       "      <th>MX</th>\n",
       "      <td>0</td>\n",
       "      <td>0</td>\n",
       "      <td>0</td>\n",
       "      <td>6428</td>\n",
       "      <td>0</td>\n",
       "      <td>0</td>\n",
       "      <td>0</td>\n",
       "      <td>0</td>\n",
       "      <td>0</td>\n",
       "      <td>0</td>\n",
       "      <td>0</td>\n",
       "      <td>0</td>\n",
       "      <td>0</td>\n",
       "    </tr>\n",
       "    <tr>\n",
       "      <th>NL</th>\n",
       "      <td>0</td>\n",
       "      <td>0</td>\n",
       "      <td>0</td>\n",
       "      <td>0</td>\n",
       "      <td>0</td>\n",
       "      <td>0</td>\n",
       "      <td>0</td>\n",
       "      <td>10836</td>\n",
       "      <td>0</td>\n",
       "      <td>0</td>\n",
       "      <td>0</td>\n",
       "      <td>0</td>\n",
       "      <td>0</td>\n",
       "    </tr>\n",
       "    <tr>\n",
       "      <th>NZ</th>\n",
       "      <td>0</td>\n",
       "      <td>0</td>\n",
       "      <td>7588</td>\n",
       "      <td>0</td>\n",
       "      <td>0</td>\n",
       "      <td>0</td>\n",
       "      <td>0</td>\n",
       "      <td>0</td>\n",
       "      <td>0</td>\n",
       "      <td>0</td>\n",
       "      <td>0</td>\n",
       "      <td>0</td>\n",
       "      <td>0</td>\n",
       "    </tr>\n",
       "    <tr>\n",
       "      <th>PL</th>\n",
       "      <td>0</td>\n",
       "      <td>0</td>\n",
       "      <td>0</td>\n",
       "      <td>0</td>\n",
       "      <td>0</td>\n",
       "      <td>0</td>\n",
       "      <td>0</td>\n",
       "      <td>0</td>\n",
       "      <td>6372</td>\n",
       "      <td>0</td>\n",
       "      <td>0</td>\n",
       "      <td>0</td>\n",
       "      <td>0</td>\n",
       "    </tr>\n",
       "    <tr>\n",
       "      <th>PT</th>\n",
       "      <td>0</td>\n",
       "      <td>0</td>\n",
       "      <td>0</td>\n",
       "      <td>0</td>\n",
       "      <td>0</td>\n",
       "      <td>0</td>\n",
       "      <td>0</td>\n",
       "      <td>0</td>\n",
       "      <td>0</td>\n",
       "      <td>7509</td>\n",
       "      <td>0</td>\n",
       "      <td>0</td>\n",
       "      <td>0</td>\n",
       "    </tr>\n",
       "    <tr>\n",
       "      <th>RO</th>\n",
       "      <td>0</td>\n",
       "      <td>0</td>\n",
       "      <td>0</td>\n",
       "      <td>0</td>\n",
       "      <td>0</td>\n",
       "      <td>0</td>\n",
       "      <td>0</td>\n",
       "      <td>0</td>\n",
       "      <td>0</td>\n",
       "      <td>0</td>\n",
       "      <td>8869</td>\n",
       "      <td>0</td>\n",
       "      <td>0</td>\n",
       "    </tr>\n",
       "    <tr>\n",
       "      <th>RU</th>\n",
       "      <td>0</td>\n",
       "      <td>0</td>\n",
       "      <td>0</td>\n",
       "      <td>0</td>\n",
       "      <td>0</td>\n",
       "      <td>0</td>\n",
       "      <td>0</td>\n",
       "      <td>0</td>\n",
       "      <td>0</td>\n",
       "      <td>0</td>\n",
       "      <td>0</td>\n",
       "      <td>16402</td>\n",
       "      <td>0</td>\n",
       "    </tr>\n",
       "    <tr>\n",
       "      <th>SG</th>\n",
       "      <td>0</td>\n",
       "      <td>0</td>\n",
       "      <td>10047</td>\n",
       "      <td>0</td>\n",
       "      <td>0</td>\n",
       "      <td>0</td>\n",
       "      <td>0</td>\n",
       "      <td>0</td>\n",
       "      <td>0</td>\n",
       "      <td>0</td>\n",
       "      <td>0</td>\n",
       "      <td>0</td>\n",
       "      <td>0</td>\n",
       "    </tr>\n",
       "    <tr>\n",
       "      <th>UA</th>\n",
       "      <td>0</td>\n",
       "      <td>0</td>\n",
       "      <td>0</td>\n",
       "      <td>0</td>\n",
       "      <td>0</td>\n",
       "      <td>0</td>\n",
       "      <td>0</td>\n",
       "      <td>0</td>\n",
       "      <td>0</td>\n",
       "      <td>0</td>\n",
       "      <td>0</td>\n",
       "      <td>0</td>\n",
       "      <td>5197</td>\n",
       "    </tr>\n",
       "    <tr>\n",
       "      <th>US</th>\n",
       "      <td>0</td>\n",
       "      <td>0</td>\n",
       "      <td>6392</td>\n",
       "      <td>0</td>\n",
       "      <td>0</td>\n",
       "      <td>0</td>\n",
       "      <td>0</td>\n",
       "      <td>0</td>\n",
       "      <td>0</td>\n",
       "      <td>0</td>\n",
       "      <td>0</td>\n",
       "      <td>0</td>\n",
       "      <td>0</td>\n",
       "    </tr>\n",
       "  </tbody>\n",
       "</table>\n",
       "</div>"
      ],
      "text/plain": [
       "software_language     bg     de     en    es    fr    it    ja     nl    pl  \\\n",
       "software_country                                                              \n",
       "AU                     0      0   2382     0     0     0     0      0     0   \n",
       "BG                 14375      0      0     0     0     0     0      0     0   \n",
       "BR                     0      0      0     0     0     0     0      0     0   \n",
       "CA                     0      0   8745     0     0     0     0      0     0   \n",
       "DE                     0  10473      0     0     0     0     0      0     0   \n",
       "FR                     0      0      0     0  8026     0     0      0     0   \n",
       "GB                     0      0   6795     0     0     0     0      0     0   \n",
       "IT                     0      0      0     0     0  6693     0      0     0   \n",
       "JP                     0      0      0     0     0     0  9571      0     0   \n",
       "MX                     0      0      0  6428     0     0     0      0     0   \n",
       "NL                     0      0      0     0     0     0     0  10836     0   \n",
       "NZ                     0      0   7588     0     0     0     0      0     0   \n",
       "PL                     0      0      0     0     0     0     0      0  6372   \n",
       "PT                     0      0      0     0     0     0     0      0     0   \n",
       "RO                     0      0      0     0     0     0     0      0     0   \n",
       "RU                     0      0      0     0     0     0     0      0     0   \n",
       "SG                     0      0  10047     0     0     0     0      0     0   \n",
       "UA                     0      0      0     0     0     0     0      0     0   \n",
       "US                     0      0   6392     0     0     0     0      0     0   \n",
       "\n",
       "software_language    pt    ro     ru    uk  \n",
       "software_country                            \n",
       "AU                    0     0      0     0  \n",
       "BG                    0     0      0     0  \n",
       "BR                 7300     0      0     0  \n",
       "CA                    0     0      0     0  \n",
       "DE                    0     0      0     0  \n",
       "FR                    0     0      0     0  \n",
       "GB                    0     0      0     0  \n",
       "IT                    0     0      0     0  \n",
       "JP                    0     0      0     0  \n",
       "MX                    0     0      0     0  \n",
       "NL                    0     0      0     0  \n",
       "NZ                    0     0      0     0  \n",
       "PL                    0     0      0     0  \n",
       "PT                 7509     0      0     0  \n",
       "RO                    0  8869      0     0  \n",
       "RU                    0     0  16402     0  \n",
       "SG                    0     0      0     0  \n",
       "UA                    0     0      0  5197  \n",
       "US                    0     0      0     0  "
      ]
     },
     "execution_count": 76,
     "metadata": {},
     "output_type": "execute_result"
    }
   ],
   "source": [
    "pd.crosstab(df.software_country, df.software_language)"
   ]
  },
  {
   "cell_type": "markdown",
   "id": "ff4aaab6",
   "metadata": {},
   "source": [
    "Joe sessions utilize software from only one country. In addition, we can see that `software_country` and `software_language` are redundant therefore I am dropping one of them."
   ]
  },
  {
   "cell_type": "code",
   "execution_count": 77,
   "id": "8f9c9b1a",
   "metadata": {},
   "outputs": [],
   "source": [
    "df.drop(\"software_language\", axis = 1, inplace=True)"
   ]
  },
  {
   "cell_type": "code",
   "execution_count": 78,
   "id": "5854f092",
   "metadata": {},
   "outputs": [
    {
     "data": {
      "text/html": [
       "<div>\n",
       "<style scoped>\n",
       "    .dataframe tbody tr th:only-of-type {\n",
       "        vertical-align: middle;\n",
       "    }\n",
       "\n",
       "    .dataframe tbody tr th {\n",
       "        vertical-align: top;\n",
       "    }\n",
       "\n",
       "    .dataframe thead th {\n",
       "        text-align: right;\n",
       "    }\n",
       "</style>\n",
       "<table border=\"1\" class=\"dataframe\">\n",
       "  <thead>\n",
       "    <tr style=\"text-align: right;\">\n",
       "      <th></th>\n",
       "      <th>browser</th>\n",
       "      <th>os</th>\n",
       "      <th>gender</th>\n",
       "      <th>time</th>\n",
       "      <th>date</th>\n",
       "      <th>target</th>\n",
       "      <th>avg_length</th>\n",
       "      <th>software_country</th>\n",
       "      <th>country</th>\n",
       "      <th>city</th>\n",
       "      <th>hour</th>\n",
       "      <th>weekday</th>\n",
       "    </tr>\n",
       "  </thead>\n",
       "  <tbody>\n",
       "    <tr>\n",
       "      <th>0</th>\n",
       "      <td>Chrome</td>\n",
       "      <td>Windows 8</td>\n",
       "      <td>m</td>\n",
       "      <td>03:57:00</td>\n",
       "      <td>2016-08-14</td>\n",
       "      <td>0</td>\n",
       "      <td>155.400000</td>\n",
       "      <td>DE</td>\n",
       "      <td>Canada</td>\n",
       "      <td>Toronto</td>\n",
       "      <td>3</td>\n",
       "      <td>0</td>\n",
       "    </tr>\n",
       "    <tr>\n",
       "      <th>1</th>\n",
       "      <td>Chrome</td>\n",
       "      <td>Windows 10</td>\n",
       "      <td>f</td>\n",
       "      <td>13:52:00</td>\n",
       "      <td>2016-05-31</td>\n",
       "      <td>0</td>\n",
       "      <td>119.166667</td>\n",
       "      <td>PT</td>\n",
       "      <td>Netherlands</td>\n",
       "      <td>Amsterdam</td>\n",
       "      <td>13</td>\n",
       "      <td>1</td>\n",
       "    </tr>\n",
       "    <tr>\n",
       "      <th>2</th>\n",
       "      <td>Chrome</td>\n",
       "      <td>Windows 10</td>\n",
       "      <td>m</td>\n",
       "      <td>17:40:00</td>\n",
       "      <td>2019-04-15</td>\n",
       "      <td>0</td>\n",
       "      <td>114.200000</td>\n",
       "      <td>BG</td>\n",
       "      <td>Brazil</td>\n",
       "      <td>Rio de Janeiro</td>\n",
       "      <td>17</td>\n",
       "      <td>1</td>\n",
       "    </tr>\n",
       "    <tr>\n",
       "      <th>3</th>\n",
       "      <td>Internet Explorer</td>\n",
       "      <td>Ubuntu</td>\n",
       "      <td>f</td>\n",
       "      <td>20:23:00</td>\n",
       "      <td>2018-03-25</td>\n",
       "      <td>0</td>\n",
       "      <td>98.000000</td>\n",
       "      <td>US</td>\n",
       "      <td>New Zealand</td>\n",
       "      <td>Auckland</td>\n",
       "      <td>20</td>\n",
       "      <td>0</td>\n",
       "    </tr>\n",
       "    <tr>\n",
       "      <th>4</th>\n",
       "      <td>Firefox</td>\n",
       "      <td>Debian</td>\n",
       "      <td>f</td>\n",
       "      <td>01:10:00</td>\n",
       "      <td>2018-09-08</td>\n",
       "      <td>0</td>\n",
       "      <td>95.300000</td>\n",
       "      <td>RO</td>\n",
       "      <td>New Zealand</td>\n",
       "      <td>Auckland</td>\n",
       "      <td>1</td>\n",
       "      <td>0</td>\n",
       "    </tr>\n",
       "  </tbody>\n",
       "</table>\n",
       "</div>"
      ],
      "text/plain": [
       "             browser          os gender      time       date  target  \\\n",
       "0             Chrome   Windows 8      m  03:57:00 2016-08-14       0   \n",
       "1             Chrome  Windows 10      f  13:52:00 2016-05-31       0   \n",
       "2             Chrome  Windows 10      m  17:40:00 2019-04-15       0   \n",
       "3  Internet Explorer      Ubuntu      f  20:23:00 2018-03-25       0   \n",
       "4            Firefox      Debian      f  01:10:00 2018-09-08       0   \n",
       "\n",
       "   avg_length software_country      country            city  hour  weekday  \n",
       "0  155.400000               DE       Canada         Toronto     3        0  \n",
       "1  119.166667               PT  Netherlands       Amsterdam    13        1  \n",
       "2  114.200000               BG       Brazil  Rio de Janeiro    17        1  \n",
       "3   98.000000               US  New Zealand        Auckland    20        0  \n",
       "4   95.300000               RO  New Zealand        Auckland     1        0  "
      ]
     },
     "execution_count": 78,
     "metadata": {},
     "output_type": "execute_result"
    }
   ],
   "source": [
    "df.head()"
   ]
  },
  {
   "cell_type": "markdown",
   "id": "c833c07e",
   "metadata": {},
   "source": [
    "### time vs target"
   ]
  },
  {
   "cell_type": "code",
   "execution_count": 79,
   "id": "dcc5c6fd",
   "metadata": {},
   "outputs": [
    {
     "data": {
      "image/png": "[encoded data removed]",
      "text/plain": [
       "<Figure size 576x432 with 1 Axes>"
      ]
     },
     "metadata": {
      "needs_background": "light"
     },
     "output_type": "display_data"
    }
   ],
   "source": [
    "crosstab_plot(df, 'weekday', 'target')"
   ]
  },
  {
   "cell_type": "markdown",
   "id": "24048a1e",
   "metadata": {},
   "source": [
    "There is no pattern in Joe sessions occuring on weekends vs weekdays."
   ]
  },
  {
   "cell_type": "code",
   "execution_count": null,
   "id": "dadd671c",
   "metadata": {},
   "outputs": [],
   "source": []
  },
  {
   "cell_type": "markdown",
   "id": "9999c367",
   "metadata": {},
   "source": [
    "Visualize the monthly rate of joe and not joe sessions."
   ]
  },
  {
   "cell_type": "code",
   "execution_count": 80,
   "id": "8d6ba85b",
   "metadata": {},
   "outputs": [
    {
     "data": {
      "image/png": "[encoded data removed]",
      "text/plain": [
       "<Figure size 792x576 with 1 Axes>"
      ]
     },
     "metadata": {
      "needs_background": "light"
     },
     "output_type": "display_data"
    }
   ],
   "source": [
    "joe_df = df.query('target == 1')\n",
    "joe_dates = pd.Series(index=joe_df.date.values, data = np.ones(shape=joe_df.shape[0]))\n",
    "joe_monthly = joe_dates.resample(\"m\").sum()\n",
    "joe_monthly.plot(figsize=(11, 8))\n",
    "monthly.plot(figsize=(11, 8))\n",
    "plt.yscale('log')\n",
    "plt.ylabel(\"Monthly Sessions\");"
   ]
  },
  {
   "cell_type": "markdown",
   "id": "ffbe4ee1",
   "metadata": {},
   "source": [
    "The rate of joe sessions exhibitis a little more variation than that of the general population but overall still does not show any major indications of temporal trends."
   ]
  },
  {
   "cell_type": "code",
   "execution_count": null,
   "id": "63ebf992",
   "metadata": {},
   "outputs": [],
   "source": []
  },
  {
   "cell_type": "markdown",
   "id": "9bd42a80",
   "metadata": {},
   "source": [
    "The percentage of joe sessions for each hour value. Red line indicates general joe session rate."
   ]
  },
  {
   "cell_type": "code",
   "execution_count": 81,
   "id": "d3740a70",
   "metadata": {},
   "outputs": [
    {
     "data": {
      "image/png": "[encoded data removed]",
      "text/plain": [
       "<Figure size 432x288 with 1 Axes>"
      ]
     },
     "metadata": {
      "needs_background": "light"
     },
     "output_type": "display_data"
    }
   ],
   "source": [
    "df.groupby(\"hour\").target.mean().plot()\n",
    "plt.hlines(df.target.mean(),xmin=0, xmax=24, colors=\"r\", alpha = .6)\n",
    "plt.ylabel(\"Percentage\");"
   ]
  },
  {
   "cell_type": "markdown",
   "id": "98b27919",
   "metadata": {},
   "source": [
    "Compared to the general population, joe sessions disproportionately occur around 1-3am, 10am, and 4-8pm.\n",
    "\n",
    "We can also see that there are nine hour values in which no joe sessions occur and six hour values with at least twice the rate of joe sessions compared to the general population."
   ]
  },
  {
   "cell_type": "code",
   "execution_count": null,
   "id": "9d8ede4c",
   "metadata": {},
   "outputs": [],
   "source": []
  },
  {
   "cell_type": "code",
   "execution_count": null,
   "id": "9d9b53a2",
   "metadata": {},
   "outputs": [],
   "source": []
  },
  {
   "cell_type": "code",
   "execution_count": null,
   "id": "e3b10126",
   "metadata": {},
   "outputs": [],
   "source": []
  },
  {
   "cell_type": "markdown",
   "id": "258e9509",
   "metadata": {},
   "source": [
    "### sites vs target"
   ]
  },
  {
   "cell_type": "code",
   "execution_count": 82,
   "id": "197be6e2",
   "metadata": {},
   "outputs": [],
   "source": [
    "#Derive the average length for joe and non joe sessions\n",
    "target = df.target\n",
    "avg_length_by_target = sites_enc.groupby(target).mean().T"
   ]
  },
  {
   "cell_type": "code",
   "execution_count": 83,
   "id": "87ec2867",
   "metadata": {},
   "outputs": [
    {
     "data": {
      "text/html": [
       "<div>\n",
       "<style scoped>\n",
       "    .dataframe tbody tr th:only-of-type {\n",
       "        vertical-align: middle;\n",
       "    }\n",
       "\n",
       "    .dataframe tbody tr th {\n",
       "        vertical-align: top;\n",
       "    }\n",
       "\n",
       "    .dataframe thead th {\n",
       "        text-align: right;\n",
       "    }\n",
       "</style>\n",
       "<table border=\"1\" class=\"dataframe\">\n",
       "  <thead>\n",
       "    <tr style=\"text-align: right;\">\n",
       "      <th>target</th>\n",
       "      <th>0</th>\n",
       "      <th>1</th>\n",
       "    </tr>\n",
       "  </thead>\n",
       "  <tbody>\n",
       "    <tr>\n",
       "      <th>0x.tf</th>\n",
       "      <td>0.005848</td>\n",
       "      <td>0.0</td>\n",
       "    </tr>\n",
       "    <tr>\n",
       "      <th>139.com</th>\n",
       "      <td>0.006577</td>\n",
       "      <td>0.0</td>\n",
       "    </tr>\n",
       "    <tr>\n",
       "      <th>22.cn</th>\n",
       "      <td>0.006935</td>\n",
       "      <td>0.0</td>\n",
       "    </tr>\n",
       "    <tr>\n",
       "      <th>247wallst.com</th>\n",
       "      <td>0.006225</td>\n",
       "      <td>0.0</td>\n",
       "    </tr>\n",
       "    <tr>\n",
       "      <th>28s06.xyz</th>\n",
       "      <td>0.005810</td>\n",
       "      <td>0.0</td>\n",
       "    </tr>\n",
       "    <tr>\n",
       "      <th>...</th>\n",
       "      <td>...</td>\n",
       "      <td>...</td>\n",
       "    </tr>\n",
       "    <tr>\n",
       "      <th>zoozoosexporn.com</th>\n",
       "      <td>0.006351</td>\n",
       "      <td>0.0</td>\n",
       "    </tr>\n",
       "    <tr>\n",
       "      <th>zradio.org</th>\n",
       "      <td>0.006036</td>\n",
       "      <td>0.0</td>\n",
       "    </tr>\n",
       "    <tr>\n",
       "      <th>zscalergov.net</th>\n",
       "      <td>0.008423</td>\n",
       "      <td>0.0</td>\n",
       "    </tr>\n",
       "    <tr>\n",
       "      <th>zubuchygri.com</th>\n",
       "      <td>0.007230</td>\n",
       "      <td>0.0</td>\n",
       "    </tr>\n",
       "    <tr>\n",
       "      <th>zuuks.com</th>\n",
       "      <td>0.006055</td>\n",
       "      <td>0.0</td>\n",
       "    </tr>\n",
       "  </tbody>\n",
       "</table>\n",
       "<p>1000 rows × 2 columns</p>\n",
       "</div>"
      ],
      "text/plain": [
       "target                    0    1\n",
       "0x.tf              0.005848  0.0\n",
       "139.com            0.006577  0.0\n",
       "22.cn              0.006935  0.0\n",
       "247wallst.com      0.006225  0.0\n",
       "28s06.xyz          0.005810  0.0\n",
       "...                     ...  ...\n",
       "zoozoosexporn.com  0.006351  0.0\n",
       "zradio.org         0.006036  0.0\n",
       "zscalergov.net     0.008423  0.0\n",
       "zubuchygri.com     0.007230  0.0\n",
       "zuuks.com          0.006055  0.0\n",
       "\n",
       "[1000 rows x 2 columns]"
      ]
     },
     "execution_count": 83,
     "metadata": {},
     "output_type": "execute_result"
    }
   ],
   "source": [
    "avg_length_by_target"
   ]
  },
  {
   "cell_type": "code",
   "execution_count": 84,
   "id": "fdd0ecee",
   "metadata": {},
   "outputs": [],
   "source": [
    "#calculate the difference in average times between joe and non joe sessions\n",
    "avg_length_by_target[\"time_diff\"] = avg_length_by_target.diff(axis = 1).iloc[:, 1]"
   ]
  },
  {
   "cell_type": "code",
   "execution_count": 85,
   "id": "e5efc8fb",
   "metadata": {},
   "outputs": [
    {
     "data": {
      "text/html": [
       "<div>\n",
       "<style scoped>\n",
       "    .dataframe tbody tr th:only-of-type {\n",
       "        vertical-align: middle;\n",
       "    }\n",
       "\n",
       "    .dataframe tbody tr th {\n",
       "        vertical-align: top;\n",
       "    }\n",
       "\n",
       "    .dataframe thead th {\n",
       "        text-align: right;\n",
       "    }\n",
       "</style>\n",
       "<table border=\"1\" class=\"dataframe\">\n",
       "  <thead>\n",
       "    <tr style=\"text-align: right;\">\n",
       "      <th>target</th>\n",
       "      <th>0</th>\n",
       "      <th>1</th>\n",
       "      <th>time_diff</th>\n",
       "    </tr>\n",
       "  </thead>\n",
       "  <tbody>\n",
       "    <tr>\n",
       "      <th>0x.tf</th>\n",
       "      <td>0.005848</td>\n",
       "      <td>0.0</td>\n",
       "      <td>-0.005848</td>\n",
       "    </tr>\n",
       "    <tr>\n",
       "      <th>139.com</th>\n",
       "      <td>0.006577</td>\n",
       "      <td>0.0</td>\n",
       "      <td>-0.006577</td>\n",
       "    </tr>\n",
       "    <tr>\n",
       "      <th>22.cn</th>\n",
       "      <td>0.006935</td>\n",
       "      <td>0.0</td>\n",
       "      <td>-0.006935</td>\n",
       "    </tr>\n",
       "    <tr>\n",
       "      <th>247wallst.com</th>\n",
       "      <td>0.006225</td>\n",
       "      <td>0.0</td>\n",
       "      <td>-0.006225</td>\n",
       "    </tr>\n",
       "    <tr>\n",
       "      <th>28s06.xyz</th>\n",
       "      <td>0.005810</td>\n",
       "      <td>0.0</td>\n",
       "      <td>-0.005810</td>\n",
       "    </tr>\n",
       "    <tr>\n",
       "      <th>...</th>\n",
       "      <td>...</td>\n",
       "      <td>...</td>\n",
       "      <td>...</td>\n",
       "    </tr>\n",
       "    <tr>\n",
       "      <th>zoozoosexporn.com</th>\n",
       "      <td>0.006351</td>\n",
       "      <td>0.0</td>\n",
       "      <td>-0.006351</td>\n",
       "    </tr>\n",
       "    <tr>\n",
       "      <th>zradio.org</th>\n",
       "      <td>0.006036</td>\n",
       "      <td>0.0</td>\n",
       "      <td>-0.006036</td>\n",
       "    </tr>\n",
       "    <tr>\n",
       "      <th>zscalergov.net</th>\n",
       "      <td>0.008423</td>\n",
       "      <td>0.0</td>\n",
       "      <td>-0.008423</td>\n",
       "    </tr>\n",
       "    <tr>\n",
       "      <th>zubuchygri.com</th>\n",
       "      <td>0.007230</td>\n",
       "      <td>0.0</td>\n",
       "      <td>-0.007230</td>\n",
       "    </tr>\n",
       "    <tr>\n",
       "      <th>zuuks.com</th>\n",
       "      <td>0.006055</td>\n",
       "      <td>0.0</td>\n",
       "      <td>-0.006055</td>\n",
       "    </tr>\n",
       "  </tbody>\n",
       "</table>\n",
       "<p>1000 rows × 3 columns</p>\n",
       "</div>"
      ],
      "text/plain": [
       "target                    0    1  time_diff\n",
       "0x.tf              0.005848  0.0  -0.005848\n",
       "139.com            0.006577  0.0  -0.006577\n",
       "22.cn              0.006935  0.0  -0.006935\n",
       "247wallst.com      0.006225  0.0  -0.006225\n",
       "28s06.xyz          0.005810  0.0  -0.005810\n",
       "...                     ...  ...        ...\n",
       "zoozoosexporn.com  0.006351  0.0  -0.006351\n",
       "zradio.org         0.006036  0.0  -0.006036\n",
       "zscalergov.net     0.008423  0.0  -0.008423\n",
       "zubuchygri.com     0.007230  0.0  -0.007230\n",
       "zuuks.com          0.006055  0.0  -0.006055\n",
       "\n",
       "[1000 rows x 3 columns]"
      ]
     },
     "execution_count": 85,
     "metadata": {},
     "output_type": "execute_result"
    }
   ],
   "source": [
    "avg_length_by_target"
   ]
  },
  {
   "cell_type": "markdown",
   "id": "820f1470",
   "metadata": {},
   "source": [
    "The top ten sites with the largest difference in time spent between joe and non joe sessions."
   ]
  },
  {
   "cell_type": "code",
   "execution_count": 86,
   "id": "49de477c",
   "metadata": {},
   "outputs": [
    {
     "data": {
      "text/plain": [
       "toptal.com         88.849070\n",
       "slack.com          87.477299\n",
       "lenta.ru           87.291891\n",
       "mail.google.com    86.565634\n",
       "youtube.com        80.612795\n",
       "vk.com             68.468800\n",
       "wikipedia.org       1.152399\n",
       "joveo.com           1.056087\n",
       "toolmax.nl          0.899171\n",
       "gocps.net           0.770063\n",
       "Name: time_diff, dtype: float64"
      ]
     },
     "execution_count": 86,
     "metadata": {},
     "output_type": "execute_result"
    }
   ],
   "source": [
    "avg_length_by_target[\"time_diff\"].nlargest(10)"
   ]
  },
  {
   "cell_type": "markdown",
   "id": "94728d8b",
   "metadata": {},
   "source": [
    "There are appears to be six sites that joe sessions disproportionately visit compared to the general population."
   ]
  },
  {
   "cell_type": "code",
   "execution_count": null,
   "id": "89dae6e9",
   "metadata": {},
   "outputs": [],
   "source": []
  },
  {
   "cell_type": "markdown",
   "id": "cd5521cd",
   "metadata": {},
   "source": [
    "The top ten sites with the largest difference in time spent between non joe and joe sessions."
   ]
  },
  {
   "cell_type": "code",
   "execution_count": 87,
   "id": "718fd0ac",
   "metadata": {},
   "outputs": [
    {
     "data": {
      "text/plain": [
       "live.com                -12.806639\n",
       "facebook.com            -12.391005\n",
       "bing.com                -12.227054\n",
       "akadns.net              -10.877494\n",
       "googleusercontent.com   -10.484165\n",
       "vimeo.com               -10.328982\n",
       "googleapis.com          -10.260930\n",
       "google.com              -10.058398\n",
       "aaplimg.com             -10.010063\n",
       "digicert.com             -9.919899\n",
       "Name: time_diff, dtype: float64"
      ]
     },
     "execution_count": 87,
     "metadata": {},
     "output_type": "execute_result"
    }
   ],
   "source": [
    "avg_length_by_target[\"time_diff\"].nsmallest(10)"
   ]
  },
  {
   "cell_type": "code",
   "execution_count": 88,
   "id": "eb9c48de",
   "metadata": {},
   "outputs": [],
   "source": [
    "joe_sites_enc = sites_enc.loc[joe_df.index]"
   ]
  },
  {
   "cell_type": "markdown",
   "id": "8c6898be",
   "metadata": {},
   "source": [
    "The websites joe sessions have visited"
   ]
  },
  {
   "cell_type": "code",
   "execution_count": 89,
   "id": "63299400",
   "metadata": {},
   "outputs": [
    {
     "data": {
      "text/plain": [
       "Index(['adkaora.space', 'adword.ge', 'airbnb.com', 'akadns.net', 'akamai.net',\n",
       "       'akamaiedge.net', 'amazon.com', 'amazonaws.com', 'app-measurement.com',\n",
       "       'apple-dns.net', 'apple.com', 'baidu.com', 'bing.com', 'bing.net',\n",
       "       'booking.com', 'cloudflare.com', 'clubfilm3.xyz', 'digicert.com',\n",
       "       'doubleclick.net', 'dropr.io', 'ekosport.fr', 'el-f.ru', 'facebook.com',\n",
       "       'facebook.net', 'fbcdn.net', 'gocps.net', 'google-analytics.com',\n",
       "       'google.com', 'googleadservices.com', 'googleapis.com',\n",
       "       'googlesyndication.com', 'googletagmanager.com',\n",
       "       'googleusercontent.com', 'googlevideo.com', 'gvt1.com', 'gvt2.com',\n",
       "       'herviewfromhome.com', 'icloud.com', 'im.center', 'imglink.io',\n",
       "       'instagram.com', 'joveo.com', 'kvnbw.de', 'lencr.org', 'lenta.ru',\n",
       "       'live.com', 'livingonadime.com', 'mail.google.com', 'microsoft.com',\n",
       "       'microsoftonline.com', 'msedge.net', 'msn.com', 'myhumatrix.com',\n",
       "       'netflix.com', 'netflix.net', 'newsinc.com', 'nflxso.net', 'office.com',\n",
       "       'office.net', 'office365.com', 'opendns.com', 'outlook.com',\n",
       "       'picjumbo.com', 'scorecardresearch.com', 'sharepoint.com', 'skype.com',\n",
       "       'skyscanner.com', 'slack.com', 'sparkasse-banking.de', 'strobe.cool',\n",
       "       'tagdeliver.com', 'thelivescoreapp.com', 'toolmax.nl', 'toptal.com',\n",
       "       'truyen.co', 'twitter.com', 'verisign.com', 'vimeo.com', 'vk.com',\n",
       "       'vmvovm.com', 'wikimedia.org', 'wikipedia.org', 'windows.com',\n",
       "       'windows.net', 'windowsupdate.com', 'wzstats.gg', 'yahoo.com',\n",
       "       'youtube.com', 'ytimg.com'],\n",
       "      dtype='object')"
      ]
     },
     "execution_count": 89,
     "metadata": {},
     "output_type": "execute_result"
    }
   ],
   "source": [
    "joe_sites = joe_sites_enc.columns[joe_sites_enc.sum()>0]\n",
    "joe_sites"
   ]
  },
  {
   "cell_type": "markdown",
   "id": "d5d2741c",
   "metadata": {},
   "source": [
    "The total number:"
   ]
  },
  {
   "cell_type": "code",
   "execution_count": 91,
   "id": "98347152",
   "metadata": {},
   "outputs": [
    {
     "data": {
      "text/plain": [
       "89"
      ]
     },
     "execution_count": 91,
     "metadata": {},
     "output_type": "execute_result"
    }
   ],
   "source": [
    "len(joe_sites)"
   ]
  },
  {
   "cell_type": "code",
   "execution_count": null,
   "id": "b5e34190",
   "metadata": {},
   "outputs": [],
   "source": []
  },
  {
   "cell_type": "markdown",
   "id": "9934fcaf",
   "metadata": {},
   "source": [
    "### browser vs OS\n",
    "\n",
    "I check for redundancy in the features to help me decide whether or not I need to drop any of them."
   ]
  },
  {
   "cell_type": "code",
   "execution_count": 92,
   "id": "59d9e6e4",
   "metadata": {},
   "outputs": [
    {
     "data": {
      "text/html": [
       "<div>\n",
       "<style scoped>\n",
       "    .dataframe tbody tr th:only-of-type {\n",
       "        vertical-align: middle;\n",
       "    }\n",
       "\n",
       "    .dataframe tbody tr th {\n",
       "        vertical-align: top;\n",
       "    }\n",
       "\n",
       "    .dataframe thead th {\n",
       "        text-align: right;\n",
       "    }\n",
       "</style>\n",
       "<table border=\"1\" class=\"dataframe\">\n",
       "  <thead>\n",
       "    <tr style=\"text-align: right;\">\n",
       "      <th>os</th>\n",
       "      <th>Debian</th>\n",
       "      <th>MacOS</th>\n",
       "      <th>Ubuntu</th>\n",
       "      <th>Windows 10</th>\n",
       "      <th>Windows 7</th>\n",
       "      <th>Windows 8</th>\n",
       "    </tr>\n",
       "    <tr>\n",
       "      <th>browser</th>\n",
       "      <th></th>\n",
       "      <th></th>\n",
       "      <th></th>\n",
       "      <th></th>\n",
       "      <th></th>\n",
       "      <th></th>\n",
       "    </tr>\n",
       "  </thead>\n",
       "  <tbody>\n",
       "    <tr>\n",
       "      <th>Chrome</th>\n",
       "      <td>4978</td>\n",
       "      <td>0</td>\n",
       "      <td>8389</td>\n",
       "      <td>35937</td>\n",
       "      <td>8497</td>\n",
       "      <td>25743</td>\n",
       "    </tr>\n",
       "    <tr>\n",
       "      <th>Firefox</th>\n",
       "      <td>2570</td>\n",
       "      <td>0</td>\n",
       "      <td>2747</td>\n",
       "      <td>13589</td>\n",
       "      <td>3169</td>\n",
       "      <td>12367</td>\n",
       "    </tr>\n",
       "    <tr>\n",
       "      <th>Internet Explorer</th>\n",
       "      <td>1227</td>\n",
       "      <td>0</td>\n",
       "      <td>595</td>\n",
       "      <td>4815</td>\n",
       "      <td>1164</td>\n",
       "      <td>5832</td>\n",
       "    </tr>\n",
       "    <tr>\n",
       "      <th>Safari</th>\n",
       "      <td>0</td>\n",
       "      <td>28381</td>\n",
       "      <td>0</td>\n",
       "      <td>0</td>\n",
       "      <td>0</td>\n",
       "      <td>0</td>\n",
       "    </tr>\n",
       "  </tbody>\n",
       "</table>\n",
       "</div>"
      ],
      "text/plain": [
       "os                 Debian  MacOS  Ubuntu  Windows 10  Windows 7  Windows 8\n",
       "browser                                                                   \n",
       "Chrome               4978      0    8389       35937       8497      25743\n",
       "Firefox              2570      0    2747       13589       3169      12367\n",
       "Internet Explorer    1227      0     595        4815       1164       5832\n",
       "Safari                  0  28381       0           0          0          0"
      ]
     },
     "execution_count": 92,
     "metadata": {},
     "output_type": "execute_result"
    }
   ],
   "source": [
    "pd.crosstab(df.browser, df[\"os\"])"
   ]
  },
  {
   "cell_type": "markdown",
   "id": "3e8190f3",
   "metadata": {},
   "source": [
    "The obvious conclusion here is that it would make sense to drop either `Safari` or `MacOS` after I one hot encode the data."
   ]
  },
  {
   "cell_type": "code",
   "execution_count": null,
   "id": "e101ecea",
   "metadata": {},
   "outputs": [],
   "source": []
  },
  {
   "cell_type": "markdown",
   "id": "0878a06e",
   "metadata": {},
   "source": [
    "## Conclusion.\n",
    "\n",
    "My exploratory analysis yielded important findings about the nature of the data that will be critical in the machine learning modeling process.\n",
    "\n",
    "What I learned and gleaned from the data:\n",
    "\n",
    "- Extremely imbalanced class dataset. Joe sessions only account for 0.5% of the data.\n",
    "- The structure of the sites sessions data necesstitated employing out of the box techniques to handle it.\n",
    "- `date` and `avg_length` proved to be irrelevant variable when it comes to predicting the target variable.\n",
    "- `time` is useful in that the `hour` mark showed patterns in the joe sessions.\n",
    "- `browser`, `os`, `gender`, `location` are likely to be useful features in predicting the target variable.\n",
    "- From spliting up `locale` we saw that the only software language and country used by joe sessions are Russian.\n",
    "- I should drop `city` or `country` for the modeling process to reduce redundancy.\n",
    "- After one hot encoding `os` and `browser` I will drop `Safari` or `MacOS`\n",
    "- `sites` has the potential be a strong predictor because of the gulf in time spent on few select sites between joe and non joe sessions."
   ]
  },
  {
   "cell_type": "code",
   "execution_count": null,
   "id": "9168afcd",
   "metadata": {},
   "outputs": [],
   "source": []
  },
  {
   "cell_type": "markdown",
   "id": "7425586c",
   "metadata": {},
   "source": [
    "Saving processed datasets"
   ]
  },
  {
   "cell_type": "code",
   "execution_count": 93,
   "id": "be6a10d7",
   "metadata": {},
   "outputs": [],
   "source": [
    "df.to_csv(\"../data/processed_data.csv\")\n",
    "sites_enc.to_csv(\"../data/sites_encoded.csv\")"
   ]
  },
  {
   "cell_type": "code",
   "execution_count": null,
   "id": "fa3dee54",
   "metadata": {},
   "outputs": [],
   "source": []
  }
 ],
 "metadata": {
  "kernelspec": {
   "display_name": "assignment_env",
   "language": "python",
   "name": "assignment_env"
  },
  "language_info": {
   "codemirror_mode": {
    "name": "ipython",
    "version": 3
   },
   "file_extension": ".py",
   "mimetype": "text/x-python",
   "name": "python",
   "nbconvert_exporter": "python",
   "pygments_lexer": "ipython3",
   "version": "3.9.12"
  }
 },
 "nbformat": 4,
 "nbformat_minor": 5
}
