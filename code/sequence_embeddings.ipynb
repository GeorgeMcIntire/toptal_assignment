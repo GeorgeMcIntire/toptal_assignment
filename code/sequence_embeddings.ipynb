{
 "cells": [
  {
   "cell_type": "code",
   "execution_count": 7,
   "id": "3156d4eb",
   "metadata": {},
   "outputs": [],
   "source": [
    "import pandas as pd\n",
    "import numpy as np\n",
    "import json\n",
    "import matplotlib.pyplot as plt\n",
    "from sklearn.feature_extraction.text import CountVectorizer\n",
    "# from sgt import SGT\n",
    "# import pandarallel"
   ]
  },
  {
   "cell_type": "code",
   "execution_count": 11,
   "id": "84e5bcd4",
   "metadata": {},
   "outputs": [],
   "source": [
    "from gensim.models.doc2vec import Doc2Vec, TaggedDocument"
   ]
  },
  {
   "cell_type": "code",
   "execution_count": 12,
   "id": "c4111d6e",
   "metadata": {},
   "outputs": [],
   "source": [
    "path = \"../data/dataset.json\"\n",
    "\n",
    "with open(path) as f:\n",
    "    data = json.load(f)\n",
    "\n",
    "df = pd.json_normalize(data)\n",
    "df.head()"
   ]
  },
  {
   "cell_type": "code",
   "execution_count": 15,
   "id": "657090fd",
   "metadata": {},
   "outputs": [],
   "source": [
    "sites = df.sites"
   ]
  },
  {
   "cell_type": "code",
   "execution_count": 16,
   "id": "4d1fea1a",
   "metadata": {},
   "outputs": [],
   "source": [
    "del data, df"
   ]
  },
  {
   "cell_type": "code",
   "execution_count": 19,
   "id": "e5c07ee6",
   "metadata": {},
   "outputs": [],
   "source": [
    "def seq_extract(x):\n",
    "    output = []\n",
    "    \n",
    "    for site in x:\n",
    "        output.append(site['site'].replace(\".\", \"_\"))\n",
    "    return \" \".join(output)"
   ]
  },
  {
   "cell_type": "code",
   "execution_count": 20,
   "id": "9a0b86c9",
   "metadata": {},
   "outputs": [
    {
     "data": {
      "text/html": [
       "<div>\n",
       "<style scoped>\n",
       "    .dataframe tbody tr th:only-of-type {\n",
       "        vertical-align: middle;\n",
       "    }\n",
       "\n",
       "    .dataframe tbody tr th {\n",
       "        vertical-align: top;\n",
       "    }\n",
       "\n",
       "    .dataframe thead th {\n",
       "        text-align: right;\n",
       "    }\n",
       "</style>\n",
       "<table border=\"1\" class=\"dataframe\">\n",
       "  <thead>\n",
       "    <tr style=\"text-align: right;\">\n",
       "      <th></th>\n",
       "      <th>id</th>\n",
       "      <th>sequence</th>\n",
       "    </tr>\n",
       "  </thead>\n",
       "  <tbody>\n",
       "    <tr>\n",
       "      <th>0</th>\n",
       "      <td>0</td>\n",
       "      <td>lenta_ru lenta_ru vk_com lenta_ru wikipedia_or...</td>\n",
       "    </tr>\n",
       "    <tr>\n",
       "      <th>1</th>\n",
       "      <td>1</td>\n",
       "      <td>windowsupdate_com amazon_com live_com akamaied...</td>\n",
       "    </tr>\n",
       "    <tr>\n",
       "      <th>2</th>\n",
       "      <td>2</td>\n",
       "      <td>slack_com slack_com mail_google_com vk_com fac...</td>\n",
       "    </tr>\n",
       "    <tr>\n",
       "      <th>3</th>\n",
       "      <td>3</td>\n",
       "      <td>amazon_com microsoft_com gvt2_com bing_net fbc...</td>\n",
       "    </tr>\n",
       "    <tr>\n",
       "      <th>4</th>\n",
       "      <td>4</td>\n",
       "      <td>vk_com mail_google_com lenta_ru slack_com airb...</td>\n",
       "    </tr>\n",
       "  </tbody>\n",
       "</table>\n",
       "</div>"
      ],
      "text/plain": [
       "   id                                           sequence\n",
       "0   0  lenta_ru lenta_ru vk_com lenta_ru wikipedia_or...\n",
       "1   1  windowsupdate_com amazon_com live_com akamaied...\n",
       "2   2  slack_com slack_com mail_google_com vk_com fac...\n",
       "3   3  amazon_com microsoft_com gvt2_com bing_net fbc...\n",
       "4   4  vk_com mail_google_com lenta_ru slack_com airb..."
      ]
     },
     "execution_count": 20,
     "metadata": {},
     "output_type": "execute_result"
    }
   ],
   "source": [
    "sequences = sites.apply(seq_extract).reset_index().rename(columns = {'index':'id', 'sites':'sequence'})\n",
    "sequences.head()"
   ]
  },
  {
   "cell_type": "code",
   "execution_count": 21,
   "id": "22994788",
   "metadata": {},
   "outputs": [],
   "source": [
    "seqs = sequences.sequence.tolist()"
   ]
  },
  {
   "cell_type": "code",
   "execution_count": 22,
   "id": "3ac1ba81",
   "metadata": {},
   "outputs": [],
   "source": [
    "tagged_data = [TaggedDocument(words=_d.lower(), tags=[str(i)]) for i, _d in enumerate(seqs)]"
   ]
  },
  {
   "cell_type": "code",
   "execution_count": 48,
   "id": "08715db7",
   "metadata": {},
   "outputs": [
    {
     "data": {
      "text/plain": [
       "TaggedDocument(words='lenta_ru lenta_ru vk_com lenta_ru wikipedia_org instagram_com msn_com amazon_com outlook_com verisign_com googleadservices_com akamaiedge_net stardock_com mediaarea_net', tags=['0'])"
      ]
     },
     "execution_count": 48,
     "metadata": {},
     "output_type": "execute_result"
    }
   ],
   "source": [
    "tagged_data[0]"
   ]
  },
  {
   "cell_type": "code",
   "execution_count": 49,
   "id": "60226118",
   "metadata": {},
   "outputs": [],
   "source": [
    "max_epochs = 100\n",
    "vec_size = 25\n",
    "alpha = 0.025\n",
    "\n",
    "model = Doc2Vec(vector_size=vec_size,\n",
    "                alpha=alpha, \n",
    "                min_alpha=0.00025,\n",
    "                min_count=3,\n",
    "                dm =1, \n",
    "               window=3)\n",
    "  \n",
    "model.build_vocab(tagged_data)"
   ]
  },
  {
   "cell_type": "code",
   "execution_count": 50,
   "id": "0e446d8c",
   "metadata": {},
   "outputs": [],
   "source": [
    "model.train(tagged_data, total_examples=model.corpus_count, epochs=max_epochs)"
   ]
  },
  {
   "cell_type": "code",
   "execution_count": 31,
   "id": "ccacba9b",
   "metadata": {},
   "outputs": [
    {
     "data": {
      "text/html": [
       "<div>\n",
       "<style scoped>\n",
       "    .dataframe tbody tr th:only-of-type {\n",
       "        vertical-align: middle;\n",
       "    }\n",
       "\n",
       "    .dataframe tbody tr th {\n",
       "        vertical-align: top;\n",
       "    }\n",
       "\n",
       "    .dataframe thead th {\n",
       "        text-align: right;\n",
       "    }\n",
       "</style>\n",
       "<table border=\"1\" class=\"dataframe\">\n",
       "  <thead>\n",
       "    <tr style=\"text-align: right;\">\n",
       "      <th></th>\n",
       "      <th>browser</th>\n",
       "      <th>os</th>\n",
       "      <th>locale</th>\n",
       "      <th>user_id</th>\n",
       "      <th>gender</th>\n",
       "      <th>location</th>\n",
       "      <th>sites</th>\n",
       "      <th>time</th>\n",
       "      <th>date</th>\n",
       "    </tr>\n",
       "  </thead>\n",
       "  <tbody>\n",
       "    <tr>\n",
       "      <th>0</th>\n",
       "      <td>Chrome</td>\n",
       "      <td>Windows 8</td>\n",
       "      <td>de-DE</td>\n",
       "      <td>164</td>\n",
       "      <td>m</td>\n",
       "      <td>Canada/Toronto</td>\n",
       "      <td>[{'site': 'lenta.ru', 'length': 296}, {'site':...</td>\n",
       "      <td>03:57:00</td>\n",
       "      <td>2016-08-14</td>\n",
       "    </tr>\n",
       "    <tr>\n",
       "      <th>1</th>\n",
       "      <td>Chrome</td>\n",
       "      <td>Windows 10</td>\n",
       "      <td>pt-PT</td>\n",
       "      <td>99</td>\n",
       "      <td>f</td>\n",
       "      <td>Netherlands/Amsterdam</td>\n",
       "      <td>[{'site': 'windowsupdate.com', 'length': 56}, ...</td>\n",
       "      <td>13:52:00</td>\n",
       "      <td>2016-05-31</td>\n",
       "    </tr>\n",
       "    <tr>\n",
       "      <th>2</th>\n",
       "      <td>Chrome</td>\n",
       "      <td>Windows 10</td>\n",
       "      <td>bg-BG</td>\n",
       "      <td>28</td>\n",
       "      <td>m</td>\n",
       "      <td>Brazil/Rio de Janeiro</td>\n",
       "      <td>[{'site': 'slack.com', 'length': 158}, {'site'...</td>\n",
       "      <td>17:40:00</td>\n",
       "      <td>2019-04-15</td>\n",
       "    </tr>\n",
       "    <tr>\n",
       "      <th>3</th>\n",
       "      <td>Internet Explorer</td>\n",
       "      <td>Ubuntu</td>\n",
       "      <td>en-US</td>\n",
       "      <td>163</td>\n",
       "      <td>f</td>\n",
       "      <td>New Zealand/Auckland</td>\n",
       "      <td>[{'site': 'amazon.com', 'length': 168}, {'site...</td>\n",
       "      <td>20:23:00</td>\n",
       "      <td>2018-03-25</td>\n",
       "    </tr>\n",
       "    <tr>\n",
       "      <th>4</th>\n",
       "      <td>Firefox</td>\n",
       "      <td>Debian</td>\n",
       "      <td>ro-RO</td>\n",
       "      <td>177</td>\n",
       "      <td>f</td>\n",
       "      <td>New Zealand/Auckland</td>\n",
       "      <td>[{'site': 'vk.com', 'length': 43}, {'site': 'm...</td>\n",
       "      <td>01:10:00</td>\n",
       "      <td>2018-09-08</td>\n",
       "    </tr>\n",
       "  </tbody>\n",
       "</table>\n",
       "</div>"
      ],
      "text/plain": [
       "             browser          os locale  user_id gender  \\\n",
       "0             Chrome   Windows 8  de-DE      164      m   \n",
       "1             Chrome  Windows 10  pt-PT       99      f   \n",
       "2             Chrome  Windows 10  bg-BG       28      m   \n",
       "3  Internet Explorer      Ubuntu  en-US      163      f   \n",
       "4            Firefox      Debian  ro-RO      177      f   \n",
       "\n",
       "                location                                              sites  \\\n",
       "0         Canada/Toronto  [{'site': 'lenta.ru', 'length': 296}, {'site':...   \n",
       "1  Netherlands/Amsterdam  [{'site': 'windowsupdate.com', 'length': 56}, ...   \n",
       "2  Brazil/Rio de Janeiro  [{'site': 'slack.com', 'length': 158}, {'site'...   \n",
       "3   New Zealand/Auckland  [{'site': 'amazon.com', 'length': 168}, {'site...   \n",
       "4   New Zealand/Auckland  [{'site': 'vk.com', 'length': 43}, {'site': 'm...   \n",
       "\n",
       "       time        date  \n",
       "0  03:57:00  2016-08-14  \n",
       "1  13:52:00  2016-05-31  \n",
       "2  17:40:00  2019-04-15  \n",
       "3  20:23:00  2018-03-25  \n",
       "4  01:10:00  2018-09-08  "
      ]
     },
     "execution_count": 31,
     "metadata": {},
     "output_type": "execute_result"
    }
   ],
   "source": [
    "path = \"../data/dataset.json\"\n",
    "\n",
    "with open(path) as f:\n",
    "    data = json.load(f)\n",
    "\n",
    "df = pd.json_normalize(data)\n",
    "df.head()"
   ]
  },
  {
   "cell_type": "code",
   "execution_count": 51,
   "id": "1b109ce2",
   "metadata": {},
   "outputs": [],
   "source": [
    "embeds = [model.dv[str(i)] for i in range(len(seqs))]"
   ]
  },
  {
   "cell_type": "code",
   "execution_count": 52,
   "id": "cb47a8a9",
   "metadata": {},
   "outputs": [],
   "source": [
    "embeds = np.array(embeds)"
   ]
  },
  {
   "cell_type": "code",
   "execution_count": 35,
   "id": "9f575ec3",
   "metadata": {},
   "outputs": [],
   "source": [
    "df[\"target\"] = 1*(df.user_id == 0)"
   ]
  },
  {
   "cell_type": "code",
   "execution_count": 36,
   "id": "d3cb39f0",
   "metadata": {},
   "outputs": [],
   "source": [
    "from sklearn.linear_model import LogisticRegression"
   ]
  },
  {
   "cell_type": "code",
   "execution_count": 37,
   "id": "e782895a",
   "metadata": {},
   "outputs": [
    {
     "data": {
      "text/plain": [
       "(160000, 50)"
      ]
     },
     "execution_count": 37,
     "metadata": {},
     "output_type": "execute_result"
    }
   ],
   "source": [
    "embeds.shape"
   ]
  },
  {
   "cell_type": "code",
   "execution_count": 53,
   "id": "7a594456",
   "metadata": {},
   "outputs": [],
   "source": [
    "lr = LogisticRegression()"
   ]
  },
  {
   "cell_type": "code",
   "execution_count": 54,
   "id": "51b6b72a",
   "metadata": {},
   "outputs": [
    {
     "data": {
      "text/plain": [
       "LogisticRegression(C=1.0, class_weight=None, dual=False, fit_intercept=True,\n",
       "                   intercept_scaling=1, l1_ratio=None, max_iter=100,\n",
       "                   multi_class='auto', n_jobs=None, penalty='l2',\n",
       "                   random_state=None, solver='lbfgs', tol=0.0001, verbose=0,\n",
       "                   warm_start=False)"
      ]
     },
     "execution_count": 54,
     "metadata": {},
     "output_type": "execute_result"
    }
   ],
   "source": [
    "lr.fit(embeds, df.target)"
   ]
  },
  {
   "cell_type": "code",
   "execution_count": 55,
   "id": "36cc6174",
   "metadata": {},
   "outputs": [
    {
     "data": {
      "text/plain": [
       "0.995"
      ]
     },
     "execution_count": 55,
     "metadata": {},
     "output_type": "execute_result"
    }
   ],
   "source": [
    "lr.score(embeds, df.target)"
   ]
  },
  {
   "cell_type": "code",
   "execution_count": 43,
   "id": "fb33d81c",
   "metadata": {},
   "outputs": [],
   "source": [
    "from sklearn.model_selection import cross_val_score"
   ]
  },
  {
   "cell_type": "code",
   "execution_count": 56,
   "id": "6abcc064",
   "metadata": {},
   "outputs": [],
   "source": [
    "cv = cross_val_score(lr, embeds, df.target, cv = 5)"
   ]
  },
  {
   "cell_type": "code",
   "execution_count": 57,
   "id": "73001c6d",
   "metadata": {},
   "outputs": [
    {
     "data": {
      "text/plain": [
       "array([0.995, 0.995, 0.995, 0.995, 0.995])"
      ]
     },
     "execution_count": 57,
     "metadata": {},
     "output_type": "execute_result"
    }
   ],
   "source": [
    "cv"
   ]
  },
  {
   "cell_type": "code",
   "execution_count": 60,
   "id": "0d085144",
   "metadata": {},
   "outputs": [],
   "source": [
    "preds = lr.predict_proba(embeds)[: , 1]"
   ]
  },
  {
   "cell_type": "code",
   "execution_count": 61,
   "id": "da6646a7",
   "metadata": {},
   "outputs": [
    {
     "data": {
      "text/plain": [
       "array([0.00618836, 0.00340772, 0.00415972, ..., 0.00100301, 0.00131412,\n",
       "       0.00179374])"
      ]
     },
     "execution_count": 61,
     "metadata": {},
     "output_type": "execute_result"
    }
   ],
   "source": [
    "preds"
   ]
  },
  {
   "cell_type": "code",
   "execution_count": 63,
   "id": "8a6fd082",
   "metadata": {},
   "outputs": [
    {
     "data": {
      "text/plain": [
       "count    1.600000e+05\n",
       "mean     5.000527e-03\n",
       "std      1.029953e-02\n",
       "min      2.409539e-07\n",
       "25%      5.838604e-04\n",
       "50%      1.643320e-03\n",
       "75%      4.841554e-03\n",
       "max      3.774888e-01\n",
       "dtype: float64"
      ]
     },
     "execution_count": 63,
     "metadata": {},
     "output_type": "execute_result"
    }
   ],
   "source": [
    "pd.Series(preds).describe()"
   ]
  },
  {
   "cell_type": "code",
   "execution_count": 46,
   "id": "e97d1583",
   "metadata": {},
   "outputs": [
    {
     "data": {
      "text/plain": [
       "0.9949999999999999"
      ]
     },
     "execution_count": 46,
     "metadata": {},
     "output_type": "execute_result"
    }
   ],
   "source": [
    "cv.mean()"
   ]
  },
  {
   "cell_type": "code",
   "execution_count": 47,
   "id": "e67cb83f",
   "metadata": {},
   "outputs": [
    {
     "data": {
      "text/plain": [
       "1"
      ]
     },
     "execution_count": 47,
     "metadata": {},
     "output_type": "execute_result"
    }
   ],
   "source": [
    "model.build_vocab()"
   ]
  },
  {
   "cell_type": "code",
   "execution_count": null,
   "id": "88015036",
   "metadata": {},
   "outputs": [],
   "source": []
  }
 ],
 "metadata": {
  "kernelspec": {
   "display_name": "assignment_env",
   "language": "python",
   "name": "assignment_env"
  },
  "language_info": {
   "codemirror_mode": {
    "name": "ipython",
    "version": 3
   },
   "file_extension": ".py",
   "mimetype": "text/x-python",
   "name": "python",
   "nbconvert_exporter": "python",
   "pygments_lexer": "ipython3",
   "version": "3.9.12"
  }
 },
 "nbformat": 4,
 "nbformat_minor": 5
}
